{
 "cells": [
  {
   "cell_type": "code",
   "execution_count": 1,
   "metadata": {},
   "outputs": [
    {
     "name": "stderr",
     "output_type": "stream",
     "text": [
      "c:\\Users\\loren\\anaconda3\\envs\\RecSysFramework\\lib\\site-packages\\IPython\\core\\interactiveshell.py:3185: DtypeWarning: Columns (2) have mixed types.Specify dtype option on import or set low_memory=False.\n",
      "  has_raised = await self.run_ast_nodes(code_ast.body, cell_name,\n"
     ]
    }
   ],
   "source": [
    "import os\n",
    "from typing import Tuple, Callable, Dict, Optional, List\n",
    "\n",
    "import numpy as np\n",
    "import pandas as pd\n",
    "import scipy.sparse as sp\n",
    "from sklearn.model_selection import train_test_split\n",
    "from sklearn.preprocessing import StandardScaler\n",
    "from Evaluation.Evaluator import EvaluatorHoldout\n",
    "from Data_manager.split_functions.split_train_validation_random_holdout import split_train_in_two_percentage_global_sample\n",
    "from Recommenders.SLIM.Cython.SLIM_BPR_Cython import SLIM_BPR_Cython\n",
    "from HyperparameterTuning.SearchBayesianSkopt import SearchBayesianSkopt\n",
    "from HyperparameterTuning.SearchAbstractClass import SearchInputRecommenderArgs\n",
    "from Recommenders.DataIO import DataIO\n",
    "from skopt.space import Real, Integer, Categorical\n",
    "from Recommenders.KNN.ItemKNNCFRecommender import ItemKNNCFRecommender\n",
    "from Recommenders.GraphBased.RP3betaRecommender import RP3betaRecommender\n",
    "from Recommenders.SLIM.Cython.SLIM_BPR_Cython import SLIM_BPR_Cython\n",
    "from Recommenders.SLIM.SLIMElasticNetRecommender import SLIMElasticNetRecommender,MultiThreadSLIM_SLIMElasticNetRecommender\n",
    "\n",
    "\n",
    "\n",
    "columns_name = ['user_id','item_id','impression_list','data']\n",
    "\n",
    "dataset_l = pd.read_csv('/Users/loren/Documents/GitHub/RecSys/dati/data_ICM_length.csv', sep=',')\n",
    "dataset_t = pd.read_csv('/Users/loren/Documents/GitHub/RecSys/dati/data_ICM_type.csv', sep=',')\n",
    "dataset = pd.read_csv('/Users/loren/Documents/GitHub/RecSys/dati/interactions_and_impressions.csv', sep=',')\n",
    "test_users = pd.read_csv('/Users/loren/Documents/GitHub/RecSys/dati/data_target_users_test.csv',sep = ',')\n",
    "dataset.columns = columns_name"
   ]
  },
  {
   "cell_type": "code",
   "execution_count": 2,
   "metadata": {},
   "outputs": [
    {
     "data": {
      "text/plain": [
       "(24507, 0, 24506)"
      ]
     },
     "execution_count": 2,
     "metadata": {},
     "output_type": "execute_result"
    }
   ],
   "source": [
    "len(dataset.item_id.unique()),dataset.item_id.unique().min(),dataset.item_id.unique().max()"
   ]
  },
  {
   "cell_type": "code",
   "execution_count": 3,
   "metadata": {},
   "outputs": [],
   "source": [
    "from Data_manager.Build_Matrix.Data_import import build_URM_ICM,build_URM_impression,build_URM_ICM_onlyURM_item\n",
    "URM,ICM=build_URM_ICM_onlyURM_item(dataset, dataset_t, dataset_l)"
   ]
  },
  {
   "cell_type": "code",
   "execution_count": 4,
   "metadata": {},
   "outputs": [
    {
     "name": "stdout",
     "output_type": "stream",
     "text": [
      "Warning: 316 (0.76 %) of 41629 users have no sampled items\n",
      "Warning: 771 (1.85 %) of 41629 users have no sampled items\n",
      "EvaluatorHoldout: Ignoring 771 ( 1.9%) Users that have less than 1 test interactions\n",
      "EvaluatorHoldout: Ignoring 316 ( 0.8%) Users that have less than 1 test interactions\n"
     ]
    }
   ],
   "source": [
    "URM_train_validation, URM_test = split_train_in_two_percentage_global_sample(URM, train_percentage = 0.80)\n",
    "URM_train, URM_validation = split_train_in_two_percentage_global_sample(URM_train_validation, train_percentage = 0.80)\n",
    "\n",
    "evaluator_validation = EvaluatorHoldout(URM_validation, cutoff_list=[10])\n",
    "evaluator_test = EvaluatorHoldout(URM_test, cutoff_list=[10])"
   ]
  },
  {
   "cell_type": "code",
   "execution_count": 5,
   "metadata": {},
   "outputs": [],
   "source": [
    "import os\n",
    "\n",
    "output_folder_path = \"result_experiments_SLIMElasticNetRecommender_2\"\n",
    "\n",
    "# If directory does not exist, create\n",
    "if not os.path.exists(output_folder_path):\n",
    "    os.makedirs(output_folder_path)\n",
    "\n",
    "n_cases = 10\n",
    "n_random_starts = int(n_cases*0.3)\n",
    "metric_to_optimize = \"MAP\"   \n",
    "cutoff_to_optimize = 10\n",
    "\n",
    "hyperparameters_range_dictionary = {\n",
    "                \"topK\": Integer(500, 2000),\n",
    "                \"l1_ratio\": Real(low = 1e-4, high = 0.01, prior = 'log-uniform'),\n",
    "                \"alpha\": Real(low = 1e-4, high = 0.01, prior = 'uniform'),\n",
    "            }\n",
    "\n",
    "earlystopping_keywargs = {\"validation_every_n\": 5,\n",
    "                              \"stop_on_validation\": True,\n",
    "                              \"evaluator_object\": URM_validation,\n",
    "                              \"lower_validations_allowed\": 5,\n",
    "                              \"validation_metric\": metric_to_optimize,\n",
    "                              }\n",
    "recommender_input_args = SearchInputRecommenderArgs(\n",
    "                CONSTRUCTOR_POSITIONAL_ARGS = [URM_train],\n",
    "                CONSTRUCTOR_KEYWORD_ARGS = {},\n",
    "                FIT_POSITIONAL_ARGS = [],\n",
    "                FIT_KEYWORD_ARGS = {},\n",
    "                EARLYSTOPPING_KEYWORD_ARGS = {},\n",
    "            )\n",
    "\n",
    "recommender_class = SLIMElasticNetRecommender\n",
    "\n",
    "\n",
    "hyperparameterSearch = SearchBayesianSkopt(recommender_class,\n",
    "                                        evaluator_validation=evaluator_validation,\n",
    "                                        evaluator_test=evaluator_test)"
   ]
  },
  {
   "cell_type": "code",
   "execution_count": 6,
   "metadata": {},
   "outputs": [
    {
     "name": "stdout",
     "output_type": "stream",
     "text": [
      "SearchBayesianSkopt: Resuming 'SLIMElasticNetRecommender'... Loaded 8 configurations.\n",
      "Iteration No: 1 started. Evaluating function at random point.\n",
      "Iteration No: 1 ended. Evaluation done at random point.\n",
      "Time taken: 0.6260\n",
      "Function value obtained: -0.0223\n",
      "Current minimum: -0.0223\n",
      "Iteration No: 2 started. Evaluating function at random point.\n",
      "SearchBayesianSkopt: Testing config: {'topK': 1592, 'l1_ratio': 0.00010331259115778786, 'alpha': 0.0015810250823676266}\n",
      "SLIMElasticNetRecommender: Processed 1701 ( 6.9%) in 5.00 min. Items per second: 5.67\n",
      "SLIMElasticNetRecommender: Processed 3853 (15.7%) in 10.00 min. Items per second: 6.42\n",
      "SLIMElasticNetRecommender: Processed 6355 (25.9%) in 15.00 min. Items per second: 7.06\n",
      "SLIMElasticNetRecommender: Processed 8850 (36.1%) in 49.66 min. Items per second: 2.97\n",
      "SLIMElasticNetRecommender: Processed 9736 (39.7%) in 54.66 min. Items per second: 2.97\n",
      "SLIMElasticNetRecommender: Processed 12116 (49.4%) in 59.67 min. Items per second: 3.38\n",
      "SLIMElasticNetRecommender: Processed 14605 (59.6%) in 1.08 hour. Items per second: 3.76\n",
      "SLIMElasticNetRecommender: Processed 17041 (69.5%) in 1.16 hour. Items per second: 4.08\n",
      "SLIMElasticNetRecommender: Processed 19617 (80.0%) in 1.24 hour. Items per second: 4.38\n",
      "SLIMElasticNetRecommender: Processed 22357 (91.2%) in 1.33 hour. Items per second: 4.68\n",
      "SLIMElasticNetRecommender: Processed 24507 (100.0%) in 1.40 hour. Items per second: 4.87\n",
      "EvaluatorHoldout: Processed 40858 (100.0%) in 56.63 sec. Users per second: 721\n",
      "SearchBayesianSkopt: Config 8 is suboptimal. Config: {'topK': 1592, 'l1_ratio': 0.00010331259115778786, 'alpha': 0.0015810250823676266} - results: PRECISION: 0.0482525, PRECISION_RECALL_MIN_DEN: 0.0763561, RECALL: 0.0705382, MAP: 0.0222833, MAP_MIN_DEN: 0.0352476, MRR: 0.1542893, NDCG: 0.0734009, F1: 0.0573049, HIT_RATE: 0.3301434, ARHR_ALL_HITS: 0.1843414, NOVELTY: 0.0042929, AVERAGE_POPULARITY: 0.1937715, DIVERSITY_MEAN_INTER_LIST: 0.9465407, DIVERSITY_HERFINDAHL: 0.9946518, COVERAGE_ITEM: 0.1655037, COVERAGE_ITEM_HIT: 0.0542702, ITEMS_IN_GT: 0.9951850, COVERAGE_USER: 0.9814793, COVERAGE_USER_HIT: 0.3240289, USERS_IN_GT: 0.9814793, DIVERSITY_GINI: 0.0201333, SHANNON_ENTROPY: 8.9863942, RATIO_DIVERSITY_HERFINDAHL: 0.9949812, RATIO_DIVERSITY_GINI: 0.0399600, RATIO_SHANNON_ENTROPY: 0.6662217, RATIO_AVERAGE_POPULARITY: 3.8504390, RATIO_NOVELTY: 0.3263302, \n",
      "\n",
      "Iteration No: 2 ended. Evaluation done at random point.\n",
      "Time taken: 5089.2830\n",
      "Function value obtained: -0.0223\n",
      "Current minimum: -0.0223\n",
      "SearchBayesianSkopt: Testing config: {'topK': 859, 'l1_ratio': 0.009785166078238629, 'alpha': 0.009998673611269378}\n",
      "SLIMElasticNetRecommender: Processed 3608 (14.7%) in 5.00 min. Items per second: 12.02\n",
      "SLIMElasticNetRecommender: Processed 9105 (37.2%) in 10.00 min. Items per second: 15.17\n",
      "SLIMElasticNetRecommender: Processed 15149 (61.8%) in 15.00 min. Items per second: 16.83\n",
      "SLIMElasticNetRecommender: Processed 21405 (87.3%) in 20.00 min. Items per second: 17.83\n",
      "SLIMElasticNetRecommender: Processed 24507 (100.0%) in 22.52 min. Items per second: 18.14\n",
      "EvaluatorHoldout: Processed 40858 (100.0%) in 53.12 sec. Users per second: 769\n",
      "SearchBayesianSkopt: Config 9 is suboptimal. Config: {'topK': 859, 'l1_ratio': 0.009785166078238629, 'alpha': 0.009998673611269378} - results: PRECISION: 0.0466347, PRECISION_RECALL_MIN_DEN: 0.0753754, RECALL: 0.0699734, MAP: 0.0213992, MAP_MIN_DEN: 0.0343568, MRR: 0.1509881, NDCG: 0.0717747, F1: 0.0559684, HIT_RATE: 0.3256890, ARHR_ALL_HITS: 0.1788638, NOVELTY: 0.0041221, AVERAGE_POPULARITY: 0.2417176, DIVERSITY_MEAN_INTER_LIST: 0.9069441, DIVERSITY_HERFINDAHL: 0.9906922, COVERAGE_ITEM: 0.1255152, COVERAGE_ITEM_HIT: 0.0328070, ITEMS_IN_GT: 0.9951850, COVERAGE_USER: 0.9814793, COVERAGE_USER_HIT: 0.3196570, USERS_IN_GT: 0.9814793, DIVERSITY_GINI: 0.0121751, SHANNON_ENTROPY: 8.1997486, RATIO_DIVERSITY_HERFINDAHL: 0.9910203, RATIO_DIVERSITY_GINI: 0.0241648, RATIO_SHANNON_ENTROPY: 0.6079024, RATIO_AVERAGE_POPULARITY: 4.8031774, RATIO_NOVELTY: 0.3133465, \n",
      "\n",
      "Iteration No: 3 ended. Evaluation done at random point.\n",
      "Time taken: 6494.5602\n",
      "Function value obtained: -0.0214\n",
      "Current minimum: -0.0223\n",
      "SearchBayesianSkopt: Search complete. Best config is 7: {'topK': 760, 'l1_ratio': 0.0018938490805141548, 'alpha': 0.0027914541410741936}\n",
      "\n",
      "SearchBayesianSkopt: Evaluation with constructor data for final test. Using best config: {'topK': 760, 'l1_ratio': 0.0018938490805141548, 'alpha': 0.0027914541410741936}\n",
      "SLIMElasticNetRecommender: Processed 1952 ( 8.0%) in 5.00 min. Items per second: 6.50\n",
      "SLIMElasticNetRecommender: Processed 4053 (16.5%) in 10.00 min. Items per second: 6.75\n",
      "SLIMElasticNetRecommender: Processed 6258 (25.5%) in 15.00 min. Items per second: 6.95\n",
      "SLIMElasticNetRecommender: Processed 9171 (37.4%) in 20.00 min. Items per second: 7.64\n",
      "SLIMElasticNetRecommender: Processed 11683 (47.7%) in 25.01 min. Items per second: 7.79\n",
      "SLIMElasticNetRecommender: Processed 14218 (58.0%) in 30.01 min. Items per second: 7.90\n",
      "SLIMElasticNetRecommender: Processed 16815 (68.6%) in 35.01 min. Items per second: 8.01\n",
      "SLIMElasticNetRecommender: Processed 19265 (78.6%) in 40.01 min. Items per second: 8.03\n",
      "SLIMElasticNetRecommender: Processed 21696 (88.5%) in 45.01 min. Items per second: 8.03\n",
      "SLIMElasticNetRecommender: Processed 24265 (99.0%) in 50.01 min. Items per second: 8.09\n",
      "SLIMElasticNetRecommender: Processed 24507 (100.0%) in 50.47 min. Items per second: 8.09\n",
      "EvaluatorHoldout: Processed 41313 (100.0%) in 1.07 min. Users per second: 643\n",
      "SearchBayesianSkopt: Best config evaluated with evaluator_test with constructor data for final test. Config: {'topK': 760, 'l1_ratio': 0.0018938490805141548, 'alpha': 0.0027914541410741936} - results:\n",
      "CUTOFF: 10 - PRECISION: 0.0602716, PRECISION_RECALL_MIN_DEN: 0.0823839, RECALL: 0.0719516, MAP: 0.0288058, MAP_MIN_DEN: 0.0390674, MRR: 0.1861149, NDCG: 0.0838521, F1: 0.0655957, HIT_RATE: 0.3834386, ARHR_ALL_HITS: 0.2297854, NOVELTY: 0.0043036, AVERAGE_POPULARITY: 0.1899240, DIVERSITY_MEAN_INTER_LIST: 0.9484005, DIVERSITY_HERFINDAHL: 0.9948378, COVERAGE_ITEM: 0.1660750, COVERAGE_ITEM_HIT: 0.0560248, ITEMS_IN_GT: 0.9983270, COVERAGE_USER: 0.9924091, COVERAGE_USER_HIT: 0.3805280, USERS_IN_GT: 0.9924091, DIVERSITY_GINI: 0.0200741, SHANNON_ENTROPY: 9.0021704, RATIO_DIVERSITY_HERFINDAHL: 0.9951672, RATIO_DIVERSITY_GINI: 0.0398425, RATIO_SHANNON_ENTROPY: 0.6673913, RATIO_AVERAGE_POPULARITY: 3.7739862, RATIO_NOVELTY: 0.3271459, \n",
      "\n",
      "\n",
      "SearchBayesianSkopt: Saving model in result_experiments_SLIMElasticNetRecommender_2SLIMElasticNetRecommender\n",
      "\n",
      "SLIMElasticNetRecommender: Saving model in file 'result_experiments_SLIMElasticNetRecommender_2SLIMElasticNetRecommender_best_model_last'\n",
      "SLIMElasticNetRecommender: Saving complete\n"
     ]
    }
   ],
   "source": [
    "hyperparameterSearch.search(recommender_input_args,\n",
    "                    hyperparameter_search_space = hyperparameters_range_dictionary,\n",
    "                    n_cases = n_cases,\n",
    "                    n_random_starts = n_random_starts,\n",
    "                    save_model = \"last\",\n",
    "                    output_folder_path = output_folder_path, # Where to save the results\n",
    "                    output_file_name_root = recommender_class.RECOMMENDER_NAME, # How to call the files\n",
    "                    metric_to_optimize = metric_to_optimize,\n",
    "                    cutoff_to_optimize = cutoff_to_optimize,\n",
    "                    resume_from_saved = True,\n",
    "                    recommender_input_args_last_test=recommender_input_args\n",
    "                    )"
   ]
  },
  {
   "cell_type": "code",
   "execution_count": 8,
   "metadata": {},
   "outputs": [
    {
     "name": "stdout",
     "output_type": "stream",
     "text": [
      "SLIMElasticNetRecommender: Loading model from file '/Users/loren/Documents/GitHub/RecSys/result_experiments_SLIMElasticNetRecommender_2/SLIMElasticNetRecommender_best_model_last.zip'\n",
      "SLIMElasticNetRecommender: Loading complete\n"
     ]
    }
   ],
   "source": [
    "recommender_class = SLIMElasticNetRecommender(URM_train)\n",
    "output_folder_path = \"/Users/loren/Documents/GitHub/RecSys/result_experiments_SLIMElasticNetRecommender_2/\"\n",
    "recommender_class.load_model(output_folder_path,file_name = \"SLIMElasticNetRecommender_best_model_last.zip\" )"
   ]
  },
  {
   "cell_type": "code",
   "execution_count": 9,
   "metadata": {},
   "outputs": [
    {
     "name": "stdout",
     "output_type": "stream",
     "text": [
      "EvaluatorHoldout: Processed 41313 (100.0%) in 1.04 min. Users per second: 665\n"
     ]
    },
    {
     "data": {
      "text/plain": [
       "(       PRECISION PRECISION_RECALL_MIN_DEN    RECALL       MAP MAP_MIN_DEN  \\\n",
       " cutoff                                                                      \n",
       " 10      0.060272                 0.082384  0.071952  0.028806    0.039067   \n",
       " \n",
       "              MRR      NDCG        F1  HIT_RATE ARHR_ALL_HITS  ...  \\\n",
       " cutoff                                                        ...   \n",
       " 10      0.186115  0.083852  0.065596  0.383439      0.229785  ...   \n",
       " \n",
       "        COVERAGE_USER COVERAGE_USER_HIT USERS_IN_GT DIVERSITY_GINI  \\\n",
       " cutoff                                                              \n",
       " 10          0.992409          0.380528    0.992409       0.020074   \n",
       " \n",
       "        SHANNON_ENTROPY RATIO_DIVERSITY_HERFINDAHL RATIO_DIVERSITY_GINI  \\\n",
       " cutoff                                                                   \n",
       " 10             9.00217                   0.995167             0.039842   \n",
       " \n",
       "        RATIO_SHANNON_ENTROPY RATIO_AVERAGE_POPULARITY RATIO_NOVELTY  \n",
       " cutoff                                                               \n",
       " 10                  0.667391                 3.773986      0.327146  \n",
       " \n",
       " [1 rows x 27 columns],\n",
       " 'CUTOFF: 10 - PRECISION: 0.0602716, PRECISION_RECALL_MIN_DEN: 0.0823839, RECALL: 0.0719516, MAP: 0.0288058, MAP_MIN_DEN: 0.0390674, MRR: 0.1861149, NDCG: 0.0838521, F1: 0.0655957, HIT_RATE: 0.3834386, ARHR_ALL_HITS: 0.2297854, NOVELTY: 0.0043036, AVERAGE_POPULARITY: 0.1899240, DIVERSITY_MEAN_INTER_LIST: 0.9484005, DIVERSITY_HERFINDAHL: 0.9948378, COVERAGE_ITEM: 0.1660750, COVERAGE_ITEM_HIT: 0.0560248, ITEMS_IN_GT: 0.9983270, COVERAGE_USER: 0.9924091, COVERAGE_USER_HIT: 0.3805280, USERS_IN_GT: 0.9924091, DIVERSITY_GINI: 0.0200741, SHANNON_ENTROPY: 9.0021704, RATIO_DIVERSITY_HERFINDAHL: 0.9951672, RATIO_DIVERSITY_GINI: 0.0398425, RATIO_SHANNON_ENTROPY: 0.6673913, RATIO_AVERAGE_POPULARITY: 3.7739862, RATIO_NOVELTY: 0.3271459, \\n')"
      ]
     },
     "execution_count": 9,
     "metadata": {},
     "output_type": "execute_result"
    }
   ],
   "source": [
    "evaluator_validation.evaluateRecommender(recommender_class)"
   ]
  },
  {
   "cell_type": "code",
   "execution_count": 11,
   "metadata": {},
   "outputs": [
    {
     "name": "stdout",
     "output_type": "stream",
     "text": [
      "mean-time:\n",
      "2781.210033893585\n",
      "BEST_HYPERPARAMETERS: \n",
      "{'topK': 760, 'l1_ratio': 0.0018938490805141548, 'alpha': 0.0027914541410741936}\n",
      "         PRECISION PRECISION_RECALL_MIN_DEN    RECALL       MAP MAP_MIN_DEN  \\\n",
      "  cutoff                                                                      \n",
      "0 10      0.059746                 0.081714  0.071245  0.028574    0.038615   \n",
      "1 10           NaN                      NaN       NaN       NaN         NaN   \n",
      "2 10      0.059768                 0.081999  0.071651  0.028639    0.038793   \n",
      "3 10           NaN                      NaN       NaN       NaN         NaN   \n",
      "4 10           NaN                      NaN       NaN       NaN         NaN   \n",
      "5 10           NaN                      NaN       NaN       NaN         NaN   \n",
      "6 10           NaN                      NaN       NaN       NaN         NaN   \n",
      "7 10      0.059627                 0.081176  0.070624  0.028728    0.038658   \n",
      "8 10           NaN                      NaN       NaN       NaN         NaN   \n",
      "9 10           NaN                      NaN       NaN       NaN         NaN   \n",
      "\n",
      "               MRR      NDCG        F1  HIT_RATE ARHR_ALL_HITS  ...  \\\n",
      "  cutoff                                                        ...   \n",
      "0 10      0.187208   0.08338  0.064991  0.383593      0.229817  ...   \n",
      "1 10           NaN       NaN       NaN       NaN           NaN  ...   \n",
      "2 10      0.188054  0.083686  0.065172  0.385118      0.230634  ...   \n",
      "3 10           NaN       NaN       NaN       NaN           NaN  ...   \n",
      "4 10           NaN       NaN       NaN       NaN           NaN  ...   \n",
      "5 10           NaN       NaN       NaN       NaN           NaN  ...   \n",
      "6 10           NaN       NaN       NaN       NaN           NaN  ...   \n",
      "7 10      0.187026  0.083216  0.064662  0.381609      0.230266  ...   \n",
      "8 10           NaN       NaN       NaN       NaN           NaN  ...   \n",
      "9 10           NaN       NaN       NaN       NaN           NaN  ...   \n",
      "\n",
      "         COVERAGE_USER COVERAGE_USER_HIT USERS_IN_GT DIVERSITY_GINI  \\\n",
      "  cutoff                                                              \n",
      "0 10          0.992697          0.380792    0.992697        0.01507   \n",
      "1 10               NaN               NaN         NaN            NaN   \n",
      "2 10          0.992697          0.382306    0.992697       0.016208   \n",
      "3 10               NaN               NaN         NaN            NaN   \n",
      "4 10               NaN               NaN         NaN            NaN   \n",
      "5 10               NaN               NaN         NaN            NaN   \n",
      "6 10               NaN               NaN         NaN            NaN   \n",
      "7 10          0.992697          0.378822    0.992697       0.020106   \n",
      "8 10               NaN               NaN         NaN            NaN   \n",
      "9 10               NaN               NaN         NaN            NaN   \n",
      "\n",
      "         SHANNON_ENTROPY RATIO_DIVERSITY_HERFINDAHL RATIO_DIVERSITY_GINI  \\\n",
      "  cutoff                                                                   \n",
      "0 10            8.563781                   0.993274               0.0299   \n",
      "1 10                 NaN                        NaN                  NaN   \n",
      "2 10            8.569763                   0.992544             0.032157   \n",
      "3 10                 NaN                        NaN                  NaN   \n",
      "4 10                 NaN                        NaN                  NaN   \n",
      "5 10                 NaN                        NaN                  NaN   \n",
      "6 10                 NaN                        NaN                  NaN   \n",
      "7 10            9.004329                    0.99517             0.039892   \n",
      "8 10                 NaN                        NaN                  NaN   \n",
      "9 10                 NaN                        NaN                  NaN   \n",
      "\n",
      "         RATIO_SHANNON_ENTROPY RATIO_AVERAGE_POPULARITY RATIO_NOVELTY  \n",
      "  cutoff                                                               \n",
      "0 10                  0.634828                 4.305391      0.318834  \n",
      "1 10                       NaN                      NaN           NaN  \n",
      "2 10                  0.635271                 4.463026      0.318631  \n",
      "3 10                       NaN                      NaN           NaN  \n",
      "4 10                       NaN                      NaN           NaN  \n",
      "5 10                       NaN                      NaN           NaN  \n",
      "6 10                       NaN                      NaN           NaN  \n",
      "7 10                  0.667485                 3.766834      0.327192  \n",
      "8 10                       NaN                      NaN           NaN  \n",
      "9 10                       NaN                      NaN           NaN  \n",
      "\n",
      "[10 rows x 27 columns]\n",
      "       PRECISION PRECISION_RECALL_MIN_DEN    RECALL       MAP MAP_MIN_DEN  \\\n",
      "cutoff                                                                      \n",
      "10      0.060272                 0.082384  0.071952  0.028806    0.039067   \n",
      "\n",
      "             MRR      NDCG        F1  HIT_RATE ARHR_ALL_HITS  ...  \\\n",
      "cutoff                                                        ...   \n",
      "10      0.186115  0.083852  0.065596  0.383439      0.229785  ...   \n",
      "\n",
      "       COVERAGE_USER COVERAGE_USER_HIT USERS_IN_GT DIVERSITY_GINI  \\\n",
      "cutoff                                                              \n",
      "10          0.992409          0.380528    0.992409       0.020074   \n",
      "\n",
      "       SHANNON_ENTROPY RATIO_DIVERSITY_HERFINDAHL RATIO_DIVERSITY_GINI  \\\n",
      "cutoff                                                                   \n",
      "10             9.00217                   0.995167             0.039842   \n",
      "\n",
      "       RATIO_SHANNON_ENTROPY RATIO_AVERAGE_POPULARITY RATIO_NOVELTY  \n",
      "cutoff                                                               \n",
      "10                  0.667391                 3.773986      0.327146  \n",
      "\n",
      "[1 rows x 27 columns]\n"
     ]
    }
   ],
   "source": [
    "from Recommenders.DataIO import DataIO\n",
    "from Recommenders.SLIM.SLIMElasticNetRecommender import SLIMElasticNetRecommender\n",
    "import pandas as pd\n",
    "recommender_class = SLIMElasticNetRecommender\n",
    "\n",
    "output_folder_path = \"result_experiments_SLIMElasticNetRecommender_2\"\n",
    "data_loader = DataIO(folder_path = output_folder_path)\n",
    "search_metadata = data_loader.load_data(recommender_class.RECOMMENDER_NAME + \"_metadata.zip\")\n",
    "time_df = search_metadata[\"time_df\"]\n",
    "\n",
    "print('mean-time:')\n",
    "print(time_df['train'].mean())\n",
    "\n",
    "\n",
    "result_on_test_df = search_metadata[\"result_on_test_df\"]\n",
    "result_best_on_test = search_metadata[\"result_on_last\"]\n",
    "print('BEST_HYPERPARAMETERS: ')\n",
    "print(search_metadata[\"hyperparameters_best\"])\n",
    "print(pd.DataFrame(result_on_test_df))\n",
    "print(result_best_on_test)"
   ]
  }
 ],
 "metadata": {
  "kernelspec": {
   "display_name": "Python 3.8.13 ('RecSysFramework')",
   "language": "python",
   "name": "python3"
  },
  "language_info": {
   "codemirror_mode": {
    "name": "ipython",
    "version": 3
   },
   "file_extension": ".py",
   "mimetype": "text/x-python",
   "name": "python",
   "nbconvert_exporter": "python",
   "pygments_lexer": "ipython3",
   "version": "3.8.13 (default, Oct 19 2022, 22:38:03) [MSC v.1916 64 bit (AMD64)]"
  },
  "orig_nbformat": 4,
  "vscode": {
   "interpreter": {
    "hash": "c5ce4d3bcbb2362c29b9c9511304be4961a6384a957f7c5258651ee1b4c96e3c"
   }
  }
 },
 "nbformat": 4,
 "nbformat_minor": 2
}
