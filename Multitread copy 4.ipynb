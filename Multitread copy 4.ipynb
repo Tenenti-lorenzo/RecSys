{
 "cells": [
  {
   "cell_type": "code",
   "execution_count": 1,
   "metadata": {},
   "outputs": [
    {
     "name": "stderr",
     "output_type": "stream",
     "text": [
      "c:\\Users\\loren\\anaconda3\\envs\\RecSysFramework\\lib\\site-packages\\IPython\\core\\interactiveshell.py:3185: DtypeWarning: Columns (2) have mixed types.Specify dtype option on import or set low_memory=False.\n",
      "  has_raised = await self.run_ast_nodes(code_ast.body, cell_name,\n"
     ]
    }
   ],
   "source": [
    "import os\n",
    "from typing import Tuple, Callable, Dict, Optional, List\n",
    "\n",
    "import numpy as np\n",
    "import pandas as pd\n",
    "import scipy.sparse as sp\n",
    "from sklearn.model_selection import train_test_split\n",
    "from sklearn.preprocessing import StandardScaler\n",
    "from Evaluation.Evaluator import EvaluatorHoldout\n",
    "from Data_manager.split_functions.split_train_validation_random_holdout import split_train_in_two_percentage_global_sample\n",
    "from Recommenders.SLIM.Cython.SLIM_BPR_Cython import SLIM_BPR_Cython\n",
    "from HyperparameterTuning.SearchBayesianSkopt import SearchBayesianSkopt\n",
    "from HyperparameterTuning.SearchAbstractClass import SearchInputRecommenderArgs\n",
    "from Recommenders.DataIO import DataIO\n",
    "from skopt.space import Real, Integer, Categorical\n",
    "from Recommenders.KNN.ItemKNNCFRecommender import ItemKNNCFRecommender\n",
    "from Recommenders.GraphBased.RP3betaRecommender import RP3betaRecommender\n",
    "from Recommenders.SLIM.Cython.SLIM_BPR_Cython import SLIM_BPR_Cython\n",
    "from Recommenders.SLIM.SLIMElasticNetRecommender import SLIMElasticNetRecommender,MultiThreadSLIM_SLIMElasticNetRecommender\n",
    "from Recommenders.SLIM.SLIMElasticNetRecommender import MultiThreadSLIM_SLIM_S_ElasticNetRecommender\n",
    "np.random.seed(2498)\n",
    "\n",
    "\n",
    "columns_name = ['user_id','item_id','impression_list','data']\n",
    "\n",
    "dataset_l = pd.read_csv('/Users/loren/Documents/GitHub/RecSys/dati/data_ICM_length.csv', sep=',')\n",
    "dataset_t = pd.read_csv('/Users/loren/Documents/GitHub/RecSys/dati/data_ICM_type.csv', sep=',')\n",
    "dataset = pd.read_csv('/Users/loren/Documents/GitHub/RecSys/dati/interactions_and_impressions.csv', sep=',')\n",
    "test_users = pd.read_csv('/Users/loren/Documents/GitHub/RecSys/dati/data_target_users_test.csv',sep = ',')\n",
    "dataset.columns = columns_name"
   ]
  },
  {
   "cell_type": "code",
   "execution_count": 2,
   "metadata": {},
   "outputs": [
    {
     "data": {
      "text/plain": [
       "(24507, 0, 24506)"
      ]
     },
     "execution_count": 2,
     "metadata": {},
     "output_type": "execute_result"
    }
   ],
   "source": [
    "len(dataset.item_id.unique()),dataset.item_id.unique().min(),dataset.item_id.unique().max()"
   ]
  },
  {
   "cell_type": "code",
   "execution_count": 3,
   "metadata": {},
   "outputs": [],
   "source": [
    "from Data_manager.Build_Matrix.Data_import import build_ICM_type,build_ICM_lengh,build_URM_ICM_onlyURM_item\n",
    "import scipy.sparse as sps\n",
    "URM_ALL,ICM=build_URM_ICM_onlyURM_item(dataset, dataset_t, dataset_l)\n",
    "ICM_TYPE   =build_ICM_type(dataset_t)\n",
    "ICM_LENGHT =build_ICM_lengh(dataset_l)\n",
    "ICM_genre_subgenre = sps.hstack((ICM_TYPE, ICM_LENGHT))"
   ]
  },
  {
   "cell_type": "code",
   "execution_count": 4,
   "metadata": {},
   "outputs": [
    {
     "name": "stdout",
     "output_type": "stream",
     "text": [
      "Warning: 308 (0.74 %) of 41629 users have no sampled items\n",
      "Warning: 697 (1.67 %) of 41629 users have no sampled items\n",
      "EvaluatorHoldout: Ignoring 697 ( 1.7%) Users that have less than 1 test interactions\n",
      "EvaluatorHoldout: Ignoring 308 ( 0.7%) Users that have less than 1 test interactions\n"
     ]
    }
   ],
   "source": [
    "URM_train_validation, URM_test = split_train_in_two_percentage_global_sample(URM_ALL, train_percentage = 0.80)\n",
    "URM_train, URM_validation = split_train_in_two_percentage_global_sample(URM_train_validation, train_percentage = 0.80)\n",
    "\n",
    "evaluator_validation = EvaluatorHoldout(URM_validation, cutoff_list=[10])\n",
    "evaluator_test = EvaluatorHoldout(URM_test, cutoff_list=[10])\n"
   ]
  },
  {
   "cell_type": "code",
   "execution_count": 5,
   "metadata": {},
   "outputs": [],
   "source": [
    "import scipy.sparse as sps\n",
    "stacked_URM_1 = sps.vstack([URM_train,ICM_genre_subgenre.T])\n",
    "stacked_URM_3 = sps.vstack([URM_train, ICM_TYPE.T, ICM_TYPE.T])"
   ]
  },
  {
   "cell_type": "code",
   "execution_count": 6,
   "metadata": {},
   "outputs": [],
   "source": [
    "import os\n",
    "\n",
    "output_folder_path = \"result_experiments_SLIMElasticNetRecommender_tuning_best\"\n",
    "\n",
    "# If directory does not exist, create\n",
    "if not os.path.exists(output_folder_path):\n",
    "    os.makedirs(output_folder_path)\n",
    "\n",
    "n_cases = 400\n",
    "n_random_starts = int(n_cases*0.3)\n",
    "metric_to_optimize = \"MAP\"   \n",
    "cutoff_to_optimize = 10\n",
    "\n",
    "hyperparameters_range_dictionary = {\n",
    "        \"l1_ratio\": Real(low = 1e-5, high = 0.1, prior = 'log-uniform'),\n",
    "        \"topK\": Integer(200, 6000),\n",
    "        \"alpha\": Real(low = 1e-5, high = 0.1, prior = 'log-uniform'),\n",
    "        \"workers\": Categorical([6]),\n",
    "    }\n",
    "\n",
    "\n",
    "recommender_input_args = SearchInputRecommenderArgs(\n",
    "                CONSTRUCTOR_POSITIONAL_ARGS = [stacked_URM_3],\n",
    "                CONSTRUCTOR_KEYWORD_ARGS = {},\n",
    "                FIT_POSITIONAL_ARGS = [],\n",
    "                FIT_KEYWORD_ARGS = {},\n",
    "                EARLYSTOPPING_KEYWORD_ARGS = {},\n",
    "            )\n",
    "\n",
    "recommender_class = MultiThreadSLIM_SLIMElasticNetRecommender\n",
    "\n",
    "\n",
    "hyperparameterSearch = SearchBayesianSkopt(recommender_class,\n",
    "                                        evaluator_validation=evaluator_validation,\n",
    "                                        evaluator_test=evaluator_test)"
   ]
  },
  {
   "cell_type": "code",
   "execution_count": 7,
   "metadata": {},
   "outputs": [
    {
     "name": "stdout",
     "output_type": "stream",
     "text": [
      "SearchBayesianSkopt: Resuming 'SLIMElasticNetRecommender'... Loaded 145 configurations.\n",
      "Iteration No: 1 started. Evaluating function at random point.\n"
     ]
    },
    {
     "name": "stderr",
     "output_type": "stream",
     "text": [
      "  0%|          | 0/24507 [00:00<?, ?it/s]"
     ]
    },
    {
     "name": "stdout",
     "output_type": "stream",
     "text": [
      "Iteration No: 1 ended. Evaluation done at random point.\n",
      "Time taken: 2.8340\n",
      "Function value obtained: -0.0216\n",
      "Current minimum: -0.0224\n",
      "Iteration No: 2 started. Evaluating function at random point.\n",
      "SearchBayesianSkopt: Testing config: {'l1_ratio': 0.0001370617592354718, 'topK': 4430, 'alpha': 0.09826178801566772, 'workers': 6}\n"
     ]
    },
    {
     "name": "stderr",
     "output_type": "stream",
     "text": [
      "100%|█████████▉| 24504/24507 [16:58<00:00, 38.34it/s]"
     ]
    },
    {
     "name": "stdout",
     "output_type": "stream",
     "text": [
      "EvaluatorHoldout: Processed 40932 (100.0%) in 53.97 sec. Users per second: 758\n",
      "SearchBayesianSkopt: Config 145 is suboptimal. Config: {'l1_ratio': 0.0001370617592354718, 'topK': 4430, 'alpha': 0.09826178801566772, 'workers': 6} - results: PRECISION: 0.0402375, PRECISION_RECALL_MIN_DEN: 0.0657469, RECALL: 0.0611745, MAP: 0.0177523, MAP_MIN_DEN: 0.0287735, MRR: 0.1309423, NDCG: 0.0616377, F1: 0.0485447, HIT_RATE: 0.2943663, ARHR_ALL_HITS: 0.1518051, NOVELTY: 0.0038911, AVERAGE_POPULARITY: 0.3211410, DIVERSITY_MEAN_INTER_LIST: 0.8123955, DIVERSITY_HERFINDAHL: 0.9812376, COVERAGE_ITEM: 0.1201289, COVERAGE_ITEM_HIT: 0.0208104, ITEMS_IN_GT: 0.9953891, COVERAGE_USER: 0.9832569, COVERAGE_USER_HIT: 0.2894377, USERS_IN_GT: 0.9832569, DIVERSITY_GINI: 0.0060660, SHANNON_ENTROPY: 7.0261137, RATIO_DIVERSITY_HERFINDAHL: 0.9815425, RATIO_DIVERSITY_GINI: 0.0116249, RATIO_SHANNON_ENTROPY: 0.5185321, RATIO_AVERAGE_POPULARITY: 6.2885786, RATIO_NOVELTY: 0.2833392, \n",
      "\n"
     ]
    },
    {
     "name": "stderr",
     "output_type": "stream",
     "text": [
      "100%|█████████▉| 24504/24507 [19:11<00:00, 21.29it/s]\n"
     ]
    },
    {
     "name": "stdout",
     "output_type": "stream",
     "text": [
      "Iteration No: 2 ended. Evaluation done at random point.\n",
      "Time taken: 1152.6710\n",
      "Function value obtained: -0.0178\n",
      "Current minimum: -0.0224\n",
      "Iteration No: 3 started. Evaluating function at random point.\n",
      "SearchBayesianSkopt: Testing config: {'l1_ratio': 0.0001440319111487362, 'topK': 5810, 'alpha': 0.00013136904963647713, 'workers': 6}\n"
     ]
    },
    {
     "name": "stderr",
     "output_type": "stream",
     "text": [
      "100%|█████████▉| 24504/24507 [10:52<00:00, 60.26it/s]"
     ]
    },
    {
     "name": "stdout",
     "output_type": "stream",
     "text": [
      "EvaluatorHoldout: Processed 40932 (100.0%) in 31.20 sec. Users per second: 1312\n",
      "SearchBayesianSkopt: Config 146 is suboptimal. Config: {'l1_ratio': 0.0001440319111487362, 'topK': 5810, 'alpha': 0.00013136904963647713, 'workers': 6} - results: PRECISION: 0.0451065, PRECISION_RECALL_MIN_DEN: 0.0704885, RECALL: 0.0649752, MAP: 0.0210009, MAP_MIN_DEN: 0.0327774, MRR: 0.1464670, NDCG: 0.0685713, F1: 0.0532478, HIT_RATE: 0.3101974, ARHR_ALL_HITS: 0.1745727, NOVELTY: 0.0044096, AVERAGE_POPULARITY: 0.1940621, DIVERSITY_MEAN_INTER_LIST: 0.9462030, DIVERSITY_HERFINDAHL: 0.9946180, COVERAGE_ITEM: 0.4287346, COVERAGE_ITEM_HIT: 0.0584323, ITEMS_IN_GT: 0.9953891, COVERAGE_USER: 0.9832569, COVERAGE_USER_HIT: 0.3050037, USERS_IN_GT: 0.9832569, DIVERSITY_GINI: 0.0405803, SHANNON_ENTROPY: 9.5164326, RATIO_DIVERSITY_HERFINDAHL: 0.9949271, RATIO_DIVERSITY_GINI: 0.0777676, RATIO_SHANNON_ENTROPY: 0.7023194, RATIO_AVERAGE_POPULARITY: 3.8001216, RATIO_NOVELTY: 0.3210937, \n",
      "\n"
     ]
    },
    {
     "name": "stderr",
     "output_type": "stream",
     "text": []
    },
    {
     "name": "stdout",
     "output_type": "stream",
     "text": [
      "Iteration No: 3 ended. Evaluation done at random point.\n",
      "Time taken: 678.1302\n",
      "Function value obtained: -0.0210\n",
      "Current minimum: -0.0224\n",
      "Iteration No: 4 started. Evaluating function at random point.\n",
      "SearchBayesianSkopt: Testing config: {'l1_ratio': 0.046433313544855574, 'topK': 6000, 'alpha': 0.0005105510932255557, 'workers': 6}\n"
     ]
    },
    {
     "name": "stderr",
     "output_type": "stream",
     "text": [
      "100%|█████████▉| 24504/24507 [11:27<00:00, 35.65it/s]\n"
     ]
    },
    {
     "name": "stdout",
     "output_type": "stream",
     "text": [
      "EvaluatorHoldout: Processed 40932 (100.0%) in 31.65 sec. Users per second: 1293\n",
      "SearchBayesianSkopt: Config 147 is suboptimal. Config: {'l1_ratio': 0.046433313544855574, 'topK': 6000, 'alpha': 0.0005105510932255557, 'workers': 6} - results: PRECISION: 0.0481652, PRECISION_RECALL_MIN_DEN: 0.0762679, RECALL: 0.0705736, MAP: 0.0222097, MAP_MIN_DEN: 0.0350597, MRR: 0.1546016, NDCG: 0.0733097, F1: 0.0572550, HIT_RATE: 0.3308414, ARHR_ALL_HITS: 0.1844835, NOVELTY: 0.0044185, AVERAGE_POPULARITY: 0.1930447, DIVERSITY_MEAN_INTER_LIST: 0.9455174, DIVERSITY_HERFINDAHL: 0.9945494, COVERAGE_ITEM: 0.3170115, COVERAGE_ITEM_HIT: 0.0586363, ITEMS_IN_GT: 0.9953891, COVERAGE_USER: 0.9832569, COVERAGE_USER_HIT: 0.3253021, USERS_IN_GT: 0.9832569, DIVERSITY_GINI: 0.0342615, SHANNON_ENTROPY: 9.4460019, RATIO_DIVERSITY_HERFINDAHL: 0.9948585, RATIO_DIVERSITY_GINI: 0.0656583, RATIO_SHANNON_ENTROPY: 0.6971216, RATIO_AVERAGE_POPULARITY: 3.7801992, RATIO_NOVELTY: 0.3217457, \n",
      "\n"
     ]
    },
    {
     "name": "stderr",
     "output_type": "stream",
     "text": [
      "100%|█████████▉| 24504/24507 [08:13<00:00, 49.61it/s]\n",
      "  0%|          | 0/24507 [00:00<?, ?it/s]"
     ]
    },
    {
     "name": "stdout",
     "output_type": "stream",
     "text": [
      "Iteration No: 4 ended. Evaluation done at random point.\n",
      "Time taken: 495.5065\n",
      "Function value obtained: -0.0222\n",
      "Current minimum: -0.0224\n",
      "Iteration No: 5 started. Evaluating function at random point.\n",
      "SearchBayesianSkopt: Testing config: {'l1_ratio': 0.09823772143885853, 'topK': 1617, 'alpha': 0.007296719142642381, 'workers': 6}\n"
     ]
    },
    {
     "name": "stderr",
     "output_type": "stream",
     "text": [
      "100%|█████████▉| 24504/24507 [02:33<00:00, 159.24it/s]\n"
     ]
    },
    {
     "name": "stdout",
     "output_type": "stream",
     "text": [
      "EvaluatorHoldout: Processed 40932 (100.0%) in 23.03 sec. Users per second: 1778\n",
      "SearchBayesianSkopt: Config 148 is suboptimal. Config: {'l1_ratio': 0.09823772143885853, 'topK': 1617, 'alpha': 0.007296719142642381, 'workers': 6} - results: PRECISION: 0.0409875, PRECISION_RECALL_MIN_DEN: 0.0655235, RECALL: 0.0607408, MAP: 0.0188786, MAP_MIN_DEN: 0.0301859, MRR: 0.1372955, NDCG: 0.0634611, F1: 0.0489463, HIT_RATE: 0.2942441, ARHR_ALL_HITS: 0.1602860, NOVELTY: 0.0042311, AVERAGE_POPULARITY: 0.2452364, DIVERSITY_MEAN_INTER_LIST: 0.8939966, DIVERSITY_HERFINDAHL: 0.9893975, COVERAGE_ITEM: 0.0257477, COVERAGE_ITEM_HIT: 0.0172604, ITEMS_IN_GT: 0.9953891, COVERAGE_USER: 0.9832569, COVERAGE_USER_HIT: 0.2893175, USERS_IN_GT: 0.9832569, DIVERSITY_GINI: 0.0059189, SHANNON_ENTROPY: 7.4835644, RATIO_DIVERSITY_HERFINDAHL: 0.9897050, RATIO_DIVERSITY_GINI: 0.0113429, RATIO_SHANNON_ENTROPY: 0.5522923, RATIO_AVERAGE_POPULARITY: 4.8022158, RATIO_NOVELTY: 0.3080988, \n",
      "\n"
     ]
    },
    {
     "name": "stderr",
     "output_type": "stream",
     "text": [
      "  0%|          | 0/24507 [00:00<?, ?it/s]"
     ]
    },
    {
     "name": "stdout",
     "output_type": "stream",
     "text": [
      "Iteration No: 5 ended. Evaluation done at random point.\n",
      "Time taken: 174.9230\n",
      "Function value obtained: -0.0189\n",
      "Current minimum: -0.0224\n",
      "Iteration No: 6 started. Evaluating function at random point.\n",
      "SearchBayesianSkopt: Testing config: {'l1_ratio': 0.006170547563496388, 'topK': 5911, 'alpha': 0.005544595539945107, 'workers': 6}\n"
     ]
    },
    {
     "name": "stderr",
     "output_type": "stream",
     "text": [
      "100%|█████████▉| 24504/24507 [07:46<00:00, 68.67it/s]"
     ]
    },
    {
     "name": "stdout",
     "output_type": "stream",
     "text": [
      "EvaluatorHoldout: Processed 40932 (100.0%) in 35.83 sec. Users per second: 1142\n",
      "SearchBayesianSkopt: Config 149 is suboptimal. Config: {'l1_ratio': 0.006170547563496388, 'topK': 5911, 'alpha': 0.005544595539945107, 'workers': 6} - results: PRECISION: 0.0478330, PRECISION_RECALL_MIN_DEN: 0.0769281, RECALL: 0.0714888, MAP: 0.0218632, MAP_MIN_DEN: 0.0349087, MRR: 0.1537932, NDCG: 0.0731886, F1: 0.0573160, HIT_RATE: 0.3323072, ARHR_ALL_HITS: 0.1825238, NOVELTY: 0.0042185, AVERAGE_POPULARITY: 0.2246590, DIVERSITY_MEAN_INTER_LIST: 0.9238771, DIVERSITY_HERFINDAHL: 0.9923855, COVERAGE_ITEM: 0.2328722, COVERAGE_ITEM_HIT: 0.0419472, ITEMS_IN_GT: 0.9953891, COVERAGE_USER: 0.9832569, COVERAGE_USER_HIT: 0.3267434, USERS_IN_GT: 0.9832569, DIVERSITY_GINI: 0.0178789, SHANNON_ENTROPY: 8.6136431, RATIO_DIVERSITY_HERFINDAHL: 0.9926939, RATIO_DIVERSITY_GINI: 0.0342629, RATIO_SHANNON_ENTROPY: 0.6356929, RATIO_AVERAGE_POPULARITY: 4.3992703, RATIO_NOVELTY: 0.3071787, \n",
      "\n"
     ]
    },
    {
     "name": "stderr",
     "output_type": "stream",
     "text": []
    },
    {
     "name": "stdout",
     "output_type": "stream",
     "text": [
      "Iteration No: 6 ended. Evaluation done at random point.\n",
      "Time taken: 495.2570\n",
      "Function value obtained: -0.0219\n",
      "Current minimum: -0.0224\n",
      "Iteration No: 7 started. Evaluating function at random point.\n",
      "SearchBayesianSkopt: Testing config: {'l1_ratio': 0.00012951272893741287, 'topK': 5574, 'alpha': 0.0236954314983584, 'workers': 6}\n"
     ]
    },
    {
     "name": "stderr",
     "output_type": "stream",
     "text": [
      "100%|█████████▉| 24504/24507 [15:58<00:00, 25.57it/s]\n"
     ]
    },
    {
     "name": "stdout",
     "output_type": "stream",
     "text": [
      "EvaluatorHoldout: Processed 40932 (100.0%) in 48.11 sec. Users per second: 851\n",
      "SearchBayesianSkopt: Config 150 is suboptimal. Config: {'l1_ratio': 0.00012951272893741287, 'topK': 5574, 'alpha': 0.0236954314983584, 'workers': 6} - results: PRECISION: 0.0450161, PRECISION_RECALL_MIN_DEN: 0.0728202, RECALL: 0.0676693, MAP: 0.0203872, MAP_MIN_DEN: 0.0327399, MRR: 0.1458687, NDCG: 0.0690482, F1: 0.0540657, HIT_RATE: 0.3182840, ARHR_ALL_HITS: 0.1716261, NOVELTY: 0.0040494, AVERAGE_POPULARITY: 0.2666623, DIVERSITY_MEAN_INTER_LIST: 0.8846642, DIVERSITY_HERFINDAHL: 0.9884643, COVERAGE_ITEM: 0.1476721, COVERAGE_ITEM_HIT: 0.0299914, ITEMS_IN_GT: 0.9953891, COVERAGE_USER: 0.9832569, COVERAGE_USER_HIT: 0.3129549, USERS_IN_GT: 0.9832569, DIVERSITY_GINI: 0.0100669, SHANNON_ENTROPY: 7.8405819, RATIO_DIVERSITY_HERFINDAHL: 0.9887715, RATIO_DIVERSITY_GINI: 0.0192921, RATIO_SHANNON_ENTROPY: 0.5786405, RATIO_AVERAGE_POPULARITY: 5.2217782, RATIO_NOVELTY: 0.2948657, \n",
      "\n",
      "Iteration No: 7 ended. Evaluation done at random point.\n",
      "Time taken: 837.1826\n",
      "Function value obtained: -0.0204\n",
      "Current minimum: -0.0224\n",
      "Iteration No: 8 started. Evaluating function at random point.\n",
      "SearchBayesianSkopt: Testing config: {'l1_ratio': 0.0019758795669628116, 'topK': 6000, 'alpha': 0.0015573262722674785, 'workers': 6}\n"
     ]
    },
    {
     "name": "stderr",
     "output_type": "stream",
     "text": [
      "100%|█████████▉| 24504/24507 [19:07<00:00, 21.35it/s]\n",
      "100%|█████████▉| 24504/24507 [08:59<00:00, 65.74it/s]"
     ]
    },
    {
     "name": "stdout",
     "output_type": "stream",
     "text": [
      "EvaluatorHoldout: Processed 40932 (100.0%) in 36.69 sec. Users per second: 1116\n",
      "SearchBayesianSkopt: Config 151 is suboptimal. Config: {'l1_ratio': 0.0019758795669628116, 'topK': 6000, 'alpha': 0.0015573262722674785, 'workers': 6} - results: PRECISION: 0.0486539, PRECISION_RECALL_MIN_DEN: 0.0776617, RECALL: 0.0720209, MAP: 0.0223914, MAP_MIN_DEN: 0.0355964, MRR: 0.1560835, NDCG: 0.0743188, F1: 0.0580750, HIT_RATE: 0.3343106, ARHR_ALL_HITS: 0.1861305, NOVELTY: 0.0042952, AVERAGE_POPULARITY: 0.2120047, DIVERSITY_MEAN_INTER_LIST: 0.9334062, DIVERSITY_HERFINDAHL: 0.9933383, COVERAGE_ITEM: 0.2365447, COVERAGE_ITEM_HIT: 0.0529237, ITEMS_IN_GT: 0.9953891, COVERAGE_USER: 0.9832569, COVERAGE_USER_HIT: 0.3287132, USERS_IN_GT: 0.9832569, DIVERSITY_GINI: 0.0224546, SHANNON_ENTROPY: 8.9509194, RATIO_DIVERSITY_HERFINDAHL: 0.9936471, RATIO_DIVERSITY_GINI: 0.0430317, RATIO_SHANNON_ENTROPY: 0.6605842, RATIO_AVERAGE_POPULARITY: 4.1514740, RATIO_NOVELTY: 0.3127644, \n",
      "\n"
     ]
    },
    {
     "name": "stderr",
     "output_type": "stream",
     "text": []
    },
    {
     "name": "stdout",
     "output_type": "stream",
     "text": [
      "Iteration No: 8 ended. Evaluation done at random point.\n",
      "Time taken: 584.1770\n",
      "Function value obtained: -0.0224\n",
      "Current minimum: -0.0224\n",
      "Iteration No: 9 started. Evaluating function at random point.\n",
      "SearchBayesianSkopt: Testing config: {'l1_ratio': 0.004443132189107661, 'topK': 795, 'alpha': 1.0721620865648093e-05, 'workers': 6}\n"
     ]
    },
    {
     "name": "stderr",
     "output_type": "stream",
     "text": [
      "100%|█████████▉| 24504/24507 [13:24<00:00, 30.48it/s]\n"
     ]
    },
    {
     "name": "stdout",
     "output_type": "stream",
     "text": [
      "EvaluatorHoldout: Processed 40932 (100.0%) in 29.90 sec. Users per second: 1369\n",
      "SearchBayesianSkopt: Config 152 is suboptimal. Config: {'l1_ratio': 0.004443132189107661, 'topK': 795, 'alpha': 1.0721620865648093e-05, 'workers': 6} - results: PRECISION: 0.0413295, PRECISION_RECALL_MIN_DEN: 0.0633318, RECALL: 0.0579731, MAP: 0.0192921, MAP_MIN_DEN: 0.0296471, MRR: 0.1358641, NDCG: 0.0624251, F1: 0.0482565, HIT_RATE: 0.2861575, ARHR_ALL_HITS: 0.1610637, NOVELTY: 0.0045821, AVERAGE_POPULARITY: 0.1482298, DIVERSITY_MEAN_INTER_LIST: 0.9714364, DIVERSITY_HERFINDAHL: 0.9971413, COVERAGE_ITEM: 0.5173624, COVERAGE_ITEM_HIT: 0.0621863, ITEMS_IN_GT: 0.9953891, COVERAGE_USER: 0.9832569, COVERAGE_USER_HIT: 0.2813664, USERS_IN_GT: 0.9832569, DIVERSITY_GINI: 0.0589909, SHANNON_ENTROPY: 10.1756595, RATIO_DIVERSITY_HERFINDAHL: 0.9974512, RATIO_DIVERSITY_GINI: 0.1130494, RATIO_SHANNON_ENTROPY: 0.7509709, RATIO_AVERAGE_POPULARITY: 2.9026341, RATIO_NOVELTY: 0.3336538, \n",
      "\n"
     ]
    },
    {
     "name": "stderr",
     "output_type": "stream",
     "text": [
      "  0%|          | 0/24507 [00:00<?, ?it/s]"
     ]
    },
    {
     "name": "stdout",
     "output_type": "stream",
     "text": [
      "Iteration No: 9 ended. Evaluation done at random point.\n",
      "Time taken: 623.1706\n",
      "Function value obtained: -0.0193\n",
      "Current minimum: -0.0224\n",
      "Iteration No: 10 started. Evaluating function at random point.\n",
      "SearchBayesianSkopt: Testing config: {'l1_ratio': 0.02590897030607437, 'topK': 261, 'alpha': 0.00023375391412148563, 'workers': 6}\n"
     ]
    },
    {
     "name": "stderr",
     "output_type": "stream",
     "text": [
      "100%|█████████▉| 24504/24507 [12:19<00:00, 33.14it/s]\n",
      "100%|█████████▉| 24504/24507 [08:24<00:00, 62.44it/s] "
     ]
    },
    {
     "name": "stdout",
     "output_type": "stream",
     "text": [
      "EvaluatorHoldout: Processed 40932 (100.0%) in 27.94 sec. Users per second: 1465\n",
      "SearchBayesianSkopt: Config 153 is suboptimal. Config: {'l1_ratio': 0.02590897030607437, 'topK': 261, 'alpha': 0.00023375391412148563, 'workers': 6} - results: PRECISION: 0.0425022, PRECISION_RECALL_MIN_DEN: 0.0658337, RECALL: 0.0604742, MAP: 0.0196363, MAP_MIN_DEN: 0.0306272, MRR: 0.1391652, NDCG: 0.0644300, F1: 0.0499199, HIT_RATE: 0.2955389, ARHR_ALL_HITS: 0.1645145, NOVELTY: 0.0046546, AVERAGE_POPULARITY: 0.1288473, DIVERSITY_MEAN_INTER_LIST: 0.9779479, DIVERSITY_HERFINDAHL: 0.9977924, COVERAGE_ITEM: 0.4384462, COVERAGE_ITEM_HIT: 0.0679806, ITEMS_IN_GT: 0.9953891, COVERAGE_USER: 0.9832569, COVERAGE_USER_HIT: 0.2905907, USERS_IN_GT: 0.9832569, DIVERSITY_GINI: 0.0536427, SHANNON_ENTROPY: 10.2980758, RATIO_DIVERSITY_HERFINDAHL: 0.9981025, RATIO_DIVERSITY_GINI: 0.1028003, RATIO_SHANNON_ENTROPY: 0.7600053, RATIO_AVERAGE_POPULARITY: 2.5230860, RATIO_NOVELTY: 0.3389316, \n",
      "\n"
     ]
    },
    {
     "name": "stderr",
     "output_type": "stream",
     "text": []
    },
    {
     "name": "stdout",
     "output_type": "stream",
     "text": [
      "Iteration No: 10 ended. Evaluation done at random point.\n",
      "Time taken: 527.0840\n",
      "Function value obtained: -0.0196\n",
      "Current minimum: -0.0224\n",
      "Iteration No: 11 started. Evaluating function at random point.\n",
      "SearchBayesianSkopt: Testing config: {'l1_ratio': 0.00017065180942710929, 'topK': 5935, 'alpha': 4.5304777780760694e-05, 'workers': 6}\n"
     ]
    },
    {
     "name": "stderr",
     "output_type": "stream",
     "text": [
      "100%|█████████▉| 24504/24507 [10:07<00:00, 40.34it/s]\n"
     ]
    },
    {
     "name": "stdout",
     "output_type": "stream",
     "text": [
      "EvaluatorHoldout: Processed 40932 (100.0%) in 30.18 sec. Users per second: 1356\n",
      "SearchBayesianSkopt: Config 154 is suboptimal. Config: {'l1_ratio': 0.00017065180942710929, 'topK': 5935, 'alpha': 4.5304777780760694e-05, 'workers': 6} - results: PRECISION: 0.0440829, PRECISION_RECALL_MIN_DEN: 0.0684234, RECALL: 0.0629603, MAP: 0.0205151, MAP_MIN_DEN: 0.0318442, MRR: 0.1432142, NDCG: 0.0667774, F1: 0.0518570, HIT_RATE: 0.3037721, ARHR_ALL_HITS: 0.1706045, NOVELTY: 0.0044388, AVERAGE_POPULARITY: 0.1893155, DIVERSITY_MEAN_INTER_LIST: 0.9493205, DIVERSITY_HERFINDAHL: 0.9949297, COVERAGE_ITEM: 0.4688456, COVERAGE_ITEM_HIT: 0.0583099, ITEMS_IN_GT: 0.9953891, COVERAGE_USER: 0.9832569, COVERAGE_USER_HIT: 0.2986860, USERS_IN_GT: 0.9832569, DIVERSITY_GINI: 0.0466217, SHANNON_ENTROPY: 9.6549973, RATIO_DIVERSITY_HERFINDAHL: 0.9952390, RATIO_DIVERSITY_GINI: 0.0893452, RATIO_SHANNON_ENTROPY: 0.7125456, RATIO_AVERAGE_POPULARITY: 3.7071746, RATIO_NOVELTY: 0.3232193, \n",
      "\n"
     ]
    },
    {
     "name": "stderr",
     "output_type": "stream",
     "text": [
      "100%|█████████▉| 24504/24507 [13:25<00:00, 30.41it/s]\n",
      "  0%|          | 0/24507 [00:00<?, ?it/s]"
     ]
    },
    {
     "name": "stdout",
     "output_type": "stream",
     "text": [
      "Iteration No: 11 ended. Evaluation done at random point.\n",
      "Time taken: 807.5735\n",
      "Function value obtained: -0.0205\n",
      "Current minimum: -0.0224\n",
      "Iteration No: 12 started. Evaluating function at random point.\n",
      "SearchBayesianSkopt: Testing config: {'l1_ratio': 0.007918910403637442, 'topK': 6000, 'alpha': 0.00047722745666320637, 'workers': 6}\n"
     ]
    },
    {
     "name": "stderr",
     "output_type": "stream",
     "text": [
      "100%|█████████▉| 24504/24507 [08:41<00:00, 75.45it/s]"
     ]
    },
    {
     "name": "stdout",
     "output_type": "stream",
     "text": [
      "EvaluatorHoldout: Processed 40932 (100.0%) in 32.52 sec. Users per second: 1259\n",
      "SearchBayesianSkopt: Config 155 is suboptimal. Config: {'l1_ratio': 0.007918910403637442, 'topK': 6000, 'alpha': 0.00047722745666320637, 'workers': 6} - results: PRECISION: 0.0474983, PRECISION_RECALL_MIN_DEN: 0.0751218, RECALL: 0.0694822, MAP: 0.0219394, MAP_MIN_DEN: 0.0346081, MRR: 0.1527205, NDCG: 0.0723251, F1: 0.0564246, HIT_RATE: 0.3264927, ARHR_ALL_HITS: 0.1822435, NOVELTY: 0.0043632, AVERAGE_POPULARITY: 0.2017884, DIVERSITY_MEAN_INTER_LIST: 0.9405814, DIVERSITY_HERFINDAHL: 0.9940558, COVERAGE_ITEM: 0.3191333, COVERAGE_ITEM_HIT: 0.0575346, ITEMS_IN_GT: 0.9953891, COVERAGE_USER: 0.9832569, COVERAGE_USER_HIT: 0.3210262, USERS_IN_GT: 0.9832569, DIVERSITY_GINI: 0.0303592, SHANNON_ENTROPY: 9.2650854, RATIO_DIVERSITY_HERFINDAHL: 0.9943648, RATIO_DIVERSITY_GINI: 0.0581799, RATIO_SHANNON_ENTROPY: 0.6837698, RATIO_AVERAGE_POPULARITY: 3.9514182, RATIO_NOVELTY: 0.3177153, \n",
      "\n"
     ]
    },
    {
     "name": "stderr",
     "output_type": "stream",
     "text": []
    },
    {
     "name": "stdout",
     "output_type": "stream",
     "text": [
      "Iteration No: 12 ended. Evaluation done at random point.\n",
      "Time taken: 547.1300\n",
      "Function value obtained: -0.0219\n",
      "Current minimum: -0.0224\n",
      "Iteration No: 13 started. Evaluating function at random point.\n",
      "SearchBayesianSkopt: Testing config: {'l1_ratio': 3.23992862857697e-05, 'topK': 5987, 'alpha': 0.09855186287946699, 'workers': 6}\n"
     ]
    },
    {
     "name": "stderr",
     "output_type": "stream",
     "text": [
      "100%|█████████▉| 24504/24507 [09:28<00:00, 43.11it/s]\n",
      "100%|█████████▉| 24504/24507 [13:59<00:00, 29.19it/s]\n"
     ]
    },
    {
     "name": "stdout",
     "output_type": "stream",
     "text": [
      "EvaluatorHoldout: Processed 40932 (100.0%) in 50.09 sec. Users per second: 817\n",
      "SearchBayesianSkopt: Config 156 is suboptimal. Config: {'l1_ratio': 3.23992862857697e-05, 'topK': 5987, 'alpha': 0.09855186287946699, 'workers': 6} - results: PRECISION: 0.0402375, PRECISION_RECALL_MIN_DEN: 0.0657576, RECALL: 0.0611889, MAP: 0.0177533, MAP_MIN_DEN: 0.0287861, MRR: 0.1310562, NDCG: 0.0616644, F1: 0.0485493, HIT_RATE: 0.2945617, ARHR_ALL_HITS: 0.1518736, NOVELTY: 0.0038853, AVERAGE_POPULARITY: 0.3227999, DIVERSITY_MEAN_INTER_LIST: 0.8101386, DIVERSITY_HERFINDAHL: 0.9810119, COVERAGE_ITEM: 0.1144571, COVERAGE_ITEM_HIT: 0.0209328, ITEMS_IN_GT: 0.9953891, COVERAGE_USER: 0.9832569, COVERAGE_USER_HIT: 0.2896298, USERS_IN_GT: 0.9832569, DIVERSITY_GINI: 0.0058462, SHANNON_ENTROPY: 6.9970515, RATIO_DIVERSITY_HERFINDAHL: 0.9813168, RATIO_DIVERSITY_GINI: 0.0112036, RATIO_SHANNON_ENTROPY: 0.5163873, RATIO_AVERAGE_POPULARITY: 6.3210638, RATIO_NOVELTY: 0.2829175, \n",
      "\n",
      "Iteration No: 13 ended. Evaluation done at random point.\n",
      "Time taken: 856.1644\n",
      "Function value obtained: -0.0178\n",
      "Current minimum: -0.0224\n",
      "Iteration No: 14 started. Evaluating function at random point.\n",
      "SearchBayesianSkopt: Testing config: {'l1_ratio': 0.09508534155850962, 'topK': 304, 'alpha': 0.000131165450340033, 'workers': 6}\n"
     ]
    },
    {
     "name": "stderr",
     "output_type": "stream",
     "text": [
      "100%|█████████▉| 24504/24507 [08:47<00:00, 46.42it/s]\n"
     ]
    },
    {
     "name": "stdout",
     "output_type": "stream",
     "text": [
      "EvaluatorHoldout: Processed 40932 (100.0%) in 29.71 sec. Users per second: 1378\n",
      "SearchBayesianSkopt: Config 157 is suboptimal. Config: {'l1_ratio': 0.09508534155850962, 'topK': 304, 'alpha': 0.000131165450340033, 'workers': 6} - results: PRECISION: 0.0429859, PRECISION_RECALL_MIN_DEN: 0.0666469, RECALL: 0.0612401, MAP: 0.0198757, MAP_MIN_DEN: 0.0309080, MRR: 0.1405267, NDCG: 0.0650916, F1: 0.0505145, HIT_RATE: 0.2986661, ARHR_ALL_HITS: 0.1663233, NOVELTY: 0.0046595, AVERAGE_POPULARITY: 0.1300835, DIVERSITY_MEAN_INTER_LIST: 0.9776887, DIVERSITY_HERFINDAHL: 0.9977665, COVERAGE_ITEM: 0.4417513, COVERAGE_ITEM_HIT: 0.0672461, ITEMS_IN_GT: 0.9953891, COVERAGE_USER: 0.9832569, COVERAGE_USER_HIT: 0.2936655, USERS_IN_GT: 0.9832569, DIVERSITY_GINI: 0.0564038, SHANNON_ENTROPY: 10.3307248, RATIO_DIVERSITY_HERFINDAHL: 0.9980766, RATIO_DIVERSITY_GINI: 0.1080915, RATIO_SHANNON_ENTROPY: 0.7624148, RATIO_AVERAGE_POPULARITY: 2.5472936, RATIO_NOVELTY: 0.3392928, \n",
      "\n"
     ]
    },
    {
     "name": "stderr",
     "output_type": "stream",
     "text": [
      "  0%|          | 0/24507 [00:00<?, ?it/s]"
     ]
    },
    {
     "name": "stdout",
     "output_type": "stream",
     "text": [
      "Iteration No: 14 ended. Evaluation done at random point.\n",
      "Time taken: 551.2621\n",
      "Function value obtained: -0.0199\n",
      "Current minimum: -0.0224\n",
      "Iteration No: 15 started. Evaluating function at random point.\n",
      "SearchBayesianSkopt: Testing config: {'l1_ratio': 0.06712003587159848, 'topK': 6000, 'alpha': 0.0010174540162973783, 'workers': 6}\n"
     ]
    },
    {
     "name": "stderr",
     "output_type": "stream",
     "text": [
      "100%|█████████▉| 24504/24507 [06:36<00:00, 100.82it/s]"
     ]
    },
    {
     "name": "stdout",
     "output_type": "stream",
     "text": [
      "EvaluatorHoldout: Processed 40932 (100.0%) in 29.85 sec. Users per second: 1371\n",
      "SearchBayesianSkopt: Config 158 is suboptimal. Config: {'l1_ratio': 0.06712003587159848, 'topK': 6000, 'alpha': 0.0010174540162973783, 'workers': 6} - results: PRECISION: 0.0483925, PRECISION_RECALL_MIN_DEN: 0.0770507, RECALL: 0.0714150, MAP: 0.0222311, MAP_MIN_DEN: 0.0352531, MRR: 0.1550379, NDCG: 0.0737492, F1: 0.0576917, HIT_RATE: 0.3333822, ARHR_ALL_HITS: 0.1848418, NOVELTY: 0.0043798, AVERAGE_POPULARITY: 0.1944968, DIVERSITY_MEAN_INTER_LIST: 0.9450823, DIVERSITY_HERFINDAHL: 0.9945059, COVERAGE_ITEM: 0.2964459, COVERAGE_ITEM_HIT: 0.0519035, ITEMS_IN_GT: 0.9953891, COVERAGE_USER: 0.9832569, COVERAGE_USER_HIT: 0.3278003, USERS_IN_GT: 0.9832569, DIVERSITY_GINI: 0.0290706, SHANNON_ENTROPY: 9.2771903, RATIO_DIVERSITY_HERFINDAHL: 0.9948150, RATIO_DIVERSITY_GINI: 0.0557106, RATIO_SHANNON_ENTROPY: 0.6846632, RATIO_AVERAGE_POPULARITY: 3.8086336, RATIO_NOVELTY: 0.3189231, \n",
      "\n"
     ]
    },
    {
     "name": "stderr",
     "output_type": "stream",
     "text": []
    },
    {
     "name": "stdout",
     "output_type": "stream",
     "text": [
      "Iteration No: 15 ended. Evaluation done at random point.\n",
      "Time taken: 419.2726\n",
      "Function value obtained: -0.0222\n",
      "Current minimum: -0.0224\n",
      "Iteration No: 16 started. Evaluating function at random point.\n",
      "SearchBayesianSkopt: Testing config: {'l1_ratio': 0.00033120268926618124, 'topK': 5551, 'alpha': 1.0131822359223412e-05, 'workers': 6}\n"
     ]
    },
    {
     "name": "stderr",
     "output_type": "stream",
     "text": [
      "100%|█████████▉| 24504/24507 [16:02<00:00, 25.46it/s] \n"
     ]
    },
    {
     "name": "stdout",
     "output_type": "stream",
     "text": [
      "EvaluatorHoldout: Processed 40932 (100.0%) in 34.67 sec. Users per second: 1181\n",
      "SearchBayesianSkopt: Config 159 is suboptimal. Config: {'l1_ratio': 0.00033120268926618124, 'topK': 5551, 'alpha': 1.0131822359223412e-05, 'workers': 6} - results: PRECISION: 0.0434794, PRECISION_RECALL_MIN_DEN: 0.0672155, RECALL: 0.0617770, MAP: 0.0202501, MAP_MIN_DEN: 0.0313075, MRR: 0.1413700, NDCG: 0.0657388, F1: 0.0510378, HIT_RATE: 0.2994723, ARHR_ALL_HITS: 0.1683755, NOVELTY: 0.0044553, AVERAGE_POPULARITY: 0.1867837, DIVERSITY_MEAN_INTER_LIST: 0.9509069, DIVERSITY_HERFINDAHL: 0.9950884, COVERAGE_ITEM: 0.4917779, COVERAGE_ITEM_HIT: 0.0583915, ITEMS_IN_GT: 0.9953891, COVERAGE_USER: 0.9832569, COVERAGE_USER_HIT: 0.2944582, USERS_IN_GT: 0.9832569, DIVERSITY_GINI: 0.0503116, SHANNON_ENTROPY: 9.7313942, RATIO_DIVERSITY_HERFINDAHL: 0.9953976, RATIO_DIVERSITY_GINI: 0.0964166, RATIO_SHANNON_ENTROPY: 0.7181838, RATIO_AVERAGE_POPULARITY: 3.6575955, RATIO_NOVELTY: 0.3244234, \n",
      "\n"
     ]
    },
    {
     "name": "stderr",
     "output_type": "stream",
     "text": [
      "  0%|          | 0/24507 [00:00<?, ?it/s]"
     ]
    },
    {
     "name": "stdout",
     "output_type": "stream",
     "text": [
      "Iteration No: 16 ended. Evaluation done at random point.\n",
      "Time taken: 1336.4387\n",
      "Function value obtained: -0.0203\n",
      "Current minimum: -0.0224\n",
      "Iteration No: 17 started. Evaluating function at random point.\n",
      "SearchBayesianSkopt: Testing config: {'l1_ratio': 0.09907326137108415, 'topK': 5952, 'alpha': 0.021300578311250935, 'workers': 6}\n"
     ]
    },
    {
     "name": "stderr",
     "output_type": "stream",
     "text": [
      "100%|█████████▉| 24504/24507 [02:49<00:00, 144.60it/s]\n"
     ]
    },
    {
     "name": "stdout",
     "output_type": "stream",
     "text": [
      "EvaluatorHoldout: Processed 40932 (100.0%) in 23.98 sec. Users per second: 1707\n",
      "SearchBayesianSkopt: Config 160 is suboptimal. Config: {'l1_ratio': 0.09907326137108415, 'topK': 5952, 'alpha': 0.021300578311250935, 'workers': 6} - results: PRECISION: 0.0317087, PRECISION_RECALL_MIN_DEN: 0.0502339, RECALL: 0.0464018, MAP: 0.0147415, MAP_MIN_DEN: 0.0235404, MRR: 0.1118798, NDCG: 0.0497962, F1: 0.0376733, HIT_RATE: 0.2363676, ARHR_ALL_HITS: 0.1279380, NOVELTY: 0.0044475, AVERAGE_POPULARITY: 0.2549852, DIVERSITY_MEAN_INTER_LIST: 0.8235979, DIVERSITY_HERFINDAHL: 0.9823578, COVERAGE_ITEM: 0.0093035, COVERAGE_ITEM_HIT: 0.0072224, ITEMS_IN_GT: 0.9953891, COVERAGE_USER: 0.9832569, COVERAGE_USER_HIT: 0.2324101, USERS_IN_GT: 0.9832569, DIVERSITY_GINI: 0.0025760, SHANNON_ENTROPY: 6.3717553, RATIO_DIVERSITY_HERFINDAHL: 0.9826631, RATIO_DIVERSITY_GINI: 0.0049367, RATIO_SHANNON_ENTROPY: 0.4702400, RATIO_AVERAGE_POPULARITY: 4.9931174, RATIO_NOVELTY: 0.3238541, \n",
      "\n"
     ]
    },
    {
     "name": "stderr",
     "output_type": "stream",
     "text": [
      "  0%|          | 0/24507 [00:00<?, ?it/s]"
     ]
    },
    {
     "name": "stdout",
     "output_type": "stream",
     "text": [
      "Iteration No: 17 ended. Evaluation done at random point.\n",
      "Time taken: 195.1855\n",
      "Function value obtained: -0.0147\n",
      "Current minimum: -0.0224\n",
      "Iteration No: 18 started. Evaluating function at random point.\n",
      "SearchBayesianSkopt: Testing config: {'l1_ratio': 0.0007780597203547461, 'topK': 200, 'alpha': 0.0008736554878449332, 'workers': 6}\n"
     ]
    },
    {
     "name": "stderr",
     "output_type": "stream",
     "text": [
      "100%|█████████▉| 24504/24507 [26:25<00:00, 15.46it/s]\n",
      "100%|█████████▉| 24504/24507 [09:37<00:00, 70.07it/s]"
     ]
    },
    {
     "name": "stdout",
     "output_type": "stream",
     "text": [
      "EvaluatorHoldout: Processed 40932 (100.0%) in 29.20 sec. Users per second: 1402\n",
      "SearchBayesianSkopt: Config 161 is suboptimal. Config: {'l1_ratio': 0.0007780597203547461, 'topK': 200, 'alpha': 0.0008736554878449332, 'workers': 6} - results: PRECISION: 0.0456318, PRECISION_RECALL_MIN_DEN: 0.0716062, RECALL: 0.0660524, MAP: 0.0209762, MAP_MIN_DEN: 0.0329997, MRR: 0.1472499, NDCG: 0.0692249, F1: 0.0539752, HIT_RATE: 0.3155233, ARHR_ALL_HITS: 0.1749290, NOVELTY: 0.0045532, AVERAGE_POPULARITY: 0.1449747, DIVERSITY_MEAN_INTER_LIST: 0.9715946, DIVERSITY_HERFINDAHL: 0.9971571, COVERAGE_ITEM: 0.3698127, COVERAGE_ITEM_HIT: 0.0623087, ITEMS_IN_GT: 0.9953891, COVERAGE_USER: 0.9832569, COVERAGE_USER_HIT: 0.3102405, USERS_IN_GT: 0.9832569, DIVERSITY_GINI: 0.0394129, SHANNON_ENTROPY: 9.8891815, RATIO_DIVERSITY_HERFINDAHL: 0.9974670, RATIO_DIVERSITY_GINI: 0.0755303, RATIO_SHANNON_ENTROPY: 0.7298286, RATIO_AVERAGE_POPULARITY: 2.8388939, RATIO_NOVELTY: 0.3315523, \n",
      "\n"
     ]
    },
    {
     "name": "stderr",
     "output_type": "stream",
     "text": []
    },
    {
     "name": "stdout",
     "output_type": "stream",
     "text": [
      "Iteration No: 18 ended. Evaluation done at random point.\n",
      "Time taken: 593.6710\n",
      "Function value obtained: -0.0210\n",
      "Current minimum: -0.0224\n",
      "Iteration No: 19 started. Evaluating function at random point.\n",
      "SearchBayesianSkopt: Testing config: {'l1_ratio': 0.001239657296717668, 'topK': 5983, 'alpha': 2.92293232499679e-05, 'workers': 6}\n"
     ]
    },
    {
     "name": "stderr",
     "output_type": "stream",
     "text": [
      "100%|█████████▉| 24504/24507 [10:31<00:00, 38.78it/s]\n"
     ]
    },
    {
     "name": "stdout",
     "output_type": "stream",
     "text": [
      "EvaluatorHoldout: Processed 40932 (100.0%) in 40.65 sec. Users per second: 1007\n",
      "SearchBayesianSkopt: Config 162 is suboptimal. Config: {'l1_ratio': 0.001239657296717668, 'topK': 5983, 'alpha': 2.92293232499679e-05, 'workers': 6} - results: PRECISION: 0.0438483, PRECISION_RECALL_MIN_DEN: 0.0679433, RECALL: 0.0624938, MAP: 0.0204013, MAP_MIN_DEN: 0.0316020, MRR: 0.1423985, NDCG: 0.0663361, F1: 0.0515365, HIT_RATE: 0.3020864, ARHR_ALL_HITS: 0.1696358, NOVELTY: 0.0044461, AVERAGE_POPULARITY: 0.1881908, DIVERSITY_MEAN_INTER_LIST: 0.9500308, DIVERSITY_HERFINDAHL: 0.9950008, COVERAGE_ITEM: 0.4799445, COVERAGE_ITEM_HIT: 0.0585547, ITEMS_IN_GT: 0.9953891, COVERAGE_USER: 0.9832569, COVERAGE_USER_HIT: 0.2970285, USERS_IN_GT: 0.9832569, DIVERSITY_GINI: 0.0482507, SHANNON_ENTROPY: 9.6889051, RATIO_DIVERSITY_HERFINDAHL: 0.9953100, RATIO_DIVERSITY_GINI: 0.0924671, RATIO_SHANNON_ENTROPY: 0.7150480, RATIO_AVERAGE_POPULARITY: 3.6851494, RATIO_NOVELTY: 0.3237527, \n",
      "\n"
     ]
    },
    {
     "name": "stderr",
     "output_type": "stream",
     "text": [
      "100%|█████████▉| 24504/24507 [12:56<00:00, 31.54it/s]\n",
      "  0%|          | 0/24507 [00:00<?, ?it/s]"
     ]
    },
    {
     "name": "stdout",
     "output_type": "stream",
     "text": [
      "Iteration No: 19 ended. Evaluation done at random point.\n",
      "Time taken: 779.3473\n",
      "Function value obtained: -0.0204\n",
      "Current minimum: -0.0224\n",
      "Iteration No: 20 started. Evaluating function at random point.\n",
      "SearchBayesianSkopt: Testing config: {'l1_ratio': 0.002346973350961298, 'topK': 1146, 'alpha': 0.0017297631522855217, 'workers': 6}\n"
     ]
    },
    {
     "name": "stderr",
     "output_type": "stream",
     "text": [
      "100%|█████████▉| 24504/24507 [14:08<00:00, 45.47it/s]"
     ]
    },
    {
     "name": "stdout",
     "output_type": "stream",
     "text": [
      "EvaluatorHoldout: Processed 40932 (100.0%) in 49.08 sec. Users per second: 834\n",
      "SearchBayesianSkopt: Config 163 is suboptimal. Config: {'l1_ratio': 0.002346973350961298, 'topK': 1146, 'alpha': 0.0017297631522855217, 'workers': 6} - results: PRECISION: 0.0485855, PRECISION_RECALL_MIN_DEN: 0.0774478, RECALL: 0.0717947, MAP: 0.0223367, MAP_MIN_DEN: 0.0354336, MRR: 0.1554958, NDCG: 0.0740515, F1: 0.0579527, HIT_RATE: 0.3337487, ARHR_ALL_HITS: 0.1854885, NOVELTY: 0.0043267, AVERAGE_POPULARITY: 0.1991216, DIVERSITY_MEAN_INTER_LIST: 0.9431080, DIVERSITY_HERFINDAHL: 0.9943085, COVERAGE_ITEM: 0.2364222, COVERAGE_ITEM_HIT: 0.0532093, ITEMS_IN_GT: 0.9953891, COVERAGE_USER: 0.9832569, COVERAGE_USER_HIT: 0.3281607, USERS_IN_GT: 0.9832569, DIVERSITY_GINI: 0.0232176, SHANNON_ENTROPY: 9.0618891, RATIO_DIVERSITY_HERFINDAHL: 0.9946175, RATIO_DIVERSITY_GINI: 0.0444939, RATIO_SHANNON_ENTROPY: 0.6687738, RATIO_AVERAGE_POPULARITY: 3.8991975, RATIO_NOVELTY: 0.3150578, \n",
      "\n"
     ]
    },
    {
     "name": "stderr",
     "output_type": "stream",
     "text": [
      "100%|█████████▉| 24504/24507 [14:58<00:00, 27.28it/s]\n",
      "  0%|          | 0/24507 [00:00<?, ?it/s]"
     ]
    },
    {
     "name": "stdout",
     "output_type": "stream",
     "text": [
      "Iteration No: 20 ended. Evaluation done at random point.\n",
      "Time taken: 900.7997\n",
      "Function value obtained: -0.0223\n",
      "Current minimum: -0.0224\n",
      "Iteration No: 21 started. Evaluating function at random point.\n",
      "SearchBayesianSkopt: Testing config: {'l1_ratio': 1.1718033604768714e-05, 'topK': 1881, 'alpha': 0.0928721088195708, 'workers': 6}\n"
     ]
    },
    {
     "name": "stderr",
     "output_type": "stream",
     "text": [
      "100%|█████████▉| 24504/24507 [15:30<00:00, 45.03it/s]"
     ]
    },
    {
     "name": "stdout",
     "output_type": "stream",
     "text": [
      "EvaluatorHoldout: Processed 40932 (100.0%) in 55.65 sec. Users per second: 736\n",
      "SearchBayesianSkopt: Config 164 is suboptimal. Config: {'l1_ratio': 1.1718033604768714e-05, 'topK': 1881, 'alpha': 0.0928721088195708, 'workers': 6} - results: PRECISION: 0.0404964, PRECISION_RECALL_MIN_DEN: 0.0660064, RECALL: 0.0613911, MAP: 0.0179156, MAP_MIN_DEN: 0.0289930, MRR: 0.1318943, NDCG: 0.0620286, F1: 0.0488013, HIT_RATE: 0.2956367, ARHR_ALL_HITS: 0.1530482, NOVELTY: 0.0039108, AVERAGE_POPULARITY: 0.3141836, DIVERSITY_MEAN_INTER_LIST: 0.8222469, DIVERSITY_HERFINDAHL: 0.9822227, COVERAGE_ITEM: 0.1360020, COVERAGE_ITEM_HIT: 0.0216265, ITEMS_IN_GT: 0.9953891, COVERAGE_USER: 0.9832569, COVERAGE_USER_HIT: 0.2906868, USERS_IN_GT: 0.9832569, DIVERSITY_GINI: 0.0067364, SHANNON_ENTROPY: 7.1293301, RATIO_DIVERSITY_HERFINDAHL: 0.9825280, RATIO_DIVERSITY_GINI: 0.0129096, RATIO_SHANNON_ENTROPY: 0.5261496, RATIO_AVERAGE_POPULARITY: 6.1523402, RATIO_NOVELTY: 0.2847740, \n",
      "\n"
     ]
    },
    {
     "name": "stderr",
     "output_type": "stream",
     "text": [
      "100%|█████████▉| 24504/24507 [16:43<00:00, 24.42it/s]\n",
      "  0%|          | 0/24507 [00:00<?, ?it/s]"
     ]
    },
    {
     "name": "stdout",
     "output_type": "stream",
     "text": [
      "Iteration No: 21 ended. Evaluation done at random point.\n",
      "Time taken: 1005.7527\n",
      "Function value obtained: -0.0179\n",
      "Current minimum: -0.0224\n",
      "Iteration No: 22 started. Evaluating function at random point.\n",
      "SearchBayesianSkopt: Testing config: {'l1_ratio': 0.00022420469957651825, 'topK': 1305, 'alpha': 0.0016455029467502954, 'workers': 6}\n"
     ]
    },
    {
     "name": "stderr",
     "output_type": "stream",
     "text": [
      "100%|█████████▉| 24504/24507 [14:14<00:00, 42.90it/s]"
     ]
    },
    {
     "name": "stdout",
     "output_type": "stream",
     "text": [
      "EvaluatorHoldout: Processed 40932 (100.0%) in 45.57 sec. Users per second: 898\n",
      "SearchBayesianSkopt: Config 165 is suboptimal. Config: {'l1_ratio': 0.00022420469957651825, 'topK': 1305, 'alpha': 0.0016455029467502954, 'workers': 6} - results: PRECISION: 0.0485171, PRECISION_RECALL_MIN_DEN: 0.0772287, RECALL: 0.0715694, MAP: 0.0223197, MAP_MIN_DEN: 0.0354049, MRR: 0.1553207, NDCG: 0.0739425, F1: 0.0578306, HIT_RATE: 0.3332112, ARHR_ALL_HITS: 0.1853081, NOVELTY: 0.0043210, AVERAGE_POPULARITY: 0.2007935, DIVERSITY_MEAN_INTER_LIST: 0.9419941, DIVERSITY_HERFINDAHL: 0.9941971, COVERAGE_ITEM: 0.2385033, COVERAGE_ITEM_HIT: 0.0534133, ITEMS_IN_GT: 0.9953891, COVERAGE_USER: 0.9832569, COVERAGE_USER_HIT: 0.3276322, USERS_IN_GT: 0.9832569, DIVERSITY_GINI: 0.0230255, SHANNON_ENTROPY: 9.0446231, RATIO_DIVERSITY_HERFINDAHL: 0.9945061, RATIO_DIVERSITY_GINI: 0.0441258, RATIO_SHANNON_ENTROPY: 0.6674996, RATIO_AVERAGE_POPULARITY: 3.9319363, RATIO_NOVELTY: 0.3146461, \n",
      "\n"
     ]
    },
    {
     "name": "stderr",
     "output_type": "stream",
     "text": []
    },
    {
     "name": "stdout",
     "output_type": "stream",
     "text": [
      "Iteration No: 22 ended. Evaluation done at random point.\n",
      "Time taken: 900.4444\n",
      "Function value obtained: -0.0223\n",
      "Current minimum: -0.0224\n",
      "Iteration No: 23 started. Evaluating function at random point.\n",
      "SearchBayesianSkopt: Testing config: {'l1_ratio': 1.0078604711669774e-05, 'topK': 926, 'alpha': 1.0668895975647872e-05, 'workers': 6}\n"
     ]
    },
    {
     "name": "stderr",
     "output_type": "stream",
     "text": [
      "100%|█████████▉| 24504/24507 [17:04<00:00, 23.92it/s]\n"
     ]
    },
    {
     "name": "stdout",
     "output_type": "stream",
     "text": [
      "EvaluatorHoldout: Processed 40932 (100.0%) in 46.72 sec. Users per second: 876\n",
      "SearchBayesianSkopt: Config 166 is suboptimal. Config: {'l1_ratio': 1.0078604711669774e-05, 'topK': 926, 'alpha': 1.0668895975647872e-05, 'workers': 6} - results: PRECISION: 0.0419061, PRECISION_RECALL_MIN_DEN: 0.0642635, RECALL: 0.0588668, MAP: 0.0195157, MAP_MIN_DEN: 0.0300245, MRR: 0.1369501, NDCG: 0.0631898, F1: 0.0489591, HIT_RATE: 0.2890404, ARHR_ALL_HITS: 0.1626734, NOVELTY: 0.0045557, AVERAGE_POPULARITY: 0.1538820, DIVERSITY_MEAN_INTER_LIST: 0.9690034, DIVERSITY_HERFINDAHL: 0.9968980, COVERAGE_ITEM: 0.5103440, COVERAGE_ITEM_HIT: 0.0613702, ITEMS_IN_GT: 0.9953891, COVERAGE_USER: 0.9832569, COVERAGE_USER_HIT: 0.2842009, USERS_IN_GT: 0.9832569, DIVERSITY_GINI: 0.0565881, SHANNON_ENTROPY: 10.0832810, RATIO_DIVERSITY_HERFINDAHL: 0.9972078, RATIO_DIVERSITY_GINI: 0.1084448, RATIO_SHANNON_ENTROPY: 0.7441532, RATIO_AVERAGE_POPULARITY: 3.0133152, RATIO_NOVELTY: 0.3317303, \n",
      "\n"
     ]
    },
    {
     "name": "stderr",
     "output_type": "stream",
     "text": [
      "100%|█████████▉| 24504/24507 [1:21:44<00:00,  5.00it/s]\n"
     ]
    },
    {
     "name": "stdout",
     "output_type": "stream",
     "text": [
      "Iteration No: 23 ended. Evaluation done at random point.\n",
      "Time taken: 4907.4132\n",
      "Function value obtained: -0.0195\n",
      "Current minimum: -0.0224\n",
      "Iteration No: 24 started. Evaluating function at random point.\n",
      "SearchBayesianSkopt: Testing config: {'l1_ratio': 0.006487860231628035, 'topK': 2511, 'alpha': 0.002251767233677772, 'workers': 6}\n"
     ]
    },
    {
     "name": "stderr",
     "output_type": "stream",
     "text": [
      "100%|█████████▉| 24504/24507 [12:13<00:00, 48.76it/s]"
     ]
    },
    {
     "name": "stdout",
     "output_type": "stream",
     "text": [
      "EvaluatorHoldout: Processed 40932 (100.0%) in 43.62 sec. Users per second: 938\n",
      "SearchBayesianSkopt: Config 167 is suboptimal. Config: {'l1_ratio': 0.006487860231628035, 'topK': 2511, 'alpha': 0.002251767233677772, 'workers': 6} - results: PRECISION: 0.0486148, PRECISION_RECALL_MIN_DEN: 0.0777976, RECALL: 0.0722105, MAP: 0.0223532, MAP_MIN_DEN: 0.0355992, MRR: 0.1562055, NDCG: 0.0743486, F1: 0.0581087, HIT_RATE: 0.3346526, ARHR_ALL_HITS: 0.1860082, NOVELTY: 0.0042900, AVERAGE_POPULARITY: 0.2121726, DIVERSITY_MEAN_INTER_LIST: 0.9331496, DIVERSITY_HERFINDAHL: 0.9933127, COVERAGE_ITEM: 0.2359326, COVERAGE_ITEM_HIT: 0.0499449, ITEMS_IN_GT: 0.9953891, COVERAGE_USER: 0.9832569, COVERAGE_USER_HIT: 0.3290495, USERS_IN_GT: 0.9832569, DIVERSITY_GINI: 0.0219245, SHANNON_ENTROPY: 8.9190417, RATIO_DIVERSITY_HERFINDAHL: 0.9936214, RATIO_DIVERSITY_GINI: 0.0420158, RATIO_SHANNON_ENTROPY: 0.6582316, RATIO_AVERAGE_POPULARITY: 4.1547610, RATIO_NOVELTY: 0.3123853, \n",
      "\n"
     ]
    },
    {
     "name": "stderr",
     "output_type": "stream",
     "text": [
      "100%|█████████▉| 24504/24507 [12:55<00:00, 31.60it/s]\n",
      "  0%|          | 0/24507 [00:00<?, ?it/s]"
     ]
    },
    {
     "name": "stdout",
     "output_type": "stream",
     "text": [
      "Iteration No: 24 ended. Evaluation done at random point.\n",
      "Time taken: 779.3501\n",
      "Function value obtained: -0.0224\n",
      "Current minimum: -0.0224\n",
      "Iteration No: 25 started. Evaluating function at random point.\n",
      "SearchBayesianSkopt: Testing config: {'l1_ratio': 0.0003796493158557941, 'topK': 4701, 'alpha': 0.0017675681520383985, 'workers': 6}\n"
     ]
    },
    {
     "name": "stderr",
     "output_type": "stream",
     "text": [
      "100%|█████████▉| 24504/24507 [12:50<00:00, 45.33it/s]"
     ]
    },
    {
     "name": "stdout",
     "output_type": "stream",
     "text": [
      "EvaluatorHoldout: Processed 40932 (100.0%) in 46.30 sec. Users per second: 884\n",
      "SearchBayesianSkopt: Config 168 is suboptimal. Config: {'l1_ratio': 0.0003796493158557941, 'topK': 4701, 'alpha': 0.0017675681520383985, 'workers': 6} - results: PRECISION: 0.0486050, PRECISION_RECALL_MIN_DEN: 0.0776395, RECALL: 0.0720141, MAP: 0.0223748, MAP_MIN_DEN: 0.0356076, MRR: 0.1560649, NDCG: 0.0743056, F1: 0.0580380, HIT_RATE: 0.3342128, ARHR_ALL_HITS: 0.1860523, NOVELTY: 0.0042815, AVERAGE_POPULARITY: 0.2142336, DIVERSITY_MEAN_INTER_LIST: 0.9318746, DIVERSITY_HERFINDAHL: 0.9931852, COVERAGE_ITEM: 0.2274452, COVERAGE_ITEM_HIT: 0.0519035, ITEMS_IN_GT: 0.9953891, COVERAGE_USER: 0.9832569, COVERAGE_USER_HIT: 0.3286171, USERS_IN_GT: 0.9832569, DIVERSITY_GINI: 0.0213856, SHANNON_ENTROPY: 8.8937304, RATIO_DIVERSITY_HERFINDAHL: 0.9934939, RATIO_DIVERSITY_GINI: 0.0409831, RATIO_SHANNON_ENTROPY: 0.6563636, RATIO_AVERAGE_POPULARITY: 4.1951206, RATIO_NOVELTY: 0.3117658, \n",
      "\n"
     ]
    },
    {
     "name": "stderr",
     "output_type": "stream",
     "text": [
      "100%|█████████▉| 24504/24507 [13:38<00:00, 29.93it/s]\n",
      "  0%|          | 0/24507 [00:00<?, ?it/s]"
     ]
    },
    {
     "name": "stdout",
     "output_type": "stream",
     "text": [
      "Iteration No: 25 ended. Evaluation done at random point.\n",
      "Time taken: 821.1067\n",
      "Function value obtained: -0.0224\n",
      "Current minimum: -0.0224\n",
      "Iteration No: 26 started. Evaluating function at random point.\n",
      "SearchBayesianSkopt: Testing config: {'l1_ratio': 1.0100941965941032e-05, 'topK': 237, 'alpha': 5.523652723313406e-05, 'workers': 6}\n"
     ]
    },
    {
     "name": "stderr",
     "output_type": "stream",
     "text": [
      "100%|█████████▉| 24504/24507 [1:12:53<00:00,  9.30it/s]"
     ]
    },
    {
     "name": "stdout",
     "output_type": "stream",
     "text": [
      "EvaluatorHoldout: Processed 40932 (100.0%) in 32.44 sec. Users per second: 1262\n",
      "SearchBayesianSkopt: Config 169 is suboptimal. Config: {'l1_ratio': 1.0100941965941032e-05, 'topK': 237, 'alpha': 5.523652723313406e-05, 'workers': 6} - results: PRECISION: 0.0361526, PRECISION_RECALL_MIN_DEN: 0.0550221, RECALL: 0.0501702, MAP: 0.0171035, MAP_MIN_DEN: 0.0263153, MRR: 0.1243668, NDCG: 0.0554302, F1: 0.0420233, HIT_RATE: 0.2571338, ARHR_ALL_HITS: 0.1451917, NOVELTY: 0.0047880, AVERAGE_POPULARITY: 0.1072957, DIVERSITY_MEAN_INTER_LIST: 0.9842654, DIVERSITY_HERFINDAHL: 0.9984241, COVERAGE_ITEM: 0.5866895, COVERAGE_ITEM_HIT: 0.0701432, ITEMS_IN_GT: 0.9953891, COVERAGE_USER: 0.9832569, COVERAGE_USER_HIT: 0.2528286, USERS_IN_GT: 0.9832569, DIVERSITY_GINI: 0.0814722, SHANNON_ENTROPY: 10.8319058, RATIO_DIVERSITY_HERFINDAHL: 0.9987345, RATIO_DIVERSITY_GINI: 0.1561323, RATIO_SHANNON_ENTROPY: 0.7994023, RATIO_AVERAGE_POPULARITY: 2.1010628, RATIO_NOVELTY: 0.3486472, \n",
      "\n"
     ]
    },
    {
     "name": "stderr",
     "output_type": "stream",
     "text": [
      "100%|█████████▉| 24504/24507 [1:13:13<00:00,  5.58it/s]\n"
     ]
    },
    {
     "name": "stdout",
     "output_type": "stream",
     "text": [
      "Iteration No: 26 ended. Evaluation done at random point.\n",
      "Time taken: 4396.2432\n",
      "Function value obtained: -0.0171\n",
      "Current minimum: -0.0224\n",
      "Iteration No: 27 started. Evaluating function at random point.\n",
      "SearchBayesianSkopt: Testing config: {'l1_ratio': 1.2430609478599564e-05, 'topK': 2493, 'alpha': 0.00023958976425902405, 'workers': 6}\n"
     ]
    },
    {
     "name": "stderr",
     "output_type": "stream",
     "text": [
      "100%|█████████▉| 24504/24507 [33:18<00:00, 19.76it/s]"
     ]
    },
    {
     "name": "stdout",
     "output_type": "stream",
     "text": [
      "EvaluatorHoldout: Processed 40932 (100.0%) in 37.19 sec. Users per second: 1101\n",
      "SearchBayesianSkopt: Config 170 is suboptimal. Config: {'l1_ratio': 1.2430609478599564e-05, 'topK': 2493, 'alpha': 0.00023958976425902405, 'workers': 6} - results: PRECISION: 0.0460960, PRECISION_RECALL_MIN_DEN: 0.0723190, RECALL: 0.0667607, MAP: 0.0214378, MAP_MIN_DEN: 0.0336225, MRR: 0.1494894, NDCG: 0.0702175, F1: 0.0545364, HIT_RATE: 0.3168914, ARHR_ALL_HITS: 0.1782298, NOVELTY: 0.0043847, AVERAGE_POPULARITY: 0.1981804, DIVERSITY_MEAN_INTER_LIST: 0.9433933, DIVERSITY_HERFINDAHL: 0.9943370, COVERAGE_ITEM: 0.3891541, COVERAGE_ITEM_HIT: 0.0577794, ITEMS_IN_GT: 0.9953891, COVERAGE_USER: 0.9832569, COVERAGE_USER_HIT: 0.3115857, USERS_IN_GT: 0.9832569, DIVERSITY_GINI: 0.0357482, SHANNON_ENTROPY: 9.3951274, RATIO_DIVERSITY_HERFINDAHL: 0.9946461, RATIO_DIVERSITY_GINI: 0.0685075, RATIO_SHANNON_ENTROPY: 0.6933670, RATIO_AVERAGE_POPULARITY: 3.8807668, RATIO_NOVELTY: 0.3192801, \n",
      "\n"
     ]
    },
    {
     "name": "stderr",
     "output_type": "stream",
     "text": []
    },
    {
     "name": "stdout",
     "output_type": "stream",
     "text": [
      "Iteration No: 27 ended. Evaluation done at random point.\n",
      "Time taken: 2031.9982\n",
      "Function value obtained: -0.0214\n",
      "Current minimum: -0.0224\n",
      "Iteration No: 28 started. Evaluating function at random point.\n",
      "SearchBayesianSkopt: Testing config: {'l1_ratio': 0.003181101887028224, 'topK': 845, 'alpha': 0.0004622589591650964, 'workers': 6}\n"
     ]
    },
    {
     "name": "stderr",
     "output_type": "stream",
     "text": [
      "100%|█████████▉| 24504/24507 [34:41<00:00, 11.77it/s]\n"
     ]
    },
    {
     "name": "stdout",
     "output_type": "stream",
     "text": [
      "EvaluatorHoldout: Processed 40932 (100.0%) in 38.10 sec. Users per second: 1074\n",
      "SearchBayesianSkopt: Config 171 is suboptimal. Config: {'l1_ratio': 0.003181101887028224, 'topK': 845, 'alpha': 0.0004622589591650964, 'workers': 6} - results: PRECISION: 0.0464820, PRECISION_RECALL_MIN_DEN: 0.0729692, RECALL: 0.0673109, MAP: 0.0215348, MAP_MIN_DEN: 0.0337792, MRR: 0.1498516, NDCG: 0.0706141, F1: 0.0549901, HIT_RATE: 0.3185527, ARHR_ALL_HITS: 0.1788049, NOVELTY: 0.0044554, AVERAGE_POPULARITY: 0.1700711, DIVERSITY_MEAN_INTER_LIST: 0.9607758, DIVERSITY_HERFINDAHL: 0.9960752, COVERAGE_ITEM: 0.3489615, COVERAGE_ITEM_HIT: 0.0603909, ITEMS_IN_GT: 0.9953891, COVERAGE_USER: 0.9832569, COVERAGE_USER_HIT: 0.3132192, USERS_IN_GT: 0.9832569, DIVERSITY_GINI: 0.0349123, SHANNON_ENTROPY: 9.6010203, RATIO_DIVERSITY_HERFINDAHL: 0.9963848, RATIO_DIVERSITY_GINI: 0.0669054, RATIO_SHANNON_ENTROPY: 0.7085621, RATIO_AVERAGE_POPULARITY: 3.3303311, RATIO_NOVELTY: 0.3244295, \n",
      "\n"
     ]
    },
    {
     "name": "stderr",
     "output_type": "stream",
     "text": [
      "100%|█████████▉| 24504/24507 [12:39<00:00, 32.26it/s]\n",
      "  0%|          | 0/24507 [00:00<?, ?it/s]"
     ]
    },
    {
     "name": "stdout",
     "output_type": "stream",
     "text": [
      "Iteration No: 28 ended. Evaluation done at random point.\n",
      "Time taken: 761.8717\n",
      "Function value obtained: -0.0215\n",
      "Current minimum: -0.0224\n",
      "Iteration No: 29 started. Evaluating function at random point.\n",
      "SearchBayesianSkopt: Testing config: {'l1_ratio': 0.00019453527396349408, 'topK': 4637, 'alpha': 0.004559064049070142, 'workers': 6}\n"
     ]
    },
    {
     "name": "stderr",
     "output_type": "stream",
     "text": [
      "100%|█████████▉| 24504/24507 [14:16<00:00, 45.49it/s]"
     ]
    },
    {
     "name": "stdout",
     "output_type": "stream",
     "text": [
      "EvaluatorHoldout: Processed 40932 (100.0%) in 49.97 sec. Users per second: 819\n",
      "SearchBayesianSkopt: Config 172 is suboptimal. Config: {'l1_ratio': 0.00019453527396349408, 'topK': 4637, 'alpha': 0.004559064049070142, 'workers': 6} - results: PRECISION: 0.0481897, PRECISION_RECALL_MIN_DEN: 0.0773886, RECALL: 0.0718995, MAP: 0.0220673, MAP_MIN_DEN: 0.0352432, MRR: 0.1548305, NDCG: 0.0737415, F1: 0.0577040, HIT_RATE: 0.3333089, ARHR_ALL_HITS: 0.1839680, NOVELTY: 0.0042079, AVERAGE_POPULARITY: 0.2272126, DIVERSITY_MEAN_INTER_LIST: 0.9220485, DIVERSITY_HERFINDAHL: 0.9922026, COVERAGE_ITEM: 0.1894969, COVERAGE_ITEM_HIT: 0.0440690, ITEMS_IN_GT: 0.9953891, COVERAGE_USER: 0.9832569, COVERAGE_USER_HIT: 0.3277283, USERS_IN_GT: 0.9832569, DIVERSITY_GINI: 0.0165124, SHANNON_ENTROPY: 8.5703586, RATIO_DIVERSITY_HERFINDAHL: 0.9925110, RATIO_DIVERSITY_GINI: 0.0316442, RATIO_SHANNON_ENTROPY: 0.6324985, RATIO_AVERAGE_POPULARITY: 4.4492740, RATIO_NOVELTY: 0.3064092, \n",
      "\n"
     ]
    },
    {
     "name": "stderr",
     "output_type": "stream",
     "text": [
      "100%|█████████▉| 24504/24507 [15:27<00:00, 26.42it/s]\n",
      "  0%|          | 0/24507 [00:00<?, ?it/s]"
     ]
    },
    {
     "name": "stdout",
     "output_type": "stream",
     "text": [
      "Iteration No: 29 ended. Evaluation done at random point.\n",
      "Time taken: 929.9677\n",
      "Function value obtained: -0.0221\n",
      "Current minimum: -0.0224\n",
      "Iteration No: 30 started. Evaluating function at random point.\n",
      "SearchBayesianSkopt: Testing config: {'l1_ratio': 0.0001786656788403609, 'topK': 3887, 'alpha': 0.0015859611002554746, 'workers': 6}\n"
     ]
    },
    {
     "name": "stderr",
     "output_type": "stream",
     "text": [
      "100%|█████████▉| 24504/24507 [12:38<00:00, 44.22it/s]"
     ]
    },
    {
     "name": "stdout",
     "output_type": "stream",
     "text": [
      "EvaluatorHoldout: Processed 40932 (100.0%) in 43.57 sec. Users per second: 939\n",
      "SearchBayesianSkopt: Config 173 is suboptimal. Config: {'l1_ratio': 0.0001786656788403609, 'topK': 3887, 'alpha': 0.0015859611002554746, 'workers': 6} - results: PRECISION: 0.0486050, PRECISION_RECALL_MIN_DEN: 0.0775727, RECALL: 0.0719391, MAP: 0.0223672, MAP_MIN_DEN: 0.0355614, MRR: 0.1559320, NDCG: 0.0742424, F1: 0.0580136, HIT_RATE: 0.3339685, ARHR_ALL_HITS: 0.1859439, NOVELTY: 0.0042876, AVERAGE_POPULARITY: 0.2133379, DIVERSITY_MEAN_INTER_LIST: 0.9325205, DIVERSITY_HERFINDAHL: 0.9932498, COVERAGE_ITEM: 0.2340964, COVERAGE_ITEM_HIT: 0.0524748, ITEMS_IN_GT: 0.9953891, COVERAGE_USER: 0.9832569, COVERAGE_USER_HIT: 0.3283769, USERS_IN_GT: 0.9832569, DIVERSITY_GINI: 0.0219502, SHANNON_ENTROPY: 8.9217161, RATIO_DIVERSITY_HERFINDAHL: 0.9935585, RATIO_DIVERSITY_GINI: 0.0420651, RATIO_SHANNON_ENTROPY: 0.6584289, RATIO_AVERAGE_POPULARITY: 4.1775801, RATIO_NOVELTY: 0.3122094, \n",
      "\n"
     ]
    },
    {
     "name": "stderr",
     "output_type": "stream",
     "text": [
      "100%|█████████▉| 24504/24507 [13:25<00:00, 30.44it/s]\n",
      "  0%|          | 0/24507 [00:00<?, ?it/s]"
     ]
    },
    {
     "name": "stdout",
     "output_type": "stream",
     "text": [
      "Iteration No: 30 ended. Evaluation done at random point.\n",
      "Time taken: 807.4212\n",
      "Function value obtained: -0.0224\n",
      "Current minimum: -0.0224\n",
      "Iteration No: 31 started. Evaluating function at random point.\n",
      "SearchBayesianSkopt: Testing config: {'l1_ratio': 0.03828367162350924, 'topK': 3993, 'alpha': 0.0009558692161370199, 'workers': 6}\n"
     ]
    },
    {
     "name": "stderr",
     "output_type": "stream",
     "text": [
      "100%|█████████▉| 24504/24507 [10:32<00:00, 50.46it/s]"
     ]
    },
    {
     "name": "stdout",
     "output_type": "stream",
     "text": [
      "EvaluatorHoldout: Processed 40932 (100.0%) in 37.04 sec. Users per second: 1105\n",
      "SearchBayesianSkopt: Config 174 is suboptimal. Config: {'l1_ratio': 0.03828367162350924, 'topK': 3993, 'alpha': 0.0009558692161370199, 'workers': 6} - results: PRECISION: 0.0486783, PRECISION_RECALL_MIN_DEN: 0.0774814, RECALL: 0.0718053, MAP: 0.0223278, MAP_MIN_DEN: 0.0353770, MRR: 0.1554055, NDCG: 0.0740483, F1: 0.0580222, HIT_RATE: 0.3343594, ARHR_ALL_HITS: 0.1854490, NOVELTY: 0.0043878, AVERAGE_POPULARITY: 0.1953074, DIVERSITY_MEAN_INTER_LIST: 0.9442981, DIVERSITY_HERFINDAHL: 0.9944275, COVERAGE_ITEM: 0.2814298, COVERAGE_ITEM_HIT: 0.0555352, ITEMS_IN_GT: 0.9953891, COVERAGE_USER: 0.9832569, COVERAGE_USER_HIT: 0.3287612, USERS_IN_GT: 0.9832569, DIVERSITY_GINI: 0.0298400, SHANNON_ENTROPY: 9.3112919, RATIO_DIVERSITY_HERFINDAHL: 0.9947366, RATIO_DIVERSITY_GINI: 0.0571851, RATIO_SHANNON_ENTROPY: 0.6871799, RATIO_AVERAGE_POPULARITY: 3.8245070, RATIO_NOVELTY: 0.3195097, \n",
      "\n"
     ]
    },
    {
     "name": "stderr",
     "output_type": "stream",
     "text": []
    },
    {
     "name": "stdout",
     "output_type": "stream",
     "text": [
      "Iteration No: 31 ended. Evaluation done at random point.\n",
      "Time taken: 664.4051\n",
      "Function value obtained: -0.0223\n",
      "Current minimum: -0.0224\n",
      "Iteration No: 32 started. Evaluating function at random point.\n",
      "SearchBayesianSkopt: Testing config: {'l1_ratio': 0.0021074159982072504, 'topK': 3185, 'alpha': 0.06391082822654771, 'workers': 6}\n"
     ]
    },
    {
     "name": "stderr",
     "output_type": "stream",
     "text": []
    },
    {
     "name": "stdout",
     "output_type": "stream",
     "text": [
      "EvaluatorHoldout: Processed 40932 (100.0%) in 31.84 sec. Users per second: 1286\n",
      "SearchBayesianSkopt: Config 175 is suboptimal. Config: {'l1_ratio': 0.0021074159982072504, 'topK': 3185, 'alpha': 0.06391082822654771, 'workers': 6} - results: PRECISION: 0.0410437, PRECISION_RECALL_MIN_DEN: 0.0668371, RECALL: 0.0621906, MAP: 0.0183083, MAP_MIN_DEN: 0.0295972, MRR: 0.1343029, NDCG: 0.0630735, F1: 0.0494512, HIT_RATE: 0.2982508, ARHR_ALL_HITS: 0.1561252, NOVELTY: 0.0039670, AVERAGE_POPULARITY: 0.2985696, DIVERSITY_MEAN_INTER_LIST: 0.8438371, DIVERSITY_HERFINDAHL: 0.9843816, COVERAGE_ITEM: 0.1090301, COVERAGE_ITEM_HIT: 0.0215857, ITEMS_IN_GT: 0.9953891, COVERAGE_USER: 0.9832569, COVERAGE_USER_HIT: 0.2932571, USERS_IN_GT: 0.9832569, DIVERSITY_GINI: 0.0071313, SHANNON_ENTROPY: 7.3265604, RATIO_DIVERSITY_HERFINDAHL: 0.9846876, RATIO_DIVERSITY_GINI: 0.0136663, RATIO_SHANNON_ENTROPY: 0.5407053, RATIO_AVERAGE_POPULARITY: 5.8465862, RATIO_NOVELTY: 0.2888661, \n",
      "\n"
     ]
    },
    {
     "name": "stderr",
     "output_type": "stream",
     "text": [
      "100%|█████████▉| 24504/24507 [16:00<00:00, 25.52it/s]\n",
      "100%|█████████▉| 24504/24507 [04:55<00:00, 82.81it/s] \n",
      "  0%|          | 0/24507 [00:00<?, ?it/s]"
     ]
    },
    {
     "name": "stdout",
     "output_type": "stream",
     "text": [
      "Iteration No: 32 ended. Evaluation done at random point.\n",
      "Time taken: 298.4838\n",
      "Function value obtained: -0.0183\n",
      "Current minimum: -0.0224\n",
      "Iteration No: 33 started. Evaluating function at random point.\n",
      "SearchBayesianSkopt: Testing config: {'l1_ratio': 0.04519654756564739, 'topK': 3022, 'alpha': 0.0018555861791415642, 'workers': 6}\n"
     ]
    },
    {
     "name": "stderr",
     "output_type": "stream",
     "text": [
      "100%|█████████▉| 24504/24507 [07:09<00:00, 95.60it/s]"
     ]
    },
    {
     "name": "stdout",
     "output_type": "stream",
     "text": [
      "EvaluatorHoldout: Processed 40932 (100.0%) in 33.37 sec. Users per second: 1227\n",
      "SearchBayesianSkopt: Config 176 is suboptimal. Config: {'l1_ratio': 0.04519654756564739, 'topK': 3022, 'alpha': 0.0018555861791415642, 'workers': 6} - results: PRECISION: 0.0480968, PRECISION_RECALL_MIN_DEN: 0.0769851, RECALL: 0.0714603, MAP: 0.0220988, MAP_MIN_DEN: 0.0351671, MRR: 0.1547101, NDCG: 0.0735531, F1: 0.0574958, HIT_RATE: 0.3324538, ARHR_ALL_HITS: 0.1840596, NOVELTY: 0.0043159, AVERAGE_POPULARITY: 0.2041923, DIVERSITY_MEAN_INTER_LIST: 0.9390168, DIVERSITY_HERFINDAHL: 0.9938994, COVERAGE_ITEM: 0.2480108, COVERAGE_ITEM_HIT: 0.0474558, ITEMS_IN_GT: 0.9953891, COVERAGE_USER: 0.9832569, COVERAGE_USER_HIT: 0.3268875, USERS_IN_GT: 0.9832569, DIVERSITY_GINI: 0.0233015, SHANNON_ENTROPY: 9.0161709, RATIO_DIVERSITY_HERFINDAHL: 0.9942083, RATIO_DIVERSITY_GINI: 0.0446547, RATIO_SHANNON_ENTROPY: 0.6653998, RATIO_AVERAGE_POPULARITY: 3.9984918, RATIO_NOVELTY: 0.3142751, \n",
      "\n"
     ]
    },
    {
     "name": "stderr",
     "output_type": "stream",
     "text": []
    },
    {
     "name": "stdout",
     "output_type": "stream",
     "text": [
      "Iteration No: 33 ended. Evaluation done at random point.\n",
      "Time taken: 454.5221\n",
      "Function value obtained: -0.0221\n",
      "Current minimum: -0.0224\n",
      "Iteration No: 34 started. Evaluating function at random point.\n",
      "SearchBayesianSkopt: Testing config: {'l1_ratio': 0.0006780279817144805, 'topK': 2668, 'alpha': 0.005274833251430933, 'workers': 6}\n"
     ]
    },
    {
     "name": "stderr",
     "output_type": "stream",
     "text": [
      "100%|█████████▉| 24504/24507 [17:46<00:00, 22.98it/s]\n"
     ]
    },
    {
     "name": "stdout",
     "output_type": "stream",
     "text": [
      "EvaluatorHoldout: Processed 40932 (100.0%) in 49.68 sec. Users per second: 824\n",
      "SearchBayesianSkopt: Config 177 is suboptimal. Config: {'l1_ratio': 0.0006780279817144805, 'topK': 2668, 'alpha': 0.005274833251430933, 'workers': 6} - results: PRECISION: 0.0482117, PRECISION_RECALL_MIN_DEN: 0.0774950, RECALL: 0.0720151, MAP: 0.0219770, MAP_MIN_DEN: 0.0351035, MRR: 0.1541925, NDCG: 0.0735997, F1: 0.0577570, HIT_RATE: 0.3341395, ARHR_ALL_HITS: 0.1832228, NOVELTY: 0.0042001, AVERAGE_POPULARITY: 0.2283316, DIVERSITY_MEAN_INTER_LIST: 0.9211752, DIVERSITY_HERFINDAHL: 0.9921153, COVERAGE_ITEM: 0.1876199, COVERAGE_ITEM_HIT: 0.0432529, ITEMS_IN_GT: 0.9953891, COVERAGE_USER: 0.9832569, COVERAGE_USER_HIT: 0.3285450, USERS_IN_GT: 0.9832569, DIVERSITY_GINI: 0.0160931, SHANNON_ENTROPY: 8.5339907, RATIO_DIVERSITY_HERFINDAHL: 0.9924236, RATIO_DIVERSITY_GINI: 0.0308405, RATIO_SHANNON_ENTROPY: 0.6298145, RATIO_AVERAGE_POPULARITY: 4.4711874, RATIO_NOVELTY: 0.3058386, \n",
      "\n"
     ]
    },
    {
     "name": "stderr",
     "output_type": "stream",
     "text": [
      "  0%|          | 0/24507 [00:00<?, ?it/s]"
     ]
    },
    {
     "name": "stdout",
     "output_type": "stream",
     "text": [
      "Iteration No: 34 ended. Evaluation done at random point.\n",
      "Time taken: 868.0286\n",
      "Function value obtained: -0.0220\n",
      "Current minimum: -0.0224\n",
      "Iteration No: 35 started. Evaluating function at random point.\n",
      "SearchBayesianSkopt: Testing config: {'l1_ratio': 1e-05, 'topK': 4877, 'alpha': 0.0014023653379701456, 'workers': 6}\n"
     ]
    },
    {
     "name": "stderr",
     "output_type": "stream",
     "text": [
      "100%|█████████▉| 24504/24507 [24:09<00:00, 16.90it/s]\n",
      "100%|█████████▉| 24504/24507 [16:17<00:00, 38.60it/s]"
     ]
    },
    {
     "name": "stdout",
     "output_type": "stream",
     "text": [
      "EvaluatorHoldout: Processed 40932 (100.0%) in 43.85 sec. Users per second: 934\n",
      "SearchBayesianSkopt: Config 178 is suboptimal. Config: {'l1_ratio': 1e-05, 'topK': 4877, 'alpha': 0.0014023653379701456, 'workers': 6} - results: PRECISION: 0.0485366, PRECISION_RECALL_MIN_DEN: 0.0773746, RECALL: 0.0717279, MAP: 0.0223357, MAP_MIN_DEN: 0.0354896, MRR: 0.1556233, NDCG: 0.0740900, F1: 0.0578962, HIT_RATE: 0.3334555, ARHR_ALL_HITS: 0.1856213, NOVELTY: 0.0042947, AVERAGE_POPULARITY: 0.2123168, DIVERSITY_MEAN_INTER_LIST: 0.9332430, DIVERSITY_HERFINDAHL: 0.9933220, COVERAGE_ITEM: 0.2416860, COVERAGE_ITEM_HIT: 0.0533317, ITEMS_IN_GT: 0.9953891, COVERAGE_USER: 0.9832569, COVERAGE_USER_HIT: 0.3278724, USERS_IN_GT: 0.9832569, DIVERSITY_GINI: 0.0226467, SHANNON_ENTROPY: 8.9551233, RATIO_DIVERSITY_HERFINDAHL: 0.9936308, RATIO_DIVERSITY_GINI: 0.0433998, RATIO_SHANNON_ENTROPY: 0.6608944, RATIO_AVERAGE_POPULARITY: 4.1575850, RATIO_NOVELTY: 0.3127300, \n",
      "\n"
     ]
    },
    {
     "name": "stderr",
     "output_type": "stream",
     "text": []
    },
    {
     "name": "stdout",
     "output_type": "stream",
     "text": [
      "Iteration No: 35 ended. Evaluation done at random point.\n",
      "Time taken: 1032.7407\n",
      "Function value obtained: -0.0223\n",
      "Current minimum: -0.0224\n",
      "Iteration No: 36 started. Evaluating function at random point.\n",
      "SearchBayesianSkopt: Testing config: {'l1_ratio': 0.09681212894393428, 'topK': 5933, 'alpha': 1.0708845445789067e-05, 'workers': 6}\n"
     ]
    },
    {
     "name": "stderr",
     "output_type": "stream",
     "text": [
      "100%|█████████▉| 24504/24507 [23:48<00:00, 17.16it/s]\n"
     ]
    },
    {
     "name": "stdout",
     "output_type": "stream",
     "text": [
      "EvaluatorHoldout: Processed 40932 (100.0%) in 35.99 sec. Users per second: 1137\n",
      "SearchBayesianSkopt: Config 179 is suboptimal. Config: {'l1_ratio': 0.09681212894393428, 'topK': 5933, 'alpha': 1.0708845445789067e-05, 'workers': 6} - results: PRECISION: 0.0436724, PRECISION_RECALL_MIN_DEN: 0.0676109, RECALL: 0.0621626, MAP: 0.0203095, MAP_MIN_DEN: 0.0314225, MRR: 0.1417046, NDCG: 0.0659980, F1: 0.0513023, HIT_RATE: 0.3007183, ARHR_ALL_HITS: 0.1688251, NOVELTY: 0.0044571, AVERAGE_POPULARITY: 0.1866479, DIVERSITY_MEAN_INTER_LIST: 0.9509322, DIVERSITY_HERFINDAHL: 0.9950909, COVERAGE_ITEM: 0.4849227, COVERAGE_ITEM_HIT: 0.0586771, ITEMS_IN_GT: 0.9953891, COVERAGE_USER: 0.9832569, COVERAGE_USER_HIT: 0.2956833, USERS_IN_GT: 0.9832569, DIVERSITY_GINI: 0.0500654, SHANNON_ENTROPY: 9.7330387, RATIO_DIVERSITY_HERFINDAHL: 0.9954002, RATIO_DIVERSITY_GINI: 0.0959447, RATIO_SHANNON_ENTROPY: 0.7183051, RATIO_AVERAGE_POPULARITY: 3.6549375, RATIO_NOVELTY: 0.3245504, \n",
      "\n"
     ]
    },
    {
     "name": "stderr",
     "output_type": "stream",
     "text": [
      "  0%|          | 0/24507 [00:00<?, ?it/s]"
     ]
    },
    {
     "name": "stdout",
     "output_type": "stream",
     "text": [
      "Iteration No: 36 ended. Evaluation done at random point.\n",
      "Time taken: 755.4125\n",
      "Function value obtained: -0.0203\n",
      "Current minimum: -0.0224\n",
      "Iteration No: 37 started. Evaluating function at random point.\n",
      "SearchBayesianSkopt: Testing config: {'l1_ratio': 0.020734979096757245, 'topK': 1742, 'alpha': 0.019673792648462383, 'workers': 6}\n"
     ]
    },
    {
     "name": "stderr",
     "output_type": "stream",
     "text": [
      "100%|█████████▉| 24504/24507 [03:34<00:00, 114.06it/s]\n"
     ]
    },
    {
     "name": "stdout",
     "output_type": "stream",
     "text": [
      "EvaluatorHoldout: Processed 40932 (100.0%) in 28.00 sec. Users per second: 1462\n",
      "SearchBayesianSkopt: Config 180 is suboptimal. Config: {'l1_ratio': 0.020734979096757245, 'topK': 1742, 'alpha': 0.019673792648462383, 'workers': 6} - results: PRECISION: 0.0421137, PRECISION_RECALL_MIN_DEN: 0.0678958, RECALL: 0.0630734, MAP: 0.0192105, MAP_MIN_DEN: 0.0308539, MRR: 0.1392936, NDCG: 0.0650283, F1: 0.0505054, HIT_RATE: 0.3012313, ARHR_ALL_HITS: 0.1628264, NOVELTY: 0.0041327, AVERAGE_POPULARITY: 0.2599240, DIVERSITY_MEAN_INTER_LIST: 0.8863163, DIVERSITY_HERFINDAHL: 0.9886295, COVERAGE_ITEM: 0.0431713, COVERAGE_ITEM_HIT: 0.0208104, ITEMS_IN_GT: 0.9953891, COVERAGE_USER: 0.9832569, COVERAGE_USER_HIT: 0.2961878, USERS_IN_GT: 0.9832569, DIVERSITY_GINI: 0.0065498, SHANNON_ENTROPY: 7.5528753, RATIO_DIVERSITY_HERFINDAHL: 0.9889367, RATIO_DIVERSITY_GINI: 0.0125520, RATIO_SHANNON_ENTROPY: 0.5574075, RATIO_AVERAGE_POPULARITY: 5.0898291, RATIO_NOVELTY: 0.3009327, \n",
      "\n"
     ]
    },
    {
     "name": "stderr",
     "output_type": "stream",
     "text": [
      "100%|█████████▉| 24504/24507 [16:37<00:00, 24.56it/s]\n",
      "  0%|          | 0/24507 [00:00<?, ?it/s]"
     ]
    },
    {
     "name": "stdout",
     "output_type": "stream",
     "text": [
      "Iteration No: 37 ended. Evaluation done at random point.\n",
      "Time taken: 242.5738\n",
      "Function value obtained: -0.0192\n",
      "Current minimum: -0.0224\n",
      "Iteration No: 38 started. Evaluating function at random point.\n",
      "SearchBayesianSkopt: Testing config: {'l1_ratio': 4.2875733282544045e-05, 'topK': 2630, 'alpha': 0.02960392508143355, 'workers': 6}\n"
     ]
    },
    {
     "name": "stderr",
     "output_type": "stream",
     "text": [
      "100%|█████████▉| 24504/24507 [16:10<00:00, 25.26it/s]\n"
     ]
    },
    {
     "name": "stdout",
     "output_type": "stream",
     "text": [
      "EvaluatorHoldout: Processed 40932 (100.0%) in 54.20 sec. Users per second: 755\n",
      "SearchBayesianSkopt: Config 181 is suboptimal. Config: {'l1_ratio': 4.2875733282544045e-05, 'topK': 2630, 'alpha': 0.02960392508143355, 'workers': 6} - results: PRECISION: 0.0443785, PRECISION_RECALL_MIN_DEN: 0.0717759, RECALL: 0.0666851, MAP: 0.0200690, MAP_MIN_DEN: 0.0322500, MRR: 0.1440722, NDCG: 0.0680905, F1: 0.0532917, HIT_RATE: 0.3153279, ARHR_ALL_HITS: 0.1692366, NOVELTY: 0.0040307, AVERAGE_POPULARITY: 0.2718194, DIVERSITY_MEAN_INTER_LIST: 0.8787544, DIVERSITY_HERFINDAHL: 0.9878733, COVERAGE_ITEM: 0.1408985, COVERAGE_ITEM_HIT: 0.0282776, ITEMS_IN_GT: 0.9953891, COVERAGE_USER: 0.9832569, COVERAGE_USER_HIT: 0.3100483, USERS_IN_GT: 0.9832569, DIVERSITY_GINI: 0.0094298, SHANNON_ENTROPY: 7.7460103, RATIO_DIVERSITY_HERFINDAHL: 0.9881803, RATIO_DIVERSITY_GINI: 0.0180712, RATIO_SHANNON_ENTROPY: 0.5716610, RATIO_AVERAGE_POPULARITY: 5.3227638, RATIO_NOVELTY: 0.2935032, \n",
      "\n"
     ]
    },
    {
     "name": "stderr",
     "output_type": "stream",
     "text": [
      "  0%|          | 0/24507 [00:00<?, ?it/s]"
     ]
    },
    {
     "name": "stdout",
     "output_type": "stream",
     "text": [
      "Iteration No: 38 ended. Evaluation done at random point.\n",
      "Time taken: 976.4866\n",
      "Function value obtained: -0.0201\n",
      "Current minimum: -0.0224\n",
      "Iteration No: 39 started. Evaluating function at random point.\n",
      "SearchBayesianSkopt: Testing config: {'l1_ratio': 0.09995566427232891, 'topK': 2364, 'alpha': 0.09346623234301653, 'workers': 6}\n"
     ]
    },
    {
     "name": "stderr",
     "output_type": "stream",
     "text": [
      "100%|█████████▉| 24504/24507 [03:14<00:00, 125.69it/s]\n"
     ]
    },
    {
     "name": "stdout",
     "output_type": "stream",
     "text": [
      "EvaluatorHoldout: Processed 40932 (100.0%) in 26.66 sec. Users per second: 1535\n",
      "SearchBayesianSkopt: Config 182 is suboptimal. Config: {'l1_ratio': 0.09995566427232891, 'topK': 2364, 'alpha': 0.09346623234301653, 'workers': 6} - results: PRECISION: 0.0116901, PRECISION_RECALL_MIN_DEN: 0.0181287, RECALL: 0.0166530, MAP: 0.0065530, MAP_MIN_DEN: 0.0102836, MRR: 0.0560153, NDCG: 0.0211188, F1: 0.0137371, HIT_RATE: 0.0990912, ARHR_ALL_HITS: 0.0605186, NOVELTY: 0.0056264, AVERAGE_POPULARITY: 0.1293389, DIVERSITY_MEAN_INTER_LIST: 0.5187553, DIVERSITY_HERFINDAHL: 0.9518743, COVERAGE_ITEM: 0.0048558, COVERAGE_ITEM_HIT: 0.0013466, ITEMS_IN_GT: 0.9953891, COVERAGE_USER: 0.9832569, COVERAGE_USER_HIT: 0.0974321, USERS_IN_GT: 0.9832569, DIVERSITY_GINI: 0.0008399, SHANNON_ENTROPY: 4.7034767, RATIO_DIVERSITY_HERFINDAHL: 0.9521701, RATIO_DIVERSITY_GINI: 0.0016096, RATIO_SHANNON_ENTROPY: 0.3471199, RATIO_AVERAGE_POPULARITY: 2.5327133, RATIO_NOVELTY: 0.4097000, \n",
      "\n"
     ]
    },
    {
     "name": "stderr",
     "output_type": "stream",
     "text": [
      "  0%|          | 0/24507 [00:00<?, ?it/s]"
     ]
    },
    {
     "name": "stdout",
     "output_type": "stream",
     "text": [
      "Iteration No: 39 ended. Evaluation done at random point.\n",
      "Time taken: 223.8652\n",
      "Function value obtained: -0.0066\n",
      "Current minimum: -0.0224\n",
      "Iteration No: 40 started. Evaluating function at random point.\n",
      "SearchBayesianSkopt: Testing config: {'l1_ratio': 0.0029154183822593847, 'topK': 5755, 'alpha': 0.06025104961780176, 'workers': 6}\n"
     ]
    },
    {
     "name": "stderr",
     "output_type": "stream",
     "text": [
      "100%|█████████▉| 24504/24507 [04:17<00:00, 179.72it/s]"
     ]
    },
    {
     "name": "stdout",
     "output_type": "stream",
     "text": [
      "EvaluatorHoldout: Processed 40932 (100.0%) in 30.56 sec. Users per second: 1340\n",
      "SearchBayesianSkopt: Config 183 is suboptimal. Config: {'l1_ratio': 0.0029154183822593847, 'topK': 5755, 'alpha': 0.06025104961780176, 'workers': 6} - results: PRECISION: 0.0409924, PRECISION_RECALL_MIN_DEN: 0.0667063, RECALL: 0.0620635, MAP: 0.0183254, MAP_MIN_DEN: 0.0296069, MRR: 0.1344564, NDCG: 0.0630533, F1: 0.0493738, HIT_RATE: 0.2978599, ARHR_ALL_HITS: 0.1562917, NOVELTY: 0.0039837, AVERAGE_POPULARITY: 0.2958253, DIVERSITY_MEAN_INTER_LIST: 0.8469242, DIVERSITY_HERFINDAHL: 0.9846904, COVERAGE_ITEM: 0.0857306, COVERAGE_ITEM_HIT: 0.0209736, ITEMS_IN_GT: 0.9953891, COVERAGE_USER: 0.9832569, COVERAGE_USER_HIT: 0.2928728, USERS_IN_GT: 0.9832569, DIVERSITY_GINI: 0.0065724, SHANNON_ENTROPY: 7.3102787, RATIO_DIVERSITY_HERFINDAHL: 0.9849964, RATIO_DIVERSITY_GINI: 0.0125953, RATIO_SHANNON_ENTROPY: 0.5395037, RATIO_AVERAGE_POPULARITY: 5.7928469, RATIO_NOVELTY: 0.2900836, \n",
      "\n"
     ]
    },
    {
     "name": "stderr",
     "output_type": "stream",
     "text": []
    },
    {
     "name": "stdout",
     "output_type": "stream",
     "text": [
      "Iteration No: 40 ended. Evaluation done at random point.\n",
      "Time taken: 274.3276\n",
      "Function value obtained: -0.0183\n",
      "Current minimum: -0.0224\n",
      "Iteration No: 41 started. Evaluating function at random point.\n",
      "SearchBayesianSkopt: Testing config: {'l1_ratio': 0.00033853107054859446, 'topK': 2693, 'alpha': 0.001496298083467339, 'workers': 6}\n"
     ]
    },
    {
     "name": "stderr",
     "output_type": "stream",
     "text": [
      "100%|█████████▉| 24504/24507 [07:34<00:00, 53.88it/s] \n"
     ]
    },
    {
     "name": "stdout",
     "output_type": "stream",
     "text": [
      "EvaluatorHoldout: Processed 40932 (100.0%) in 41.22 sec. Users per second: 993\n",
      "SearchBayesianSkopt: Config 184 is suboptimal. Config: {'l1_ratio': 0.00033853107054859446, 'topK': 2693, 'alpha': 0.001496298083467339, 'workers': 6} - results: PRECISION: 0.0486026, PRECISION_RECALL_MIN_DEN: 0.0775283, RECALL: 0.0718876, MAP: 0.0223544, MAP_MIN_DEN: 0.0355287, MRR: 0.1557558, NDCG: 0.0741880, F1: 0.0579951, HIT_RATE: 0.3338219, ARHR_ALL_HITS: 0.1857789, NOVELTY: 0.0042923, AVERAGE_POPULARITY: 0.2124536, DIVERSITY_MEAN_INTER_LIST: 0.9331694, DIVERSITY_HERFINDAHL: 0.9933147, COVERAGE_ITEM: 0.2381360, COVERAGE_ITEM_HIT: 0.0530461, ITEMS_IN_GT: 0.9953891, COVERAGE_USER: 0.9832569, COVERAGE_USER_HIT: 0.3282327, USERS_IN_GT: 0.9832569, DIVERSITY_GINI: 0.0223491, SHANNON_ENTROPY: 8.9422756, RATIO_DIVERSITY_HERFINDAHL: 0.9936234, RATIO_DIVERSITY_GINI: 0.0428295, RATIO_SHANNON_ENTROPY: 0.6599463, RATIO_AVERAGE_POPULARITY: 4.1602643, RATIO_NOVELTY: 0.3125520, \n",
      "\n"
     ]
    },
    {
     "name": "stderr",
     "output_type": "stream",
     "text": [
      "  0%|          | 0/24507 [00:00<?, ?it/s]"
     ]
    },
    {
     "name": "stdout",
     "output_type": "stream",
     "text": [
      "Iteration No: 41 ended. Evaluation done at random point.\n",
      "Time taken: 842.5856\n",
      "Function value obtained: -0.0224\n",
      "Current minimum: -0.0224\n",
      "Iteration No: 42 started. Evaluating function at random point.\n",
      "SearchBayesianSkopt: Testing config: {'l1_ratio': 2.8857697283834657e-05, 'topK': 1976, 'alpha': 0.0019141721945719816, 'workers': 6}\n"
     ]
    },
    {
     "name": "stderr",
     "output_type": "stream",
     "text": [
      "100%|█████████▉| 24504/24507 [16:55<00:00, 24.12it/s]\n",
      "100%|█████████▉| 24504/24507 [14:29<00:00, 39.51it/s]"
     ]
    },
    {
     "name": "stdout",
     "output_type": "stream",
     "text": [
      "EvaluatorHoldout: Processed 40932 (100.0%) in 44.91 sec. Users per second: 911\n",
      "SearchBayesianSkopt: Config 185 is suboptimal. Config: {'l1_ratio': 2.8857697283834657e-05, 'topK': 1976, 'alpha': 0.0019141721945719816, 'workers': 6} - results: PRECISION: 0.0486123, PRECISION_RECALL_MIN_DEN: 0.0776101, RECALL: 0.0719827, MAP: 0.0223939, MAP_MIN_DEN: 0.0356287, MRR: 0.1562958, NDCG: 0.0743324, F1: 0.0580330, HIT_RATE: 0.3341884, ARHR_ALL_HITS: 0.1862325, NOVELTY: 0.0042833, AVERAGE_POPULARITY: 0.2115782, DIVERSITY_MEAN_INTER_LIST: 0.9341636, DIVERSITY_HERFINDAHL: 0.9934141, COVERAGE_ITEM: 0.2236096, COVERAGE_ITEM_HIT: 0.0512099, ITEMS_IN_GT: 0.9953891, COVERAGE_USER: 0.9832569, COVERAGE_USER_HIT: 0.3285930, USERS_IN_GT: 0.9832569, DIVERSITY_GINI: 0.0210812, SHANNON_ENTROPY: 8.8962817, RATIO_DIVERSITY_HERFINDAHL: 0.9937228, RATIO_DIVERSITY_GINI: 0.0403997, RATIO_SHANNON_ENTROPY: 0.6565519, RATIO_AVERAGE_POPULARITY: 4.1431228, RATIO_NOVELTY: 0.3118987, \n",
      "\n"
     ]
    },
    {
     "name": "stderr",
     "output_type": "stream",
     "text": []
    },
    {
     "name": "stdout",
     "output_type": "stream",
     "text": [
      "Iteration No: 42 ended. Evaluation done at random point.\n",
      "Time taken: 919.8082\n",
      "Function value obtained: -0.0224\n",
      "Current minimum: -0.0224\n",
      "Iteration No: 43 started. Evaluating function at random point.\n",
      "SearchBayesianSkopt: Testing config: {'l1_ratio': 5.649369413650366e-05, 'topK': 4718, 'alpha': 0.00017421218212924577, 'workers': 6}\n"
     ]
    },
    {
     "name": "stderr",
     "output_type": "stream",
     "text": [
      "100%|█████████▉| 24504/24507 [17:41<00:00, 23.09it/s]\n"
     ]
    },
    {
     "name": "stdout",
     "output_type": "stream",
     "text": [
      "EvaluatorHoldout: Processed 40932 (100.0%) in 36.92 sec. Users per second: 1109\n",
      "SearchBayesianSkopt: Config 186 is suboptimal. Config: {'l1_ratio': 5.649369413650366e-05, 'topK': 4718, 'alpha': 0.00017421218212924577, 'workers': 6} - results: PRECISION: 0.0455707, PRECISION_RECALL_MIN_DEN: 0.0713906, RECALL: 0.0658654, MAP: 0.0212087, MAP_MIN_DEN: 0.0331857, MRR: 0.1478851, NDCG: 0.0693531, F1: 0.0538700, HIT_RATE: 0.3131047, ARHR_ALL_HITS: 0.1762840, NOVELTY: 0.0043987, AVERAGE_POPULARITY: 0.1958820, DIVERSITY_MEAN_INTER_LIST: 0.9449715, DIVERSITY_HERFINDAHL: 0.9944948, COVERAGE_ITEM: 0.4122088, COVERAGE_ITEM_HIT: 0.0582691, ITEMS_IN_GT: 0.9953891, COVERAGE_USER: 0.9832569, COVERAGE_USER_HIT: 0.3078623, USERS_IN_GT: 0.9832569, DIVERSITY_GINI: 0.0384206, SHANNON_ENTROPY: 9.4632625, RATIO_DIVERSITY_HERFINDAHL: 0.9948039, RATIO_DIVERSITY_GINI: 0.0736287, RATIO_SHANNON_ENTROPY: 0.6983954, RATIO_AVERAGE_POPULARITY: 3.8357589, RATIO_NOVELTY: 0.3202981, \n",
      "\n"
     ]
    },
    {
     "name": "stderr",
     "output_type": "stream",
     "text": [
      "100%|█████████▉| 24504/24507 [18:03<00:00, 22.62it/s]\n",
      "  0%|          | 0/24507 [00:00<?, ?it/s]"
     ]
    },
    {
     "name": "stdout",
     "output_type": "stream",
     "text": [
      "Iteration No: 43 ended. Evaluation done at random point.\n",
      "Time taken: 1086.0090\n",
      "Function value obtained: -0.0212\n",
      "Current minimum: -0.0224\n",
      "Iteration No: 44 started. Evaluating function at random point.\n",
      "SearchBayesianSkopt: Testing config: {'l1_ratio': 2.7251266348714843e-05, 'topK': 970, 'alpha': 0.0020486849922580425, 'workers': 6}\n"
     ]
    },
    {
     "name": "stderr",
     "output_type": "stream",
     "text": [
      "100%|█████████▉| 24504/24507 [14:26<00:00, 51.39it/s]"
     ]
    },
    {
     "name": "stdout",
     "output_type": "stream",
     "text": [
      "EvaluatorHoldout: Processed 40932 (100.0%) in 42.12 sec. Users per second: 972\n",
      "SearchBayesianSkopt: Config 187 is suboptimal. Config: {'l1_ratio': 2.7251266348714843e-05, 'topK': 970, 'alpha': 0.0020486849922580425, 'workers': 6} - results: PRECISION: 0.0484926, PRECISION_RECALL_MIN_DEN: 0.0772629, RECALL: 0.0716154, MAP: 0.0222970, MAP_MIN_DEN: 0.0353637, MRR: 0.1553495, NDCG: 0.0739187, F1: 0.0578283, HIT_RATE: 0.3331867, ARHR_ALL_HITS: 0.1852446, NOVELTY: 0.0043250, AVERAGE_POPULARITY: 0.1975419, DIVERSITY_MEAN_INTER_LIST: 0.9442124, DIVERSITY_HERFINDAHL: 0.9944189, COVERAGE_ITEM: 0.2312401, COVERAGE_ITEM_HIT: 0.0522708, ITEMS_IN_GT: 0.9953891, COVERAGE_USER: 0.9832569, COVERAGE_USER_HIT: 0.3276082, USERS_IN_GT: 0.9832569, DIVERSITY_GINI: 0.0226194, SHANNON_ENTROPY: 9.0483241, RATIO_DIVERSITY_HERFINDAHL: 0.9947280, RATIO_DIVERSITY_GINI: 0.0433476, RATIO_SHANNON_ENTROPY: 0.6677727, RATIO_AVERAGE_POPULARITY: 3.8682633, RATIO_NOVELTY: 0.3149314, \n",
      "\n"
     ]
    },
    {
     "name": "stderr",
     "output_type": "stream",
     "text": [
      "100%|█████████▉| 24504/24507 [15:07<00:00, 27.00it/s]\n",
      "  0%|          | 0/24507 [00:00<?, ?it/s]"
     ]
    },
    {
     "name": "stdout",
     "output_type": "stream",
     "text": [
      "Iteration No: 44 ended. Evaluation done at random point.\n",
      "Time taken: 907.6679\n",
      "Function value obtained: -0.0223\n",
      "Current minimum: -0.0224\n",
      "Iteration No: 45 started. Evaluating function at random point.\n",
      "SearchBayesianSkopt: Testing config: {'l1_ratio': 0.0010980592358902062, 'topK': 5927, 'alpha': 3.349212037441303e-05, 'workers': 6}\n"
     ]
    },
    {
     "name": "stderr",
     "output_type": "stream",
     "text": [
      "100%|█████████▉| 24504/24507 [14:50<00:00, 51.79it/s]"
     ]
    },
    {
     "name": "stdout",
     "output_type": "stream",
     "text": [
      "EvaluatorHoldout: Processed 40932 (100.0%) in 36.51 sec. Users per second: 1121\n",
      "SearchBayesianSkopt: Config 188 is suboptimal. Config: {'l1_ratio': 0.0010980592358902062, 'topK': 5927, 'alpha': 3.349212037441303e-05, 'workers': 6} - results: PRECISION: 0.0438850, PRECISION_RECALL_MIN_DEN: 0.0680335, RECALL: 0.0625853, MAP: 0.0204319, MAP_MIN_DEN: 0.0316742, MRR: 0.1426528, NDCG: 0.0664477, F1: 0.0515929, HIT_RATE: 0.3024040, ARHR_ALL_HITS: 0.1699133, NOVELTY: 0.0044442, AVERAGE_POPULARITY: 0.1884683, DIVERSITY_MEAN_INTER_LIST: 0.9498591, DIVERSITY_HERFINDAHL: 0.9949836, COVERAGE_ITEM: 0.4766801, COVERAGE_ITEM_HIT: 0.0585547, ITEMS_IN_GT: 0.9953891, COVERAGE_USER: 0.9832569, COVERAGE_USER_HIT: 0.2973408, USERS_IN_GT: 0.9832569, DIVERSITY_GINI: 0.0477833, SHANNON_ENTROPY: 9.6798641, RATIO_DIVERSITY_HERFINDAHL: 0.9952928, RATIO_DIVERSITY_GINI: 0.0915713, RATIO_SHANNON_ENTROPY: 0.7143808, RATIO_AVERAGE_POPULARITY: 3.6905834, RATIO_NOVELTY: 0.3236111, \n",
      "\n"
     ]
    },
    {
     "name": "stderr",
     "output_type": "stream",
     "text": [
      "100%|█████████▉| 24504/24507 [15:23<00:00, 26.53it/s]\n",
      "  0%|          | 0/24507 [00:00<?, ?it/s]"
     ]
    },
    {
     "name": "stdout",
     "output_type": "stream",
     "text": [
      "Iteration No: 45 ended. Evaluation done at random point.\n",
      "Time taken: 926.6462\n",
      "Function value obtained: -0.0204\n",
      "Current minimum: -0.0224\n",
      "Iteration No: 46 started. Evaluating function at random point.\n",
      "SearchBayesianSkopt: Testing config: {'l1_ratio': 0.004656213385741837, 'topK': 3732, 'alpha': 0.0018800719973995537, 'workers': 6}\n"
     ]
    },
    {
     "name": "stderr",
     "output_type": "stream",
     "text": [
      "100%|█████████▉| 24504/24507 [12:48<00:00, 49.95it/s]"
     ]
    },
    {
     "name": "stdout",
     "output_type": "stream",
     "text": [
      "EvaluatorHoldout: Processed 40932 (100.0%) in 44.45 sec. Users per second: 921\n",
      "SearchBayesianSkopt: Config 189 is suboptimal. Config: {'l1_ratio': 0.004656213385741837, 'topK': 3732, 'alpha': 0.0018800719973995537, 'workers': 6} - results: PRECISION: 0.0487198, PRECISION_RECALL_MIN_DEN: 0.0779083, RECALL: 0.0722968, MAP: 0.0223905, MAP_MIN_DEN: 0.0356332, MRR: 0.1563069, NDCG: 0.0744425, F1: 0.0582116, HIT_RATE: 0.3352634, ARHR_ALL_HITS: 0.1862408, NOVELTY: 0.0042942, AVERAGE_POPULARITY: 0.2118050, DIVERSITY_MEAN_INTER_LIST: 0.9334646, DIVERSITY_HERFINDAHL: 0.9933442, COVERAGE_ITEM: 0.2338924, COVERAGE_ITEM_HIT: 0.0516587, ITEMS_IN_GT: 0.9953891, COVERAGE_USER: 0.9832569, COVERAGE_USER_HIT: 0.3296500, USERS_IN_GT: 0.9832569, DIVERSITY_GINI: 0.0222060, SHANNON_ENTROPY: 8.9397177, RATIO_DIVERSITY_HERFINDAHL: 0.9936529, RATIO_DIVERSITY_GINI: 0.0425552, RATIO_SHANNON_ENTROPY: 0.6597575, RATIO_AVERAGE_POPULARITY: 4.1475629, RATIO_NOVELTY: 0.3126899, \n",
      "\n"
     ]
    },
    {
     "name": "stderr",
     "output_type": "stream",
     "text": [
      "100%|█████████▉| 24504/24507 [13:35<00:00, 30.06it/s]\n",
      "  0%|          | 0/24507 [00:00<?, ?it/s]"
     ]
    },
    {
     "name": "stdout",
     "output_type": "stream",
     "text": [
      "Iteration No: 46 ended. Evaluation done at random point.\n",
      "Time taken: 818.0508\n",
      "Function value obtained: -0.0224\n",
      "Current minimum: -0.0224\n",
      "Iteration No: 47 started. Evaluating function at random point.\n",
      "SearchBayesianSkopt: Testing config: {'l1_ratio': 4.880165953349646e-05, 'topK': 2550, 'alpha': 0.0016756381042364256, 'workers': 6}\n"
     ]
    },
    {
     "name": "stderr",
     "output_type": "stream",
     "text": [
      "100%|█████████▉| 24504/24507 [14:04<00:00, 52.15it/s]"
     ]
    },
    {
     "name": "stdout",
     "output_type": "stream",
     "text": [
      "EvaluatorHoldout: Processed 40932 (100.0%) in 45.58 sec. Users per second: 898\n",
      "SearchBayesianSkopt: Config 190 is suboptimal. Config: {'l1_ratio': 4.880165953349646e-05, 'topK': 2550, 'alpha': 0.0016756381042364256, 'workers': 6} - results: PRECISION: 0.0485977, PRECISION_RECALL_MIN_DEN: 0.0775669, RECALL: 0.0719385, MAP: 0.0223717, MAP_MIN_DEN: 0.0355722, MRR: 0.1560105, NDCG: 0.0742546, F1: 0.0580082, HIT_RATE: 0.3340663, ARHR_ALL_HITS: 0.1859924, NOVELTY: 0.0042846, AVERAGE_POPULARITY: 0.2134041, DIVERSITY_MEAN_INTER_LIST: 0.9325600, DIVERSITY_HERFINDAHL: 0.9932537, COVERAGE_ITEM: 0.2301383, COVERAGE_ITEM_HIT: 0.0521484, ITEMS_IN_GT: 0.9953891, COVERAGE_USER: 0.9832569, COVERAGE_USER_HIT: 0.3284729, USERS_IN_GT: 0.9832569, DIVERSITY_GINI: 0.0216217, SHANNON_ENTROPY: 8.9077149, RATIO_DIVERSITY_HERFINDAHL: 0.9935624, RATIO_DIVERSITY_GINI: 0.0414356, RATIO_SHANNON_ENTROPY: 0.6573956, RATIO_AVERAGE_POPULARITY: 4.1788761, RATIO_NOVELTY: 0.3119906, \n",
      "\n"
     ]
    },
    {
     "name": "stderr",
     "output_type": "stream",
     "text": [
      "100%|█████████▉| 24504/24507 [14:52<00:00, 27.46it/s]\n",
      "  0%|          | 0/24507 [00:00<?, ?it/s]"
     ]
    },
    {
     "name": "stdout",
     "output_type": "stream",
     "text": [
      "Iteration No: 47 ended. Evaluation done at random point.\n",
      "Time taken: 895.1417\n",
      "Function value obtained: -0.0224\n",
      "Current minimum: -0.0224\n",
      "Iteration No: 48 started. Evaluating function at random point.\n",
      "SearchBayesianSkopt: Testing config: {'l1_ratio': 0.0029307035073336232, 'topK': 5383, 'alpha': 0.0011025087528538568, 'workers': 6}\n"
     ]
    },
    {
     "name": "stderr",
     "output_type": "stream",
     "text": [
      "100%|█████████▉| 24504/24507 [12:40<00:00, 48.87it/s]"
     ]
    },
    {
     "name": "stdout",
     "output_type": "stream",
     "text": [
      "EvaluatorHoldout: Processed 40932 (100.0%) in 42.21 sec. Users per second: 970\n",
      "SearchBayesianSkopt: Config 191 is suboptimal. Config: {'l1_ratio': 0.0029307035073336232, 'topK': 5383, 'alpha': 0.0011025087528538568, 'workers': 6} - results: PRECISION: 0.0484584, PRECISION_RECALL_MIN_DEN: 0.0771030, RECALL: 0.0714553, MAP: 0.0223253, MAP_MIN_DEN: 0.0354368, MRR: 0.1554735, NDCG: 0.0739546, F1: 0.0577517, HIT_RATE: 0.3329424, ARHR_ALL_HITS: 0.1855068, NOVELTY: 0.0043172, AVERAGE_POPULARITY: 0.2087295, DIVERSITY_MEAN_INTER_LIST: 0.9356864, DIVERSITY_HERFINDAHL: 0.9935664, COVERAGE_ITEM: 0.2573550, COVERAGE_ITEM_HIT: 0.0543926, ITEMS_IN_GT: 0.9953891, COVERAGE_USER: 0.9832569, COVERAGE_USER_HIT: 0.3273679, USERS_IN_GT: 0.9832569, DIVERSITY_GINI: 0.0245632, SHANNON_ENTROPY: 9.0494376, RATIO_DIVERSITY_HERFINDAHL: 0.9938752, RATIO_DIVERSITY_GINI: 0.0470727, RATIO_SHANNON_ENTROPY: 0.6678549, RATIO_AVERAGE_POPULARITY: 4.0873391, RATIO_NOVELTY: 0.3143659, \n",
      "\n"
     ]
    },
    {
     "name": "stderr",
     "output_type": "stream",
     "text": [
      "100%|█████████▉| 24504/24507 [13:20<00:00, 30.61it/s]\n",
      "  0%|          | 0/24507 [00:00<?, ?it/s]"
     ]
    },
    {
     "name": "stdout",
     "output_type": "stream",
     "text": [
      "Iteration No: 48 ended. Evaluation done at random point.\n",
      "Time taken: 803.3455\n",
      "Function value obtained: -0.0223\n",
      "Current minimum: -0.0224\n",
      "Iteration No: 49 started. Evaluating function at random point.\n",
      "SearchBayesianSkopt: Testing config: {'l1_ratio': 8.199661905947703e-05, 'topK': 315, 'alpha': 0.00023563985087259365, 'workers': 6}\n"
     ]
    },
    {
     "name": "stderr",
     "output_type": "stream",
     "text": [
      "100%|█████████▉| 24504/24507 [15:18<00:00, 44.44it/s]"
     ]
    },
    {
     "name": "stdout",
     "output_type": "stream",
     "text": [
      "EvaluatorHoldout: Processed 40932 (100.0%) in 34.69 sec. Users per second: 1180\n",
      "SearchBayesianSkopt: Config 192 is suboptimal. Config: {'l1_ratio': 8.199661905947703e-05, 'topK': 315, 'alpha': 0.00023563985087259365, 'workers': 6} - results: PRECISION: 0.0416667, PRECISION_RECALL_MIN_DEN: 0.0643491, RECALL: 0.0590491, MAP: 0.0194294, MAP_MIN_DEN: 0.0302499, MRR: 0.1379624, NDCG: 0.0634515, F1: 0.0488579, HIT_RATE: 0.2903841, ARHR_ALL_HITS: 0.1629234, NOVELTY: 0.0046528, AVERAGE_POPULARITY: 0.1302782, DIVERSITY_MEAN_INTER_LIST: 0.9775605, DIVERSITY_HERFINDAHL: 0.9977537, COVERAGE_ITEM: 0.4876566, COVERAGE_ITEM_HIT: 0.0671645, ITEMS_IN_GT: 0.9953891, COVERAGE_USER: 0.9832569, COVERAGE_USER_HIT: 0.2855221, USERS_IN_GT: 0.9832569, DIVERSITY_GINI: 0.0569286, SHANNON_ENTROPY: 10.3259139, RATIO_DIVERSITY_HERFINDAHL: 0.9980638, RATIO_DIVERSITY_GINI: 0.1090972, RATIO_SHANNON_ENTROPY: 0.7620597, RATIO_AVERAGE_POPULARITY: 2.5511061, RATIO_NOVELTY: 0.3388035, \n",
      "\n"
     ]
    },
    {
     "name": "stderr",
     "output_type": "stream",
     "text": [
      "100%|█████████▉| 24504/24507 [15:46<00:00, 25.90it/s]\n",
      "  0%|          | 0/24507 [00:00<?, ?it/s]"
     ]
    },
    {
     "name": "stdout",
     "output_type": "stream",
     "text": [
      "Iteration No: 49 ended. Evaluation done at random point.\n",
      "Time taken: 946.3524\n",
      "Function value obtained: -0.0194\n",
      "Current minimum: -0.0224\n",
      "Iteration No: 50 started. Evaluating function at random point.\n",
      "SearchBayesianSkopt: Testing config: {'l1_ratio': 0.00018743997574664553, 'topK': 4078, 'alpha': 0.00029311405932878096, 'workers': 6}\n"
     ]
    },
    {
     "name": "stderr",
     "output_type": "stream",
     "text": [
      "100%|█████████▉| 24504/24507 [14:02<00:00, 51.86it/s]"
     ]
    },
    {
     "name": "stdout",
     "output_type": "stream",
     "text": [
      "EvaluatorHoldout: Processed 40932 (100.0%) in 37.10 sec. Users per second: 1103\n",
      "SearchBayesianSkopt: Config 193 is suboptimal. Config: {'l1_ratio': 0.00018743997574664553, 'topK': 4078, 'alpha': 0.00029311405932878096, 'workers': 6} - results: PRECISION: 0.0464038, PRECISION_RECALL_MIN_DEN: 0.0730271, RECALL: 0.0674517, MAP: 0.0215927, MAP_MIN_DEN: 0.0339391, MRR: 0.1504995, NDCG: 0.0708049, F1: 0.0549822, HIT_RATE: 0.3187726, ARHR_ALL_HITS: 0.1794786, NOVELTY: 0.0043759, AVERAGE_POPULARITY: 0.1996870, DIVERSITY_MEAN_INTER_LIST: 0.9423221, DIVERSITY_HERFINDAHL: 0.9942299, COVERAGE_ITEM: 0.3742604, COVERAGE_ITEM_HIT: 0.0574530, ITEMS_IN_GT: 0.9953891, COVERAGE_USER: 0.9832569, COVERAGE_USER_HIT: 0.3134353, USERS_IN_GT: 0.9832569, DIVERSITY_GINI: 0.0341243, SHANNON_ENTROPY: 9.3512595, RATIO_DIVERSITY_HERFINDAHL: 0.9945389, RATIO_DIVERSITY_GINI: 0.0653955, RATIO_SHANNON_ENTROPY: 0.6901295, RATIO_AVERAGE_POPULARITY: 3.9102693, RATIO_NOVELTY: 0.3186382, \n",
      "\n"
     ]
    },
    {
     "name": "stderr",
     "output_type": "stream",
     "text": [
      "100%|█████████▉| 24504/24507 [14:34<00:00, 28.03it/s]\n",
      "  0%|          | 0/24507 [00:00<?, ?it/s]"
     ]
    },
    {
     "name": "stdout",
     "output_type": "stream",
     "text": [
      "Iteration No: 50 ended. Evaluation done at random point.\n",
      "Time taken: 877.0798\n",
      "Function value obtained: -0.0216\n",
      "Current minimum: -0.0224\n",
      "Iteration No: 51 started. Evaluating function at random point.\n",
      "SearchBayesianSkopt: Testing config: {'l1_ratio': 0.012948576465584989, 'topK': 2982, 'alpha': 0.0013756762464922933, 'workers': 6}\n"
     ]
    },
    {
     "name": "stderr",
     "output_type": "stream",
     "text": [
      "100%|█████████▉| 24504/24507 [11:46<00:00, 54.94it/s]"
     ]
    },
    {
     "name": "stdout",
     "output_type": "stream",
     "text": [
      "EvaluatorHoldout: Processed 40932 (100.0%) in 41.35 sec. Users per second: 990\n",
      "SearchBayesianSkopt: Config 194 is suboptimal. Config: {'l1_ratio': 0.012948576465584989, 'topK': 2982, 'alpha': 0.0013756762464922933, 'workers': 6} - results: PRECISION: 0.0487467, PRECISION_RECALL_MIN_DEN: 0.0776857, RECALL: 0.0720320, MAP: 0.0224054, MAP_MIN_DEN: 0.0355385, MRR: 0.1559498, NDCG: 0.0742915, F1: 0.0581447, HIT_RATE: 0.3347503, ARHR_ALL_HITS: 0.1860784, NOVELTY: 0.0043349, AVERAGE_POPULARITY: 0.2050405, DIVERSITY_MEAN_INTER_LIST: 0.9379701, DIVERSITY_HERFINDAHL: 0.9937947, COVERAGE_ITEM: 0.2553964, COVERAGE_ITEM_HIT: 0.0540254, ITEMS_IN_GT: 0.9953891, COVERAGE_USER: 0.9832569, COVERAGE_USER_HIT: 0.3291455, USERS_IN_GT: 0.9832569, DIVERSITY_GINI: 0.0254371, SHANNON_ENTROPY: 9.1043473, RATIO_DIVERSITY_HERFINDAHL: 0.9941036, RATIO_DIVERSITY_GINI: 0.0487473, RATIO_SHANNON_ENTROPY: 0.6719073, RATIO_AVERAGE_POPULARITY: 4.0151015, RATIO_NOVELTY: 0.3156585, \n",
      "\n"
     ]
    },
    {
     "name": "stderr",
     "output_type": "stream",
     "text": []
    },
    {
     "name": "stdout",
     "output_type": "stream",
     "text": [
      "Iteration No: 51 ended. Evaluation done at random point.\n",
      "Time taken: 749.7060\n",
      "Function value obtained: -0.0224\n",
      "Current minimum: -0.0224\n",
      "Iteration No: 52 started. Evaluating function at random point.\n",
      "SearchBayesianSkopt: Testing config: {'l1_ratio': 0.04287039735612186, 'topK': 4709, 'alpha': 0.0005296146956925445, 'workers': 6}\n"
     ]
    },
    {
     "name": "stderr",
     "output_type": "stream",
     "text": [
      "100%|█████████▉| 24504/24507 [12:55<00:00, 31.58it/s]\n"
     ]
    },
    {
     "name": "stdout",
     "output_type": "stream",
     "text": [
      "EvaluatorHoldout: Processed 40932 (100.0%) in 38.83 sec. Users per second: 1054\n",
      "SearchBayesianSkopt: Config 195 is suboptimal. Config: {'l1_ratio': 0.04287039735612186, 'topK': 4709, 'alpha': 0.0005296146956925445, 'workers': 6} - results: PRECISION: 0.0481872, PRECISION_RECALL_MIN_DEN: 0.0763648, RECALL: 0.0706719, MAP: 0.0222070, MAP_MIN_DEN: 0.0350638, MRR: 0.1544933, NDCG: 0.0733265, F1: 0.0573028, HIT_RATE: 0.3308170, ARHR_ALL_HITS: 0.1844096, NOVELTY: 0.0044140, AVERAGE_POPULARITY: 0.1937613, DIVERSITY_MEAN_INTER_LIST: 0.9450820, DIVERSITY_HERFINDAHL: 0.9945059, COVERAGE_ITEM: 0.3148488, COVERAGE_ITEM_HIT: 0.0584323, ITEMS_IN_GT: 0.9953891, COVERAGE_USER: 0.9832569, COVERAGE_USER_HIT: 0.3252781, USERS_IN_GT: 0.9832569, DIVERSITY_GINI: 0.0337960, SHANNON_ENTROPY: 9.4286896, RATIO_DIVERSITY_HERFINDAHL: 0.9948150, RATIO_DIVERSITY_GINI: 0.0647662, RATIO_SHANNON_ENTROPY: 0.6958439, RATIO_AVERAGE_POPULARITY: 3.7942321, RATIO_NOVELTY: 0.3214164, \n",
      "\n"
     ]
    },
    {
     "name": "stderr",
     "output_type": "stream",
     "text": [
      "100%|█████████▉| 24504/24507 [11:49<00:00, 34.54it/s]\n",
      "  0%|          | 0/24507 [00:00<?, ?it/s]"
     ]
    },
    {
     "name": "stdout",
     "output_type": "stream",
     "text": [
      "Iteration No: 52 ended. Evaluation done at random point.\n",
      "Time taken: 712.5590\n",
      "Function value obtained: -0.0222\n",
      "Current minimum: -0.0224\n",
      "Iteration No: 53 started. Evaluating function at random point.\n",
      "SearchBayesianSkopt: Testing config: {'l1_ratio': 0.01560501719308589, 'topK': 1104, 'alpha': 0.0037448226239408552, 'workers': 6}\n"
     ]
    },
    {
     "name": "stderr",
     "output_type": "stream",
     "text": [
      "100%|█████████▉| 24504/24507 [09:45<00:00, 67.99it/s]"
     ]
    },
    {
     "name": "stdout",
     "output_type": "stream",
     "text": [
      "EvaluatorHoldout: Processed 40932 (100.0%) in 38.72 sec. Users per second: 1057\n",
      "SearchBayesianSkopt: Config 196 is suboptimal. Config: {'l1_ratio': 0.01560501719308589, 'topK': 1104, 'alpha': 0.0037448226239408552, 'workers': 6} - results: PRECISION: 0.0479576, PRECISION_RECALL_MIN_DEN: 0.0768843, RECALL: 0.0714075, MAP: 0.0219631, MAP_MIN_DEN: 0.0350285, MRR: 0.1541047, NDCG: 0.0733310, F1: 0.0573791, HIT_RATE: 0.3322339, ARHR_ALL_HITS: 0.1831184, NOVELTY: 0.0042600, AVERAGE_POPULARITY: 0.2153867, DIVERSITY_MEAN_INTER_LIST: 0.9310366, DIVERSITY_HERFINDAHL: 0.9931014, COVERAGE_ITEM: 0.2403803, COVERAGE_ITEM_HIT: 0.0441098, ITEMS_IN_GT: 0.9953891, COVERAGE_USER: 0.9832569, COVERAGE_USER_HIT: 0.3266713, USERS_IN_GT: 0.9832569, DIVERSITY_GINI: 0.0201619, SHANNON_ENTROPY: 8.7903650, RATIO_DIVERSITY_HERFINDAHL: 0.9934101, RATIO_DIVERSITY_GINI: 0.0386380, RATIO_SHANNON_ENTROPY: 0.6487351, RATIO_AVERAGE_POPULARITY: 4.2176998, RATIO_NOVELTY: 0.3102045, \n",
      "\n"
     ]
    },
    {
     "name": "stderr",
     "output_type": "stream",
     "text": []
    },
    {
     "name": "stdout",
     "output_type": "stream",
     "text": [
      "Iteration No: 53 ended. Evaluation done at random point.\n",
      "Time taken: 619.1103\n",
      "Function value obtained: -0.0220\n",
      "Current minimum: -0.0224\n",
      "Iteration No: 54 started. Evaluating function at random point.\n",
      "SearchBayesianSkopt: Testing config: {'l1_ratio': 0.04251710487280302, 'topK': 4869, 'alpha': 0.00025010535675736186, 'workers': 6}\n"
     ]
    },
    {
     "name": "stderr",
     "output_type": "stream",
     "text": [
      "100%|█████████▉| 24504/24507 [11:55<00:00, 34.24it/s]\n"
     ]
    },
    {
     "name": "stdout",
     "output_type": "stream",
     "text": [
      "EvaluatorHoldout: Processed 40932 (100.0%) in 35.61 sec. Users per second: 1149\n",
      "SearchBayesianSkopt: Config 197 is suboptimal. Config: {'l1_ratio': 0.04251710487280302, 'topK': 4869, 'alpha': 0.00025010535675736186, 'workers': 6} - results: PRECISION: 0.0469804, PRECISION_RECALL_MIN_DEN: 0.0740388, RECALL: 0.0684132, MAP: 0.0217445, MAP_MIN_DEN: 0.0341448, MRR: 0.1512217, NDCG: 0.0714287, F1: 0.0557064, HIT_RATE: 0.3225594, ARHR_ALL_HITS: 0.1805378, NOVELTY: 0.0044171, AVERAGE_POPULARITY: 0.1940558, DIVERSITY_MEAN_INTER_LIST: 0.9453816, DIVERSITY_HERFINDAHL: 0.9945359, COVERAGE_ITEM: 0.3601420, COVERAGE_ITEM_HIT: 0.0598604, ITEMS_IN_GT: 0.9953891, COVERAGE_USER: 0.9832569, COVERAGE_USER_HIT: 0.3171587, USERS_IN_GT: 0.9832569, DIVERSITY_GINI: 0.0369759, SHANNON_ENTROPY: 9.4844803, RATIO_DIVERSITY_HERFINDAHL: 0.9948450, RATIO_DIVERSITY_GINI: 0.0708601, RATIO_SHANNON_ENTROPY: 0.6999613, RATIO_AVERAGE_POPULARITY: 3.7999978, RATIO_NOVELTY: 0.3216405, \n",
      "\n"
     ]
    },
    {
     "name": "stderr",
     "output_type": "stream",
     "text": [
      "100%|█████████▉| 24504/24507 [12:47<00:00, 31.93it/s]\n",
      "  0%|          | 0/24507 [00:00<?, ?it/s]"
     ]
    },
    {
     "name": "stdout",
     "output_type": "stream",
     "text": [
      "Iteration No: 54 ended. Evaluation done at random point.\n",
      "Time taken: 770.2759\n",
      "Function value obtained: -0.0217\n",
      "Current minimum: -0.0224\n",
      "Iteration No: 55 started. Evaluating function at random point.\n",
      "SearchBayesianSkopt: Testing config: {'l1_ratio': 1e-05, 'topK': 1860, 'alpha': 0.0013870310306924474, 'workers': 6}\n"
     ]
    },
    {
     "name": "stderr",
     "output_type": "stream",
     "text": [
      "100%|█████████▉| 24504/24507 [16:27<00:00, 48.43it/s]"
     ]
    },
    {
     "name": "stdout",
     "output_type": "stream",
     "text": [
      "EvaluatorHoldout: Processed 40932 (100.0%) in 43.36 sec. Users per second: 944\n",
      "SearchBayesianSkopt: Config 198 is suboptimal. Config: {'l1_ratio': 1e-05, 'topK': 1860, 'alpha': 0.0013870310306924474, 'workers': 6} - results: PRECISION: 0.0485122, PRECISION_RECALL_MIN_DEN: 0.0772325, RECALL: 0.0715824, MAP: 0.0223188, MAP_MIN_DEN: 0.0354125, MRR: 0.1553923, NDCG: 0.0739644, F1: 0.0578314, HIT_RATE: 0.3330157, ARHR_ALL_HITS: 0.1853967, NOVELTY: 0.0043073, AVERAGE_POPULARITY: 0.2071836, DIVERSITY_MEAN_INTER_LIST: 0.9373548, DIVERSITY_HERFINDAHL: 0.9937332, COVERAGE_ITEM: 0.2442159, COVERAGE_ITEM_HIT: 0.0536173, ITEMS_IN_GT: 0.9953891, COVERAGE_USER: 0.9832569, COVERAGE_USER_HIT: 0.3274400, USERS_IN_GT: 0.9832569, DIVERSITY_GINI: 0.0230572, SHANNON_ENTROPY: 9.0020047, RATIO_DIVERSITY_HERFINDAHL: 0.9940421, RATIO_DIVERSITY_GINI: 0.0441865, RATIO_SHANNON_ENTROPY: 0.6643543, RATIO_AVERAGE_POPULARITY: 4.0570677, RATIO_NOVELTY: 0.3136428, \n",
      "\n"
     ]
    },
    {
     "name": "stderr",
     "output_type": "stream",
     "text": [
      "100%|█████████▉| 24504/24507 [17:17<00:00, 23.61it/s]\n",
      "  0%|          | 0/24507 [00:00<?, ?it/s]"
     ]
    },
    {
     "name": "stdout",
     "output_type": "stream",
     "text": [
      "Iteration No: 55 ended. Evaluation done at random point.\n",
      "Time taken: 1040.7530\n",
      "Function value obtained: -0.0223\n",
      "Current minimum: -0.0224\n",
      "Iteration No: 56 started. Evaluating function at random point.\n",
      "SearchBayesianSkopt: Testing config: {'l1_ratio': 0.017638742222460087, 'topK': 2371, 'alpha': 0.02506609099715278, 'workers': 6}\n"
     ]
    },
    {
     "name": "stderr",
     "output_type": "stream",
     "text": [
      "100%|█████████▉| 24504/24507 [03:29<00:00, 117.05it/s]\n"
     ]
    },
    {
     "name": "stdout",
     "output_type": "stream",
     "text": [
      "EvaluatorHoldout: Processed 40932 (100.0%) in 28.70 sec. Users per second: 1426\n",
      "SearchBayesianSkopt: Config 199 is suboptimal. Config: {'l1_ratio': 0.017638742222460087, 'topK': 2371, 'alpha': 0.02506609099715278, 'workers': 6} - results: PRECISION: 0.0413344, PRECISION_RECALL_MIN_DEN: 0.0667036, RECALL: 0.0619922, MAP: 0.0188256, MAP_MIN_DEN: 0.0302820, MRR: 0.1371135, NDCG: 0.0639004, F1: 0.0495983, HIT_RATE: 0.2972247, ARHR_ALL_HITS: 0.1599250, NOVELTY: 0.0041180, AVERAGE_POPULARITY: 0.2664341, DIVERSITY_MEAN_INTER_LIST: 0.8784794, DIVERSITY_HERFINDAHL: 0.9878458, COVERAGE_ITEM: 0.0399478, COVERAGE_ITEM_HIT: 0.0196679, ITEMS_IN_GT: 0.9953891, COVERAGE_USER: 0.9832569, COVERAGE_USER_HIT: 0.2922482, USERS_IN_GT: 0.9832569, DIVERSITY_GINI: 0.0060449, SHANNON_ENTROPY: 7.4398389, RATIO_DIVERSITY_HERFINDAHL: 0.9881528, RATIO_DIVERSITY_GINI: 0.0115844, RATIO_SHANNON_ENTROPY: 0.5490654, RATIO_AVERAGE_POPULARITY: 5.2173091, RATIO_NOVELTY: 0.2998576, \n",
      "\n"
     ]
    },
    {
     "name": "stderr",
     "output_type": "stream",
     "text": [
      "  0%|          | 0/24507 [00:00<?, ?it/s]"
     ]
    },
    {
     "name": "stdout",
     "output_type": "stream",
     "text": [
      "Iteration No: 56 ended. Evaluation done at random point.\n",
      "Time taken: 242.2120\n",
      "Function value obtained: -0.0188\n",
      "Current minimum: -0.0224\n",
      "Iteration No: 57 started. Evaluating function at random point.\n",
      "SearchBayesianSkopt: Testing config: {'l1_ratio': 0.005397570835505641, 'topK': 1580, 'alpha': 0.06522944154624687, 'workers': 6}\n"
     ]
    },
    {
     "name": "stderr",
     "output_type": "stream",
     "text": [
      "100%|█████████▉| 24504/24507 [03:45<00:00, 144.56it/s]"
     ]
    },
    {
     "name": "stdout",
     "output_type": "stream",
     "text": [
      "EvaluatorHoldout: Processed 40932 (100.0%) in 28.77 sec. Users per second: 1423\n",
      "SearchBayesianSkopt: Config 200 is suboptimal. Config: {'l1_ratio': 0.005397570835505641, 'topK': 1580, 'alpha': 0.06522944154624687, 'workers': 6} - results: PRECISION: 0.0397415, PRECISION_RECALL_MIN_DEN: 0.0646098, RECALL: 0.0600888, MAP: 0.0177435, MAP_MIN_DEN: 0.0287164, MRR: 0.1308883, NDCG: 0.0611795, F1: 0.0478416, HIT_RATE: 0.2901886, ARHR_ALL_HITS: 0.1517257, NOVELTY: 0.0040123, AVERAGE_POPULARITY: 0.2975482, DIVERSITY_MEAN_INTER_LIST: 0.8411112, DIVERSITY_HERFINDAHL: 0.9841091, COVERAGE_ITEM: 0.0465989, COVERAGE_ITEM_HIT: 0.0181989, ITEMS_IN_GT: 0.9953891, COVERAGE_USER: 0.9832569, COVERAGE_USER_HIT: 0.2853299, USERS_IN_GT: 0.9832569, DIVERSITY_GINI: 0.0051378, SHANNON_ENTROPY: 7.1167448, RATIO_DIVERSITY_HERFINDAHL: 0.9844149, RATIO_DIVERSITY_GINI: 0.0098461, RATIO_SHANNON_ENTROPY: 0.5252208, RATIO_AVERAGE_POPULARITY: 5.8265862, RATIO_NOVELTY: 0.2921672, \n",
      "\n"
     ]
    },
    {
     "name": "stderr",
     "output_type": "stream",
     "text": []
    },
    {
     "name": "stdout",
     "output_type": "stream",
     "text": [
      "Iteration No: 57 ended. Evaluation done at random point.\n",
      "Time taken: 244.6145\n",
      "Function value obtained: -0.0177\n",
      "Current minimum: -0.0224\n",
      "Iteration No: 58 started. Evaluating function at random point.\n",
      "SearchBayesianSkopt: Testing config: {'l1_ratio': 0.039625647905601205, 'topK': 771, 'alpha': 0.000623139328712034, 'workers': 6}\n"
     ]
    },
    {
     "name": "stderr",
     "output_type": "stream",
     "text": [
      "100%|█████████▉| 24504/24507 [10:25<00:00, 39.19it/s] \n"
     ]
    },
    {
     "name": "stdout",
     "output_type": "stream",
     "text": [
      "EvaluatorHoldout: Processed 40932 (100.0%) in 38.07 sec. Users per second: 1075\n",
      "SearchBayesianSkopt: Config 201 is suboptimal. Config: {'l1_ratio': 0.039625647905601205, 'topK': 771, 'alpha': 0.000623139328712034, 'workers': 6} - results: PRECISION: 0.0480944, PRECISION_RECALL_MIN_DEN: 0.0760818, RECALL: 0.0703720, MAP: 0.0221009, MAP_MIN_DEN: 0.0348893, MRR: 0.1534227, NDCG: 0.0729773, F1: 0.0571385, HIT_RATE: 0.3298397, ARHR_ALL_HITS: 0.1832739, NOVELTY: 0.0044342, AVERAGE_POPULARITY: 0.1815015, DIVERSITY_MEAN_INTER_LIST: 0.9536527, DIVERSITY_HERFINDAHL: 0.9953629, COVERAGE_ITEM: 0.3051373, COVERAGE_ITEM_HIT: 0.0577386, ITEMS_IN_GT: 0.9953891, COVERAGE_USER: 0.9832569, COVERAGE_USER_HIT: 0.3243172, USERS_IN_GT: 0.9832569, DIVERSITY_GINI: 0.0333914, SHANNON_ENTROPY: 9.4918232, RATIO_DIVERSITY_HERFINDAHL: 0.9956723, RATIO_DIVERSITY_GINI: 0.0639909, RATIO_SHANNON_ENTROPY: 0.7005032, RATIO_AVERAGE_POPULARITY: 3.5541609, RATIO_NOVELTY: 0.3228885, \n",
      "\n"
     ]
    },
    {
     "name": "stderr",
     "output_type": "stream",
     "text": [
      "  0%|          | 0/24507 [00:00<?, ?it/s]"
     ]
    },
    {
     "name": "stdout",
     "output_type": "stream",
     "text": [
      "Iteration No: 58 ended. Evaluation done at random point.\n",
      "Time taken: 692.5893\n",
      "Function value obtained: -0.0221\n",
      "Current minimum: -0.0224\n",
      "Iteration No: 59 started. Evaluating function at random point.\n",
      "SearchBayesianSkopt: Testing config: {'l1_ratio': 0.0002716014635827482, 'topK': 5774, 'alpha': 0.0001441050952445069, 'workers': 6}\n"
     ]
    },
    {
     "name": "stderr",
     "output_type": "stream",
     "text": [
      "100%|█████████▉| 24504/24507 [20:57<00:00, 19.49it/s]\n",
      "100%|█████████▉| 24504/24507 [14:29<00:00, 58.08it/s]"
     ]
    },
    {
     "name": "stdout",
     "output_type": "stream",
     "text": [
      "EvaluatorHoldout: Processed 40932 (100.0%) in 36.64 sec. Users per second: 1117\n",
      "SearchBayesianSkopt: Config 202 is suboptimal. Config: {'l1_ratio': 0.0002716014635827482, 'topK': 5774, 'alpha': 0.0001441050952445069, 'workers': 6} - results: PRECISION: 0.0452458, PRECISION_RECALL_MIN_DEN: 0.0707367, RECALL: 0.0652214, MAP: 0.0210708, MAP_MIN_DEN: 0.0329161, MRR: 0.1470088, NDCG: 0.0688276, F1: 0.0534275, HIT_RATE: 0.3111746, ARHR_ALL_HITS: 0.1751918, NOVELTY: 0.0044061, AVERAGE_POPULARITY: 0.1946344, DIVERSITY_MEAN_INTER_LIST: 0.9458160, DIVERSITY_HERFINDAHL: 0.9945793, COVERAGE_ITEM: 0.4236749, COVERAGE_ITEM_HIT: 0.0583099, ITEMS_IN_GT: 0.9953891, COVERAGE_USER: 0.9832569, COVERAGE_USER_HIT: 0.3059646, USERS_IN_GT: 0.9832569, DIVERSITY_GINI: 0.0398864, SHANNON_ENTROPY: 9.4995647, RATIO_DIVERSITY_HERFINDAHL: 0.9948884, RATIO_DIVERSITY_GINI: 0.0764377, RATIO_SHANNON_ENTROPY: 0.7010746, RATIO_AVERAGE_POPULARITY: 3.8113287, RATIO_NOVELTY: 0.3208425, \n",
      "\n"
     ]
    },
    {
     "name": "stderr",
     "output_type": "stream",
     "text": []
    },
    {
     "name": "stdout",
     "output_type": "stream",
     "text": [
      "Iteration No: 59 ended. Evaluation done at random point.\n",
      "Time taken: 908.8038\n",
      "Function value obtained: -0.0211\n",
      "Current minimum: -0.0224\n",
      "Iteration No: 60 started. Evaluating function at random point.\n",
      "SearchBayesianSkopt: Testing config: {'l1_ratio': 0.007006729399364484, 'topK': 4407, 'alpha': 0.000400896246038168, 'workers': 6}\n"
     ]
    },
    {
     "name": "stderr",
     "output_type": "stream",
     "text": [
      "100%|█████████▉| 24504/24507 [20:33<00:00, 19.87it/s]\n"
     ]
    },
    {
     "name": "stdout",
     "output_type": "stream",
     "text": [
      "EvaluatorHoldout: Processed 40932 (100.0%) in 39.40 sec. Users per second: 1039\n",
      "SearchBayesianSkopt: Config 203 is suboptimal. Config: {'l1_ratio': 0.007006729399364484, 'topK': 4407, 'alpha': 0.000400896246038168, 'workers': 6} - results: PRECISION: 0.0471831, PRECISION_RECALL_MIN_DEN: 0.0744405, RECALL: 0.0688146, MAP: 0.0218552, MAP_MIN_DEN: 0.0344180, MRR: 0.1521939, NDCG: 0.0718843, F1: 0.0559819, HIT_RATE: 0.3240496, ARHR_ALL_HITS: 0.1815784, NOVELTY: 0.0043681, AVERAGE_POPULARITY: 0.2010688, DIVERSITY_MEAN_INTER_LIST: 0.9411545, DIVERSITY_HERFINDAHL: 0.9941131, COVERAGE_ITEM: 0.3370874, COVERAGE_ITEM_HIT: 0.0576570, ITEMS_IN_GT: 0.9953891, COVERAGE_USER: 0.9832569, COVERAGE_USER_HIT: 0.3186240, USERS_IN_GT: 0.9832569, DIVERSITY_GINI: 0.0315959, SHANNON_ENTROPY: 9.2958677, RATIO_DIVERSITY_HERFINDAHL: 0.9944221, RATIO_DIVERSITY_GINI: 0.0605499, RATIO_SHANNON_ENTROPY: 0.6860416, RATIO_AVERAGE_POPULARITY: 3.9373274, RATIO_NOVELTY: 0.3180726, \n",
      "\n"
     ]
    },
    {
     "name": "stderr",
     "output_type": "stream",
     "text": [
      "  0%|          | 0/24507 [00:00<?, ?it/s]"
     ]
    },
    {
     "name": "stdout",
     "output_type": "stream",
     "text": [
      "Iteration No: 60 ended. Evaluation done at random point.\n",
      "Time taken: 782.3505\n",
      "Function value obtained: -0.0219\n",
      "Current minimum: -0.0224\n",
      "Iteration No: 61 started. Evaluating function at random point.\n",
      "SearchBayesianSkopt: Testing config: {'l1_ratio': 1e-05, 'topK': 5478, 'alpha': 0.0021981342350511903, 'workers': 6}\n"
     ]
    },
    {
     "name": "stderr",
     "output_type": "stream",
     "text": [
      "100%|█████████▉| 24504/24507 [17:23<00:00, 23.47it/s]\n",
      "100%|█████████▉| 24504/24507 [16:38<00:00, 42.91it/s]"
     ]
    },
    {
     "name": "stdout",
     "output_type": "stream",
     "text": [
      "EvaluatorHoldout: Processed 40932 (100.0%) in 46.20 sec. Users per second: 886\n",
      "SearchBayesianSkopt: Config 204 is suboptimal. Config: {'l1_ratio': 1e-05, 'topK': 5478, 'alpha': 0.0021981342350511903, 'workers': 6} - results: PRECISION: 0.0486661, PRECISION_RECALL_MIN_DEN: 0.0778355, RECALL: 0.0722169, MAP: 0.0223732, MAP_MIN_DEN: 0.0356561, MRR: 0.1562632, NDCG: 0.0744216, F1: 0.0581474, HIT_RATE: 0.3348969, ARHR_ALL_HITS: 0.1861396, NOVELTY: 0.0042649, AVERAGE_POPULARITY: 0.2168821, DIVERSITY_MEAN_INTER_LIST: 0.9299662, DIVERSITY_HERFINDAHL: 0.9929943, COVERAGE_ITEM: 0.2147142, COVERAGE_ITEM_HIT: 0.0498225, ITEMS_IN_GT: 0.9953891, COVERAGE_USER: 0.9832569, COVERAGE_USER_HIT: 0.3292897, USERS_IN_GT: 0.9832569, DIVERSITY_GINI: 0.0200681, SHANNON_ENTROPY: 8.8210071, RATIO_DIVERSITY_HERFINDAHL: 0.9933030, RATIO_DIVERSITY_GINI: 0.0384582, RATIO_SHANNON_ENTROPY: 0.6509965, RATIO_AVERAGE_POPULARITY: 4.2469831, RATIO_NOVELTY: 0.3105611, \n",
      "\n",
      "Iteration No: 61 ended. Evaluation done at random point.\n",
      "Time taken: 1064.5833\n",
      "Function value obtained: -0.0224\n",
      "Current minimum: -0.0224\n",
      "Iteration No: 62 started. Evaluating function at random point.\n",
      "SearchBayesianSkopt: Testing config: {'l1_ratio': 0.002120619674653557, 'topK': 2612, 'alpha': 0.01724047027452832, 'workers': 6}\n"
     ]
    },
    {
     "name": "stderr",
     "output_type": "stream",
     "text": [
      "100%|█████████▉| 24504/24507 [18:26<00:00, 22.14it/s]\n"
     ]
    },
    {
     "name": "stdout",
     "output_type": "stream",
     "text": [
      "EvaluatorHoldout: Processed 40932 (100.0%) in 47.96 sec. Users per second: 853\n",
      "SearchBayesianSkopt: Config 205 is suboptimal. Config: {'l1_ratio': 0.002120619674653557, 'topK': 2612, 'alpha': 0.01724047027452832, 'workers': 6} - results: PRECISION: 0.0457002, PRECISION_RECALL_MIN_DEN: 0.0737262, RECALL: 0.0684657, MAP: 0.0207348, MAP_MIN_DEN: 0.0332608, MRR: 0.1474600, NDCG: 0.0699874, F1: 0.0548131, HIT_RATE: 0.3208981, ARHR_ALL_HITS: 0.1740370, NOVELTY: 0.0041013, AVERAGE_POPULARITY: 0.2532769, DIVERSITY_MEAN_INTER_LIST: 0.8981929, DIVERSITY_HERFINDAHL: 0.9898171, COVERAGE_ITEM: 0.2073693, COVERAGE_ITEM_HIT: 0.0322357, ITEMS_IN_GT: 0.9953891, COVERAGE_USER: 0.9832569, COVERAGE_USER_HIT: 0.3155252, USERS_IN_GT: 0.9832569, DIVERSITY_GINI: 0.0128245, SHANNON_ENTROPY: 8.0861405, RATIO_DIVERSITY_HERFINDAHL: 0.9901247, RATIO_DIVERSITY_GINI: 0.0245767, RATIO_SHANNON_ENTROPY: 0.5967629, RATIO_AVERAGE_POPULARITY: 4.9596662, RATIO_NOVELTY: 0.2986421, \n",
      "\n"
     ]
    },
    {
     "name": "stderr",
     "output_type": "stream",
     "text": [
      "100%|█████████▉| 24504/24507 [12:54<00:00, 31.64it/s]\n",
      "  0%|          | 0/24507 [00:00<?, ?it/s]"
     ]
    },
    {
     "name": "stdout",
     "output_type": "stream",
     "text": [
      "Iteration No: 62 ended. Evaluation done at random point.\n",
      "Time taken: 778.7444\n",
      "Function value obtained: -0.0207\n",
      "Current minimum: -0.0224\n",
      "Iteration No: 63 started. Evaluating function at random point.\n",
      "SearchBayesianSkopt: Testing config: {'l1_ratio': 1.121468303727968e-05, 'topK': 1641, 'alpha': 0.0014926625786994847, 'workers': 6}\n"
     ]
    },
    {
     "name": "stderr",
     "output_type": "stream",
     "text": [
      "100%|█████████▉| 24504/24507 [15:58<00:00, 53.49it/s]"
     ]
    },
    {
     "name": "stdout",
     "output_type": "stream",
     "text": [
      "EvaluatorHoldout: Processed 40932 (100.0%) in 42.35 sec. Users per second: 967\n",
      "SearchBayesianSkopt: Config 206 is suboptimal. Config: {'l1_ratio': 1.121468303727968e-05, 'topK': 1641, 'alpha': 0.0014926625786994847, 'workers': 6} - results: PRECISION: 0.0485171, PRECISION_RECALL_MIN_DEN: 0.0773245, RECALL: 0.0716761, MAP: 0.0223276, MAP_MIN_DEN: 0.0354337, MRR: 0.1554965, NDCG: 0.0740082, F1: 0.0578654, HIT_RATE: 0.3332845, ARHR_ALL_HITS: 0.1854814, NOVELTY: 0.0043106, AVERAGE_POPULARITY: 0.2051279, DIVERSITY_MEAN_INTER_LIST: 0.9388975, DIVERSITY_HERFINDAHL: 0.9938875, COVERAGE_ITEM: 0.2405843, COVERAGE_ITEM_HIT: 0.0535765, ITEMS_IN_GT: 0.9953891, COVERAGE_USER: 0.9832569, COVERAGE_USER_HIT: 0.3277042, USERS_IN_GT: 0.9832569, DIVERSITY_GINI: 0.0228997, SHANNON_ENTROPY: 9.0103235, RATIO_DIVERSITY_HERFINDAHL: 0.9941964, RATIO_DIVERSITY_GINI: 0.0438847, RATIO_SHANNON_ENTROPY: 0.6649682, RATIO_AVERAGE_POPULARITY: 4.0168125, RATIO_NOVELTY: 0.3138827, \n",
      "\n"
     ]
    },
    {
     "name": "stderr",
     "output_type": "stream",
     "text": [
      "100%|█████████▉| 24504/24507 [16:48<00:00, 24.30it/s]\n"
     ]
    },
    {
     "name": "stdout",
     "output_type": "stream",
     "text": [
      "Iteration No: 63 ended. Evaluation done at random point.\n",
      "Time taken: 1011.4989\n",
      "Function value obtained: -0.0223\n",
      "Current minimum: -0.0224\n",
      "Iteration No: 64 started. Evaluating function at random point.\n",
      "SearchBayesianSkopt: Testing config: {'l1_ratio': 0.03157771840944363, 'topK': 548, 'alpha': 9.564800211284823e-05, 'workers': 6}\n"
     ]
    },
    {
     "name": "stderr",
     "output_type": "stream",
     "text": [
      "100%|█████████▉| 24504/24507 [12:36<00:00, 48.15it/s]"
     ]
    },
    {
     "name": "stdout",
     "output_type": "stream",
     "text": [
      "EvaluatorHoldout: Processed 40932 (100.0%) in 36.91 sec. Users per second: 1109\n",
      "SearchBayesianSkopt: Config 207 is suboptimal. Config: {'l1_ratio': 0.03157771840944363, 'topK': 548, 'alpha': 9.564800211284823e-05, 'workers': 6} - results: PRECISION: 0.0421773, PRECISION_RECALL_MIN_DEN: 0.0650803, RECALL: 0.0596909, MAP: 0.0196685, MAP_MIN_DEN: 0.0304518, MRR: 0.1386988, NDCG: 0.0639699, F1: 0.0494286, HIT_RATE: 0.2924851, ARHR_ALL_HITS: 0.1643708, NOVELTY: 0.0046035, AVERAGE_POPULARITY: 0.1409413, DIVERSITY_MEAN_INTER_LIST: 0.9740774, DIVERSITY_HERFINDAHL: 0.9974054, COVERAGE_ITEM: 0.4705594, COVERAGE_ITEM_HIT: 0.0655323, ITEMS_IN_GT: 0.9953891, COVERAGE_USER: 0.9832569, COVERAGE_USER_HIT: 0.2875880, USERS_IN_GT: 0.9832569, DIVERSITY_GINI: 0.0546496, SHANNON_ENTROPY: 10.1941549, RATIO_DIVERSITY_HERFINDAHL: 0.9977154, RATIO_DIVERSITY_GINI: 0.1047298, RATIO_SHANNON_ENTROPY: 0.7523358, RATIO_AVERAGE_POPULARITY: 2.7599117, RATIO_NOVELTY: 0.3352164, \n",
      "\n"
     ]
    },
    {
     "name": "stderr",
     "output_type": "stream",
     "text": []
    },
    {
     "name": "stdout",
     "output_type": "stream",
     "text": [
      "Iteration No: 64 ended. Evaluation done at random point.\n",
      "Time taken: 789.7330\n",
      "Function value obtained: -0.0197\n",
      "Current minimum: -0.0224\n",
      "Iteration No: 65 started. Evaluating function at random point.\n",
      "SearchBayesianSkopt: Testing config: {'l1_ratio': 1e-05, 'topK': 1786, 'alpha': 0.002947859274355865, 'workers': 6}\n"
     ]
    },
    {
     "name": "stderr",
     "output_type": "stream",
     "text": [
      "100%|█████████▉| 24504/24507 [13:30<00:00, 30.25it/s]\n"
     ]
    },
    {
     "name": "stdout",
     "output_type": "stream",
     "text": [
      "EvaluatorHoldout: Processed 40932 (100.0%) in 46.45 sec. Users per second: 881\n",
      "SearchBayesianSkopt: Config 208 is suboptimal. Config: {'l1_ratio': 1e-05, 'topK': 1786, 'alpha': 0.002947859274355865, 'workers': 6} - results: PRECISION: 0.0485219, PRECISION_RECALL_MIN_DEN: 0.0778205, RECALL: 0.0722367, MAP: 0.0223102, MAP_MIN_DEN: 0.0355872, MRR: 0.1559854, NDCG: 0.0742902, F1: 0.0580507, HIT_RATE: 0.3342128, ARHR_ALL_HITS: 0.1856887, NOVELTY: 0.0042570, AVERAGE_POPULARITY: 0.2150785, DIVERSITY_MEAN_INTER_LIST: 0.9317109, DIVERSITY_HERFINDAHL: 0.9931688, COVERAGE_ITEM: 0.2038601, COVERAGE_ITEM_HIT: 0.0480679, ITEMS_IN_GT: 0.9953891, COVERAGE_USER: 0.9832569, COVERAGE_USER_HIT: 0.3286171, USERS_IN_GT: 0.9832569, DIVERSITY_GINI: 0.0189468, SHANNON_ENTROPY: 8.7768357, RATIO_DIVERSITY_HERFINDAHL: 0.9934775, RATIO_DIVERSITY_GINI: 0.0363095, RATIO_SHANNON_ENTROPY: 0.6477367, RATIO_AVERAGE_POPULARITY: 4.2116640, RATIO_NOVELTY: 0.3099855, \n",
      "\n"
     ]
    },
    {
     "name": "stderr",
     "output_type": "stream",
     "text": [
      "100%|█████████▉| 24504/24507 [16:38<00:00, 24.54it/s]\n",
      "  0%|          | 0/24507 [00:00<?, ?it/s]"
     ]
    },
    {
     "name": "stdout",
     "output_type": "stream",
     "text": [
      "Iteration No: 65 ended. Evaluation done at random point.\n",
      "Time taken: 1002.1194\n",
      "Function value obtained: -0.0223\n",
      "Current minimum: -0.0224\n",
      "Iteration No: 66 started. Evaluating function at random point.\n",
      "SearchBayesianSkopt: Testing config: {'l1_ratio': 0.014914237833009785, 'topK': 402, 'alpha': 0.0014244705451569599, 'workers': 6}\n"
     ]
    },
    {
     "name": "stderr",
     "output_type": "stream",
     "text": [
      "100%|█████████▉| 24504/24507 [11:30<00:00, 56.82it/s]"
     ]
    },
    {
     "name": "stdout",
     "output_type": "stream",
     "text": [
      "EvaluatorHoldout: Processed 40932 (100.0%) in 39.06 sec. Users per second: 1048\n",
      "SearchBayesianSkopt: Config 209 is suboptimal. Config: {'l1_ratio': 0.014914237833009785, 'topK': 402, 'alpha': 0.0014244705451569599, 'workers': 6} - results: PRECISION: 0.0483021, PRECISION_RECALL_MIN_DEN: 0.0767708, RECALL: 0.0710836, MAP: 0.0221642, MAP_MIN_DEN: 0.0351034, MRR: 0.1542619, NDCG: 0.0734389, F1: 0.0575192, HIT_RATE: 0.3318675, ARHR_ALL_HITS: 0.1840308, NOVELTY: 0.0044051, AVERAGE_POPULARITY: 0.1793681, DIVERSITY_MEAN_INTER_LIST: 0.9550919, DIVERSITY_HERFINDAHL: 0.9955069, COVERAGE_ITEM: 0.2646999, COVERAGE_ITEM_HIT: 0.0553719, ITEMS_IN_GT: 0.9953891, COVERAGE_USER: 0.9832569, COVERAGE_USER_HIT: 0.3263110, USERS_IN_GT: 0.9832569, DIVERSITY_GINI: 0.0279002, SHANNON_ENTROPY: 9.3506549, RATIO_DIVERSITY_HERFINDAHL: 0.9958163, RATIO_DIVERSITY_GINI: 0.0534676, RATIO_SHANNON_ENTROPY: 0.6900849, RATIO_AVERAGE_POPULARITY: 3.5123832, RATIO_NOVELTY: 0.3207641, \n",
      "\n"
     ]
    },
    {
     "name": "stderr",
     "output_type": "stream",
     "text": [
      "100%|█████████▉| 24504/24507 [12:01<00:00, 33.97it/s]\n",
      "  0%|          | 0/24507 [00:00<?, ?it/s]"
     ]
    },
    {
     "name": "stdout",
     "output_type": "stream",
     "text": [
      "Iteration No: 66 ended. Evaluation done at random point.\n",
      "Time taken: 724.5328\n",
      "Function value obtained: -0.0222\n",
      "Current minimum: -0.0224\n",
      "Iteration No: 67 started. Evaluating function at random point.\n",
      "SearchBayesianSkopt: Testing config: {'l1_ratio': 1.0692251431445087e-05, 'topK': 4556, 'alpha': 0.004459232349144129, 'workers': 6}\n"
     ]
    },
    {
     "name": "stderr",
     "output_type": "stream",
     "text": [
      "100%|█████████▉| 24504/24507 [16:18<00:00, 34.79it/s]"
     ]
    },
    {
     "name": "stdout",
     "output_type": "stream",
     "text": [
      "EvaluatorHoldout: Processed 40932 (100.0%) in 52.09 sec. Users per second: 786\n",
      "SearchBayesianSkopt: Config 210 is suboptimal. Config: {'l1_ratio': 1.0692251431445087e-05, 'topK': 4556, 'alpha': 0.004459232349144129, 'workers': 6} - results: PRECISION: 0.0482239, PRECISION_RECALL_MIN_DEN: 0.0774464, RECALL: 0.0719516, MAP: 0.0220877, MAP_MIN_DEN: 0.0352886, MRR: 0.1549436, NDCG: 0.0738084, F1: 0.0577453, HIT_RATE: 0.3333822, ARHR_ALL_HITS: 0.1841202, NOVELTY: 0.0042086, AVERAGE_POPULARITY: 0.2270880, DIVERSITY_MEAN_INTER_LIST: 0.9221549, DIVERSITY_HERFINDAHL: 0.9922132, COVERAGE_ITEM: 0.1889256, COVERAGE_ITEM_HIT: 0.0442323, ITEMS_IN_GT: 0.9953891, COVERAGE_USER: 0.9832569, COVERAGE_USER_HIT: 0.3278003, USERS_IN_GT: 0.9832569, DIVERSITY_GINI: 0.0165334, SHANNON_ENTROPY: 8.5735875, RATIO_DIVERSITY_HERFINDAHL: 0.9925216, RATIO_DIVERSITY_GINI: 0.0316844, RATIO_SHANNON_ENTROPY: 0.6327368, RATIO_AVERAGE_POPULARITY: 4.4468345, RATIO_NOVELTY: 0.3064590, \n",
      "\n"
     ]
    },
    {
     "name": "stderr",
     "output_type": "stream",
     "text": [
      "100%|█████████▉| 24504/24507 [17:53<00:00, 22.82it/s]\n"
     ]
    },
    {
     "name": "stdout",
     "output_type": "stream",
     "text": [
      "Iteration No: 67 ended. Evaluation done at random point.\n",
      "Time taken: 1077.0164\n",
      "Function value obtained: -0.0221\n",
      "Current minimum: -0.0224\n",
      "Iteration No: 68 started. Evaluating function at random point.\n",
      "SearchBayesianSkopt: Testing config: {'l1_ratio': 0.00028020077388484, 'topK': 2775, 'alpha': 0.023668720842157192, 'workers': 6}\n"
     ]
    },
    {
     "name": "stderr",
     "output_type": "stream",
     "text": [
      "100%|█████████▉| 24504/24507 [14:34<00:00, 41.49it/s]"
     ]
    },
    {
     "name": "stdout",
     "output_type": "stream",
     "text": [
      "EvaluatorHoldout: Processed 40932 (100.0%) in 54.53 sec. Users per second: 751\n",
      "SearchBayesianSkopt: Config 211 is suboptimal. Config: {'l1_ratio': 0.00028020077388484, 'topK': 2775, 'alpha': 0.023668720842157192, 'workers': 6} - results: PRECISION: 0.0450186, PRECISION_RECALL_MIN_DEN: 0.0727846, RECALL: 0.0676234, MAP: 0.0203816, MAP_MIN_DEN: 0.0327113, MRR: 0.1458182, NDCG: 0.0690196, F1: 0.0540528, HIT_RATE: 0.3182596, ARHR_ALL_HITS: 0.1715743, NOVELTY: 0.0040547, AVERAGE_POPULARITY: 0.2648638, DIVERSITY_MEAN_INTER_LIST: 0.8864728, DIVERSITY_HERFINDAHL: 0.9886451, COVERAGE_ITEM: 0.1493859, COVERAGE_ITEM_HIT: 0.0301546, ITEMS_IN_GT: 0.9953891, COVERAGE_USER: 0.9832569, COVERAGE_USER_HIT: 0.3129309, USERS_IN_GT: 0.9832569, DIVERSITY_GINI: 0.0102595, SHANNON_ENTROPY: 7.8637687, RATIO_DIVERSITY_HERFINDAHL: 0.9889524, RATIO_DIVERSITY_GINI: 0.0196612, RATIO_SHANNON_ENTROPY: 0.5803517, RATIO_AVERAGE_POPULARITY: 5.1865607, RATIO_NOVELTY: 0.2952553, \n",
      "\n"
     ]
    },
    {
     "name": "stderr",
     "output_type": "stream",
     "text": [
      "100%|█████████▉| 24504/24507 [15:46<00:00, 25.88it/s]\n",
      "  0%|          | 0/24507 [00:00<?, ?it/s]"
     ]
    },
    {
     "name": "stdout",
     "output_type": "stream",
     "text": [
      "Iteration No: 68 ended. Evaluation done at random point.\n",
      "Time taken: 951.4404\n",
      "Function value obtained: -0.0204\n",
      "Current minimum: -0.0224\n",
      "Iteration No: 69 started. Evaluating function at random point.\n",
      "SearchBayesianSkopt: Testing config: {'l1_ratio': 0.011530192156068113, 'topK': 2188, 'alpha': 0.00138924472804242, 'workers': 6}\n"
     ]
    },
    {
     "name": "stderr",
     "output_type": "stream",
     "text": [
      "100%|█████████▉| 24504/24507 [11:59<00:00, 54.20it/s]"
     ]
    },
    {
     "name": "stdout",
     "output_type": "stream",
     "text": [
      "EvaluatorHoldout: Processed 40932 (100.0%) in 42.43 sec. Users per second: 965\n",
      "SearchBayesianSkopt: Config 212 is suboptimal. Config: {'l1_ratio': 0.011530192156068113, 'topK': 2188, 'alpha': 0.00138924472804242, 'workers': 6} - results: PRECISION: 0.0487565, PRECISION_RECALL_MIN_DEN: 0.0777674, RECALL: 0.0721239, MAP: 0.0224041, MAP_MIN_DEN: 0.0355440, MRR: 0.1559463, NDCG: 0.0743147, F1: 0.0581816, HIT_RATE: 0.3347747, ARHR_ALL_HITS: 0.1860842, NOVELTY: 0.0043315, AVERAGE_POPULARITY: 0.2056677, DIVERSITY_MEAN_INTER_LIST: 0.9375686, DIVERSITY_HERFINDAHL: 0.9937546, COVERAGE_ITEM: 0.2533970, COVERAGE_ITEM_HIT: 0.0539846, ITEMS_IN_GT: 0.9953891, COVERAGE_USER: 0.9832569, COVERAGE_USER_HIT: 0.3291696, USERS_IN_GT: 0.9832569, DIVERSITY_GINI: 0.0251798, SHANNON_ENTROPY: 9.0914408, RATIO_DIVERSITY_HERFINDAHL: 0.9940634, RATIO_DIVERSITY_GINI: 0.0482543, RATIO_SHANNON_ENTROPY: 0.6709547, RATIO_AVERAGE_POPULARITY: 4.0273822, RATIO_NOVELTY: 0.3154085, \n",
      "\n"
     ]
    },
    {
     "name": "stderr",
     "output_type": "stream",
     "text": []
    },
    {
     "name": "stdout",
     "output_type": "stream",
     "text": [
      "Iteration No: 69 ended. Evaluation done at random point.\n",
      "Time taken: 766.0213\n",
      "Function value obtained: -0.0224\n",
      "Current minimum: -0.0224\n",
      "Iteration No: 70 started. Evaluating function at random point.\n",
      "SearchBayesianSkopt: Testing config: {'l1_ratio': 0.010510340255908055, 'topK': 5693, 'alpha': 6.163272416405512e-05, 'workers': 6}\n"
     ]
    },
    {
     "name": "stderr",
     "output_type": "stream",
     "text": [
      "100%|█████████▉| 24504/24507 [13:16<00:00, 30.78it/s]\n"
     ]
    },
    {
     "name": "stdout",
     "output_type": "stream",
     "text": [
      "EvaluatorHoldout: Processed 40932 (100.0%) in 37.02 sec. Users per second: 1106\n",
      "SearchBayesianSkopt: Config 213 is suboptimal. Config: {'l1_ratio': 0.010510340255908055, 'topK': 5693, 'alpha': 6.163272416405512e-05, 'workers': 6} - results: PRECISION: 0.0443834, PRECISION_RECALL_MIN_DEN: 0.0690638, RECALL: 0.0635795, MAP: 0.0206700, MAP_MIN_DEN: 0.0321256, MRR: 0.1442649, NDCG: 0.0673256, F1: 0.0522749, HIT_RATE: 0.3059709, ARHR_ALL_HITS: 0.1718784, NOVELTY: 0.0044336, AVERAGE_POPULARITY: 0.1902473, DIVERSITY_MEAN_INTER_LIST: 0.9486814, DIVERSITY_HERFINDAHL: 0.9948658, COVERAGE_ITEM: 0.4569715, COVERAGE_ITEM_HIT: 0.0584323, ITEMS_IN_GT: 0.9953891, COVERAGE_USER: 0.9832569, COVERAGE_USER_HIT: 0.3008480, USERS_IN_GT: 0.9832569, DIVERSITY_GINI: 0.0451776, SHANNON_ENTROPY: 9.6267464, RATIO_DIVERSITY_HERFINDAHL: 0.9951750, RATIO_DIVERSITY_GINI: 0.0865779, RATIO_SHANNON_ENTROPY: 0.7104607, RATIO_AVERAGE_POPULARITY: 3.7254203, RATIO_NOVELTY: 0.3228422, \n",
      "\n"
     ]
    },
    {
     "name": "stderr",
     "output_type": "stream",
     "text": [
      "100%|█████████▉| 24504/24507 [13:09<00:00, 31.04it/s]\n",
      "  0%|          | 0/24507 [00:00<?, ?it/s]"
     ]
    },
    {
     "name": "stdout",
     "output_type": "stream",
     "text": [
      "Iteration No: 70 ended. Evaluation done at random point.\n",
      "Time taken: 793.0826\n",
      "Function value obtained: -0.0207\n",
      "Current minimum: -0.0224\n",
      "Iteration No: 71 started. Evaluating function at random point.\n",
      "SearchBayesianSkopt: Testing config: {'l1_ratio': 1e-05, 'topK': 3085, 'alpha': 0.001981933243656835, 'workers': 6}\n"
     ]
    },
    {
     "name": "stderr",
     "output_type": "stream",
     "text": [
      "100%|█████████▉| 24504/24507 [16:33<00:00, 51.79it/s]"
     ]
    },
    {
     "name": "stdout",
     "output_type": "stream",
     "text": [
      "EvaluatorHoldout: Processed 40932 (100.0%) in 47.14 sec. Users per second: 868\n",
      "SearchBayesianSkopt: Config 214 is suboptimal. Config: {'l1_ratio': 1e-05, 'topK': 3085, 'alpha': 0.001981933243656835, 'workers': 6} - results: PRECISION: 0.0486074, PRECISION_RECALL_MIN_DEN: 0.0776677, RECALL: 0.0720522, MAP: 0.0223699, MAP_MIN_DEN: 0.0356347, MRR: 0.1561938, NDCG: 0.0743467, F1: 0.0580521, HIT_RATE: 0.3343594, ARHR_ALL_HITS: 0.1860982, NOVELTY: 0.0042723, AVERAGE_POPULARITY: 0.2156571, DIVERSITY_MEAN_INTER_LIST: 0.9308731, DIVERSITY_HERFINDAHL: 0.9930850, COVERAGE_ITEM: 0.2205900, COVERAGE_ITEM_HIT: 0.0503938, ITEMS_IN_GT: 0.9953891, COVERAGE_USER: 0.9832569, COVERAGE_USER_HIT: 0.3287612, USERS_IN_GT: 0.9832569, DIVERSITY_GINI: 0.0206483, SHANNON_ENTROPY: 8.8538490, RATIO_DIVERSITY_HERFINDAHL: 0.9933937, RATIO_DIVERSITY_GINI: 0.0395701, RATIO_SHANNON_ENTROPY: 0.6534203, RATIO_AVERAGE_POPULARITY: 4.2229944, RATIO_NOVELTY: 0.3110991, \n",
      "\n"
     ]
    },
    {
     "name": "stderr",
     "output_type": "stream",
     "text": [
      "100%|█████████▉| 24504/24507 [17:35<00:00, 23.22it/s]\n",
      "  0%|          | 0/24507 [00:00<?, ?it/s]"
     ]
    },
    {
     "name": "stdout",
     "output_type": "stream",
     "text": [
      "Iteration No: 71 ended. Evaluation done at random point.\n",
      "Time taken: 1058.8370\n",
      "Function value obtained: -0.0224\n",
      "Current minimum: -0.0224\n",
      "Iteration No: 72 started. Evaluating function at random point.\n",
      "SearchBayesianSkopt: Testing config: {'l1_ratio': 0.000795355061446669, 'topK': 4646, 'alpha': 0.012842263435609666, 'workers': 6}\n"
     ]
    },
    {
     "name": "stderr",
     "output_type": "stream",
     "text": [
      "100%|█████████▉| 24504/24507 [15:20<00:00, 48.66it/s]"
     ]
    },
    {
     "name": "stdout",
     "output_type": "stream",
     "text": [
      "EvaluatorHoldout: Processed 40932 (100.0%) in 1.00 min. Users per second: 679\n",
      "SearchBayesianSkopt: Config 215 is suboptimal. Config: {'l1_ratio': 0.000795355061446669, 'topK': 4646, 'alpha': 0.012842263435609666, 'workers': 6} - results: PRECISION: 0.0465992, PRECISION_RECALL_MIN_DEN: 0.0751060, RECALL: 0.0697828, MAP: 0.0211937, MAP_MIN_DEN: 0.0339258, MRR: 0.1500348, NDCG: 0.0713155, F1: 0.0558819, HIT_RATE: 0.3258575, ARHR_ALL_HITS: 0.1774895, NOVELTY: 0.0041181, AVERAGE_POPULARITY: 0.2479921, DIVERSITY_MEAN_INTER_LIST: 0.9036543, DIVERSITY_HERFINDAHL: 0.9903632, COVERAGE_ITEM: 0.1742767, COVERAGE_ITEM_HIT: 0.0352144, ITEMS_IN_GT: 0.9953891, COVERAGE_USER: 0.9832569, COVERAGE_USER_HIT: 0.3204016, USERS_IN_GT: 0.9832569, DIVERSITY_GINI: 0.0126886, SHANNON_ENTROPY: 8.1650331, RATIO_DIVERSITY_HERFINDAHL: 0.9906710, RATIO_DIVERSITY_GINI: 0.0243162, RATIO_SHANNON_ENTROPY: 0.6025852, RATIO_AVERAGE_POPULARITY: 4.8561789, RATIO_NOVELTY: 0.2998694, \n",
      "\n"
     ]
    },
    {
     "name": "stderr",
     "output_type": "stream",
     "text": [
      "100%|█████████▉| 24504/24507 [17:20<00:00, 23.54it/s]\n"
     ]
    },
    {
     "name": "stdout",
     "output_type": "stream",
     "text": [
      "Iteration No: 72 ended. Evaluation done at random point.\n",
      "Time taken: 1045.3442\n",
      "Function value obtained: -0.0212\n",
      "Current minimum: -0.0224\n",
      "Iteration No: 73 started. Evaluating function at random point.\n",
      "SearchBayesianSkopt: Testing config: {'l1_ratio': 8.566006054614902e-05, 'topK': 669, 'alpha': 0.0005095893808201819, 'workers': 6}\n"
     ]
    },
    {
     "name": "stderr",
     "output_type": "stream",
     "text": [
      "100%|█████████▉| 24504/24507 [12:59<00:00, 46.20it/s]"
     ]
    },
    {
     "name": "stdout",
     "output_type": "stream",
     "text": [
      "EvaluatorHoldout: Processed 40932 (100.0%) in 36.91 sec. Users per second: 1109\n",
      "SearchBayesianSkopt: Config 216 is suboptimal. Config: {'l1_ratio': 8.566006054614902e-05, 'topK': 669, 'alpha': 0.0005095893808201819, 'workers': 6} - results: PRECISION: 0.0460153, PRECISION_RECALL_MIN_DEN: 0.0721791, RECALL: 0.0665568, MAP: 0.0212933, MAP_MIN_DEN: 0.0334190, MRR: 0.1484488, NDCG: 0.0698880, F1: 0.0544119, HIT_RATE: 0.3161585, ARHR_ALL_HITS: 0.1769566, NOVELTY: 0.0044857, AVERAGE_POPULARITY: 0.1619439, DIVERSITY_MEAN_INTER_LIST: 0.9646908, DIVERSITY_HERFINDAHL: 0.9964667, COVERAGE_ITEM: 0.3612437, COVERAGE_ITEM_HIT: 0.0613702, ITEMS_IN_GT: 0.9953891, COVERAGE_USER: 0.9832569, COVERAGE_USER_HIT: 0.3108650, USERS_IN_GT: 0.9832569, DIVERSITY_GINI: 0.0367470, SHANNON_ENTROPY: 9.7041150, RATIO_DIVERSITY_HERFINDAHL: 0.9967764, RATIO_DIVERSITY_GINI: 0.0704215, RATIO_SHANNON_ENTROPY: 0.7161705, RATIO_AVERAGE_POPULARITY: 3.1711831, RATIO_NOVELTY: 0.3266372, \n",
      "\n",
      "Iteration No: 73 ended. Evaluation done at random point.\n",
      "Time taken: 817.0164\n",
      "Function value obtained: -0.0213\n",
      "Current minimum: -0.0224\n",
      "Iteration No: 74 started. Evaluating function at random point.\n",
      "SearchBayesianSkopt: Testing config: {'l1_ratio': 4.1830955428793696e-05, 'topK': 3719, 'alpha': 0.0013064437455761792, 'workers': 6}\n"
     ]
    },
    {
     "name": "stderr",
     "output_type": "stream",
     "text": [
      "100%|█████████▉| 24504/24507 [14:46<00:00, 27.64it/s]\n"
     ]
    },
    {
     "name": "stdout",
     "output_type": "stream",
     "text": [
      "EvaluatorHoldout: Processed 40932 (100.0%) in 42.01 sec. Users per second: 974\n",
      "SearchBayesianSkopt: Config 217 is suboptimal. Config: {'l1_ratio': 4.1830955428793696e-05, 'topK': 3719, 'alpha': 0.0013064437455761792, 'workers': 6} - results: PRECISION: 0.0485244, PRECISION_RECALL_MIN_DEN: 0.0773109, RECALL: 0.0716622, MAP: 0.0223299, MAP_MIN_DEN: 0.0354703, MRR: 0.1555216, NDCG: 0.0740497, F1: 0.0578661, HIT_RATE: 0.3333578, ARHR_ALL_HITS: 0.1855506, NOVELTY: 0.0042991, AVERAGE_POPULARITY: 0.2116018, DIVERSITY_MEAN_INTER_LIST: 0.9337601, DIVERSITY_HERFINDAHL: 0.9933737, COVERAGE_ITEM: 0.2465418, COVERAGE_ITEM_HIT: 0.0534133, ITEMS_IN_GT: 0.9953891, COVERAGE_USER: 0.9832569, COVERAGE_USER_HIT: 0.3277763, USERS_IN_GT: 0.9832569, DIVERSITY_GINI: 0.0230570, SHANNON_ENTROPY: 8.9748106, RATIO_DIVERSITY_HERFINDAHL: 0.9936825, RATIO_DIVERSITY_GINI: 0.0441862, RATIO_SHANNON_ENTROPY: 0.6623474, RATIO_AVERAGE_POPULARITY: 4.1435839, RATIO_NOVELTY: 0.3130517, \n",
      "\n"
     ]
    },
    {
     "name": "stderr",
     "output_type": "stream",
     "text": [
      "  0%|          | 0/24507 [00:00<?, ?it/s]"
     ]
    },
    {
     "name": "stdout",
     "output_type": "stream",
     "text": [
      "Iteration No: 74 ended. Evaluation done at random point.\n",
      "Time taken: 842.2787\n",
      "Function value obtained: -0.0223\n",
      "Current minimum: -0.0224\n",
      "Iteration No: 75 started. Evaluating function at random point.\n",
      "SearchBayesianSkopt: Testing config: {'l1_ratio': 0.00010437770349436379, 'topK': 2059, 'alpha': 0.002014769872076169, 'workers': 6}\n"
     ]
    },
    {
     "name": "stderr",
     "output_type": "stream",
     "text": [
      "100%|█████████▉| 24504/24507 [14:11<00:00, 28.76it/s]\n",
      "100%|█████████▉| 24504/24507 [13:19<00:00, 52.10it/s]"
     ]
    },
    {
     "name": "stdout",
     "output_type": "stream",
     "text": [
      "EvaluatorHoldout: Processed 40932 (100.0%) in 44.48 sec. Users per second: 920\n",
      "SearchBayesianSkopt: Config 218 is suboptimal. Config: {'l1_ratio': 0.00010437770349436379, 'topK': 2059, 'alpha': 0.002014769872076169, 'workers': 6} - results: PRECISION: 0.0486343, PRECISION_RECALL_MIN_DEN: 0.0776615, RECALL: 0.0720401, MAP: 0.0223863, MAP_MIN_DEN: 0.0356461, MRR: 0.1562203, NDCG: 0.0743583, F1: 0.0580673, HIT_RATE: 0.3343594, ARHR_ALL_HITS: 0.1861637, NOVELTY: 0.0042785, AVERAGE_POPULARITY: 0.2127086, DIVERSITY_MEAN_INTER_LIST: 0.9333106, DIVERSITY_HERFINDAHL: 0.9933288, COVERAGE_ITEM: 0.2201412, COVERAGE_ITEM_HIT: 0.0506794, ITEMS_IN_GT: 0.9953891, COVERAGE_USER: 0.9832569, COVERAGE_USER_HIT: 0.3287612, USERS_IN_GT: 0.9832569, DIVERSITY_GINI: 0.0207559, SHANNON_ENTROPY: 8.8756611, RATIO_DIVERSITY_HERFINDAHL: 0.9936375, RATIO_DIVERSITY_GINI: 0.0397764, RATIO_SHANNON_ENTROPY: 0.6550301, RATIO_AVERAGE_POPULARITY: 4.1652570, RATIO_NOVELTY: 0.3115482, \n",
      "\n"
     ]
    },
    {
     "name": "stderr",
     "output_type": "stream",
     "text": [
      "100%|█████████▉| 24504/24507 [14:12<00:00, 28.73it/s]\n",
      "  0%|          | 0/24507 [00:00<?, ?it/s]"
     ]
    },
    {
     "name": "stdout",
     "output_type": "stream",
     "text": [
      "Iteration No: 75 ended. Evaluation done at random point.\n",
      "Time taken: 856.4887\n",
      "Function value obtained: -0.0224\n",
      "Current minimum: -0.0224\n",
      "Iteration No: 76 started. Evaluating function at random point.\n",
      "SearchBayesianSkopt: Testing config: {'l1_ratio': 6.755746007772721e-05, 'topK': 5867, 'alpha': 0.0068644745054099055, 'workers': 6}\n"
     ]
    },
    {
     "name": "stderr",
     "output_type": "stream",
     "text": [
      "100%|█████████▉| 24504/24507 [15:18<00:00, 48.96it/s]"
     ]
    },
    {
     "name": "stdout",
     "output_type": "stream",
     "text": [
      "EvaluatorHoldout: Processed 40932 (100.0%) in 54.92 sec. Users per second: 745\n",
      "SearchBayesianSkopt: Config 219 is suboptimal. Config: {'l1_ratio': 6.755746007772721e-05, 'topK': 5867, 'alpha': 0.0068644745054099055, 'workers': 6} - results: PRECISION: 0.0478379, PRECISION_RECALL_MIN_DEN: 0.0769579, RECALL: 0.0715087, MAP: 0.0218054, MAP_MIN_DEN: 0.0348402, MRR: 0.1533773, NDCG: 0.0731045, F1: 0.0573259, HIT_RATE: 0.3324294, ARHR_ALL_HITS: 0.1820523, NOVELTY: 0.0041705, AVERAGE_POPULARITY: 0.2350172, DIVERSITY_MEAN_INTER_LIST: 0.9155949, DIVERSITY_HERFINDAHL: 0.9915573, COVERAGE_ITEM: 0.1771331, COVERAGE_ITEM_HIT: 0.0408863, ITEMS_IN_GT: 0.9953891, COVERAGE_USER: 0.9832569, COVERAGE_USER_HIT: 0.3268635, USERS_IN_GT: 0.9832569, DIVERSITY_GINI: 0.0146201, SHANNON_ENTROPY: 8.4037693, RATIO_DIVERSITY_HERFINDAHL: 0.9918654, RATIO_DIVERSITY_GINI: 0.0280178, RATIO_SHANNON_ENTROPY: 0.6202041, RATIO_AVERAGE_POPULARITY: 4.6021038, RATIO_NOVELTY: 0.3036806, \n",
      "\n"
     ]
    },
    {
     "name": "stderr",
     "output_type": "stream",
     "text": [
      "100%|█████████▉| 24504/24507 [16:56<00:00, 24.10it/s]\n"
     ]
    },
    {
     "name": "stdout",
     "output_type": "stream",
     "text": [
      "Iteration No: 76 ended. Evaluation done at random point.\n",
      "Time taken: 1020.4278\n",
      "Function value obtained: -0.0218\n",
      "Current minimum: -0.0224\n",
      "Iteration No: 77 started. Evaluating function at random point.\n",
      "SearchBayesianSkopt: Testing config: {'l1_ratio': 3.228991823258823e-05, 'topK': 6000, 'alpha': 0.001784278963650846, 'workers': 6}\n"
     ]
    },
    {
     "name": "stderr",
     "output_type": "stream",
     "text": [
      "100%|█████████▉| 24504/24507 [14:49<00:00, 49.23it/s]"
     ]
    },
    {
     "name": "stdout",
     "output_type": "stream",
     "text": [
      "EvaluatorHoldout: Processed 40932 (100.0%) in 54.90 sec. Users per second: 746\n",
      "SearchBayesianSkopt: Config 220 is suboptimal. Config: {'l1_ratio': 3.228991823258823e-05, 'topK': 6000, 'alpha': 0.001784278963650846, 'workers': 6} - results: PRECISION: 0.0486001, PRECISION_RECALL_MIN_DEN: 0.0776061, RECALL: 0.0719780, MAP: 0.0223649, MAP_MIN_DEN: 0.0355939, MRR: 0.1560630, NDCG: 0.0742870, F1: 0.0580228, HIT_RATE: 0.3342861, ARHR_ALL_HITS: 0.1860065, NOVELTY: 0.0042794, AVERAGE_POPULARITY: 0.2145880, DIVERSITY_MEAN_INTER_LIST: 0.9316368, DIVERSITY_HERFINDAHL: 0.9931614, COVERAGE_ITEM: 0.2263027, COVERAGE_ITEM_HIT: 0.0516995, ITEMS_IN_GT: 0.9953891, COVERAGE_USER: 0.9832569, COVERAGE_USER_HIT: 0.3286891, USERS_IN_GT: 0.9832569, DIVERSITY_GINI: 0.0212357, SHANNON_ENTROPY: 8.8853311, RATIO_DIVERSITY_HERFINDAHL: 0.9934701, RATIO_DIVERSITY_GINI: 0.0406959, RATIO_SHANNON_ENTROPY: 0.6557437, RATIO_AVERAGE_POPULARITY: 4.2020593, RATIO_NOVELTY: 0.3116139, \n",
      "\n"
     ]
    },
    {
     "name": "stderr",
     "output_type": "stream",
     "text": []
    },
    {
     "name": "stdout",
     "output_type": "stream",
     "text": [
      "Iteration No: 77 ended. Evaluation done at random point.\n",
      "Time taken: 963.0325\n",
      "Function value obtained: -0.0224\n",
      "Current minimum: -0.0224\n",
      "Iteration No: 78 started. Evaluating function at random point.\n",
      "SearchBayesianSkopt: Testing config: {'l1_ratio': 0.001724174990686754, 'topK': 4753, 'alpha': 0.0015852631431319854, 'workers': 6}\n"
     ]
    },
    {
     "name": "stderr",
     "output_type": "stream",
     "text": [
      "100%|█████████▉| 24504/24507 [16:42<00:00, 24.44it/s]\n"
     ]
    },
    {
     "name": "stdout",
     "output_type": "stream",
     "text": [
      "EvaluatorHoldout: Processed 40932 (100.0%) in 45.19 sec. Users per second: 906\n",
      "SearchBayesianSkopt: Config 221 is suboptimal. Config: {'l1_ratio': 0.001724174990686754, 'topK': 4753, 'alpha': 0.0015852631431319854, 'workers': 6} - results: PRECISION: 0.0486465, PRECISION_RECALL_MIN_DEN: 0.0776383, RECALL: 0.0720038, MAP: 0.0223875, MAP_MIN_DEN: 0.0355983, MRR: 0.1560904, NDCG: 0.0743160, F1: 0.0580642, HIT_RATE: 0.3343106, ARHR_ALL_HITS: 0.1861234, NOVELTY: 0.0042932, AVERAGE_POPULARITY: 0.2123288, DIVERSITY_MEAN_INTER_LIST: 0.9331861, DIVERSITY_HERFINDAHL: 0.9933163, COVERAGE_ITEM: 0.2353205, COVERAGE_ITEM_HIT: 0.0527196, ITEMS_IN_GT: 0.9953891, COVERAGE_USER: 0.9832569, COVERAGE_USER_HIT: 0.3287132, USERS_IN_GT: 0.9832569, DIVERSITY_GINI: 0.0222918, SHANNON_ENTROPY: 8.9423329, RATIO_DIVERSITY_HERFINDAHL: 0.9936251, RATIO_DIVERSITY_GINI: 0.0427197, RATIO_SHANNON_ENTROPY: 0.6599505, RATIO_AVERAGE_POPULARITY: 4.1578199, RATIO_NOVELTY: 0.3126158, \n",
      "\n"
     ]
    },
    {
     "name": "stderr",
     "output_type": "stream",
     "text": [
      "100%|█████████▉| 24504/24507 [14:05<00:00, 28.99it/s]\n",
      "  0%|          | 0/24507 [00:00<?, ?it/s]"
     ]
    },
    {
     "name": "stdout",
     "output_type": "stream",
     "text": [
      "Iteration No: 78 ended. Evaluation done at random point.\n",
      "Time taken: 848.8005\n",
      "Function value obtained: -0.0224\n",
      "Current minimum: -0.0224\n",
      "Iteration No: 79 started. Evaluating function at random point.\n",
      "SearchBayesianSkopt: Testing config: {'l1_ratio': 0.0001535865719214814, 'topK': 805, 'alpha': 0.049656091226186326, 'workers': 6}\n"
     ]
    },
    {
     "name": "stderr",
     "output_type": "stream",
     "text": [
      "100%|█████████▉| 24504/24507 [13:26<00:00, 35.46it/s]"
     ]
    },
    {
     "name": "stdout",
     "output_type": "stream",
     "text": [
      "EvaluatorHoldout: Processed 40932 (100.0%) in 48.86 sec. Users per second: 838\n",
      "SearchBayesianSkopt: Config 222 is suboptimal. Config: {'l1_ratio': 0.0001535865719214814, 'topK': 805, 'alpha': 0.049656091226186326, 'workers': 6} - results: PRECISION: 0.0428467, PRECISION_RECALL_MIN_DEN: 0.0694826, RECALL: 0.0645607, MAP: 0.0191843, MAP_MIN_DEN: 0.0308557, MRR: 0.1391659, NDCG: 0.0656110, F1: 0.0515088, HIT_RATE: 0.3074856, ARHR_ALL_HITS: 0.1626519, NOVELTY: 0.0039956, AVERAGE_POPULARITY: 0.2844359, DIVERSITY_MEAN_INTER_LIST: 0.8627546, DIVERSITY_HERFINDAHL: 0.9862734, COVERAGE_ITEM: 0.1603215, COVERAGE_ITEM_HIT: 0.0255029, ITEMS_IN_GT: 0.9953891, COVERAGE_USER: 0.9832569, COVERAGE_USER_HIT: 0.3023373, USERS_IN_GT: 0.9832569, DIVERSITY_GINI: 0.0090439, SHANNON_ENTROPY: 7.5659885, RATIO_DIVERSITY_HERFINDAHL: 0.9865799, RATIO_DIVERSITY_GINI: 0.0173316, RATIO_SHANNON_ENTROPY: 0.5583753, RATIO_AVERAGE_POPULARITY: 5.5698203, RATIO_NOVELTY: 0.2909476, \n",
      "\n"
     ]
    },
    {
     "name": "stderr",
     "output_type": "stream",
     "text": [
      "100%|█████████▉| 24504/24507 [14:14<00:00, 28.67it/s]\n",
      "  0%|          | 0/24507 [00:00<?, ?it/s]"
     ]
    },
    {
     "name": "stdout",
     "output_type": "stream",
     "text": [
      "Iteration No: 79 ended. Evaluation done at random point.\n",
      "Time taken: 858.4593\n",
      "Function value obtained: -0.0192\n",
      "Current minimum: -0.0224\n",
      "Iteration No: 80 started. Evaluating function at random point.\n",
      "SearchBayesianSkopt: Testing config: {'l1_ratio': 0.028651165970795197, 'topK': 3176, 'alpha': 0.0008940507664624189, 'workers': 6}\n"
     ]
    },
    {
     "name": "stderr",
     "output_type": "stream",
     "text": [
      "100%|█████████▉| 24504/24507 [11:09<00:00, 69.11it/s]"
     ]
    },
    {
     "name": "stdout",
     "output_type": "stream",
     "text": [
      "EvaluatorHoldout: Processed 40932 (100.0%) in 36.56 sec. Users per second: 1120\n",
      "SearchBayesianSkopt: Config 223 is suboptimal. Config: {'l1_ratio': 0.028651165970795197, 'topK': 3176, 'alpha': 0.0008940507664624189, 'workers': 6} - results: PRECISION: 0.0485390, PRECISION_RECALL_MIN_DEN: 0.0770273, RECALL: 0.0713396, MAP: 0.0223263, MAP_MIN_DEN: 0.0353394, MRR: 0.1552488, NDCG: 0.0738679, F1: 0.0577710, HIT_RATE: 0.3331135, ARHR_ALL_HITS: 0.1853465, NOVELTY: 0.0043810, AVERAGE_POPULARITY: 0.1976426, DIVERSITY_MEAN_INTER_LIST: 0.9427336, DIVERSITY_HERFINDAHL: 0.9942711, COVERAGE_ITEM: 0.2799200, COVERAGE_ITEM_HIT: 0.0558208, ITEMS_IN_GT: 0.9953891, COVERAGE_USER: 0.9832569, COVERAGE_USER_HIT: 0.3275361, USERS_IN_GT: 0.9832569, DIVERSITY_GINI: 0.0295366, SHANNON_ENTROPY: 9.2887830, RATIO_DIVERSITY_HERFINDAHL: 0.9945801, RATIO_DIVERSITY_GINI: 0.0566037, RATIO_SHANNON_ENTROPY: 0.6855187, RATIO_AVERAGE_POPULARITY: 3.8702348, RATIO_NOVELTY: 0.3190098, \n",
      "\n"
     ]
    },
    {
     "name": "stderr",
     "output_type": "stream",
     "text": []
    },
    {
     "name": "stdout",
     "output_type": "stream",
     "text": [
      "Iteration No: 80 ended. Evaluation done at random point.\n",
      "Time taken: 705.4258\n",
      "Function value obtained: -0.0223\n",
      "Current minimum: -0.0224\n",
      "Iteration No: 81 started. Evaluating function at random point.\n",
      "SearchBayesianSkopt: Testing config: {'l1_ratio': 0.011701522483452907, 'topK': 3901, 'alpha': 0.0017371794351910405, 'workers': 6}\n"
     ]
    },
    {
     "name": "stderr",
     "output_type": "stream",
     "text": [
      "100%|█████████▉| 24504/24507 [12:10<00:00, 33.55it/s]\n"
     ]
    },
    {
     "name": "stdout",
     "output_type": "stream",
     "text": [
      "EvaluatorHoldout: Processed 40932 (100.0%) in 42.75 sec. Users per second: 958\n",
      "SearchBayesianSkopt: Config 224 is suboptimal. Config: {'l1_ratio': 0.011701522483452907, 'topK': 3901, 'alpha': 0.0017371794351910405, 'workers': 6} - results: PRECISION: 0.0487101, PRECISION_RECALL_MIN_DEN: 0.0778097, RECALL: 0.0721744, MAP: 0.0223726, MAP_MIN_DEN: 0.0355555, MRR: 0.1560613, NDCG: 0.0743323, F1: 0.0581650, HIT_RATE: 0.3349946, ARHR_ALL_HITS: 0.1860059, NOVELTY: 0.0043197, AVERAGE_POPULARITY: 0.2070046, DIVERSITY_MEAN_INTER_LIST: 0.9367077, DIVERSITY_HERFINDAHL: 0.9936685, COVERAGE_ITEM: 0.2489493, COVERAGE_ITEM_HIT: 0.0521484, ITEMS_IN_GT: 0.9953891, COVERAGE_USER: 0.9832569, COVERAGE_USER_HIT: 0.3293858, USERS_IN_GT: 0.9832569, DIVERSITY_GINI: 0.0241185, SHANNON_ENTROPY: 9.0402586, RATIO_DIVERSITY_HERFINDAHL: 0.9939773, RATIO_DIVERSITY_GINI: 0.0462203, RATIO_SHANNON_ENTROPY: 0.6671775, RATIO_AVERAGE_POPULARITY: 4.0535621, RATIO_NOVELTY: 0.3145476, \n",
      "\n"
     ]
    },
    {
     "name": "stderr",
     "output_type": "stream",
     "text": [
      "  0%|          | 0/24507 [00:00<?, ?it/s]"
     ]
    },
    {
     "name": "stdout",
     "output_type": "stream",
     "text": [
      "Iteration No: 81 ended. Evaluation done at random point.\n",
      "Time taken: 764.1727\n",
      "Function value obtained: -0.0224\n",
      "Current minimum: -0.0224\n",
      "Iteration No: 82 started. Evaluating function at random point.\n",
      "SearchBayesianSkopt: Testing config: {'l1_ratio': 0.005301770237921148, 'topK': 2322, 'alpha': 0.00012143143977779801, 'workers': 6}\n"
     ]
    },
    {
     "name": "stderr",
     "output_type": "stream",
     "text": [
      "100%|█████████▉| 24504/24507 [12:54<00:00, 31.63it/s]\n",
      "100%|█████████▉| 24504/24507 [14:31<00:00, 50.58it/s]"
     ]
    },
    {
     "name": "stdout",
     "output_type": "stream",
     "text": [
      "EvaluatorHoldout: Processed 40932 (100.0%) in 37.63 sec. Users per second: 1088\n",
      "SearchBayesianSkopt: Config 225 is suboptimal. Config: {'l1_ratio': 0.005301770237921148, 'topK': 2322, 'alpha': 0.00012143143977779801, 'workers': 6} - results: PRECISION: 0.0450454, PRECISION_RECALL_MIN_DEN: 0.0703636, RECALL: 0.0648527, MAP: 0.0209891, MAP_MIN_DEN: 0.0327591, MRR: 0.1464569, NDCG: 0.0685124, F1: 0.0531641, HIT_RATE: 0.3099287, ARHR_ALL_HITS: 0.1745141, NOVELTY: 0.0044136, AVERAGE_POPULARITY: 0.1934904, DIVERSITY_MEAN_INTER_LIST: 0.9465400, DIVERSITY_HERFINDAHL: 0.9946517, COVERAGE_ITEM: 0.4295915, COVERAGE_ITEM_HIT: 0.0584323, ITEMS_IN_GT: 0.9953891, COVERAGE_USER: 0.9832569, COVERAGE_USER_HIT: 0.3047395, USERS_IN_GT: 0.9832569, DIVERSITY_GINI: 0.0410578, SHANNON_ENTROPY: 9.5317031, RATIO_DIVERSITY_HERFINDAHL: 0.9949608, RATIO_DIVERSITY_GINI: 0.0786827, RATIO_SHANNON_ENTROPY: 0.7034464, RATIO_AVERAGE_POPULARITY: 3.7889263, RATIO_NOVELTY: 0.3213835, \n",
      "\n"
     ]
    },
    {
     "name": "stderr",
     "output_type": "stream",
     "text": [
      "100%|█████████▉| 24504/24507 [15:02<00:00, 27.15it/s]\n",
      "  0%|          | 0/24507 [00:00<?, ?it/s]"
     ]
    },
    {
     "name": "stdout",
     "output_type": "stream",
     "text": [
      "Iteration No: 82 ended. Evaluation done at random point.\n",
      "Time taken: 902.7863\n",
      "Function value obtained: -0.0210\n",
      "Current minimum: -0.0224\n",
      "Iteration No: 83 started. Evaluating function at random point.\n",
      "SearchBayesianSkopt: Testing config: {'l1_ratio': 0.0017542569590758225, 'topK': 1021, 'alpha': 0.002151706111888913, 'workers': 6}\n"
     ]
    },
    {
     "name": "stderr",
     "output_type": "stream",
     "text": [
      "100%|█████████▉| 24504/24507 [12:50<00:00, 51.64it/s]"
     ]
    },
    {
     "name": "stdout",
     "output_type": "stream",
     "text": [
      "EvaluatorHoldout: Processed 40932 (100.0%) in 43.07 sec. Users per second: 950\n",
      "SearchBayesianSkopt: Config 226 is suboptimal. Config: {'l1_ratio': 0.0017542569590758225, 'topK': 1021, 'alpha': 0.002151706111888913, 'workers': 6} - results: PRECISION: 0.0484755, PRECISION_RECALL_MIN_DEN: 0.0773876, RECALL: 0.0717627, MAP: 0.0223299, MAP_MIN_DEN: 0.0354798, MRR: 0.1557083, NDCG: 0.0740641, F1: 0.0578640, HIT_RATE: 0.3332356, ARHR_ALL_HITS: 0.1855930, NOVELTY: 0.0043153, AVERAGE_POPULARITY: 0.2004320, DIVERSITY_MEAN_INTER_LIST: 0.9422385, DIVERSITY_HERFINDAHL: 0.9942215, COVERAGE_ITEM: 0.2278125, COVERAGE_ITEM_HIT: 0.0512099, ITEMS_IN_GT: 0.9953891, COVERAGE_USER: 0.9832569, COVERAGE_USER_HIT: 0.3276562, USERS_IN_GT: 0.9832569, DIVERSITY_GINI: 0.0221538, SHANNON_ENTROPY: 9.0096642, RATIO_DIVERSITY_HERFINDAHL: 0.9945306, RATIO_DIVERSITY_GINI: 0.0424553, RATIO_SHANNON_ENTROPY: 0.6649196, RATIO_AVERAGE_POPULARITY: 3.9248571, RATIO_NOVELTY: 0.3142250, \n",
      "\n"
     ]
    },
    {
     "name": "stderr",
     "output_type": "stream",
     "text": [
      "100%|█████████▉| 24504/24507 [13:30<00:00, 30.23it/s]\n",
      "  0%|          | 0/24507 [00:00<?, ?it/s]"
     ]
    },
    {
     "name": "stdout",
     "output_type": "stream",
     "text": [
      "Iteration No: 83 ended. Evaluation done at random point.\n",
      "Time taken: 814.2781\n",
      "Function value obtained: -0.0223\n",
      "Current minimum: -0.0224\n",
      "Iteration No: 84 started. Evaluating function at random point.\n",
      "SearchBayesianSkopt: Testing config: {'l1_ratio': 2.084091376121884e-05, 'topK': 4344, 'alpha': 3.3899867663769746e-05, 'workers': 6}\n"
     ]
    },
    {
     "name": "stderr",
     "output_type": "stream",
     "text": [
      "100%|█████████▉| 24504/24507 [1:15:59<00:00,  9.53it/s]"
     ]
    },
    {
     "name": "stdout",
     "output_type": "stream",
     "text": [
      "EvaluatorHoldout: Processed 40932 (100.0%) in 36.91 sec. Users per second: 1109\n",
      "SearchBayesianSkopt: Config 227 is suboptimal. Config: {'l1_ratio': 2.084091376121884e-05, 'topK': 4344, 'alpha': 3.3899867663769746e-05, 'workers': 6} - results: PRECISION: 0.0438874, PRECISION_RECALL_MIN_DEN: 0.0680440, RECALL: 0.0625961, MAP: 0.0204261, MAP_MIN_DEN: 0.0316677, MRR: 0.1426098, NDCG: 0.0664419, F1: 0.0515982, HIT_RATE: 0.3024528, ARHR_ALL_HITS: 0.1698632, NOVELTY: 0.0044439, AVERAGE_POPULARITY: 0.1885046, DIVERSITY_MEAN_INTER_LIST: 0.9498378, DIVERSITY_HERFINDAHL: 0.9949815, COVERAGE_ITEM: 0.4765985, COVERAGE_ITEM_HIT: 0.0585547, ITEMS_IN_GT: 0.9953891, COVERAGE_USER: 0.9832569, COVERAGE_USER_HIT: 0.2973888, USERS_IN_GT: 0.9832569, DIVERSITY_GINI: 0.0477557, SHANNON_ENTROPY: 9.6789666, RATIO_DIVERSITY_HERFINDAHL: 0.9952907, RATIO_DIVERSITY_GINI: 0.0915184, RATIO_SHANNON_ENTROPY: 0.7143146, RATIO_AVERAGE_POPULARITY: 3.6912959, RATIO_NOVELTY: 0.3235945, \n",
      "\n"
     ]
    },
    {
     "name": "stderr",
     "output_type": "stream",
     "text": [
      "100%|█████████▉| 24504/24507 [1:16:28<00:00,  5.34it/s]\n"
     ]
    },
    {
     "name": "stdout",
     "output_type": "stream",
     "text": [
      "Iteration No: 84 ended. Evaluation done at random point.\n",
      "Time taken: 4592.2539\n",
      "Function value obtained: -0.0204\n",
      "Current minimum: -0.0224\n",
      "Iteration No: 85 started. Evaluating function at random point.\n",
      "SearchBayesianSkopt: Testing config: {'l1_ratio': 0.07742843381635403, 'topK': 2250, 'alpha': 0.0003599770392198702, 'workers': 6}\n"
     ]
    },
    {
     "name": "stderr",
     "output_type": "stream",
     "text": [
      "100%|█████████▉| 24504/24507 [11:26<00:00, 53.33it/s]"
     ]
    },
    {
     "name": "stdout",
     "output_type": "stream",
     "text": [
      "EvaluatorHoldout: Processed 40932 (100.0%) in 37.82 sec. Users per second: 1082\n",
      "SearchBayesianSkopt: Config 228 is suboptimal. Config: {'l1_ratio': 0.07742843381635403, 'topK': 2250, 'alpha': 0.0003599770392198702, 'workers': 6} - results: PRECISION: 0.0479820, PRECISION_RECALL_MIN_DEN: 0.0757978, RECALL: 0.0700829, MAP: 0.0221239, MAP_MIN_DEN: 0.0348564, MRR: 0.1537369, NDCG: 0.0729111, F1: 0.0569639, HIT_RATE: 0.3289847, ARHR_ALL_HITS: 0.1836090, NOVELTY: 0.0044515, AVERAGE_POPULARITY: 0.1883372, DIVERSITY_MEAN_INTER_LIST: 0.9483115, DIVERSITY_HERFINDAHL: 0.9948288, COVERAGE_ITEM: 0.3440242, COVERAGE_ITEM_HIT: 0.0597788, ITEMS_IN_GT: 0.9953891, COVERAGE_USER: 0.9832569, COVERAGE_USER_HIT: 0.3234764, USERS_IN_GT: 0.9832569, DIVERSITY_GINI: 0.0384754, SHANNON_ENTROPY: 9.5767220, RATIO_DIVERSITY_HERFINDAHL: 0.9951380, RATIO_DIVERSITY_GINI: 0.0737337, RATIO_SHANNON_ENTROPY: 0.7067688, RATIO_AVERAGE_POPULARITY: 3.6880167, RATIO_NOVELTY: 0.3241423, \n",
      "\n"
     ]
    },
    {
     "name": "stderr",
     "output_type": "stream",
     "text": []
    },
    {
     "name": "stdout",
     "output_type": "stream",
     "text": [
      "Iteration No: 85 ended. Evaluation done at random point.\n",
      "Time taken: 720.5743\n",
      "Function value obtained: -0.0221\n",
      "Current minimum: -0.0224\n",
      "Iteration No: 86 started. Evaluating function at random point.\n",
      "SearchBayesianSkopt: Testing config: {'l1_ratio': 0.0004916075360210777, 'topK': 6000, 'alpha': 0.0019783185153350886, 'workers': 6}\n"
     ]
    },
    {
     "name": "stderr",
     "output_type": "stream",
     "text": [
      "100%|█████████▉| 24504/24507 [13:07<00:00, 31.12it/s]\n"
     ]
    },
    {
     "name": "stdout",
     "output_type": "stream",
     "text": [
      "EvaluatorHoldout: Processed 40932 (100.0%) in 47.04 sec. Users per second: 870\n",
      "SearchBayesianSkopt: Config 229 is suboptimal. Config: {'l1_ratio': 0.0004916075360210777, 'topK': 6000, 'alpha': 0.0019783185153350886, 'workers': 6} - results: PRECISION: 0.0486539, PRECISION_RECALL_MIN_DEN: 0.0777625, RECALL: 0.0721477, MAP: 0.0223826, MAP_MIN_DEN: 0.0356520, MRR: 0.1562325, NDCG: 0.0743945, F1: 0.0581162, HIT_RATE: 0.3345060, ARHR_ALL_HITS: 0.1861698, NOVELTY: 0.0042744, AVERAGE_POPULARITY: 0.2152981, DIVERSITY_MEAN_INTER_LIST: 0.9311067, DIVERSITY_HERFINDAHL: 0.9931084, COVERAGE_ITEM: 0.2212429, COVERAGE_ITEM_HIT: 0.0505570, ITEMS_IN_GT: 0.9953891, COVERAGE_USER: 0.9832569, COVERAGE_USER_HIT: 0.3289053, USERS_IN_GT: 0.9832569, DIVERSITY_GINI: 0.0207729, SHANNON_ENTROPY: 8.8615606, RATIO_DIVERSITY_HERFINDAHL: 0.9934171, RATIO_DIVERSITY_GINI: 0.0398089, RATIO_SHANNON_ENTROPY: 0.6539894, RATIO_AVERAGE_POPULARITY: 4.2159641, RATIO_NOVELTY: 0.3112499, \n",
      "\n"
     ]
    },
    {
     "name": "stderr",
     "output_type": "stream",
     "text": [
      "100%|█████████▉| 24504/24507 [14:45<00:00, 27.66it/s]\n",
      "  0%|          | 0/24507 [00:00<?, ?it/s]"
     ]
    },
    {
     "name": "stdout",
     "output_type": "stream",
     "text": [
      "Iteration No: 86 ended. Evaluation done at random point.\n",
      "Time taken: 889.6736\n",
      "Function value obtained: -0.0224\n",
      "Current minimum: -0.0224\n",
      "Iteration No: 87 started. Evaluating function at random point.\n",
      "SearchBayesianSkopt: Testing config: {'l1_ratio': 0.010629756505086171, 'topK': 3239, 'alpha': 0.009206434819640265, 'workers': 6}\n"
     ]
    },
    {
     "name": "stderr",
     "output_type": "stream",
     "text": [
      "100%|█████████▉| 24504/24507 [05:25<00:00, 140.50it/s]"
     ]
    },
    {
     "name": "stdout",
     "output_type": "stream",
     "text": [
      "EvaluatorHoldout: Processed 40932 (100.0%) in 32.17 sec. Users per second: 1272\n",
      "SearchBayesianSkopt: Config 230 is suboptimal. Config: {'l1_ratio': 0.010629756505086171, 'topK': 3239, 'alpha': 0.009206434819640265, 'workers': 6} - results: PRECISION: 0.0463598, PRECISION_RECALL_MIN_DEN: 0.0746992, RECALL: 0.0694079, MAP: 0.0211709, MAP_MIN_DEN: 0.0339143, MRR: 0.1499378, NDCG: 0.0711346, F1: 0.0555895, HIT_RATE: 0.3239764, ARHR_ALL_HITS: 0.1773743, NOVELTY: 0.0041627, AVERAGE_POPULARITY: 0.2363610, DIVERSITY_MEAN_INTER_LIST: 0.9141788, DIVERSITY_HERFINDAHL: 0.9914156, COVERAGE_ITEM: 0.1566899, COVERAGE_ITEM_HIT: 0.0348064, ITEMS_IN_GT: 0.9953891, COVERAGE_USER: 0.9832569, COVERAGE_USER_HIT: 0.3185520, USERS_IN_GT: 0.9832569, DIVERSITY_GINI: 0.0137126, SHANNON_ENTROPY: 8.3279009, RATIO_DIVERSITY_HERFINDAHL: 0.9917238, RATIO_DIVERSITY_GINI: 0.0262787, RATIO_SHANNON_ENTROPY: 0.6146050, RATIO_AVERAGE_POPULARITY: 4.6284176, RATIO_NOVELTY: 0.3031147, \n",
      "\n"
     ]
    },
    {
     "name": "stderr",
     "output_type": "stream",
     "text": []
    },
    {
     "name": "stdout",
     "output_type": "stream",
     "text": [
      "Iteration No: 87 ended. Evaluation done at random point.\n",
      "Time taken: 354.3482\n",
      "Function value obtained: -0.0212\n",
      "Current minimum: -0.0224\n",
      "Iteration No: 88 started. Evaluating function at random point.\n",
      "SearchBayesianSkopt: Testing config: {'l1_ratio': 0.0007851096292356507, 'topK': 2341, 'alpha': 0.00019075822767175476, 'workers': 6}\n"
     ]
    },
    {
     "name": "stderr",
     "output_type": "stream",
     "text": [
      "100%|█████████▉| 24504/24507 [19:15<00:00, 21.20it/s] \n",
      "100%|█████████▉| 24504/24507 [13:21<00:00, 30.57it/s]\n"
     ]
    },
    {
     "name": "stdout",
     "output_type": "stream",
     "text": [
      "EvaluatorHoldout: Processed 40932 (100.0%) in 39.14 sec. Users per second: 1046\n",
      "SearchBayesianSkopt: Config 231 is suboptimal. Config: {'l1_ratio': 0.0007851096292356507, 'topK': 2341, 'alpha': 0.00019075822767175476, 'workers': 6} - results: PRECISION: 0.0457466, PRECISION_RECALL_MIN_DEN: 0.0716566, RECALL: 0.0661106, MAP: 0.0212853, MAP_MIN_DEN: 0.0333204, MRR: 0.1484378, NDCG: 0.0696246, F1: 0.0540749, HIT_RATE: 0.3144972, ARHR_ALL_HITS: 0.1769393, NOVELTY: 0.0043955, AVERAGE_POPULARITY: 0.1964249, DIVERSITY_MEAN_INTER_LIST: 0.9445833, DIVERSITY_HERFINDAHL: 0.9944560, COVERAGE_ITEM: 0.4063737, COVERAGE_ITEM_HIT: 0.0581467, ITEMS_IN_GT: 0.9953891, COVERAGE_USER: 0.9832569, COVERAGE_USER_HIT: 0.3092315, USERS_IN_GT: 0.9832569, DIVERSITY_GINI: 0.0377339, SHANNON_ENTROPY: 9.4469901, RATIO_DIVERSITY_HERFINDAHL: 0.9947651, RATIO_DIVERSITY_GINI: 0.0723127, RATIO_SHANNON_ENTROPY: 0.6971945, RATIO_AVERAGE_POPULARITY: 3.8463900, RATIO_NOVELTY: 0.3200679, \n",
      "\n"
     ]
    },
    {
     "name": "stderr",
     "output_type": "stream",
     "text": [
      "  0%|          | 0/24507 [00:00<?, ?it/s]"
     ]
    },
    {
     "name": "stdout",
     "output_type": "stream",
     "text": [
      "Iteration No: 88 ended. Evaluation done at random point.\n",
      "Time taken: 844.6577\n",
      "Function value obtained: -0.0213\n",
      "Current minimum: -0.0224\n",
      "Iteration No: 89 started. Evaluating function at random point.\n",
      "SearchBayesianSkopt: Testing config: {'l1_ratio': 0.00018000205612367804, 'topK': 4323, 'alpha': 0.0004997335501206624, 'workers': 6}\n"
     ]
    },
    {
     "name": "stderr",
     "output_type": "stream",
     "text": [
      "100%|█████████▉| 24504/24507 [14:08<00:00, 55.82it/s]"
     ]
    },
    {
     "name": "stdout",
     "output_type": "stream",
     "text": [
      "EvaluatorHoldout: Processed 40932 (100.0%) in 44.54 sec. Users per second: 919\n",
      "SearchBayesianSkopt: Config 232 is suboptimal. Config: {'l1_ratio': 0.00018000205612367804, 'topK': 4323, 'alpha': 0.0004997335501206624, 'workers': 6} - results: PRECISION: 0.0473126, PRECISION_RECALL_MIN_DEN: 0.0748702, RECALL: 0.0692611, MAP: 0.0218911, MAP_MIN_DEN: 0.0345598, MRR: 0.1524675, NDCG: 0.0721505, F1: 0.0562206, HIT_RATE: 0.3253445, ARHR_ALL_HITS: 0.1818951, NOVELTY: 0.0043502, AVERAGE_POPULARITY: 0.2037601, DIVERSITY_MEAN_INTER_LIST: 0.9394222, DIVERSITY_HERFINDAHL: 0.9939399, COVERAGE_ITEM: 0.3261925, COVERAGE_ITEM_HIT: 0.0567185, ITEMS_IN_GT: 0.9953891, COVERAGE_USER: 0.9832569, COVERAGE_USER_HIT: 0.3198972, USERS_IN_GT: 0.9832569, DIVERSITY_GINI: 0.0296489, SHANNON_ENTROPY: 9.2221836, RATIO_DIVERSITY_HERFINDAHL: 0.9942489, RATIO_DIVERSITY_GINI: 0.0568188, RATIO_SHANNON_ENTROPY: 0.6806037, RATIO_AVERAGE_POPULARITY: 3.9900278, RATIO_NOVELTY: 0.3167663, \n",
      "\n"
     ]
    },
    {
     "name": "stderr",
     "output_type": "stream",
     "text": []
    },
    {
     "name": "stdout",
     "output_type": "stream",
     "text": [
      "Iteration No: 89 ended. Evaluation done at random point.\n",
      "Time taken: 890.1116\n",
      "Function value obtained: -0.0219\n",
      "Current minimum: -0.0224\n",
      "Iteration No: 90 started. Evaluating function at random point.\n",
      "SearchBayesianSkopt: Testing config: {'l1_ratio': 1e-05, 'topK': 865, 'alpha': 0.00258481705242879, 'workers': 6}\n"
     ]
    },
    {
     "name": "stderr",
     "output_type": "stream",
     "text": [
      "100%|█████████▉| 24504/24507 [24:39<00:00, 16.56it/s]\n"
     ]
    },
    {
     "name": "stdout",
     "output_type": "stream",
     "text": [
      "EvaluatorHoldout: Processed 40932 (100.0%) in 40.51 sec. Users per second: 1011\n",
      "SearchBayesianSkopt: Config 233 is suboptimal. Config: {'l1_ratio': 1e-05, 'topK': 865, 'alpha': 0.00258481705242879, 'workers': 6} - results: PRECISION: 0.0484877, PRECISION_RECALL_MIN_DEN: 0.0775051, RECALL: 0.0718759, MAP: 0.0222824, MAP_MIN_DEN: 0.0354263, MRR: 0.1555386, NDCG: 0.0740430, F1: 0.0579095, HIT_RATE: 0.3335532, ARHR_ALL_HITS: 0.1853016, NOVELTY: 0.0043093, AVERAGE_POPULARITY: 0.2002403, DIVERSITY_MEAN_INTER_LIST: 0.9423812, DIVERSITY_HERFINDAHL: 0.9942358, COVERAGE_ITEM: 0.2227119, COVERAGE_ITEM_HIT: 0.0503938, ITEMS_IN_GT: 0.9953891, COVERAGE_USER: 0.9832569, COVERAGE_USER_HIT: 0.3279685, USERS_IN_GT: 0.9832569, DIVERSITY_GINI: 0.0214348, SHANNON_ENTROPY: 8.9792141, RATIO_DIVERSITY_HERFINDAHL: 0.9945448, RATIO_DIVERSITY_GINI: 0.0410774, RATIO_SHANNON_ENTROPY: 0.6626723, RATIO_AVERAGE_POPULARITY: 3.9211025, RATIO_NOVELTY: 0.3137875, \n",
      "\n",
      "Iteration No: 90 ended. Evaluation done at random point.\n",
      "Time taken: 863.8903\n",
      "Function value obtained: -0.0223\n",
      "Current minimum: -0.0224\n",
      "Iteration No: 91 started. Evaluating function at random point.\n",
      "SearchBayesianSkopt: Testing config: {'l1_ratio': 0.004418794809138186, 'topK': 1987, 'alpha': 0.0018002829714539568, 'workers': 6}\n"
     ]
    },
    {
     "name": "stderr",
     "output_type": "stream",
     "text": [
      "100%|█████████▉| 24504/24507 [20:30<00:00, 19.91it/s]\n",
      "100%|█████████▉| 24504/24507 [11:29<00:00, 58.79it/s]"
     ]
    },
    {
     "name": "stdout",
     "output_type": "stream",
     "text": [
      "EvaluatorHoldout: Processed 40932 (100.0%) in 42.45 sec. Users per second: 964\n",
      "SearchBayesianSkopt: Config 234 is suboptimal. Config: {'l1_ratio': 0.004418794809138186, 'topK': 1987, 'alpha': 0.0018002829714539568, 'workers': 6} - results: PRECISION: 0.0487394, PRECISION_RECALL_MIN_DEN: 0.0779462, RECALL: 0.0723303, MAP: 0.0224179, MAP_MIN_DEN: 0.0356537, MRR: 0.1564301, NDCG: 0.0744797, F1: 0.0582364, HIT_RATE: 0.3351656, ARHR_ALL_HITS: 0.1864289, NOVELTY: 0.0042985, AVERAGE_POPULARITY: 0.2101887, DIVERSITY_MEAN_INTER_LIST: 0.9347913, DIVERSITY_HERFINDAHL: 0.9934768, COVERAGE_ITEM: 0.2349125, COVERAGE_ITEM_HIT: 0.0519443, ITEMS_IN_GT: 0.9953891, COVERAGE_USER: 0.9832569, COVERAGE_USER_HIT: 0.3295539, USERS_IN_GT: 0.9832569, DIVERSITY_GINI: 0.0224072, SHANNON_ENTROPY: 8.9571183, RATIO_DIVERSITY_HERFINDAHL: 0.9937856, RATIO_DIVERSITY_GINI: 0.0429408, RATIO_SHANNON_ENTROPY: 0.6610416, RATIO_AVERAGE_POPULARITY: 4.1159128, RATIO_NOVELTY: 0.3130081, \n",
      "\n"
     ]
    },
    {
     "name": "stderr",
     "output_type": "stream",
     "text": []
    },
    {
     "name": "stdout",
     "output_type": "stream",
     "text": [
      "Iteration No: 91 ended. Evaluation done at random point.\n",
      "Time taken: 735.8114\n",
      "Function value obtained: -0.0224\n",
      "Current minimum: -0.0224\n",
      "Iteration No: 92 started. Evaluating function at random point.\n",
      "SearchBayesianSkopt: Testing config: {'l1_ratio': 0.006925079949655975, 'topK': 5065, 'alpha': 0.001581851199851503, 'workers': 6}\n"
     ]
    },
    {
     "name": "stderr",
     "output_type": "stream",
     "text": [
      "100%|█████████▉| 24504/24507 [17:42<00:00, 23.05it/s]\n"
     ]
    },
    {
     "name": "stdout",
     "output_type": "stream",
     "text": [
      "EvaluatorHoldout: Processed 40932 (100.0%) in 41.98 sec. Users per second: 975\n",
      "SearchBayesianSkopt: Config 235 is suboptimal. Config: {'l1_ratio': 0.006925079949655975, 'topK': 5065, 'alpha': 0.001581851199851503, 'workers': 6} - results: PRECISION: 0.0487931, PRECISION_RECALL_MIN_DEN: 0.0779088, RECALL: 0.0722693, MAP: 0.0224303, MAP_MIN_DEN: 0.0356237, MRR: 0.1562677, NDCG: 0.0744438, F1: 0.0582550, HIT_RATE: 0.3350435, ARHR_ALL_HITS: 0.1863778, NOVELTY: 0.0043116, AVERAGE_POPULARITY: 0.2090009, DIVERSITY_MEAN_INTER_LIST: 0.9353673, DIVERSITY_HERFINDAHL: 0.9935344, COVERAGE_ITEM: 0.2436447, COVERAGE_ITEM_HIT: 0.0532909, ITEMS_IN_GT: 0.9953891, COVERAGE_USER: 0.9832569, COVERAGE_USER_HIT: 0.3294338, USERS_IN_GT: 0.9832569, DIVERSITY_GINI: 0.0236077, SHANNON_ENTROPY: 9.0124540, RATIO_DIVERSITY_HERFINDAHL: 0.9938432, RATIO_DIVERSITY_GINI: 0.0452415, RATIO_SHANNON_ENTROPY: 0.6651255, RATIO_AVERAGE_POPULARITY: 4.0926525, RATIO_NOVELTY: 0.3139607, \n",
      "\n"
     ]
    },
    {
     "name": "stderr",
     "output_type": "stream",
     "text": [
      "  0%|          | 0/24507 [00:00<?, ?it/s]"
     ]
    },
    {
     "name": "stdout",
     "output_type": "stream",
     "text": [
      "Iteration No: 92 ended. Evaluation done at random point.\n",
      "Time taken: 728.8930\n",
      "Function value obtained: -0.0224\n",
      "Current minimum: -0.0224\n",
      "Iteration No: 93 started. Evaluating function at random point.\n",
      "SearchBayesianSkopt: Testing config: {'l1_ratio': 0.009813938467238378, 'topK': 2588, 'alpha': 1.8595061946761283e-05, 'workers': 6}\n"
     ]
    },
    {
     "name": "stderr",
     "output_type": "stream",
     "text": [
      "100%|█████████▉| 24504/24507 [15:54<00:00, 25.66it/s]\n",
      "100%|█████████▉| 24504/24507 [11:47<00:00, 64.60it/s]"
     ]
    },
    {
     "name": "stdout",
     "output_type": "stream",
     "text": [
      "EvaluatorHoldout: Processed 40932 (100.0%) in 35.17 sec. Users per second: 1164\n",
      "SearchBayesianSkopt: Config 236 is suboptimal. Config: {'l1_ratio': 0.009813938467238378, 'topK': 2588, 'alpha': 1.8595061946761283e-05, 'workers': 6} - results: PRECISION: 0.0436407, PRECISION_RECALL_MIN_DEN: 0.0675210, RECALL: 0.0620771, MAP: 0.0203195, MAP_MIN_DEN: 0.0314437, MRR: 0.1418136, NDCG: 0.0660021, F1: 0.0512513, HIT_RATE: 0.3007916, ARHR_ALL_HITS: 0.1689266, NOVELTY: 0.0044515, AVERAGE_POPULARITY: 0.1873755, DIVERSITY_MEAN_INTER_LIST: 0.9505302, DIVERSITY_HERFINDAHL: 0.9950507, COVERAGE_ITEM: 0.4854531, COVERAGE_ITEM_HIT: 0.0583915, ITEMS_IN_GT: 0.9953891, COVERAGE_USER: 0.9832569, COVERAGE_USER_HIT: 0.2957554, USERS_IN_GT: 0.9832569, DIVERSITY_GINI: 0.0493596, SHANNON_ENTROPY: 9.7128328, RATIO_DIVERSITY_HERFINDAHL: 0.9953600, RATIO_DIVERSITY_GINI: 0.0945922, RATIO_SHANNON_ENTROPY: 0.7168139, RATIO_AVERAGE_POPULARITY: 3.6691845, RATIO_NOVELTY: 0.3241458, \n",
      "\n"
     ]
    },
    {
     "name": "stderr",
     "output_type": "stream",
     "text": []
    },
    {
     "name": "stdout",
     "output_type": "stream",
     "text": [
      "Iteration No: 93 ended. Evaluation done at random point.\n",
      "Time taken: 739.8240\n",
      "Function value obtained: -0.0203\n",
      "Current minimum: -0.0224\n",
      "Iteration No: 94 started. Evaluating function at random point.\n",
      "SearchBayesianSkopt: Testing config: {'l1_ratio': 0.013783785231994198, 'topK': 5543, 'alpha': 0.001331067600862715, 'workers': 6}\n"
     ]
    },
    {
     "name": "stderr",
     "output_type": "stream",
     "text": [
      "100%|█████████▉| 24504/24507 [14:32<00:00, 28.08it/s]\n"
     ]
    },
    {
     "name": "stdout",
     "output_type": "stream",
     "text": [
      "EvaluatorHoldout: Processed 40932 (100.0%) in 39.63 sec. Users per second: 1033\n",
      "SearchBayesianSkopt: Config 237 is suboptimal. Config: {'l1_ratio': 0.013783785231994198, 'topK': 5543, 'alpha': 0.001331067600862715, 'workers': 6} - results: PRECISION: 0.0487491, PRECISION_RECALL_MIN_DEN: 0.0776445, RECALL: 0.0719844, MAP: 0.0224066, MAP_MIN_DEN: 0.0355304, MRR: 0.1559144, NDCG: 0.0742718, F1: 0.0581310, HIT_RATE: 0.3346526, ARHR_ALL_HITS: 0.1860625, NOVELTY: 0.0043386, AVERAGE_POPULARITY: 0.2044547, DIVERSITY_MEAN_INTER_LIST: 0.9383540, DIVERSITY_HERFINDAHL: 0.9938331, COVERAGE_ITEM: 0.2571918, COVERAGE_ITEM_HIT: 0.0541886, ITEMS_IN_GT: 0.9953891, COVERAGE_USER: 0.9832569, COVERAGE_USER_HIT: 0.3290495, USERS_IN_GT: 0.9832569, DIVERSITY_GINI: 0.0257541, SHANNON_ENTROPY: 9.1191648, RATIO_DIVERSITY_HERFINDAHL: 0.9941420, RATIO_DIVERSITY_GINI: 0.0493548, RATIO_SHANNON_ENTROPY: 0.6730008, RATIO_AVERAGE_POPULARITY: 4.0036292, RATIO_NOVELTY: 0.3159228, \n",
      "\n"
     ]
    },
    {
     "name": "stderr",
     "output_type": "stream",
     "text": [
      "  0%|          | 0/24507 [00:00<?, ?it/s]"
     ]
    },
    {
     "name": "stdout",
     "output_type": "stream",
     "text": [
      "Iteration No: 94 ended. Evaluation done at random point.\n",
      "Time taken: 685.0253\n",
      "Function value obtained: -0.0224\n",
      "Current minimum: -0.0224\n",
      "Iteration No: 95 started. Evaluating function at random point.\n",
      "SearchBayesianSkopt: Testing config: {'l1_ratio': 0.006031029456845469, 'topK': 5595, 'alpha': 0.0017054199812106085, 'workers': 6}\n"
     ]
    },
    {
     "name": "stderr",
     "output_type": "stream",
     "text": [
      "100%|█████████▉| 24504/24507 [12:17<00:00, 33.21it/s]\n",
      "100%|█████████▉| 24504/24507 [13:07<00:00, 51.69it/s] "
     ]
    },
    {
     "name": "stdout",
     "output_type": "stream",
     "text": [
      "EvaluatorHoldout: Processed 40932 (100.0%) in 44.94 sec. Users per second: 911\n",
      "SearchBayesianSkopt: Config 238 is suboptimal. Config: {'l1_ratio': 0.006031029456845469, 'topK': 5595, 'alpha': 0.0017054199812106085, 'workers': 6} - results: PRECISION: 0.0487760, PRECISION_RECALL_MIN_DEN: 0.0779335, RECALL: 0.0723076, MAP: 0.0224222, MAP_MIN_DEN: 0.0356492, MRR: 0.1563450, NDCG: 0.0744751, F1: 0.0582552, HIT_RATE: 0.3352389, ARHR_ALL_HITS: 0.1864038, NOVELTY: 0.0043048, AVERAGE_POPULARITY: 0.2100638, DIVERSITY_MEAN_INTER_LIST: 0.9346388, DIVERSITY_HERFINDAHL: 0.9934616, COVERAGE_ITEM: 0.2398090, COVERAGE_ITEM_HIT: 0.0525972, ITEMS_IN_GT: 0.9953891, COVERAGE_USER: 0.9832569, COVERAGE_USER_HIT: 0.3296260, USERS_IN_GT: 0.9832569, DIVERSITY_GINI: 0.0230347, SHANNON_ENTROPY: 8.9835321, RATIO_DIVERSITY_HERFINDAHL: 0.9937704, RATIO_DIVERSITY_GINI: 0.0441434, RATIO_SHANNON_ENTROPY: 0.6629910, RATIO_AVERAGE_POPULARITY: 4.1134666, RATIO_NOVELTY: 0.3134624, \n",
      "\n"
     ]
    },
    {
     "name": "stderr",
     "output_type": "stream",
     "text": [
      "100%|█████████▉| 24504/24507 [14:01<00:00, 29.13it/s]\n",
      "  0%|          | 0/24507 [00:00<?, ?it/s]"
     ]
    },
    {
     "name": "stdout",
     "output_type": "stream",
     "text": [
      "Iteration No: 95 ended. Evaluation done at random point.\n",
      "Time taken: 845.4177\n",
      "Function value obtained: -0.0224\n",
      "Current minimum: -0.0224\n",
      "Iteration No: 96 started. Evaluating function at random point.\n",
      "SearchBayesianSkopt: Testing config: {'l1_ratio': 0.005010611793765822, 'topK': 2764, 'alpha': 7.070927671130313e-05, 'workers': 6}\n"
     ]
    },
    {
     "name": "stderr",
     "output_type": "stream",
     "text": [
      "100%|█████████▉| 24504/24507 [12:53<00:00, 53.33it/s]"
     ]
    },
    {
     "name": "stdout",
     "output_type": "stream",
     "text": [
      "EvaluatorHoldout: Processed 40932 (100.0%) in 37.97 sec. Users per second: 1078\n",
      "SearchBayesianSkopt: Config 239 is suboptimal. Config: {'l1_ratio': 0.005010611793765822, 'topK': 2764, 'alpha': 7.070927671130313e-05, 'workers': 6} - results: PRECISION: 0.0444542, PRECISION_RECALL_MIN_DEN: 0.0692113, RECALL: 0.0637246, MAP: 0.0207068, MAP_MIN_DEN: 0.0322164, MRR: 0.1445456, NDCG: 0.0674778, F1: 0.0523731, HIT_RATE: 0.3064351, ARHR_ALL_HITS: 0.1722008, NOVELTY: 0.0044297, AVERAGE_POPULARITY: 0.1908424, DIVERSITY_MEAN_INTER_LIST: 0.9483125, DIVERSITY_HERFINDAHL: 0.9948289, COVERAGE_ITEM: 0.4541968, COVERAGE_ITEM_HIT: 0.0582283, ITEMS_IN_GT: 0.9953891, COVERAGE_USER: 0.9832569, COVERAGE_USER_HIT: 0.3013044, USERS_IN_GT: 0.9832569, DIVERSITY_GINI: 0.0444992, SHANNON_ENTROPY: 9.6100490, RATIO_DIVERSITY_HERFINDAHL: 0.9951381, RATIO_DIVERSITY_GINI: 0.0852777, RATIO_SHANNON_ENTROPY: 0.7092284, RATIO_AVERAGE_POPULARITY: 3.7370746, RATIO_NOVELTY: 0.3225563, \n",
      "\n"
     ]
    },
    {
     "name": "stderr",
     "output_type": "stream",
     "text": []
    },
    {
     "name": "stdout",
     "output_type": "stream",
     "text": [
      "Iteration No: 96 ended. Evaluation done at random point.\n",
      "Time taken: 811.7105\n",
      "Function value obtained: -0.0207\n",
      "Current minimum: -0.0224\n",
      "Iteration No: 97 started. Evaluating function at random point.\n",
      "SearchBayesianSkopt: Testing config: {'l1_ratio': 0.006540410055767877, 'topK': 3296, 'alpha': 0.001650832172649042, 'workers': 6}\n"
     ]
    },
    {
     "name": "stderr",
     "output_type": "stream",
     "text": [
      "100%|█████████▉| 24504/24507 [14:05<00:00, 28.99it/s]\n"
     ]
    },
    {
     "name": "stdout",
     "output_type": "stream",
     "text": [
      "EvaluatorHoldout: Processed 40932 (100.0%) in 41.19 sec. Users per second: 994\n",
      "SearchBayesianSkopt: Config 240 is suboptimal. Config: {'l1_ratio': 0.006540410055767877, 'topK': 3296, 'alpha': 0.001650832172649042, 'workers': 6} - results: PRECISION: 0.0488004, PRECISION_RECALL_MIN_DEN: 0.0779622, RECALL: 0.0723302, MAP: 0.0224295, MAP_MIN_DEN: 0.0356376, MRR: 0.1563229, NDCG: 0.0744757, F1: 0.0582800, HIT_RATE: 0.3353611, ARHR_ALL_HITS: 0.1864105, NOVELTY: 0.0043083, AVERAGE_POPULARITY: 0.2095305, DIVERSITY_MEAN_INTER_LIST: 0.9349955, DIVERSITY_HERFINDAHL: 0.9934973, COVERAGE_ITEM: 0.2417269, COVERAGE_ITEM_HIT: 0.0528828, ITEMS_IN_GT: 0.9953891, COVERAGE_USER: 0.9832569, COVERAGE_USER_HIT: 0.3297461, USERS_IN_GT: 0.9832569, DIVERSITY_GINI: 0.0233267, SHANNON_ENTROPY: 8.9982881, RATIO_DIVERSITY_HERFINDAHL: 0.9938061, RATIO_DIVERSITY_GINI: 0.0447031, RATIO_SHANNON_ENTROPY: 0.6640800, RATIO_AVERAGE_POPULARITY: 4.1030237, RATIO_NOVELTY: 0.3137182, \n",
      "\n"
     ]
    },
    {
     "name": "stderr",
     "output_type": "stream",
     "text": [
      "100%|█████████▉| 24504/24507 [1:03:47<00:00,  6.40it/s]\n",
      "  0%|          | 0/24507 [00:00<?, ?it/s]"
     ]
    },
    {
     "name": "stdout",
     "output_type": "stream",
     "text": [
      "Iteration No: 97 ended. Evaluation done at random point.\n",
      "Time taken: 3831.8449\n",
      "Function value obtained: -0.0224\n",
      "Current minimum: -0.0224\n",
      "Iteration No: 98 started. Evaluating function at random point.\n",
      "SearchBayesianSkopt: Testing config: {'l1_ratio': 0.0016861813734810598, 'topK': 3402, 'alpha': 0.0017985418170847, 'workers': 6}\n"
     ]
    },
    {
     "name": "stderr",
     "output_type": "stream",
     "text": [
      "100%|█████████▉| 24504/24507 [11:37<00:00, 58.28it/s]"
     ]
    },
    {
     "name": "stdout",
     "output_type": "stream",
     "text": [
      "EvaluatorHoldout: Processed 40932 (100.0%) in 45.66 sec. Users per second: 896\n",
      "SearchBayesianSkopt: Config 241 is suboptimal. Config: {'l1_ratio': 0.0016861813734810598, 'topK': 3402, 'alpha': 0.0017985418170847, 'workers': 6} - results: PRECISION: 0.0486490, PRECISION_RECALL_MIN_DEN: 0.0777330, RECALL: 0.0721144, MAP: 0.0223866, MAP_MIN_DEN: 0.0356313, MRR: 0.1561634, NDCG: 0.0743663, F1: 0.0581019, HIT_RATE: 0.3345304, ARHR_ALL_HITS: 0.1861560, NOVELTY: 0.0042855, AVERAGE_POPULARITY: 0.2134226, DIVERSITY_MEAN_INTER_LIST: 0.9324167, DIVERSITY_HERFINDAHL: 0.9932394, COVERAGE_ITEM: 0.2280165, COVERAGE_ITEM_HIT: 0.0517403, ITEMS_IN_GT: 0.9953891, COVERAGE_USER: 0.9832569, COVERAGE_USER_HIT: 0.3289294, USERS_IN_GT: 0.9832569, DIVERSITY_GINI: 0.0216053, SHANNON_ENTROPY: 8.9080836, RATIO_DIVERSITY_HERFINDAHL: 0.9935481, RATIO_DIVERSITY_GINI: 0.0414042, RATIO_SHANNON_ENTROPY: 0.6574229, RATIO_AVERAGE_POPULARITY: 4.1792392, RATIO_NOVELTY: 0.3120614, \n",
      "\n"
     ]
    },
    {
     "name": "stderr",
     "output_type": "stream",
     "text": [
      "100%|█████████▉| 24504/24507 [12:32<00:00, 32.57it/s]\n",
      "  0%|          | 0/24507 [00:00<?, ?it/s]"
     ]
    },
    {
     "name": "stdout",
     "output_type": "stream",
     "text": [
      "Iteration No: 98 ended. Evaluation done at random point.\n",
      "Time taken: 756.7063\n",
      "Function value obtained: -0.0224\n",
      "Current minimum: -0.0224\n",
      "Iteration No: 99 started. Evaluating function at random point.\n",
      "SearchBayesianSkopt: Testing config: {'l1_ratio': 0.012235177303577425, 'topK': 4588, 'alpha': 4.6191179481366176e-05, 'workers': 6}\n"
     ]
    },
    {
     "name": "stderr",
     "output_type": "stream",
     "text": [
      "100%|█████████▉| 24504/24507 [15:33:45<00:00, 48.30it/s]      "
     ]
    },
    {
     "name": "stdout",
     "output_type": "stream",
     "text": [
      "EvaluatorHoldout: Processed 40932 (100.0%) in 40.13 sec. Users per second: 1020\n",
      "SearchBayesianSkopt: Config 242 is suboptimal. Config: {'l1_ratio': 0.012235177303577425, 'topK': 4588, 'alpha': 4.6191179481366176e-05, 'workers': 6} - results: PRECISION: 0.0441684, PRECISION_RECALL_MIN_DEN: 0.0686052, RECALL: 0.0631317, MAP: 0.0205515, MAP_MIN_DEN: 0.0319096, MRR: 0.1434372, NDCG: 0.0669115, F1: 0.0519743, HIT_RATE: 0.3044073, ARHR_ALL_HITS: 0.1708855, NOVELTY: 0.0044396, AVERAGE_POPULARITY: 0.1892834, DIVERSITY_MEAN_INTER_LIST: 0.9493022, DIVERSITY_HERFINDAHL: 0.9949279, COVERAGE_ITEM: 0.4657853, COVERAGE_ITEM_HIT: 0.0583507, ITEMS_IN_GT: 0.9953891, COVERAGE_USER: 0.9832569, COVERAGE_USER_HIT: 0.2993106, USERS_IN_GT: 0.9832569, DIVERSITY_GINI: 0.0464974, SHANNON_ENTROPY: 9.6553352, RATIO_DIVERSITY_HERFINDAHL: 0.9952371, RATIO_DIVERSITY_GINI: 0.0891071, RATIO_SHANNON_ENTROPY: 0.7125706, RATIO_AVERAGE_POPULARITY: 3.7065452, RATIO_NOVELTY: 0.3232800, \n",
      "\n"
     ]
    },
    {
     "name": "stderr",
     "output_type": "stream",
     "text": [
      "100%|█████████▉| 24504/24507 [15:34:18<00:06,  2.29s/it]\n",
      "  0%|          | 0/24507 [00:00<?, ?it/s]"
     ]
    },
    {
     "name": "stdout",
     "output_type": "stream",
     "text": [
      "Iteration No: 99 ended. Evaluation done at random point.\n",
      "Time taken: 56062.7246\n",
      "Function value obtained: -0.0206\n",
      "Current minimum: -0.0224\n",
      "Iteration No: 100 started. Evaluating function at random point.\n",
      "SearchBayesianSkopt: Testing config: {'l1_ratio': 0.0002146393728280065, 'topK': 2547, 'alpha': 0.04910998124878519, 'workers': 6}\n"
     ]
    },
    {
     "name": "stderr",
     "output_type": "stream",
     "text": [
      " 92%|█████████▏| 22664/24507 [15:21<01:07, 27.27it/s]"
     ]
    }
   ],
   "source": [
    "hyperparameterSearch.search(recommender_input_args,\n",
    "                    hyperparameter_search_space = hyperparameters_range_dictionary,\n",
    "                    n_cases = n_cases,\n",
    "                    n_random_starts = n_random_starts,\n",
    "                    save_model = \"last\",\n",
    "                    output_folder_path = output_folder_path, # Where to save the results\n",
    "                    output_file_name_root = recommender_class.RECOMMENDER_NAME, # How to call the files\n",
    "                    metric_to_optimize = metric_to_optimize,\n",
    "                    cutoff_to_optimize = cutoff_to_optimize,\n",
    "                    resume_from_saved = True,\n",
    "                    recommender_input_args_last_test=recommender_input_args\n",
    "                    )"
   ]
  },
  {
   "cell_type": "code",
   "execution_count": null,
   "metadata": {},
   "outputs": [],
   "source": [
    "from Recommenders.DataIO import DataIO\n",
    "from Recommenders.SLIM.SLIMElasticNetRecommender import SLIMElasticNetRecommender\n",
    "import pandas as pd\n",
    "recommender_class = SLIMElasticNetRecommender\n",
    "\n",
    "output_folder_path = \"result_experiments\"\n",
    "data_loader = DataIO(folder_path = output_folder_path)\n",
    "search_metadata = data_loader.load_data(recommender_class.RECOMMENDER_NAME + \"_metadata.zip\")\n",
    "time_df = search_metadata[\"time_df\"]\n",
    "\n",
    "print('mean-time:')\n",
    "print(time_df['train'].mean())\n",
    "\n",
    "\n",
    "result_on_test_df = search_metadata[\"result_on_test_df\"]\n",
    "result_best_on_test = search_metadata[\"result_on_last\"]\n",
    "print('BEST_HYPERPARAMETERS: ')\n",
    "print(search_metadata[\"hyperparameters_best\"])\n",
    "print(pd.DataFrame(result_on_test_df))\n",
    "print(result_best_on_test)"
   ]
  }
 ],
 "metadata": {
  "kernelspec": {
   "display_name": "Python 3.8.13 ('RecSysFramework')",
   "language": "python",
   "name": "python3"
  },
  "language_info": {
   "codemirror_mode": {
    "name": "ipython",
    "version": 3
   },
   "file_extension": ".py",
   "mimetype": "text/x-python",
   "name": "python",
   "nbconvert_exporter": "python",
   "pygments_lexer": "ipython3",
   "version": "3.8.13 (default, Oct 19 2022, 22:38:03) [MSC v.1916 64 bit (AMD64)]"
  },
  "orig_nbformat": 4,
  "vscode": {
   "interpreter": {
    "hash": "c5ce4d3bcbb2362c29b9c9511304be4961a6384a957f7c5258651ee1b4c96e3c"
   }
  }
 },
 "nbformat": 4,
 "nbformat_minor": 2
}
