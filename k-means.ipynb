{
 "cells": [
  {
   "cell_type": "code",
   "execution_count": 79,
   "metadata": {},
   "outputs": [
    {
     "name": "stderr",
     "output_type": "stream",
     "text": [
      "c:\\Users\\loren\\anaconda3\\envs\\RecSysFramework\\lib\\site-packages\\IPython\\core\\interactiveshell.py:3185: DtypeWarning: Columns (2) have mixed types.Specify dtype option on import or set low_memory=False.\n",
      "  has_raised = await self.run_ast_nodes(code_ast.body, cell_name,\n"
     ]
    }
   ],
   "source": [
    "import os\n",
    "from typing import Tuple, Callable, Dict, Optional, List\n",
    "\n",
    "import numpy as np\n",
    "import pandas as pd\n",
    "import scipy.sparse as sp\n",
    "from sklearn.model_selection import train_test_split\n",
    "from sklearn.preprocessing import StandardScaler\n",
    "from Evaluation.Evaluator import EvaluatorHoldout\n",
    "from Data_manager.split_functions.split_train_validation_random_holdout import split_train_in_two_percentage_global_sample\n",
    "from Recommenders.SLIM.Cython.SLIM_BPR_Cython import SLIM_BPR_Cython\n",
    "from HyperparameterTuning.SearchBayesianSkopt import SearchBayesianSkopt\n",
    "from HyperparameterTuning.SearchAbstractClass import SearchInputRecommenderArgs\n",
    "from Recommenders.DataIO import DataIO\n",
    "from skopt.space import Real, Integer, Categorical\n",
    "from Recommenders.KNN.ItemKNNCFRecommender import ItemKNNCFRecommender\n",
    "from Recommenders.GraphBased.RP3betaRecommender import RP3betaRecommender\n",
    "from Recommenders.SLIM.Cython.SLIM_BPR_Cython import SLIM_BPR_Cython\n",
    "from Recommenders.SLIM.SLIMElasticNetRecommender import SLIMElasticNetRecommender,MultiThreadSLIM_SLIMElasticNetRecommender\n",
    "\n",
    "\n",
    "\n",
    "columns_name = ['user_id','item_id','impression_list','data']\n",
    "\n",
    "dataset_l = pd.read_csv('/Users/loren/Documents/GitHub/RecSys/dati/data_ICM_length.csv', sep=',')\n",
    "dataset_t = pd.read_csv('/Users/loren/Documents/GitHub/RecSys/dati/data_ICM_type.csv', sep=',')\n",
    "dataset = pd.read_csv('/Users/loren/Documents/GitHub/RecSys/dati/interactions_and_impressions.csv', sep=',')\n",
    "test_users = pd.read_csv('/Users/loren/Documents/GitHub/RecSys/dati/data_target_users_test.csv',sep = ',')\n",
    "dataset.columns = columns_name\n"
   ]
  },
  {
   "cell_type": "code",
   "execution_count": 63,
   "metadata": {},
   "outputs": [],
   "source": [
    "df = dataset_l[dataset_l.data < 50000]"
   ]
  },
  {
   "cell_type": "code",
   "execution_count": 64,
   "metadata": {},
   "outputs": [],
   "source": [
    "data = df.data.values"
   ]
  },
  {
   "cell_type": "code",
   "execution_count": 65,
   "metadata": {},
   "outputs": [],
   "source": [
    "dataPR = data.reshape(-1,1)"
   ]
  },
  {
   "cell_type": "code",
   "execution_count": 66,
   "metadata": {},
   "outputs": [
    {
     "data": {
      "text/plain": [
       "array([[   1],\n",
       "       [   1],\n",
       "       [  21],\n",
       "       ...,\n",
       "       [   1],\n",
       "       [1001],\n",
       "       [   1]], dtype=int64)"
      ]
     },
     "execution_count": 66,
     "metadata": {},
     "output_type": "execute_result"
    }
   ],
   "source": [
    "dataPR"
   ]
  },
  {
   "cell_type": "code",
   "execution_count": 67,
   "metadata": {},
   "outputs": [
    {
     "name": "stdout",
     "output_type": "stream",
     "text": [
      "[1 1 6 ... 1 0 1]\n",
      "19630\n",
      "[[1.00295652e+03]\n",
      " [2.68736182e+00]\n",
      " [1.00000000e+04]\n",
      " [3.76028571e+02]\n",
      " [1.53320000e+03]\n",
      " [1.25692708e+02]\n",
      " [2.78938462e+01]]\n"
     ]
    }
   ],
   "source": [
    "from sklearn.cluster import KMeans\n",
    "kmeans = KMeans(n_clusters=7, random_state=0).fit(dataPR)\n",
    "print(kmeans.labels_)\n",
    "print(len(kmeans.labels_))\n",
    "print(kmeans.cluster_centers_)"
   ]
  },
  {
   "cell_type": "code",
   "execution_count": 68,
   "metadata": {},
   "outputs": [],
   "source": [
    "data = df.data.values\n",
    "dataPR = data.reshape(-1,1)\n",
    "kmeans = KMeans(n_clusters=7, random_state=0).fit(dataPR)\n",
    "df['data'] = kmeans.labels_.copy()"
   ]
  },
  {
   "cell_type": "code",
   "execution_count": 88,
   "metadata": {},
   "outputs": [],
   "source": [
    "import scipy.sparse as sps\n",
    "def build_ICM_lengh_kmeans(dataset_l):\n",
    "    df_l = dataset_l.copy()\n",
    "    df_l.drop(columns = ['feature_id'], inplace = True)\n",
    "    df = dataset_l[dataset_l.item_id <= 24506]\n",
    "    data = df.data.values\n",
    "    dataPR = data.reshape(-1,1)\n",
    "    kmeans = KMeans(n_clusters=7, random_state=0).fit(dataPR)\n",
    "    df.data = kmeans.labels_.copy()\n",
    "    num_items, min_item_id, max_item_id = len(df.data.unique()), df.data.min(), df.data.max()\n",
    "    item = range(0,24506)\n",
    "    df_1 = pd.get_dummies(df.data)\n",
    "    column = range(num_items)\n",
    "    df_1.columns = column\n",
    "    df_1.index = df.item_id\n",
    "    ICM_lenght = pd.DataFrame(np.zeros((24507,7)))\n",
    "    ICM_lenght[ICM_lenght.index.isin(df_1.index)] = df_1\n",
    "    return sps.csr_matrix(ICM_lenght)"
   ]
  },
  {
   "cell_type": "code",
   "execution_count": 87,
   "metadata": {},
   "outputs": [
    {
     "name": "stderr",
     "output_type": "stream",
     "text": [
      "c:\\Users\\loren\\anaconda3\\envs\\RecSysFramework\\lib\\site-packages\\pandas\\core\\indexing.py:692: SettingWithCopyWarning: \n",
      "A value is trying to be set on a copy of a slice from a DataFrame\n",
      "\n",
      "See the caveats in the documentation: https://pandas.pydata.org/pandas-docs/stable/user_guide/indexing.html#returning-a-view-versus-a-copy\n",
      "  iloc._setitem_with_indexer(indexer, value, self.name)\n"
     ]
    },
    {
     "data": {
      "text/plain": [
       "<24507x7 sparse matrix of type '<class 'numpy.float64'>'\n",
       "\twith 19630 stored elements in Compressed Sparse Row format>"
      ]
     },
     "execution_count": 87,
     "metadata": {},
     "output_type": "execute_result"
    }
   ],
   "source": [
    "build_ICM_lengh_kmeans(dataset_l)"
   ]
  }
 ],
 "metadata": {
  "kernelspec": {
   "display_name": "RecSysFramework",
   "language": "python",
   "name": "python3"
  },
  "language_info": {
   "codemirror_mode": {
    "name": "ipython",
    "version": 3
   },
   "file_extension": ".py",
   "mimetype": "text/x-python",
   "name": "python",
   "nbconvert_exporter": "python",
   "pygments_lexer": "ipython3",
   "version": "3.8.13"
  },
  "orig_nbformat": 4,
  "vscode": {
   "interpreter": {
    "hash": "c5ce4d3bcbb2362c29b9c9511304be4961a6384a957f7c5258651ee1b4c96e3c"
   }
  }
 },
 "nbformat": 4,
 "nbformat_minor": 2
}
