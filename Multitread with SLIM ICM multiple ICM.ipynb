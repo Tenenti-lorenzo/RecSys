{
 "cells": [
  {
   "cell_type": "code",
   "execution_count": 2,
   "metadata": {},
   "outputs": [],
   "source": [
    "import os\n",
    "from typing import Tuple, Callable, Dict, Optional, List\n",
    "\n",
    "import numpy as np\n",
    "import pandas as pd\n",
    "import scipy.sparse as sp\n",
    "from sklearn.model_selection import train_test_split\n",
    "from sklearn.preprocessing import StandardScaler\n",
    "from Evaluation.Evaluator import EvaluatorHoldout\n",
    "from Data_manager.split_functions.split_train_validation_random_holdout import split_train_in_two_percentage_global_sample\n",
    "from Recommenders.SLIM.Cython.SLIM_BPR_Cython import SLIM_BPR_Cython\n",
    "from HyperparameterTuning.SearchBayesianSkopt import SearchBayesianSkopt\n",
    "from HyperparameterTuning.SearchAbstractClass import SearchInputRecommenderArgs\n",
    "from Recommenders.DataIO import DataIO\n",
    "from skopt.space import Real, Integer, Categorical\n",
    "from Recommenders.KNN.ItemKNNCFRecommender import ItemKNNCFRecommender\n",
    "from Recommenders.GraphBased.RP3betaRecommender import RP3betaRecommender\n",
    "from Recommenders.SLIM.Cython.SLIM_BPR_Cython import SLIM_BPR_Cython\n",
    "from Recommenders.SLIM.SLIMElasticNetRecommender import SLIMElasticNetRecommender,MultiThreadSLIM_SLIMElasticNetRecommender\n",
    "from Recommenders.SLIM.SLIMElasticNetRecommender import MultiThreadSLIM_SLIM_S_ElasticNetRecommender_Multiple_ICM_stacked\n",
    "np.random.seed(2498)\n",
    "\n",
    "\n",
    "columns_name = ['user_id','item_id','impression_list','data']\n",
    "\n",
    "dataset_l = pd.read_csv('/Users/loren/Documents/GitHub/RecSys/dati/data_ICM_length.csv', sep=',')\n",
    "dataset_t = pd.read_csv('/Users/loren/Documents/GitHub/RecSys/dati/data_ICM_type.csv', sep=',')\n",
    "dataset = pd.read_csv('/Users/loren/Documents/GitHub/RecSys/dati/interactions_and_impressions.csv', sep=',')\n",
    "test_users = pd.read_csv('/Users/loren/Documents/GitHub/RecSys/dati/data_target_users_test.csv',sep = ',')\n",
    "dataset.columns = columns_name"
   ]
  },
  {
   "cell_type": "code",
   "execution_count": 3,
   "metadata": {},
   "outputs": [
    {
     "data": {
      "text/plain": [
       "(24507, 0, 24506)"
      ]
     },
     "execution_count": 3,
     "metadata": {},
     "output_type": "execute_result"
    }
   ],
   "source": [
    "len(dataset.item_id.unique()),dataset.item_id.unique().min(),dataset.item_id.unique().max()"
   ]
  },
  {
   "cell_type": "code",
   "execution_count": 4,
   "metadata": {},
   "outputs": [
    {
     "name": "stderr",
     "output_type": "stream",
     "text": [
      "c:\\Users\\loren\\anaconda3\\envs\\RecSysFramework\\lib\\site-packages\\pandas\\core\\generic.py:5494: SettingWithCopyWarning: \n",
      "A value is trying to be set on a copy of a slice from a DataFrame.\n",
      "Try using .loc[row_indexer,col_indexer] = value instead\n",
      "\n",
      "See the caveats in the documentation: https://pandas.pydata.org/pandas-docs/stable/user_guide/indexing.html#returning-a-view-versus-a-copy\n",
      "  self[name] = value\n"
     ]
    }
   ],
   "source": [
    "from Data_manager.Build_Matrix.Data_import import build_ICM_type,build_ICM_lengh_kmeans_3,build_URM_ICM_onlyURM_item\n",
    "import scipy.sparse as sps\n",
    "URM_ALL,ICM=build_URM_ICM_onlyURM_item(dataset, dataset_t, dataset_l)\n",
    "ICM_TYPE   =build_ICM_type(dataset_t)\n",
    "ICM_LENGHT =build_ICM_lengh_kmeans_3(dataset_l,n_clusters = 5)\n",
    "ICM_genre_subgenre = sps.hstack((ICM_TYPE, ICM_LENGHT));"
   ]
  },
  {
   "cell_type": "code",
   "execution_count": 5,
   "metadata": {},
   "outputs": [
    {
     "name": "stdout",
     "output_type": "stream",
     "text": [
      "Warning: 308 (0.74 %) of 41629 users have no sampled items\n",
      "Warning: 697 (1.67 %) of 41629 users have no sampled items\n",
      "EvaluatorHoldout: Ignoring 697 ( 1.7%) Users that have less than 1 test interactions\n",
      "EvaluatorHoldout: Ignoring 308 ( 0.7%) Users that have less than 1 test interactions\n"
     ]
    }
   ],
   "source": [
    "URM_train_validation, URM_test = split_train_in_two_percentage_global_sample(URM_ALL, train_percentage = 0.80)\n",
    "URM_train, URM_validation = split_train_in_two_percentage_global_sample(URM_train_validation, train_percentage = 0.80)\n",
    "\n",
    "evaluator_validation = EvaluatorHoldout(URM_validation, cutoff_list=[10])\n",
    "evaluator_test = EvaluatorHoldout(URM_test, cutoff_list=[10])"
   ]
  },
  {
   "cell_type": "code",
   "execution_count": 6,
   "metadata": {},
   "outputs": [],
   "source": [
    "param_1 = {'l1_ratio': 5.371794099882435e-05, 'topK': 1651, 'alpha': 0.008001600311161093, 'workers': 2, 'mw': 1}"
   ]
  },
  {
   "cell_type": "code",
   "execution_count": 7,
   "metadata": {},
   "outputs": [],
   "source": [
    "p=MultiThreadSLIM_SLIM_S_ElasticNetRecommender_Multiple_ICM_stacked(URM_train,ICM_TYPE,ICM_LENGHT)"
   ]
  },
  {
   "cell_type": "code",
   "execution_count": 8,
   "metadata": {},
   "outputs": [],
   "source": [
    "import os\n",
    "\n",
    "output_folder_path = \"result_MultiThreadSLIM_SLIM_S_ElasticNetRecommender_Multiple_ICM_stacked\"\n",
    "\n",
    "# If directory does not exist, create\n",
    "if not os.path.exists(output_folder_path):\n",
    "    os.makedirs(output_folder_path)\n",
    "\n",
    "n_cases = 500\n",
    "n_random_starts = int(n_cases*0.3)\n",
    "metric_to_optimize = \"MAP\"   \n",
    "cutoff_to_optimize = 10\n",
    "\n",
    "hyperparameters_range_dictionary = {\n",
    "        \"l1_ratio\": Real(low = 1e-5, high = 0.1, prior = 'log-uniform'),\n",
    "        \"topK\": Integer(200, 6000),\n",
    "        \"alpha\": Real(low = 1e-5, high = 0.1, prior = 'uniform'),\n",
    "        \"workers\": Categorical([5]),\n",
    "        \"mw\": Integer(0, 10),\n",
    "        \"mw_1\": Integer(0, 10)\n",
    "    }\n",
    "\n",
    "earlystopping_keywargs = {\"validation_every_n\": 5,\n",
    "                              \"stop_on_validation\": True,\n",
    "                              \"evaluator_object\": URM_validation,\n",
    "                              \"lower_validations_allowed\": 5,\n",
    "                              \"validation_metric\": metric_to_optimize,\n",
    "                              }\n",
    "recommender_input_args = SearchInputRecommenderArgs(\n",
    "                CONSTRUCTOR_POSITIONAL_ARGS = [URM_train,ICM_TYPE,ICM_LENGHT],\n",
    "                CONSTRUCTOR_KEYWORD_ARGS = {},\n",
    "                FIT_POSITIONAL_ARGS = [],\n",
    "                FIT_KEYWORD_ARGS = {},\n",
    "                EARLYSTOPPING_KEYWORD_ARGS = {},\n",
    "            )\n",
    "\n",
    "recommender_class = MultiThreadSLIM_SLIM_S_ElasticNetRecommender_Multiple_ICM_stacked\n",
    "\n",
    "\n",
    "hyperparameterSearch = SearchBayesianSkopt(recommender_class,\n",
    "                                        evaluator_validation=evaluator_validation,\n",
    "                                        evaluator_test=evaluator_test)"
   ]
  },
  {
   "cell_type": "code",
   "execution_count": 9,
   "metadata": {},
   "outputs": [
    {
     "name": "stderr",
     "output_type": "stream",
     "text": [
      "  0%|          | 0/24507 [00:00<?, ?it/s]"
     ]
    },
    {
     "name": "stdout",
     "output_type": "stream",
     "text": [
      "SearchBayesianSkopt: Resuming 'SLIMElasticNetRecommender'... Loaded 134 configurations.\n",
      "Iteration No: 1 started. Evaluating function at random point.\n",
      "Iteration No: 1 ended. Evaluation done at random point.\n",
      "Time taken: 0.0010\n",
      "Function value obtained: -0.0194\n",
      "Current minimum: -0.0223\n",
      "Iteration No: 2 started. Evaluating function at random point.\n",
      "SearchBayesianSkopt: Testing config: {'l1_ratio': 5.9859363001456074e-05, 'topK': 1310, 'alpha': 0.06120034908912765, 'workers': 5, 'mw': 0, 'mw_1': 9}\n"
     ]
    },
    {
     "name": "stderr",
     "output_type": "stream",
     "text": [
      " 15%|█▍        | 3560/24507 [02:30<13:35, 25.67it/s]"
     ]
    }
   ],
   "source": [
    "hyperparameterSearch.search(recommender_input_args,\n",
    "                    hyperparameter_search_space = hyperparameters_range_dictionary,\n",
    "                    n_cases = n_cases,\n",
    "                    n_random_starts = n_random_starts,\n",
    "                    save_model = \"last\",\n",
    "                    output_folder_path = output_folder_path, # Where to save the results\n",
    "                    output_file_name_root = recommender_class.RECOMMENDER_NAME, # How to call the files\n",
    "                    metric_to_optimize = metric_to_optimize,\n",
    "                    cutoff_to_optimize = cutoff_to_optimize,\n",
    "                    resume_from_saved = True,\n",
    "                    recommender_input_args_last_test=recommender_input_args\n",
    "                    )"
   ]
  },
  {
   "cell_type": "code",
   "execution_count": null,
   "metadata": {},
   "outputs": [
    {
     "name": "stdout",
     "output_type": "stream",
     "text": [
      "mean-time:\n",
      "392.422853257921\n",
      "BEST_HYPERPARAMETERS: \n",
      "{'topK': 668, 'l1_ratio': 0.06262713223835095, 'alpha': 0.001}\n",
      "          PRECISION PRECISION_RECALL_MIN_DEN    RECALL       MAP MAP_MIN_DEN  \\\n",
      "   cutoff                                                                      \n",
      "0  10      0.048502                 0.067374  0.059069  0.022471    0.030846   \n",
      "1  10           NaN                      NaN       NaN       NaN         NaN   \n",
      "2  10           NaN                      NaN       NaN       NaN         NaN   \n",
      "3  10           NaN                      NaN       NaN       NaN         NaN   \n",
      "4  10           NaN                      NaN       NaN       NaN         NaN   \n",
      "...             ...                      ...       ...       ...         ...   \n",
      "95 10           NaN                      NaN       NaN       NaN         NaN   \n",
      "96 10           NaN                      NaN       NaN       NaN         NaN   \n",
      "97 10           NaN                      NaN       NaN       NaN         NaN   \n",
      "98 10           NaN                      NaN       NaN       NaN         NaN   \n",
      "99 10           NaN                      NaN       NaN       NaN         NaN   \n",
      "\n",
      "                MRR      NDCG        F1  HIT_RATE ARHR_ALL_HITS  ...  \\\n",
      "   cutoff                                                        ...   \n",
      "0  10      0.155224  0.067991  0.053267  0.331784      0.185612  ...   \n",
      "1  10           NaN       NaN       NaN       NaN           NaN  ...   \n",
      "2  10           NaN       NaN       NaN       NaN           NaN  ...   \n",
      "3  10           NaN       NaN       NaN       NaN           NaN  ...   \n",
      "4  10           NaN       NaN       NaN       NaN           NaN  ...   \n",
      "...             ...       ...       ...       ...           ...  ...   \n",
      "95 10           NaN       NaN       NaN       NaN           NaN  ...   \n",
      "96 10           NaN       NaN       NaN       NaN           NaN  ...   \n",
      "97 10           NaN       NaN       NaN       NaN           NaN  ...   \n",
      "98 10           NaN       NaN       NaN       NaN           NaN  ...   \n",
      "99 10           NaN       NaN       NaN       NaN           NaN  ...   \n",
      "\n",
      "          COVERAGE_USER COVERAGE_USER_HIT USERS_IN_GT DIVERSITY_GINI  \\\n",
      "   cutoff                                                              \n",
      "0  10          0.991977          0.329122    0.991977       0.009216   \n",
      "1  10               NaN               NaN         NaN            NaN   \n",
      "2  10               NaN               NaN         NaN            NaN   \n",
      "3  10               NaN               NaN         NaN            NaN   \n",
      "4  10               NaN               NaN         NaN            NaN   \n",
      "...                 ...               ...         ...            ...   \n",
      "95 10               NaN               NaN         NaN            NaN   \n",
      "96 10               NaN               NaN         NaN            NaN   \n",
      "97 10               NaN               NaN         NaN            NaN   \n",
      "98 10               NaN               NaN         NaN            NaN   \n",
      "99 10               NaN               NaN         NaN            NaN   \n",
      "\n",
      "          SHANNON_ENTROPY RATIO_DIVERSITY_HERFINDAHL RATIO_DIVERSITY_GINI  \\\n",
      "   cutoff                                                                   \n",
      "0  10            7.260551                   0.983319             0.018291   \n",
      "1  10                 NaN                        NaN                  NaN   \n",
      "2  10                 NaN                        NaN                  NaN   \n",
      "3  10                 NaN                        NaN                  NaN   \n",
      "4  10                 NaN                        NaN                  NaN   \n",
      "...                   ...                        ...                  ...   \n",
      "95 10                 NaN                        NaN                  NaN   \n",
      "96 10                 NaN                        NaN                  NaN   \n",
      "97 10                 NaN                        NaN                  NaN   \n",
      "98 10                 NaN                        NaN                  NaN   \n",
      "99 10                 NaN                        NaN                  NaN   \n",
      "\n",
      "          RATIO_SHANNON_ENTROPY RATIO_AVERAGE_POPULARITY RATIO_NOVELTY  \n",
      "   cutoff                                                               \n",
      "0  10                  0.538207                 6.032042      0.298113  \n",
      "1  10                       NaN                      NaN           NaN  \n",
      "2  10                       NaN                      NaN           NaN  \n",
      "3  10                       NaN                      NaN           NaN  \n",
      "4  10                       NaN                      NaN           NaN  \n",
      "...                         ...                      ...           ...  \n",
      "95 10                       NaN                      NaN           NaN  \n",
      "96 10                       NaN                      NaN           NaN  \n",
      "97 10                       NaN                      NaN           NaN  \n",
      "98 10                       NaN                      NaN           NaN  \n",
      "99 10                       NaN                      NaN           NaN  \n",
      "\n",
      "[100 rows x 27 columns]\n",
      "       PRECISION PRECISION_RECALL_MIN_DEN    RECALL       MAP MAP_MIN_DEN  \\\n",
      "cutoff                                                                      \n",
      "10        0.0597                 0.081601  0.071111  0.028474    0.038358   \n",
      "\n",
      "             MRR      NDCG        F1  HIT_RATE ARHR_ALL_HITS  ...  \\\n",
      "cutoff                                                        ...   \n",
      "10      0.184369  0.082809  0.064907  0.382468      0.227482  ...   \n",
      "\n",
      "       COVERAGE_USER COVERAGE_USER_HIT USERS_IN_GT DIVERSITY_GINI  \\\n",
      "cutoff                                                              \n",
      "10          0.991977          0.379399    0.991977       0.023833   \n",
      "\n",
      "       SHANNON_ENTROPY RATIO_DIVERSITY_HERFINDAHL RATIO_DIVERSITY_GINI  \\\n",
      "cutoff                                                                   \n",
      "10            9.130633                   0.994844               0.0473   \n",
      "\n",
      "       RATIO_SHANNON_ENTROPY RATIO_AVERAGE_POPULARITY RATIO_NOVELTY  \n",
      "cutoff                                                               \n",
      "10                  0.676832                 3.853892      0.329235  \n",
      "\n",
      "[1 rows x 27 columns]\n"
     ]
    }
   ],
   "source": [
    "from Recommenders.DataIO import DataIO\n",
    "from Recommenders.SLIM.SLIMElasticNetRecommender import SLIMElasticNetRecommender\n",
    "import pandas as pd\n",
    "recommender_class = SLIMElasticNetRecommender\n",
    "\n",
    "output_folder_path = \"result_experiments\"\n",
    "data_loader = DataIO(folder_path = output_folder_path)\n",
    "search_metadata = data_loader.load_data(recommender_class.RECOMMENDER_NAME + \"_metadata.zip\")\n",
    "time_df = search_metadata[\"time_df\"]\n",
    "\n",
    "print('mean-time:')\n",
    "print(time_df['train'].mean())\n",
    "\n",
    "\n",
    "result_on_test_df = search_metadata[\"result_on_test_df\"]\n",
    "result_best_on_test = search_metadata[\"result_on_last\"]\n",
    "print('BEST_HYPERPARAMETERS: ')\n",
    "print(search_metadata[\"hyperparameters_best\"])\n",
    "print(pd.DataFrame(result_on_test_df))\n",
    "print(result_best_on_test)"
   ]
  }
 ],
 "metadata": {
  "kernelspec": {
   "display_name": "Python 3.8.13 ('RecSysFramework')",
   "language": "python",
   "name": "python3"
  },
  "language_info": {
   "codemirror_mode": {
    "name": "ipython",
    "version": 3
   },
   "file_extension": ".py",
   "mimetype": "text/x-python",
   "name": "python",
   "nbconvert_exporter": "python",
   "pygments_lexer": "ipython3",
   "version": "3.8.13"
  },
  "orig_nbformat": 4,
  "vscode": {
   "interpreter": {
    "hash": "c5ce4d3bcbb2362c29b9c9511304be4961a6384a957f7c5258651ee1b4c96e3c"
   }
  }
 },
 "nbformat": 4,
 "nbformat_minor": 2
}
