{
 "cells": [
  {
   "cell_type": "code",
   "execution_count": 1,
   "metadata": {},
   "outputs": [
    {
     "name": "stderr",
     "output_type": "stream",
     "text": [
      "c:\\Users\\loren\\anaconda3\\envs\\RecSysFramework\\lib\\site-packages\\lightfm\\_lightfm_fast.py:9: UserWarning: LightFM was compiled without OpenMP support. Only a single thread will be used.\n",
      "  warnings.warn(\n",
      "c:\\Users\\loren\\anaconda3\\envs\\RecSysFramework\\lib\\site-packages\\IPython\\core\\interactiveshell.py:3185: DtypeWarning: Columns (2) have mixed types.Specify dtype option on import or set low_memory=False.\n",
      "  has_raised = await self.run_ast_nodes(code_ast.body, cell_name,\n"
     ]
    }
   ],
   "source": [
    "import os\n",
    "from typing import Tuple, Callable, Dict, Optional, List\n",
    "\n",
    "import numpy as np\n",
    "import pandas as pd\n",
    "import scipy.sparse as sp\n",
    "from sklearn.model_selection import train_test_split\n",
    "from sklearn.preprocessing import StandardScaler\n",
    "from Evaluation.Evaluator import EvaluatorHoldout\n",
    "from Data_manager.split_functions.split_train_validation_random_holdout import split_train_in_two_percentage_global_sample\n",
    "from Recommenders.SLIM.Cython.SLIM_BPR_Cython import SLIM_BPR_Cython\n",
    "from HyperparameterTuning.SearchBayesianSkopt import SearchBayesianSkopt\n",
    "from HyperparameterTuning.SearchAbstractClass import SearchInputRecommenderArgs\n",
    "from Recommenders.DataIO import DataIO\n",
    "from skopt.space import Real, Integer, Categorical\n",
    "from Recommenders.KNN.ItemKNNCFRecommender import ItemKNNCFRecommender\n",
    "from Recommenders.GraphBased.RP3betaRecommender import RP3betaRecommender\n",
    "from Recommenders.SLIM.Cython.SLIM_BPR_Cython import SLIM_BPR_Cython\n",
    "from Recommenders.SLIM.SLIMElasticNetRecommender import SLIMElasticNetRecommender,MultiThreadSLIM_SLIMElasticNetRecommender\n",
    "from Recommenders.SLIM.SLIMElasticNetRecommender import MultiThreadSLIM_SLIM_S_ElasticNetRecommender_Multiple_ICM_stacked\n",
    "np.random.seed(2498)\n",
    "from Recommenders.FactorizationMachines.LightFMRecommender import LightFMCFRecommender\n",
    "\n",
    "columns_name = ['user_id','item_id','impression_list','data']\n",
    "\n",
    "dataset_l = pd.read_csv('/Users/loren/Documents/GitHub/RecSys/dati/data_ICM_length.csv', sep=',')\n",
    "dataset_t = pd.read_csv('/Users/loren/Documents/GitHub/RecSys/dati/data_ICM_type.csv', sep=',')\n",
    "dataset = pd.read_csv('/Users/loren/Documents/GitHub/RecSys/dati/interactions_and_impressions.csv', sep=',')\n",
    "test_users = pd.read_csv('/Users/loren/Documents/GitHub/RecSys/dati/data_target_users_test.csv',sep = ',')\n",
    "dataset.columns = columns_name"
   ]
  },
  {
   "cell_type": "code",
   "execution_count": 2,
   "metadata": {},
   "outputs": [
    {
     "name": "stderr",
     "output_type": "stream",
     "text": [
      "c:\\Users\\loren\\anaconda3\\envs\\RecSysFramework\\lib\\site-packages\\pandas\\core\\generic.py:5494: SettingWithCopyWarning: \n",
      "A value is trying to be set on a copy of a slice from a DataFrame.\n",
      "Try using .loc[row_indexer,col_indexer] = value instead\n",
      "\n",
      "See the caveats in the documentation: https://pandas.pydata.org/pandas-docs/stable/user_guide/indexing.html#returning-a-view-versus-a-copy\n",
      "  self[name] = value\n"
     ]
    }
   ],
   "source": [
    "from Data_manager.Build_Matrix.Data_import import build_ICM_type,build_ICM_lengh_kmeans_3,build_URM_ICM_onlyURM_item,build_URM_impression\n",
    "import scipy.sparse as sps\n",
    "URM_ALL,ICM=build_URM_ICM_onlyURM_item(dataset, dataset_t, dataset_l)\n",
    "ICM_TYPE   =build_ICM_type(dataset_t)\n",
    "ICM_LENGHT =build_ICM_lengh_kmeans_3(dataset_l,n_clusters = 5)\n",
    "ICM_genre_subgenre = sps.hstack((ICM_TYPE, ICM_LENGHT));"
   ]
  },
  {
   "cell_type": "code",
   "execution_count": 3,
   "metadata": {},
   "outputs": [
    {
     "name": "stdout",
     "output_type": "stream",
     "text": [
      "Warning: 308 (0.74 %) of 41629 users have no sampled items\n",
      "Warning: 697 (1.67 %) of 41629 users have no sampled items\n",
      "EvaluatorHoldout: Ignoring 697 ( 1.7%) Users that have less than 1 test interactions\n",
      "EvaluatorHoldout: Ignoring 308 ( 0.7%) Users that have less than 1 test interactions\n"
     ]
    }
   ],
   "source": [
    "URM_train_validation, URM_test = split_train_in_two_percentage_global_sample(URM_ALL, train_percentage = 0.80)\n",
    "URM_train, URM_validation = split_train_in_two_percentage_global_sample(URM_train_validation, train_percentage = 0.80)\n",
    "\n",
    "evaluator_validation = EvaluatorHoldout(URM_validation, cutoff_list=[10])\n",
    "evaluator_test = EvaluatorHoldout(URM_test, cutoff_list=[10])"
   ]
  },
  {
   "cell_type": "code",
   "execution_count": 4,
   "metadata": {},
   "outputs": [],
   "source": [
    "df = dataset.copy()\n",
    "df_impressions = df.drop(columns = ['data','item_id'])\n",
    "df_impressions.dropna(inplace=True)\n",
    "    \n",
    "df_impressions = df_impressions.groupby(by=['user_id'])['impression_list'].apply(list).reset_index()\n",
    "\n",
    "def helper(list_string):\n",
    "    data = []\n",
    "    for string in list_string:\n",
    "        stuff = string.split(',')\n",
    "        for s in stuff:\n",
    "            int(s)\n",
    "            data.append(int(s))\n",
    "    return data\n",
    "\n",
    "df_impressions['impression_list']= df_impressions['impression_list'].apply(helper)\n",
    "df_impressions = df_impressions.groupby(by=['user_id'])['impression_list'].apply(np.array).reset_index()\n",
    "df_impressions['impression_list'] = df_impressions['impression_list'].apply(np.concatenate)\n",
    "df_impressions['impression_list'] = df_impressions['impression_list'].apply(np.unique)\n",
    "num_users = 41629\n",
    "num_items = 24507\n",
    "\n",
    "\n",
    "# URM_impression = sps.csr_matrix(A)\n"
   ]
  },
  {
   "cell_type": "code",
   "execution_count": 5,
   "metadata": {},
   "outputs": [],
   "source": [
    "A=[]\n",
    "for i in df_impressions['user_id']:\n",
    "    for j in df_impressions.iloc[i]['impression_list']:\n",
    "        A.append({'user_id' : i , 'item_id' : j , 'data' : 1})\n",
    "for i in range(0,41629):\n",
    "    A.append({'user_id' : i , 'item_id' : 0 , 'data' : 0})"
   ]
  },
  {
   "cell_type": "code",
   "execution_count": 6,
   "metadata": {},
   "outputs": [],
   "source": [
    "pippo = pd.DataFrame(A)\n",
    "unique_items = pippo.item_id.unique()\n",
    "num_items, min_item_id, max_item_id = unique_items.size, unique_items.min(), unique_items.max()\n",
    "mapping_item_id = pd.DataFrame({\"mapped_item_id\": np.arange(num_items), \"item_id\": unique_items})"
   ]
  },
  {
   "cell_type": "code",
   "execution_count": 7,
   "metadata": {},
   "outputs": [],
   "source": [
    "pippo = pd.merge(left=pippo, \n",
    "                       right=mapping_item_id,\n",
    "                       how=\"inner\",\n",
    "                       on=\"item_id\")"
   ]
  },
  {
   "cell_type": "code",
   "execution_count": 8,
   "metadata": {},
   "outputs": [],
   "source": [
    "num_users = 41629\n",
    "num_items = max_item_id"
   ]
  },
  {
   "cell_type": "code",
   "execution_count": 9,
   "metadata": {},
   "outputs": [
    {
     "data": {
      "text/html": [
       "<div>\n",
       "<style scoped>\n",
       "    .dataframe tbody tr th:only-of-type {\n",
       "        vertical-align: middle;\n",
       "    }\n",
       "\n",
       "    .dataframe tbody tr th {\n",
       "        vertical-align: top;\n",
       "    }\n",
       "\n",
       "    .dataframe thead th {\n",
       "        text-align: right;\n",
       "    }\n",
       "</style>\n",
       "<table border=\"1\" class=\"dataframe\">\n",
       "  <thead>\n",
       "    <tr style=\"text-align: right;\">\n",
       "      <th></th>\n",
       "      <th>user_id</th>\n",
       "      <th>item_id</th>\n",
       "      <th>data</th>\n",
       "      <th>mapped_item_id</th>\n",
       "    </tr>\n",
       "  </thead>\n",
       "  <tbody>\n",
       "    <tr>\n",
       "      <th>0</th>\n",
       "      <td>0</td>\n",
       "      <td>0</td>\n",
       "      <td>1</td>\n",
       "      <td>0</td>\n",
       "    </tr>\n",
       "    <tr>\n",
       "      <th>1</th>\n",
       "      <td>191</td>\n",
       "      <td>0</td>\n",
       "      <td>1</td>\n",
       "      <td>0</td>\n",
       "    </tr>\n",
       "    <tr>\n",
       "      <th>2</th>\n",
       "      <td>1343</td>\n",
       "      <td>0</td>\n",
       "      <td>1</td>\n",
       "      <td>0</td>\n",
       "    </tr>\n",
       "    <tr>\n",
       "      <th>3</th>\n",
       "      <td>1849</td>\n",
       "      <td>0</td>\n",
       "      <td>1</td>\n",
       "      <td>0</td>\n",
       "    </tr>\n",
       "    <tr>\n",
       "      <th>4</th>\n",
       "      <td>1875</td>\n",
       "      <td>0</td>\n",
       "      <td>1</td>\n",
       "      <td>0</td>\n",
       "    </tr>\n",
       "    <tr>\n",
       "      <th>...</th>\n",
       "      <td>...</td>\n",
       "      <td>...</td>\n",
       "      <td>...</td>\n",
       "      <td>...</td>\n",
       "    </tr>\n",
       "    <tr>\n",
       "      <th>1646666</th>\n",
       "      <td>35938</td>\n",
       "      <td>21596</td>\n",
       "      <td>1</td>\n",
       "      <td>21639</td>\n",
       "    </tr>\n",
       "    <tr>\n",
       "      <th>1646667</th>\n",
       "      <td>35955</td>\n",
       "      <td>21610</td>\n",
       "      <td>1</td>\n",
       "      <td>21640</td>\n",
       "    </tr>\n",
       "    <tr>\n",
       "      <th>1646668</th>\n",
       "      <td>35977</td>\n",
       "      <td>21622</td>\n",
       "      <td>1</td>\n",
       "      <td>21641</td>\n",
       "    </tr>\n",
       "    <tr>\n",
       "      <th>1646669</th>\n",
       "      <td>35988</td>\n",
       "      <td>21627</td>\n",
       "      <td>1</td>\n",
       "      <td>21642</td>\n",
       "    </tr>\n",
       "    <tr>\n",
       "      <th>1646670</th>\n",
       "      <td>36006</td>\n",
       "      <td>21638</td>\n",
       "      <td>1</td>\n",
       "      <td>21643</td>\n",
       "    </tr>\n",
       "  </tbody>\n",
       "</table>\n",
       "<p>1646671 rows × 4 columns</p>\n",
       "</div>"
      ],
      "text/plain": [
       "         user_id  item_id  data  mapped_item_id\n",
       "0              0        0     1               0\n",
       "1            191        0     1               0\n",
       "2           1343        0     1               0\n",
       "3           1849        0     1               0\n",
       "4           1875        0     1               0\n",
       "...          ...      ...   ...             ...\n",
       "1646666    35938    21596     1           21639\n",
       "1646667    35955    21610     1           21640\n",
       "1646668    35977    21622     1           21641\n",
       "1646669    35988    21627     1           21642\n",
       "1646670    36006    21638     1           21643\n",
       "\n",
       "[1646671 rows x 4 columns]"
      ]
     },
     "execution_count": 9,
     "metadata": {},
     "output_type": "execute_result"
    }
   ],
   "source": [
    "pippo"
   ]
  },
  {
   "cell_type": "code",
   "execution_count": 10,
   "metadata": {},
   "outputs": [],
   "source": [
    "num_items=len(pippo.item_id.unique())"
   ]
  },
  {
   "cell_type": "code",
   "execution_count": 11,
   "metadata": {},
   "outputs": [],
   "source": [
    "urm_impression = sps.csr_matrix((pippo.data,(pippo.user_id,pippo.mapped_item_id)),shape=(num_users, num_items))"
   ]
  },
  {
   "cell_type": "code",
   "execution_count": 12,
   "metadata": {},
   "outputs": [
    {
     "name": "stdout",
     "output_type": "stream",
     "text": [
      "LightFMUserHybridRecommender: UCM Detected 5610 (13.5%) cold users.\n"
     ]
    }
   ],
   "source": [
    "from Recommenders.FactorizationMachines.LightFMRecommender import LightFMUserHybridRecommender\n",
    "rec = LightFMUserHybridRecommender(URM_train,urm_impression)"
   ]
  },
  {
   "cell_type": "code",
   "execution_count": 13,
   "metadata": {},
   "outputs": [],
   "source": [
    "import os\n",
    "\n",
    "output_folder_path = \"result_LightFMCFRecommender\"\n",
    "\n",
    "# If directory does not exist, create\n",
    "if not os.path.exists(output_folder_path):\n",
    "    os.makedirs(output_folder_path)\n",
    "\n",
    "n_cases = 500\n",
    "n_random_starts = int(n_cases*0.3)\n",
    "metric_to_optimize = \"MAP\"   \n",
    "cutoff_to_optimize = 10\n",
    "\n",
    "hyperparameters_range_dictionary = {\n",
    "                \"epochs\": Categorical([30]),\n",
    "                \"n_components\": Integer(1, 200),\n",
    "                \"loss\": Categorical(['bpr', 'warp', 'warp-kos']),\n",
    "                \"sgd_mode\": Categorical(['adagrad', 'adadelta']),\n",
    "                \"learning_rate\": Real(low = 1e-6, high = 1e-1, prior = 'log-uniform'),\n",
    "                \"item_alpha\": Real(low = 1e-5, high = 1e-2, prior = 'log-uniform'),\n",
    "                \"user_alpha\": Real(low = 1e-5, high = 1e-2, prior = 'log-uniform'),\n",
    "            }\n",
    "\n",
    "# earlystopping_keywargs = {\"validation_every_n\": 25,\n",
    "#                               \"stop_on_validation\": True,\n",
    "#                               \"evaluator_object\": evaluator_test,\n",
    "#                               \"lower_validations_allowed\": 1,\n",
    "#                               \"validation_metric\": metric_to_optimize,\n",
    "#                               }\n",
    "recommender_input_args = SearchInputRecommenderArgs(\n",
    "                CONSTRUCTOR_POSITIONAL_ARGS = [URM_train,urm_impression],\n",
    "                CONSTRUCTOR_KEYWORD_ARGS = {},\n",
    "                FIT_POSITIONAL_ARGS = [],\n",
    "                FIT_KEYWORD_ARGS = {},\n",
    "                EARLYSTOPPING_KEYWORD_ARGS = {},\n",
    "            )\n",
    "\n",
    "recommender_class = LightFMUserHybridRecommender\n",
    "\n",
    "\n",
    "hyperparameterSearch = SearchBayesianSkopt(recommender_class,\n",
    "                                        evaluator_validation=evaluator_test,\n",
    "                                        evaluator_test=evaluator_test)"
   ]
  },
  {
   "cell_type": "code",
   "execution_count": 14,
   "metadata": {},
   "outputs": [
    {
     "name": "stdout",
     "output_type": "stream",
     "text": [
      "SearchBayesianSkopt: Resuming 'LightFMUserHybridRecommender'... Loaded 7 configurations.\n",
      "Iteration No: 1 started. Evaluating function at random point.\n",
      "Iteration No: 1 ended. Evaluation done at random point.\n",
      "Time taken: 0.0000\n",
      "Function value obtained: -0.0121\n",
      "Current minimum: -0.0124\n",
      "Iteration No: 2 started. Evaluating function at random point.\n",
      "SearchBayesianSkopt: Testing config: {'epochs': 30, 'n_components': 150, 'loss': 'warp', 'sgd_mode': 'adagrad', 'learning_rate': 2.3356849005730402e-05, 'item_alpha': 0.0005936710576999154, 'user_alpha': 0.0034108774652576858}\n",
      "LightFMUserHybridRecommender: UCM Detected 5610 (13.5%) cold users.\n",
      "LightFMUserHybridRecommender: Epoch 1 of 30. Elapsed time 11.22 min\n",
      "LightFMUserHybridRecommender: Epoch 2 of 30. Elapsed time 21.24 min\n",
      "LightFMUserHybridRecommender: Epoch 3 of 30. Elapsed time 31.93 min\n",
      "LightFMUserHybridRecommender: Epoch 4 of 30. Elapsed time 42.07 min\n",
      "LightFMUserHybridRecommender: Epoch 5 of 30. Elapsed time 51.11 min\n",
      "LightFMUserHybridRecommender: Epoch 6 of 30. Elapsed time 1.01 hour\n",
      "LightFMUserHybridRecommender: Epoch 7 of 30. Elapsed time 1.17 hour\n",
      "LightFMUserHybridRecommender: Epoch 8 of 30. Elapsed time 1.32 hour\n",
      "LightFMUserHybridRecommender: Epoch 9 of 30. Elapsed time 1.49 hour\n",
      "LightFMUserHybridRecommender: Epoch 10 of 30. Elapsed time 1.64 hour\n",
      "LightFMUserHybridRecommender: Epoch 11 of 30. Elapsed time 1.80 hour\n",
      "LightFMUserHybridRecommender: Epoch 12 of 30. Elapsed time 1.95 hour\n",
      "LightFMUserHybridRecommender: Epoch 13 of 30. Elapsed time 2.10 hour\n",
      "LightFMUserHybridRecommender: Epoch 14 of 30. Elapsed time 2.25 hour\n",
      "LightFMUserHybridRecommender: Epoch 15 of 30. Elapsed time 2.40 hour\n",
      "LightFMUserHybridRecommender: Epoch 16 of 30. Elapsed time 2.54 hour\n"
     ]
    }
   ],
   "source": [
    "hyperparameterSearch.search(recommender_input_args,\n",
    "                    hyperparameter_search_space = hyperparameters_range_dictionary,\n",
    "                    n_cases = n_cases,\n",
    "                    n_random_starts = n_random_starts,\n",
    "                    save_model = \"last\",\n",
    "                    output_folder_path = output_folder_path, # Where to save the results\n",
    "                    output_file_name_root = recommender_class.RECOMMENDER_NAME, # How to call the files\n",
    "                    metric_to_optimize = metric_to_optimize,\n",
    "                    cutoff_to_optimize = cutoff_to_optimize,\n",
    "                    resume_from_saved = True,\n",
    "                    recommender_input_args_last_test=recommender_input_args\n",
    "                    )"
   ]
  }
 ],
 "metadata": {
  "kernelspec": {
   "display_name": "Python 3.8.13 ('RecSysFramework')",
   "language": "python",
   "name": "python3"
  },
  "language_info": {
   "codemirror_mode": {
    "name": "ipython",
    "version": 3
   },
   "file_extension": ".py",
   "mimetype": "text/x-python",
   "name": "python",
   "nbconvert_exporter": "python",
   "pygments_lexer": "ipython3",
   "version": "3.8.13"
  },
  "orig_nbformat": 4,
  "vscode": {
   "interpreter": {
    "hash": "c5ce4d3bcbb2362c29b9c9511304be4961a6384a957f7c5258651ee1b4c96e3c"
   }
  }
 },
 "nbformat": 4,
 "nbformat_minor": 2
}
