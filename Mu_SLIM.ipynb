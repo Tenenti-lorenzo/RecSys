{
 "cells": [
  {
   "cell_type": "code",
   "execution_count": 1,
   "id": "7e809989",
   "metadata": {},
   "outputs": [
    {
     "name": "stderr",
     "output_type": "stream",
     "text": [
      "c:\\Users\\loren\\anaconda3\\envs\\RecSysFramework\\lib\\site-packages\\IPython\\core\\interactiveshell.py:3185: DtypeWarning: Columns (2) have mixed types.Specify dtype option on import or set low_memory=False.\n",
      "  has_raised = await self.run_ast_nodes(code_ast.body, cell_name,\n"
     ]
    }
   ],
   "source": [
    "import os\n",
    "from typing import Tuple, Callable, Dict, Optional, List\n",
    "\n",
    "import numpy as np\n",
    "import pandas as pd\n",
    "import scipy.sparse as sp\n",
    "from sklearn.model_selection import train_test_split\n",
    "from sklearn.preprocessing import StandardScaler\n",
    "from Evaluation.Evaluator import EvaluatorHoldout\n",
    "from Data_manager.split_functions.split_train_validation_random_holdout import split_train_in_two_percentage_global_sample\n",
    "from Recommenders.SLIM.Cython.SLIM_BPR_Cython import SLIM_BPR_Cython\n",
    "from HyperparameterTuning.SearchBayesianSkopt import SearchBayesianSkopt\n",
    "from HyperparameterTuning.SearchAbstractClass import SearchInputRecommenderArgs\n",
    "from Recommenders.DataIO import DataIO\n",
    "from skopt.space import Real, Integer, Categorical\n",
    "from Recommenders.KNN.ItemKNNCFRecommender import ItemKNNCFRecommender\n",
    "from Recommenders.GraphBased.RP3betaRecommender import RP3betaRecommender\n",
    "from Recommenders.SLIM.Cython.SLIM_BPR_Cython import SLIM_BPR_Cython\n",
    "from Recommenders.SLIM.SLIMElasticNetRecommender import SLIMElasticNetRecommender,MultiThreadSLIM_SLIMElasticNetRecommender\n",
    "\n",
    "\n",
    "\n",
    "columns_name = ['user_id','item_id','impression_list','data']\n",
    "\n",
    "dataset_l = pd.read_csv('/Users/loren/Documents/GitHub/RecSys/dati/data_ICM_length.csv', sep=',')\n",
    "dataset_t = pd.read_csv('/Users/loren/Documents/GitHub/RecSys/dati/data_ICM_type.csv', sep=',')\n",
    "dataset = pd.read_csv('/Users/loren/Documents/GitHub/RecSys/dati/interactions_and_impressions.csv', sep=',')\n",
    "test_users = pd.read_csv('/Users/loren/Documents/GitHub/RecSys/dati/data_target_users_test.csv',sep = ',')\n",
    "dataset.columns = columns_name"
   ]
  },
  {
   "cell_type": "code",
   "execution_count": 2,
   "id": "2c3e094e",
   "metadata": {},
   "outputs": [],
   "source": [
    "from Data_manager.Build_Matrix.Data_import import build_URM_ICM,build_URM_impression,build_URM_ICM_onlyURM_item\n",
    "URM,ICM=build_URM_ICM_onlyURM_item(dataset, dataset_t, dataset_l)"
   ]
  },
  {
   "cell_type": "code",
   "execution_count": 3,
   "id": "09a0a841",
   "metadata": {},
   "outputs": [
    {
     "name": "stdout",
     "output_type": "stream",
     "text": [
      "Warning: 349 (0.84 %) of 41629 users have no sampled items\n",
      "EvaluatorHoldout: Ignoring 349 ( 0.8%) Users that have less than 1 test interactions\n"
     ]
    }
   ],
   "source": [
    "from Evaluation.Evaluator import EvaluatorHoldout\n",
    "from Data_manager.split_functions.split_train_validation_random_holdout import split_train_in_two_percentage_global_sample\n",
    "\n",
    "URM_train, URM_validation = split_train_in_two_percentage_global_sample(URM, train_percentage = 0.8)\n",
    "# URM_train, URM_validation = split_train_in_two_percentage_global_sample(URM_train_validation, train_percentage = 0.8)\n",
    "\n",
    "evaluator_validation = EvaluatorHoldout(URM_validation, cutoff_list=[10])\n",
    "# evaluator_test = EvaluatorHoldout(URM_test, cutoff_list=[10])"
   ]
  },
  {
   "cell_type": "code",
   "execution_count": 4,
   "id": "2d0f462a",
   "metadata": {},
   "outputs": [],
   "source": [
    "import os\n",
    "\n",
    "output_folder_path = \"../result_experiments/4_SLIM_py\"\n",
    "\n",
    "# If directory does not exist, create\n",
    "if not os.path.exists(output_folder_path):\n",
    "    os.makedirs(output_folder_path)\n",
    "    \n",
    "n_cases = 20  # using 10 as an example\n",
    "n_random_starts = int(n_cases*0.3)\n",
    "metric_to_optimize = \"MAP\"   \n",
    "cutoff_to_optimize = 10"
   ]
  },
  {
   "cell_type": "code",
   "execution_count": 5,
   "id": "62d2b355",
   "metadata": {},
   "outputs": [],
   "source": [
    "from skopt.space import Real, Integer, Categorical\n",
    "\n",
    "hyperparameters_range_dictionary = {\n",
    "    \"epochs\": Categorical([50]), # because I want one specific value which is the max\n",
    "    \"sgd_mode\": Categorical([\"sgd\", \"adagrad\", \"adam\"]),\n",
    "    \"topK\": Integer(50, 500),\n",
    "    \"lambda_i\": Real(low = 1e-5, high = 1e-2, prior = 'log-uniform'),\n",
    "    \"lambda_j\": Real(low = 1e-5, high = 1e-2, prior = 'log-uniform'),\n",
    "    \"learning_rate\": Real(low = 1e-3, high = 1e-1, prior = 'log-uniform'),\n",
    "}"
   ]
  },
  {
   "cell_type": "code",
   "execution_count": 6,
   "id": "fb5af011",
   "metadata": {},
   "outputs": [],
   "source": [
    "earlystopping_keywargs = {\"validation_every_n\": 5,\n",
    "                          \"stop_on_validation\": True,\n",
    "                          \"evaluator_object\": evaluator_validation,\n",
    "                          \"lower_validations_allowed\": 5,\n",
    "                          \"validation_metric\": metric_to_optimize,\n",
    "                          }"
   ]
  },
  {
   "cell_type": "code",
   "execution_count": 7,
   "id": "7a396c9f",
   "metadata": {},
   "outputs": [],
   "source": [
    "from Recommenders.SLIM.Cython.SLIM_BPR_Cython import SLIM_BPR_Cython\n",
    "from HyperparameterTuning.SearchBayesianSkopt import SearchBayesianSkopt\n",
    "\n",
    "recommender_class = SLIM_BPR_Cython\n",
    "\n",
    "hyperparameterSearch = SearchBayesianSkopt(recommender_class,\n",
    "                                         evaluator_validation=evaluator_validation)"
   ]
  },
  {
   "cell_type": "code",
   "execution_count": 12,
   "id": "a841f179",
   "metadata": {},
   "outputs": [],
   "source": [
    "from HyperparameterTuning.SearchAbstractClass import SearchInputRecommenderArgs\n",
    "  \n",
    "recommender_input_args = SearchInputRecommenderArgs(\n",
    "    CONSTRUCTOR_POSITIONAL_ARGS = [URM_train],     # For a CBF model simply put [URM_train, ICM_train]\n",
    "    CONSTRUCTOR_KEYWORD_ARGS = {},\n",
    "    FIT_POSITIONAL_ARGS = [],\n",
    "    FIT_KEYWORD_ARGS = {},    # Additiona hyperparameters for the fit function\n",
    "    EARLYSTOPPING_KEYWORD_ARGS=earlystopping_keywargs,\n",
    ")"
   ]
  },
  {
   "cell_type": "code",
   "execution_count": 13,
   "id": "754c8ac6",
   "metadata": {},
   "outputs": [
    {
     "name": "stdout",
     "output_type": "stream",
     "text": [
      "Iteration No: 1 started. Evaluating function at random point.\n",
      "SearchBayesianSkopt: Testing config: {'epochs': 50, 'sgd_mode': 'adam', 'topK': 209, 'lambda_i': 0.0014332207745243535, 'lambda_j': 0.00024680054647576523, 'learning_rate': 0.095989768617544}\n",
      "SearchBayesianSkopt: Config 0 Exception. Config: {'epochs': 50, 'sgd_mode': 'adam', 'topK': 209, 'lambda_i': 0.0014332207745243535, 'lambda_j': 0.00024680054647576523, 'learning_rate': 0.095989768617544} - Exception: Traceback (most recent call last):\n",
      "  File \"c:\\Users\\loren\\Documents\\GitHub\\RecSys\\HyperparameterTuning\\SearchAbstractClass.py\", line 449, in _objective_function\n",
      "    result_df, recommender_instance = self._evaluate_on_validation(current_fit_hyperparameters_dict, was_already_evaluated_flag, was_already_evaluated_index)\n",
      "  File \"c:\\Users\\loren\\Documents\\GitHub\\RecSys\\HyperparameterTuning\\SearchAbstractClass.py\", line 317, in _evaluate_on_validation\n",
      "    recommender_instance, train_time = self._fit_model(current_fit_hyperparameters)\n",
      "  File \"c:\\Users\\loren\\Documents\\GitHub\\RecSys\\HyperparameterTuning\\SearchAbstractClass.py\", line 288, in _fit_model\n",
      "    recommender_instance.fit(*self.recommender_input_args.FIT_POSITIONAL_ARGS,\n",
      "  File \"c:\\Users\\loren\\Documents\\GitHub\\RecSys\\Recommenders\\SLIM\\Cython\\SLIM_BPR_Cython.py\", line 81, in fit\n",
      "    from Recommenders.SLIM.Cython.SLIM_BPR_Cython_Epoch import SLIM_BPR_Cython_Epoch\n",
      "ModuleNotFoundError: No module named 'Recommenders.SLIM.Cython.SLIM_BPR_Cython_Epoch'\n",
      "\n",
      "\n",
      "Iteration No: 1 ended. Evaluation done at random point.\n",
      "Time taken: 0.1150\n",
      "Function value obtained: 65504.0000\n",
      "Current minimum: 65504.0000\n",
      "Iteration No: 2 started. Evaluating function at random point.\n",
      "SearchBayesianSkopt: Testing config: {'epochs': 50, 'sgd_mode': 'adam', 'topK': 273, 'lambda_i': 0.0050067184324211755, 'lambda_j': 1.4858574469468645e-05, 'learning_rate': 0.001004601636942157}\n",
      "SearchBayesianSkopt: Config 1 Exception. Config: {'epochs': 50, 'sgd_mode': 'adam', 'topK': 273, 'lambda_i': 0.0050067184324211755, 'lambda_j': 1.4858574469468645e-05, 'learning_rate': 0.001004601636942157} - Exception: Traceback (most recent call last):\n",
      "  File \"c:\\Users\\loren\\Documents\\GitHub\\RecSys\\HyperparameterTuning\\SearchAbstractClass.py\", line 449, in _objective_function\n",
      "    result_df, recommender_instance = self._evaluate_on_validation(current_fit_hyperparameters_dict, was_already_evaluated_flag, was_already_evaluated_index)\n",
      "  File \"c:\\Users\\loren\\Documents\\GitHub\\RecSys\\HyperparameterTuning\\SearchAbstractClass.py\", line 317, in _evaluate_on_validation\n",
      "    recommender_instance, train_time = self._fit_model(current_fit_hyperparameters)\n",
      "  File \"c:\\Users\\loren\\Documents\\GitHub\\RecSys\\HyperparameterTuning\\SearchAbstractClass.py\", line 288, in _fit_model\n",
      "    recommender_instance.fit(*self.recommender_input_args.FIT_POSITIONAL_ARGS,\n",
      "  File \"c:\\Users\\loren\\Documents\\GitHub\\RecSys\\Recommenders\\SLIM\\Cython\\SLIM_BPR_Cython.py\", line 81, in fit\n",
      "    from Recommenders.SLIM.Cython.SLIM_BPR_Cython_Epoch import SLIM_BPR_Cython_Epoch\n",
      "ModuleNotFoundError: No module named 'Recommenders.SLIM.Cython.SLIM_BPR_Cython_Epoch'\n",
      "\n",
      "\n"
     ]
    },
    {
     "name": "stderr",
     "output_type": "stream",
     "text": [
      "Traceback (most recent call last):\n",
      "  File \"c:\\Users\\loren\\Documents\\GitHub\\RecSys\\HyperparameterTuning\\SearchAbstractClass.py\", line 449, in _objective_function\n",
      "    result_df, recommender_instance = self._evaluate_on_validation(current_fit_hyperparameters_dict, was_already_evaluated_flag, was_already_evaluated_index)\n",
      "  File \"c:\\Users\\loren\\Documents\\GitHub\\RecSys\\HyperparameterTuning\\SearchAbstractClass.py\", line 317, in _evaluate_on_validation\n",
      "    recommender_instance, train_time = self._fit_model(current_fit_hyperparameters)\n",
      "  File \"c:\\Users\\loren\\Documents\\GitHub\\RecSys\\HyperparameterTuning\\SearchAbstractClass.py\", line 288, in _fit_model\n",
      "    recommender_instance.fit(*self.recommender_input_args.FIT_POSITIONAL_ARGS,\n",
      "  File \"c:\\Users\\loren\\Documents\\GitHub\\RecSys\\Recommenders\\SLIM\\Cython\\SLIM_BPR_Cython.py\", line 81, in fit\n",
      "    from Recommenders.SLIM.Cython.SLIM_BPR_Cython_Epoch import SLIM_BPR_Cython_Epoch\n",
      "ModuleNotFoundError: No module named 'Recommenders.SLIM.Cython.SLIM_BPR_Cython_Epoch'\n",
      "Traceback (most recent call last):\n",
      "  File \"c:\\Users\\loren\\Documents\\GitHub\\RecSys\\HyperparameterTuning\\SearchAbstractClass.py\", line 449, in _objective_function\n",
      "    result_df, recommender_instance = self._evaluate_on_validation(current_fit_hyperparameters_dict, was_already_evaluated_flag, was_already_evaluated_index)\n",
      "  File \"c:\\Users\\loren\\Documents\\GitHub\\RecSys\\HyperparameterTuning\\SearchAbstractClass.py\", line 317, in _evaluate_on_validation\n",
      "    recommender_instance, train_time = self._fit_model(current_fit_hyperparameters)\n",
      "  File \"c:\\Users\\loren\\Documents\\GitHub\\RecSys\\HyperparameterTuning\\SearchAbstractClass.py\", line 288, in _fit_model\n",
      "    recommender_instance.fit(*self.recommender_input_args.FIT_POSITIONAL_ARGS,\n",
      "  File \"c:\\Users\\loren\\Documents\\GitHub\\RecSys\\Recommenders\\SLIM\\Cython\\SLIM_BPR_Cython.py\", line 81, in fit\n",
      "    from Recommenders.SLIM.Cython.SLIM_BPR_Cython_Epoch import SLIM_BPR_Cython_Epoch\n",
      "ModuleNotFoundError: No module named 'Recommenders.SLIM.Cython.SLIM_BPR_Cython_Epoch'\n"
     ]
    },
    {
     "name": "stdout",
     "output_type": "stream",
     "text": [
      "Iteration No: 2 ended. Evaluation done at random point.\n",
      "Time taken: 0.1140\n",
      "Function value obtained: 65504.0000\n",
      "Current minimum: 65504.0000\n",
      "Iteration No: 3 started. Evaluating function at random point.\n",
      "SearchBayesianSkopt: Testing config: {'epochs': 50, 'sgd_mode': 'adagrad', 'topK': 420, 'lambda_i': 9.759884142588257e-05, 'lambda_j': 2.081204057196986e-05, 'learning_rate': 0.005487780471681143}\n",
      "SearchBayesianSkopt: Config 2 Exception. Config: {'epochs': 50, 'sgd_mode': 'adagrad', 'topK': 420, 'lambda_i': 9.759884142588257e-05, 'lambda_j': 2.081204057196986e-05, 'learning_rate': 0.005487780471681143} - Exception: Traceback (most recent call last):\n",
      "  File \"c:\\Users\\loren\\Documents\\GitHub\\RecSys\\HyperparameterTuning\\SearchAbstractClass.py\", line 449, in _objective_function\n",
      "    result_df, recommender_instance = self._evaluate_on_validation(current_fit_hyperparameters_dict, was_already_evaluated_flag, was_already_evaluated_index)\n",
      "  File \"c:\\Users\\loren\\Documents\\GitHub\\RecSys\\HyperparameterTuning\\SearchAbstractClass.py\", line 317, in _evaluate_on_validation\n",
      "    recommender_instance, train_time = self._fit_model(current_fit_hyperparameters)\n",
      "  File \"c:\\Users\\loren\\Documents\\GitHub\\RecSys\\HyperparameterTuning\\SearchAbstractClass.py\", line 288, in _fit_model\n",
      "    recommender_instance.fit(*self.recommender_input_args.FIT_POSITIONAL_ARGS,\n",
      "  File \"c:\\Users\\loren\\Documents\\GitHub\\RecSys\\Recommenders\\SLIM\\Cython\\SLIM_BPR_Cython.py\", line 81, in fit\n",
      "    from Recommenders.SLIM.Cython.SLIM_BPR_Cython_Epoch import SLIM_BPR_Cython_Epoch\n",
      "ModuleNotFoundError: No module named 'Recommenders.SLIM.Cython.SLIM_BPR_Cython_Epoch'\n",
      "\n",
      "\n",
      "Iteration No: 3 ended. Evaluation done at random point.\n",
      "Time taken: 0.1330\n",
      "Function value obtained: 65504.0000\n",
      "Current minimum: 65504.0000\n",
      "Iteration No: 4 started. Evaluating function at random point.\n",
      "SearchBayesianSkopt: Testing config: {'epochs': 50, 'sgd_mode': 'adam', 'topK': 446, 'lambda_i': 0.002282729406416721, 'lambda_j': 1.0579826443114686e-05, 'learning_rate': 0.003428266122860298}\n",
      "SearchBayesianSkopt: Config 3 Exception. Config: {'epochs': 50, 'sgd_mode': 'adam', 'topK': 446, 'lambda_i': 0.002282729406416721, 'lambda_j': 1.0579826443114686e-05, 'learning_rate': 0.003428266122860298} - Exception: Traceback (most recent call last):\n",
      "  File \"c:\\Users\\loren\\Documents\\GitHub\\RecSys\\HyperparameterTuning\\SearchAbstractClass.py\", line 449, in _objective_function\n",
      "    result_df, recommender_instance = self._evaluate_on_validation(current_fit_hyperparameters_dict, was_already_evaluated_flag, was_already_evaluated_index)\n",
      "  File \"c:\\Users\\loren\\Documents\\GitHub\\RecSys\\HyperparameterTuning\\SearchAbstractClass.py\", line 317, in _evaluate_on_validation\n",
      "    recommender_instance, train_time = self._fit_model(current_fit_hyperparameters)\n",
      "  File \"c:\\Users\\loren\\Documents\\GitHub\\RecSys\\HyperparameterTuning\\SearchAbstractClass.py\", line 288, in _fit_model\n",
      "    recommender_instance.fit(*self.recommender_input_args.FIT_POSITIONAL_ARGS,\n",
      "  File \"c:\\Users\\loren\\Documents\\GitHub\\RecSys\\Recommenders\\SLIM\\Cython\\SLIM_BPR_Cython.py\", line 81, in fit\n",
      "    from Recommenders.SLIM.Cython.SLIM_BPR_Cython_Epoch import SLIM_BPR_Cython_Epoch\n",
      "ModuleNotFoundError: No module named 'Recommenders.SLIM.Cython.SLIM_BPR_Cython_Epoch'\n",
      "\n",
      "\n"
     ]
    },
    {
     "name": "stderr",
     "output_type": "stream",
     "text": [
      "Traceback (most recent call last):\n",
      "  File \"c:\\Users\\loren\\Documents\\GitHub\\RecSys\\HyperparameterTuning\\SearchAbstractClass.py\", line 449, in _objective_function\n",
      "    result_df, recommender_instance = self._evaluate_on_validation(current_fit_hyperparameters_dict, was_already_evaluated_flag, was_already_evaluated_index)\n",
      "  File \"c:\\Users\\loren\\Documents\\GitHub\\RecSys\\HyperparameterTuning\\SearchAbstractClass.py\", line 317, in _evaluate_on_validation\n",
      "    recommender_instance, train_time = self._fit_model(current_fit_hyperparameters)\n",
      "  File \"c:\\Users\\loren\\Documents\\GitHub\\RecSys\\HyperparameterTuning\\SearchAbstractClass.py\", line 288, in _fit_model\n",
      "    recommender_instance.fit(*self.recommender_input_args.FIT_POSITIONAL_ARGS,\n",
      "  File \"c:\\Users\\loren\\Documents\\GitHub\\RecSys\\Recommenders\\SLIM\\Cython\\SLIM_BPR_Cython.py\", line 81, in fit\n",
      "    from Recommenders.SLIM.Cython.SLIM_BPR_Cython_Epoch import SLIM_BPR_Cython_Epoch\n",
      "ModuleNotFoundError: No module named 'Recommenders.SLIM.Cython.SLIM_BPR_Cython_Epoch'\n",
      "Traceback (most recent call last):\n",
      "  File \"c:\\Users\\loren\\Documents\\GitHub\\RecSys\\HyperparameterTuning\\SearchAbstractClass.py\", line 449, in _objective_function\n",
      "    result_df, recommender_instance = self._evaluate_on_validation(current_fit_hyperparameters_dict, was_already_evaluated_flag, was_already_evaluated_index)\n",
      "  File \"c:\\Users\\loren\\Documents\\GitHub\\RecSys\\HyperparameterTuning\\SearchAbstractClass.py\", line 317, in _evaluate_on_validation\n",
      "    recommender_instance, train_time = self._fit_model(current_fit_hyperparameters)\n",
      "  File \"c:\\Users\\loren\\Documents\\GitHub\\RecSys\\HyperparameterTuning\\SearchAbstractClass.py\", line 288, in _fit_model\n",
      "    recommender_instance.fit(*self.recommender_input_args.FIT_POSITIONAL_ARGS,\n",
      "  File \"c:\\Users\\loren\\Documents\\GitHub\\RecSys\\Recommenders\\SLIM\\Cython\\SLIM_BPR_Cython.py\", line 81, in fit\n",
      "    from Recommenders.SLIM.Cython.SLIM_BPR_Cython_Epoch import SLIM_BPR_Cython_Epoch\n",
      "ModuleNotFoundError: No module named 'Recommenders.SLIM.Cython.SLIM_BPR_Cython_Epoch'\n"
     ]
    },
    {
     "name": "stdout",
     "output_type": "stream",
     "text": [
      "Iteration No: 4 ended. Evaluation done at random point.\n",
      "Time taken: 0.1160\n",
      "Function value obtained: 65504.0000\n",
      "Current minimum: 65504.0000\n",
      "Iteration No: 5 started. Evaluating function at random point.\n",
      "SearchBayesianSkopt: Testing config: {'epochs': 50, 'sgd_mode': 'adam', 'topK': 138, 'lambda_i': 0.0003699405377326741, 'lambda_j': 0.00014642531004535066, 'learning_rate': 0.0077798723050251295}\n",
      "SearchBayesianSkopt: Config 4 Exception. Config: {'epochs': 50, 'sgd_mode': 'adam', 'topK': 138, 'lambda_i': 0.0003699405377326741, 'lambda_j': 0.00014642531004535066, 'learning_rate': 0.0077798723050251295} - Exception: Traceback (most recent call last):\n",
      "  File \"c:\\Users\\loren\\Documents\\GitHub\\RecSys\\HyperparameterTuning\\SearchAbstractClass.py\", line 449, in _objective_function\n",
      "    result_df, recommender_instance = self._evaluate_on_validation(current_fit_hyperparameters_dict, was_already_evaluated_flag, was_already_evaluated_index)\n",
      "  File \"c:\\Users\\loren\\Documents\\GitHub\\RecSys\\HyperparameterTuning\\SearchAbstractClass.py\", line 317, in _evaluate_on_validation\n",
      "    recommender_instance, train_time = self._fit_model(current_fit_hyperparameters)\n",
      "  File \"c:\\Users\\loren\\Documents\\GitHub\\RecSys\\HyperparameterTuning\\SearchAbstractClass.py\", line 288, in _fit_model\n",
      "    recommender_instance.fit(*self.recommender_input_args.FIT_POSITIONAL_ARGS,\n",
      "  File \"c:\\Users\\loren\\Documents\\GitHub\\RecSys\\Recommenders\\SLIM\\Cython\\SLIM_BPR_Cython.py\", line 81, in fit\n",
      "    from Recommenders.SLIM.Cython.SLIM_BPR_Cython_Epoch import SLIM_BPR_Cython_Epoch\n",
      "ModuleNotFoundError: No module named 'Recommenders.SLIM.Cython.SLIM_BPR_Cython_Epoch'\n",
      "\n",
      "\n",
      "Iteration No: 5 ended. Evaluation done at random point.\n",
      "Time taken: 0.1350\n",
      "Function value obtained: 65504.0000\n",
      "Current minimum: 65504.0000\n",
      "Iteration No: 6 started. Evaluating function at random point.\n",
      "SearchBayesianSkopt: Testing config: {'epochs': 50, 'sgd_mode': 'sgd', 'topK': 452, 'lambda_i': 0.006931210992295462, 'lambda_j': 8.898520435472902e-05, 'learning_rate': 0.002459935475596237}\n",
      "SearchBayesianSkopt: Config 5 Exception. Config: {'epochs': 50, 'sgd_mode': 'sgd', 'topK': 452, 'lambda_i': 0.006931210992295462, 'lambda_j': 8.898520435472902e-05, 'learning_rate': 0.002459935475596237} - Exception: Traceback (most recent call last):\n",
      "  File \"c:\\Users\\loren\\Documents\\GitHub\\RecSys\\HyperparameterTuning\\SearchAbstractClass.py\", line 449, in _objective_function\n",
      "    result_df, recommender_instance = self._evaluate_on_validation(current_fit_hyperparameters_dict, was_already_evaluated_flag, was_already_evaluated_index)\n",
      "  File \"c:\\Users\\loren\\Documents\\GitHub\\RecSys\\HyperparameterTuning\\SearchAbstractClass.py\", line 317, in _evaluate_on_validation\n",
      "    recommender_instance, train_time = self._fit_model(current_fit_hyperparameters)\n",
      "  File \"c:\\Users\\loren\\Documents\\GitHub\\RecSys\\HyperparameterTuning\\SearchAbstractClass.py\", line 288, in _fit_model\n",
      "    recommender_instance.fit(*self.recommender_input_args.FIT_POSITIONAL_ARGS,\n",
      "  File \"c:\\Users\\loren\\Documents\\GitHub\\RecSys\\Recommenders\\SLIM\\Cython\\SLIM_BPR_Cython.py\", line 81, in fit\n",
      "    from Recommenders.SLIM.Cython.SLIM_BPR_Cython_Epoch import SLIM_BPR_Cython_Epoch\n",
      "ModuleNotFoundError: No module named 'Recommenders.SLIM.Cython.SLIM_BPR_Cython_Epoch'\n",
      "\n",
      "\n"
     ]
    },
    {
     "name": "stderr",
     "output_type": "stream",
     "text": [
      "Traceback (most recent call last):\n",
      "  File \"c:\\Users\\loren\\Documents\\GitHub\\RecSys\\HyperparameterTuning\\SearchAbstractClass.py\", line 449, in _objective_function\n",
      "    result_df, recommender_instance = self._evaluate_on_validation(current_fit_hyperparameters_dict, was_already_evaluated_flag, was_already_evaluated_index)\n",
      "  File \"c:\\Users\\loren\\Documents\\GitHub\\RecSys\\HyperparameterTuning\\SearchAbstractClass.py\", line 317, in _evaluate_on_validation\n",
      "    recommender_instance, train_time = self._fit_model(current_fit_hyperparameters)\n",
      "  File \"c:\\Users\\loren\\Documents\\GitHub\\RecSys\\HyperparameterTuning\\SearchAbstractClass.py\", line 288, in _fit_model\n",
      "    recommender_instance.fit(*self.recommender_input_args.FIT_POSITIONAL_ARGS,\n",
      "  File \"c:\\Users\\loren\\Documents\\GitHub\\RecSys\\Recommenders\\SLIM\\Cython\\SLIM_BPR_Cython.py\", line 81, in fit\n",
      "    from Recommenders.SLIM.Cython.SLIM_BPR_Cython_Epoch import SLIM_BPR_Cython_Epoch\n",
      "ModuleNotFoundError: No module named 'Recommenders.SLIM.Cython.SLIM_BPR_Cython_Epoch'\n",
      "Traceback (most recent call last):\n",
      "  File \"c:\\Users\\loren\\Documents\\GitHub\\RecSys\\HyperparameterTuning\\SearchAbstractClass.py\", line 449, in _objective_function\n",
      "    result_df, recommender_instance = self._evaluate_on_validation(current_fit_hyperparameters_dict, was_already_evaluated_flag, was_already_evaluated_index)\n",
      "  File \"c:\\Users\\loren\\Documents\\GitHub\\RecSys\\HyperparameterTuning\\SearchAbstractClass.py\", line 317, in _evaluate_on_validation\n",
      "    recommender_instance, train_time = self._fit_model(current_fit_hyperparameters)\n",
      "  File \"c:\\Users\\loren\\Documents\\GitHub\\RecSys\\HyperparameterTuning\\SearchAbstractClass.py\", line 288, in _fit_model\n",
      "    recommender_instance.fit(*self.recommender_input_args.FIT_POSITIONAL_ARGS,\n",
      "  File \"c:\\Users\\loren\\Documents\\GitHub\\RecSys\\Recommenders\\SLIM\\Cython\\SLIM_BPR_Cython.py\", line 81, in fit\n",
      "    from Recommenders.SLIM.Cython.SLIM_BPR_Cython_Epoch import SLIM_BPR_Cython_Epoch\n",
      "ModuleNotFoundError: No module named 'Recommenders.SLIM.Cython.SLIM_BPR_Cython_Epoch'\n"
     ]
    },
    {
     "name": "stdout",
     "output_type": "stream",
     "text": [
      "SearchBayesianSkopt: Search interrupted. No valid config was found during the initial random initialization\n",
      "\n"
     ]
    }
   ],
   "source": [
    "hyperparameterSearch.search(recommender_input_args,\n",
    "                       hyperparameter_search_space = hyperparameters_range_dictionary,\n",
    "                       n_cases = n_cases,\n",
    "                       n_random_starts = n_random_starts,\n",
    "                       output_folder_path = output_folder_path, # Where to save the results\n",
    "                       output_file_name_root = recommender_class.RECOMMENDER_NAME, # How to call the files\n",
    "                       metric_to_optimize = metric_to_optimize,\n",
    "                       cutoff_to_optimize = cutoff_to_optimize,\n",
    "                      )"
   ]
  },
  {
   "cell_type": "code",
   "execution_count": 10,
   "id": "d44694df",
   "metadata": {},
   "outputs": [
    {
     "ename": "NameError",
     "evalue": "name 'URM_all' is not defined",
     "output_type": "error",
     "traceback": [
      "\u001b[1;31m---------------------------------------------------------------------------\u001b[0m",
      "\u001b[1;31mNameError\u001b[0m                                 Traceback (most recent call last)",
      "\u001b[1;32m~\\AppData\\Local\\Temp\\ipykernel_15628\\1461771291.py\u001b[0m in \u001b[0;36m<module>\u001b[1;34m\u001b[0m\n\u001b[0;32m      1\u001b[0m \u001b[1;32mimport\u001b[0m \u001b[0mpandas\u001b[0m \u001b[1;32mas\u001b[0m \u001b[0mpd\u001b[0m\u001b[1;33m\u001b[0m\u001b[1;33m\u001b[0m\u001b[0m\n\u001b[1;32m----> 2\u001b[1;33m \u001b[0mrecommender\u001b[0m \u001b[1;33m=\u001b[0m \u001b[0mSLIM_BPR_Cython\u001b[0m\u001b[1;33m(\u001b[0m\u001b[0mURM_all\u001b[0m\u001b[1;33m.\u001b[0m\u001b[0mtocsr\u001b[0m\u001b[1;33m(\u001b[0m\u001b[1;33m)\u001b[0m\u001b[1;33m)\u001b[0m \u001b[1;31m# <-----\u001b[0m\u001b[1;33m\u001b[0m\u001b[1;33m\u001b[0m\u001b[0m\n\u001b[0m\u001b[0;32m      3\u001b[0m \u001b[0mat\u001b[0m \u001b[1;33m=\u001b[0m \u001b[1;36m10\u001b[0m\u001b[1;33m\u001b[0m\u001b[1;33m\u001b[0m\u001b[0m\n\u001b[0;32m      4\u001b[0m \u001b[1;33m\u001b[0m\u001b[0m\n\u001b[0;32m      5\u001b[0m recommender.fit(epochs = 210, sgd_mode = 'sgd', topK = 800, lambda_i = 1.0737760587059938e-05, lambda_j = 0.01,\n",
      "\u001b[1;31mNameError\u001b[0m: name 'URM_all' is not defined"
     ]
    }
   ],
   "source": [
    "import pandas as pd\n",
    "recommender = SLIM_BPR_Cython(URM_all.tocsr()) # <-----\n",
    "at = 10\n",
    "\n",
    "recommender.fit(epochs = 210, sgd_mode = 'sgd', topK = 800, lambda_i = 1.0737760587059938e-05, lambda_j = 0.01,\n",
    "                learning_rate = 0.009522871552947681)\n",
    "user_test_path = '../data/data_target_users_test.csv'\n",
    "user_test_dataframe = pd.read_csv(filepath_or_buffer=user_test_path,\n",
    "sep=\",\",\n",
    "dtype={0:int})\n",
    "\n",
    "subm_set = user_test_dataframe.to_numpy().T[0]\n",
    "\n",
    "\n",
    "subm_res = {\"user_id\":[], \"item_list\":[]}\n",
    "\n",
    "for user_id in subm_set:\n",
    "\tsubm_res[\"user_id\"].append(user_id)\n",
    "\tres = recommender.recommend(user_id, cutoff=at)\n",
    "\tres = ' '.join(map(str, res))\n",
    "\tif user_id < 3:\n",
    "\t\tprint(user_id)\n",
    "\t\tprint(res)\n",
    "\tsubm_res[\"item_list\"].append(res)\n",
    "\n",
    "\n",
    "\t# print(subm_res)\n",
    "\n",
    "submission = pd.DataFrame.from_dict(subm_res)\n",
    "\t# submission\n",
    "\n",
    "from datetime import datetime\n",
    "\n",
    "now = datetime.now() # current date and time\n",
    "\n",
    "\n",
    "submission.to_csv('../subs/submission {:%Y_%m_%d %H_%M_%S}.csv'.format(now), index=False)\n",
    "\n"
   ]
  },
  {
   "cell_type": "code",
   "execution_count": null,
   "id": "ed47bc68",
   "metadata": {},
   "outputs": [],
   "source": []
  }
 ],
 "metadata": {
  "kernelspec": {
   "display_name": "RecSysFramework",
   "language": "python",
   "name": "python3"
  },
  "language_info": {
   "codemirror_mode": {
    "name": "ipython",
    "version": 3
   },
   "file_extension": ".py",
   "mimetype": "text/x-python",
   "name": "python",
   "nbconvert_exporter": "python",
   "pygments_lexer": "ipython3",
   "version": "3.8.13 (default, Oct 19 2022, 22:38:03) [MSC v.1916 64 bit (AMD64)]"
  },
  "vscode": {
   "interpreter": {
    "hash": "c5ce4d3bcbb2362c29b9c9511304be4961a6384a957f7c5258651ee1b4c96e3c"
   }
  }
 },
 "nbformat": 4,
 "nbformat_minor": 5
}
