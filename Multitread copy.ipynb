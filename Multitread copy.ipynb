{
 "cells": [
  {
   "cell_type": "code",
   "execution_count": 1,
   "metadata": {},
   "outputs": [
    {
     "name": "stderr",
     "output_type": "stream",
     "text": [
      "c:\\Users\\loren\\anaconda3\\envs\\RecSysFramework\\lib\\site-packages\\IPython\\core\\interactiveshell.py:3185: DtypeWarning: Columns (2) have mixed types.Specify dtype option on import or set low_memory=False.\n",
      "  has_raised = await self.run_ast_nodes(code_ast.body, cell_name,\n"
     ]
    }
   ],
   "source": [
    "import os\n",
    "from typing import Tuple, Callable, Dict, Optional, List\n",
    "\n",
    "import numpy as np\n",
    "import pandas as pd\n",
    "import scipy.sparse as sp\n",
    "from sklearn.model_selection import train_test_split\n",
    "from sklearn.preprocessing import StandardScaler\n",
    "from Evaluation.Evaluator import EvaluatorHoldout\n",
    "from Data_manager.split_functions.split_train_validation_random_holdout import split_train_in_two_percentage_global_sample\n",
    "from Recommenders.SLIM.Cython.SLIM_BPR_Cython import SLIM_BPR_Cython\n",
    "from HyperparameterTuning.SearchBayesianSkopt import SearchBayesianSkopt\n",
    "from HyperparameterTuning.SearchAbstractClass import SearchInputRecommenderArgs\n",
    "from Recommenders.DataIO import DataIO\n",
    "from skopt.space import Real, Integer, Categorical\n",
    "from Recommenders.KNN.ItemKNNCFRecommender import ItemKNNCFRecommender\n",
    "from Recommenders.GraphBased.RP3betaRecommender import RP3betaRecommender\n",
    "from Recommenders.SLIM.Cython.SLIM_BPR_Cython import SLIM_BPR_Cython\n",
    "from Recommenders.SLIM.SLIMElasticNetRecommender import SLIMElasticNetRecommender,MultiThreadSLIM_SLIM_S_ElasticNetRecommender\n",
    "\n",
    "\n",
    "\n",
    "columns_name = ['user_id','item_id','impression_list','data']\n",
    "\n",
    "dataset_l = pd.read_csv('/Users/loren/Documents/GitHub/RecSys/dati/data_ICM_length.csv', sep=',')\n",
    "dataset_t = pd.read_csv('/Users/loren/Documents/GitHub/RecSys/dati/data_ICM_type.csv', sep=',')\n",
    "dataset = pd.read_csv('/Users/loren/Documents/GitHub/RecSys/dati/interactions_and_impressions.csv', sep=',')\n",
    "test_users = pd.read_csv('/Users/loren/Documents/GitHub/RecSys/dati/data_target_users_test.csv',sep = ',')\n",
    "dataset.columns = columns_name"
   ]
  },
  {
   "cell_type": "code",
   "execution_count": 2,
   "metadata": {},
   "outputs": [
    {
     "data": {
      "text/plain": [
       "(24507, 0, 24506)"
      ]
     },
     "execution_count": 2,
     "metadata": {},
     "output_type": "execute_result"
    }
   ],
   "source": [
    "len(dataset.item_id.unique()),dataset.item_id.unique().min(),dataset.item_id.unique().max()"
   ]
  },
  {
   "cell_type": "code",
   "execution_count": 3,
   "metadata": {},
   "outputs": [],
   "source": [
    "from Data_manager.Build_Matrix.Data_import import build_URM,build_URM_ICM,build_URM_impression,build_URM_ICM_onlyURM_item\n",
    "URM,ICM=build_URM_ICM_onlyURM_item(dataset, dataset_t, dataset_l)\n",
    "URM_1= build_URM(dataset)"
   ]
  },
  {
   "cell_type": "code",
   "execution_count": 4,
   "metadata": {},
   "outputs": [
    {
     "data": {
      "text/plain": [
       "<41629x24507 sparse matrix of type '<class 'numpy.int64'>'\n",
       "\twith 1554640 stored elements in Compressed Sparse Row format>"
      ]
     },
     "execution_count": 4,
     "metadata": {},
     "output_type": "execute_result"
    }
   ],
   "source": [
    "URM"
   ]
  },
  {
   "cell_type": "code",
   "execution_count": 5,
   "metadata": {},
   "outputs": [
    {
     "data": {
      "text/plain": [
       "<41629x24507 sparse matrix of type '<class 'numpy.int64'>'\n",
       "\twith 1554640 stored elements in Compressed Sparse Row format>"
      ]
     },
     "execution_count": 5,
     "metadata": {},
     "output_type": "execute_result"
    }
   ],
   "source": [
    "URM_1"
   ]
  },
  {
   "cell_type": "code",
   "execution_count": 6,
   "metadata": {},
   "outputs": [
    {
     "name": "stdout",
     "output_type": "stream",
     "text": [
      "Warning: 310 (0.74 %) of 41629 users have no sampled items\n",
      "Warning: 816 (1.96 %) of 41629 users have no sampled items\n",
      "EvaluatorHoldout: Ignoring 816 ( 2.0%) Users that have less than 1 test interactions\n",
      "EvaluatorHoldout: Ignoring 310 ( 0.7%) Users that have less than 1 test interactions\n"
     ]
    }
   ],
   "source": [
    "URM_train_validation, URM_test = split_train_in_two_percentage_global_sample(URM, train_percentage = 0.80)\n",
    "URM_train, URM_validation = split_train_in_two_percentage_global_sample(URM_train_validation, train_percentage = 0.80)\n",
    "\n",
    "evaluator_validation = EvaluatorHoldout(URM_validation, cutoff_list=[10])\n",
    "evaluator_test = EvaluatorHoldout(URM_test, cutoff_list=[10])"
   ]
  },
  {
   "cell_type": "code",
   "execution_count": 7,
   "metadata": {},
   "outputs": [],
   "source": [
    "import os\n",
    "\n",
    "output_folder_path = \"result_experiments_MultiThreadSLIM_SLIM_S_ElasticNetRecommender\"\n",
    "\n",
    "# If directory does not exist, create\n",
    "if not os.path.exists(output_folder_path):\n",
    "    os.makedirs(output_folder_path)\n",
    "\n",
    "n_cases = 100\n",
    "n_random_starts = int(n_cases*0.3)\n",
    "metric_to_optimize = \"MAP\"   \n",
    "cutoff_to_optimize = 10\n",
    "\n",
    "hyperparameters_range_dictionary = {\n",
    "                \"topK\": Integer(5, 1000),\n",
    "                \"l1_ratio\": Real(low = 1e-5, high = 1.0, prior = 'log-uniform'),\n",
    "                \"alpha\": Real(low = 1e-3, high = 1.0, prior = 'uniform'),\n",
    "            }\n",
    "\n",
    "earlystopping_keywargs = {\"validation_every_n\": 5,\n",
    "                              \"stop_on_validation\": True,\n",
    "                              \"evaluator_object\": URM_validation,\n",
    "                              \"lower_validations_allowed\": 5,\n",
    "                              \"validation_metric\": metric_to_optimize,\n",
    "                              }\n",
    "recommender_input_args = SearchInputRecommenderArgs(\n",
    "                CONSTRUCTOR_POSITIONAL_ARGS = [URM_train,ICM],\n",
    "                CONSTRUCTOR_KEYWORD_ARGS = {},\n",
    "                FIT_POSITIONAL_ARGS = [],\n",
    "                FIT_KEYWORD_ARGS = {},\n",
    "                EARLYSTOPPING_KEYWORD_ARGS = {},\n",
    "            )\n",
    "\n",
    "recommender_class = MultiThreadSLIM_SLIM_S_ElasticNetRecommender\n",
    "\n",
    "\n",
    "hyperparameterSearch = SearchBayesianSkopt(recommender_class,\n",
    "                                        evaluator_validation=evaluator_validation,\n",
    "                                        evaluator_test=evaluator_test)"
   ]
  },
  {
   "cell_type": "code",
   "execution_count": 8,
   "metadata": {},
   "outputs": [
    {
     "name": "stdout",
     "output_type": "stream",
     "text": [
      "SearchBayesianSkopt: Resuming 'SLIMElasticNetRecommender'... Loaded 33 configurations.\n",
      "Iteration No: 1 started. Evaluating function at random point.\n"
     ]
    },
    {
     "name": "stderr",
     "output_type": "stream",
     "text": [
      "  0%|          | 0/24507 [00:00<?, ?it/s]"
     ]
    },
    {
     "name": "stdout",
     "output_type": "stream",
     "text": [
      "Iteration No: 1 ended. Evaluation done at random point.\n",
      "Time taken: 0.6080\n",
      "Function value obtained: -0.0128\n",
      "Current minimum: -0.0128\n",
      "Iteration No: 2 started. Evaluating function at random point.\n",
      "SearchBayesianSkopt: Testing config: {'topK': 5, 'l1_ratio': 5.59101442900514e-05, 'alpha': 0.001}\n"
     ]
    },
    {
     "name": "stderr",
     "output_type": "stream",
     "text": [
      "100%|█████████▉| 24504/24507 [1:14:24<00:00,  5.49it/s] \n"
     ]
    },
    {
     "name": "stdout",
     "output_type": "stream",
     "text": [
      "EvaluatorHoldout: Processed 40813 (100.0%) in 27.20 sec. Users per second: 1501\n",
      "SearchBayesianSkopt: Config 33 is suboptimal. Config: {'topK': 5, 'l1_ratio': 5.59101442900514e-05, 'alpha': 0.001} - results: PRECISION: 0.0212457, PRECISION_RECALL_MIN_DEN: 0.0347041, RECALL: 0.0329112, MAP: 0.0060401, MAP_MIN_DEN: 0.0101237, MRR: 0.0477034, NDCG: 0.0266122, F1: 0.0258221, HIT_RATE: 0.1749688, ARHR_ALL_HITS: 0.0536290, NOVELTY: 0.0054854, AVERAGE_POPULARITY: 0.0582629, DIVERSITY_MEAN_INTER_LIST: 0.9937285, DIVERSITY_HERFINDAHL: 0.9993704, COVERAGE_ITEM: 0.6568735, COVERAGE_ITEM_HIT: 0.0408455, ITEMS_IN_GT: 0.9946546, COVERAGE_USER: 0.9803983, COVERAGE_USER_HIT: 0.1715391, USERS_IN_GT: 0.9803983, DIVERSITY_GINI: 0.1730343, SHANNON_ENTROPY: 12.1908772, RATIO_DIVERSITY_HERFINDAHL: 0.9996782, RATIO_DIVERSITY_GINI: 0.3310917, RATIO_SHANNON_ENTROPY: 0.8993785, RATIO_AVERAGE_POPULARITY: 1.1420212, RATIO_NOVELTY: 0.3992514, \n",
      "\n"
     ]
    },
    {
     "name": "stderr",
     "output_type": "stream",
     "text": [
      "  0%|          | 0/24507 [00:00<?, ?it/s]"
     ]
    },
    {
     "name": "stdout",
     "output_type": "stream",
     "text": [
      "Iteration No: 2 ended. Evaluation done at random point.\n",
      "Time taken: 4484.2219\n",
      "Function value obtained: -0.0060\n",
      "Current minimum: -0.0128\n",
      "Iteration No: 3 started. Evaluating function at random point.\n",
      "SearchBayesianSkopt: Testing config: {'topK': 1000, 'l1_ratio': 1e-05, 'alpha': 0.001}\n"
     ]
    },
    {
     "name": "stderr",
     "output_type": "stream",
     "text": [
      "100%|█████████▉| 24504/24507 [49:51<00:00,  8.19it/s] \n"
     ]
    },
    {
     "name": "stdout",
     "output_type": "stream",
     "text": [
      "EvaluatorHoldout: Processed 40813 (100.0%) in 40.39 sec. Users per second: 1010\n",
      "SearchBayesianSkopt: Config 34 is suboptimal. Config: {'topK': 1000, 'l1_ratio': 1e-05, 'alpha': 0.001} - results: PRECISION: 0.0285546, PRECISION_RECALL_MIN_DEN: 0.0463381, RECALL: 0.0435821, MAP: 0.0085784, MAP_MIN_DEN: 0.0138973, MRR: 0.0633348, NDCG: 0.0357550, F1: 0.0345031, HIT_RATE: 0.2229192, ARHR_ALL_HITS: 0.0735812, NOVELTY: 0.0050657, AVERAGE_POPULARITY: 0.1301025, DIVERSITY_MEAN_INTER_LIST: 0.9706123, DIVERSITY_HERFINDAHL: 0.9970589, COVERAGE_ITEM: 0.3936426, COVERAGE_ITEM_HIT: 0.0351736, ITEMS_IN_GT: 0.9946546, COVERAGE_USER: 0.9803983, COVERAGE_USER_HIT: 0.2185496, USERS_IN_GT: 0.9803983, DIVERSITY_GINI: 0.0842264, SHANNON_ENTROPY: 10.6425240, RATIO_DIVERSITY_HERFINDAHL: 0.9973660, RATIO_DIVERSITY_GINI: 0.1611626, RATIO_SHANNON_ENTROPY: 0.7851492, RATIO_AVERAGE_POPULARITY: 2.5501603, RATIO_NOVELTY: 0.3687069, \n",
      "\n"
     ]
    },
    {
     "name": "stderr",
     "output_type": "stream",
     "text": [
      "  0%|          | 0/24507 [00:00<?, ?it/s]"
     ]
    },
    {
     "name": "stdout",
     "output_type": "stream",
     "text": [
      "Iteration No: 3 ended. Evaluation done at random point.\n",
      "Time taken: 3009.6719\n",
      "Function value obtained: -0.0086\n",
      "Current minimum: -0.0128\n",
      "Iteration No: 4 started. Evaluating function at random point.\n",
      "SearchBayesianSkopt: Testing config: {'topK': 987, 'l1_ratio': 1.3558174198480417e-05, 'alpha': 0.9904181119964189}\n"
     ]
    },
    {
     "name": "stderr",
     "output_type": "stream",
     "text": [
      "100%|█████████▉| 24504/24507 [42:24<00:00,  9.63it/s]\n"
     ]
    },
    {
     "name": "stdout",
     "output_type": "stream",
     "text": [
      "EvaluatorHoldout: Processed 40813 (100.0%) in 41.36 sec. Users per second: 987\n",
      "SearchBayesianSkopt: Config 35 is suboptimal. Config: {'topK': 987, 'l1_ratio': 1.3558174198480417e-05, 'alpha': 0.9904181119964189} - results: PRECISION: 0.0215912, PRECISION_RECALL_MIN_DEN: 0.0372634, RECALL: 0.0354567, MAP: 0.0088454, MAP_MIN_DEN: 0.0152291, MRR: 0.0695643, NDCG: 0.0334329, F1: 0.0268389, HIT_RATE: 0.1706074, ARHR_ALL_HITS: 0.0781989, NOVELTY: 0.0045372, AVERAGE_POPULARITY: 0.2533260, DIVERSITY_MEAN_INTER_LIST: 0.7878732, DIVERSITY_HERFINDAHL: 0.9787854, COVERAGE_ITEM: 0.2252418, COVERAGE_ITEM_HIT: 0.0128127, ITEMS_IN_GT: 0.9946546, COVERAGE_USER: 0.9803983, COVERAGE_USER_HIT: 0.1672632, USERS_IN_GT: 0.9803983, DIVERSITY_GINI: 0.0080054, SHANNON_ENTROPY: 6.6693353, RATIO_DIVERSITY_HERFINDAHL: 0.9790869, RATIO_DIVERSITY_GINI: 0.0153179, RATIO_SHANNON_ENTROPY: 0.4920283, RATIO_AVERAGE_POPULARITY: 4.9654845, RATIO_NOVELTY: 0.3302373, \n",
      "\n"
     ]
    },
    {
     "name": "stderr",
     "output_type": "stream",
     "text": [
      "  0%|          | 0/24507 [00:00<?, ?it/s]"
     ]
    },
    {
     "name": "stdout",
     "output_type": "stream",
     "text": [
      "Iteration No: 4 ended. Evaluation done at random point.\n",
      "Time taken: 2562.2698\n",
      "Function value obtained: -0.0088\n",
      "Current minimum: -0.0128\n",
      "Iteration No: 5 started. Evaluating function at random point.\n",
      "SearchBayesianSkopt: Testing config: {'topK': 26, 'l1_ratio': 1.0358108347432461e-05, 'alpha': 0.4824122415134627}\n"
     ]
    },
    {
     "name": "stderr",
     "output_type": "stream",
     "text": [
      "100%|█████████▉| 24504/24507 [31:19<00:00, 16.85it/s]"
     ]
    },
    {
     "name": "stdout",
     "output_type": "stream",
     "text": [
      "EvaluatorHoldout: Processed 40813 (100.0%) in 29.82 sec. Users per second: 1369\n",
      "SearchBayesianSkopt: Config 36 is suboptimal. Config: {'topK': 26, 'l1_ratio': 1.0358108347432461e-05, 'alpha': 0.4824122415134627} - results: PRECISION: 0.0296793, PRECISION_RECALL_MIN_DEN: 0.0482082, RECALL: 0.0450666, MAP: 0.0119726, MAP_MIN_DEN: 0.0196924, MRR: 0.0910864, NDCG: 0.0437480, F1: 0.0357891, HIT_RATE: 0.2276236, ARHR_ALL_HITS: 0.1040687, NOVELTY: 0.0044119, AVERAGE_POPULARITY: 0.2270140, DIVERSITY_MEAN_INTER_LIST: 0.9042057, DIVERSITY_HERFINDAHL: 0.9904184, COVERAGE_ITEM: 0.3618558, COVERAGE_ITEM_HIT: 0.0222385, ITEMS_IN_GT: 0.9946546, COVERAGE_USER: 0.9803983, COVERAGE_USER_HIT: 0.2231617, USERS_IN_GT: 0.9803983, DIVERSITY_GINI: 0.0283918, SHANNON_ENTROPY: 8.5358989, RATIO_DIVERSITY_HERFINDAHL: 0.9907234, RATIO_DIVERSITY_GINI: 0.0543262, RATIO_SHANNON_ENTROPY: 0.6297335, RATIO_AVERAGE_POPULARITY: 4.4497376, RATIO_NOVELTY: 0.3211172, \n",
      "\n"
     ]
    },
    {
     "name": "stderr",
     "output_type": "stream",
     "text": []
    },
    {
     "name": "stdout",
     "output_type": "stream",
     "text": [
      "Iteration No: 5 ended. Evaluation done at random point.\n",
      "Time taken: 1894.6665\n",
      "Function value obtained: -0.0120\n",
      "Current minimum: -0.0128\n",
      "Iteration No: 6 started. Evaluating function at random point.\n",
      "SearchBayesianSkopt: Testing config: {'topK': 1000, 'l1_ratio': 0.00036162360811464506, 'alpha': 0.001}\n"
     ]
    },
    {
     "name": "stderr",
     "output_type": "stream",
     "text": [
      "100%|█████████▉| 24504/24507 [56:22<00:00,  7.24it/s]\n"
     ]
    },
    {
     "name": "stdout",
     "output_type": "stream",
     "text": [
      "EvaluatorHoldout: Processed 40813 (100.0%) in 35.45 sec. Users per second: 1151\n",
      "SearchBayesianSkopt: Config 37 is suboptimal. Config: {'topK': 1000, 'l1_ratio': 0.00036162360811464506, 'alpha': 0.001} - results: PRECISION: 0.0284566, PRECISION_RECALL_MIN_DEN: 0.0461656, RECALL: 0.0433990, MAP: 0.0084117, MAP_MIN_DEN: 0.0136652, MRR: 0.0622385, NDCG: 0.0353873, F1: 0.0343742, HIT_RATE: 0.2226496, ARHR_ALL_HITS: 0.0722568, NOVELTY: 0.0050869, AVERAGE_POPULARITY: 0.1281262, DIVERSITY_MEAN_INTER_LIST: 0.9703143, DIVERSITY_HERFINDAHL: 0.9970290, COVERAGE_ITEM: 0.3901742, COVERAGE_ITEM_HIT: 0.0365202, ITEMS_IN_GT: 0.9946546, COVERAGE_USER: 0.9803983, COVERAGE_USER_HIT: 0.2182853, USERS_IN_GT: 0.9803983, DIVERSITY_GINI: 0.0839576, SHANNON_ENTROPY: 10.6369657, RATIO_DIVERSITY_HERFINDAHL: 0.9973362, RATIO_DIVERSITY_GINI: 0.1606483, RATIO_SHANNON_ENTROPY: 0.7847391, RATIO_AVERAGE_POPULARITY: 2.5114221, RATIO_NOVELTY: 0.3702486, \n",
      "\n"
     ]
    },
    {
     "name": "stderr",
     "output_type": "stream",
     "text": [
      "  0%|          | 0/24507 [00:00<?, ?it/s]"
     ]
    },
    {
     "name": "stdout",
     "output_type": "stream",
     "text": [
      "Iteration No: 6 ended. Evaluation done at random point.\n",
      "Time taken: 1807.3383\n",
      "Function value obtained: -0.0084\n",
      "Current minimum: -0.0128\n",
      "Iteration No: 7 started. Evaluating function at random point.\n",
      "SearchBayesianSkopt: Testing config: {'topK': 5, 'l1_ratio': 0.0007774337904067628, 'alpha': 0.2687265422889809}\n"
     ]
    },
    {
     "name": "stderr",
     "output_type": "stream",
     "text": [
      "100%|█████████▉| 24504/24507 [30:16<00:00, 13.49it/s]\n"
     ]
    },
    {
     "name": "stdout",
     "output_type": "stream",
     "text": [
      "EvaluatorHoldout: Processed 40813 (100.0%) in 25.00 sec. Users per second: 1632\n",
      "SearchBayesianSkopt: Config 38 is suboptimal. Config: {'topK': 5, 'l1_ratio': 0.0007774337904067628, 'alpha': 0.2687265422889809} - results: PRECISION: 0.0279127, PRECISION_RECALL_MIN_DEN: 0.0448254, RECALL: 0.0417255, MAP: 0.0113637, MAP_MIN_DEN: 0.0185321, MRR: 0.0880346, NDCG: 0.0413050, F1: 0.0334492, HIT_RATE: 0.2163526, ARHR_ALL_HITS: 0.0997441, NOVELTY: 0.0045876, AVERAGE_POPULARITY: 0.1781108, DIVERSITY_MEAN_INTER_LIST: 0.9469217, DIVERSITY_HERFINDAHL: 0.9946899, COVERAGE_ITEM: 0.5447831, COVERAGE_ITEM_HIT: 0.0247276, ITEMS_IN_GT: 0.9946546, COVERAGE_USER: 0.9803983, COVERAGE_USER_HIT: 0.2121117, USERS_IN_GT: 0.9803983, DIVERSITY_GINI: 0.0608074, SHANNON_ENTROPY: 9.6441939, RATIO_DIVERSITY_HERFINDAHL: 0.9949962, RATIO_DIVERSITY_GINI: 0.1163516, RATIO_SHANNON_ENTROPY: 0.7114977, RATIO_AVERAGE_POPULARITY: 3.4911781, RATIO_NOVELTY: 0.3339034, \n",
      "\n"
     ]
    },
    {
     "name": "stderr",
     "output_type": "stream",
     "text": [
      "  0%|          | 0/24507 [00:00<?, ?it/s]"
     ]
    },
    {
     "name": "stdout",
     "output_type": "stream",
     "text": [
      "Iteration No: 7 ended. Evaluation done at random point.\n",
      "Time taken: 1836.0611\n",
      "Function value obtained: -0.0114\n",
      "Current minimum: -0.0128\n",
      "Iteration No: 8 started. Evaluating function at random point.\n",
      "SearchBayesianSkopt: Testing config: {'topK': 52, 'l1_ratio': 0.0006708221846445068, 'alpha': 0.9752312228083296}\n"
     ]
    },
    {
     "name": "stderr",
     "output_type": "stream",
     "text": [
      "100%|█████████▉| 24504/24507 [32:46<00:00, 12.16it/s]"
     ]
    },
    {
     "name": "stdout",
     "output_type": "stream",
     "text": [
      "EvaluatorHoldout: Processed 40813 (100.0%) in 28.13 sec. Users per second: 1451\n",
      "SearchBayesianSkopt: Config 39 is suboptimal. Config: {'topK': 52, 'l1_ratio': 0.0006708221846445068, 'alpha': 0.9752312228083296} - results: PRECISION: 0.0262294, PRECISION_RECALL_MIN_DEN: 0.0436885, RECALL: 0.0411389, MAP: 0.0110260, MAP_MIN_DEN: 0.0183866, MRR: 0.0855608, NDCG: 0.0402248, F1: 0.0320343, HIT_RATE: 0.2037586, ARHR_ALL_HITS: 0.0968043, NOVELTY: 0.0043307, AVERAGE_POPULARITY: 0.2596093, DIVERSITY_MEAN_INTER_LIST: 0.8628885, DIVERSITY_HERFINDAHL: 0.9862867, COVERAGE_ITEM: 0.3583058, COVERAGE_ITEM_HIT: 0.0161586, ITEMS_IN_GT: 0.9946546, COVERAGE_USER: 0.9803983, COVERAGE_USER_HIT: 0.1997646, USERS_IN_GT: 0.9803983, DIVERSITY_GINI: 0.0232283, SHANNON_ENTROPY: 7.9408516, RATIO_DIVERSITY_HERFINDAHL: 0.9865905, RATIO_DIVERSITY_GINI: 0.0444460, RATIO_SHANNON_ENTROPY: 0.5858341, RATIO_AVERAGE_POPULARITY: 5.0886448, RATIO_NOVELTY: 0.3152112, \n",
      "\n"
     ]
    },
    {
     "name": "stderr",
     "output_type": "stream",
     "text": [
      "100%|█████████▉| 24504/24507 [1:33:41<00:00,  4.36it/s]\n",
      "100%|█████████▉| 24504/24507 [32:58<00:00, 12.39it/s]\n",
      "  0%|          | 0/24507 [00:00<?, ?it/s]"
     ]
    },
    {
     "name": "stdout",
     "output_type": "stream",
     "text": [
      "Iteration No: 8 ended. Evaluation done at random point.\n",
      "Time taken: 1978.4704\n",
      "Function value obtained: -0.0110\n",
      "Current minimum: -0.0128\n",
      "Iteration No: 9 started. Evaluating function at random point.\n",
      "SearchBayesianSkopt: Testing config: {'topK': 5, 'l1_ratio': 1e-05, 'alpha': 0.2288962738081924}\n"
     ]
    },
    {
     "name": "stderr",
     "output_type": "stream",
     "text": [
      "100%|█████████▉| 24504/24507 [25:52<00:00, 15.78it/s]\n"
     ]
    },
    {
     "name": "stdout",
     "output_type": "stream",
     "text": [
      "EvaluatorHoldout: Processed 40813 (100.0%) in 25.67 sec. Users per second: 1590\n",
      "SearchBayesianSkopt: Config 40 is suboptimal. Config: {'topK': 5, 'l1_ratio': 1e-05, 'alpha': 0.2288962738081924} - results: PRECISION: 0.0285669, PRECISION_RECALL_MIN_DEN: 0.0459911, RECALL: 0.0428222, MAP: 0.0113731, MAP_MIN_DEN: 0.0186082, MRR: 0.0878395, NDCG: 0.0417950, F1: 0.0342713, HIT_RATE: 0.2214000, ARHR_ALL_HITS: 0.0996554, NOVELTY: 0.0045963, AVERAGE_POPULARITY: 0.1762827, DIVERSITY_MEAN_INTER_LIST: 0.9478447, DIVERSITY_HERFINDAHL: 0.9947821, COVERAGE_ITEM: 0.5635533, COVERAGE_ITEM_HIT: 0.0283592, ITEMS_IN_GT: 0.9946546, COVERAGE_USER: 0.9803983, COVERAGE_USER_HIT: 0.2170602, USERS_IN_GT: 0.9803983, DIVERSITY_GINI: 0.0623184, SHANNON_ENTROPY: 9.6822945, RATIO_DIVERSITY_HERFINDAHL: 0.9950886, RATIO_DIVERSITY_GINI: 0.1192428, RATIO_SHANNON_ENTROPY: 0.7143085, RATIO_AVERAGE_POPULARITY: 3.4553463, RATIO_NOVELTY: 0.3345371, \n",
      "\n"
     ]
    },
    {
     "name": "stderr",
     "output_type": "stream",
     "text": [
      "  0%|          | 0/24507 [00:00<?, ?it/s]"
     ]
    },
    {
     "name": "stdout",
     "output_type": "stream",
     "text": [
      "Iteration No: 9 ended. Evaluation done at random point.\n",
      "Time taken: 1573.8275\n",
      "Function value obtained: -0.0114\n",
      "Current minimum: -0.0128\n",
      "Iteration No: 10 started. Evaluating function at random point.\n",
      "SearchBayesianSkopt: Testing config: {'topK': 5, 'l1_ratio': 6.821952120151372e-05, 'alpha': 0.9806293379729476}\n"
     ]
    },
    {
     "name": "stderr",
     "output_type": "stream",
     "text": [
      "100%|█████████▉| 24504/24507 [30:14<00:00, 13.50it/s]\n"
     ]
    },
    {
     "name": "stdout",
     "output_type": "stream",
     "text": [
      "EvaluatorHoldout: Processed 40813 (100.0%) in 26.33 sec. Users per second: 1550\n",
      "SearchBayesianSkopt: Config 41 is suboptimal. Config: {'topK': 5, 'l1_ratio': 6.821952120151372e-05, 'alpha': 0.9806293379729476} - results: PRECISION: 0.0257614, PRECISION_RECALL_MIN_DEN: 0.0414865, RECALL: 0.0386329, MAP: 0.0105941, MAP_MIN_DEN: 0.0174318, MRR: 0.0826067, NDCG: 0.0385382, F1: 0.0309107, HIT_RATE: 0.2009164, ARHR_ALL_HITS: 0.0932583, NOVELTY: 0.0046042, AVERAGE_POPULARITY: 0.1797314, DIVERSITY_MEAN_INTER_LIST: 0.9428755, DIVERSITY_HERFINDAHL: 0.9942852, COVERAGE_ITEM: 0.5538418, COVERAGE_ITEM_HIT: 0.0242380, ITEMS_IN_GT: 0.9946546, COVERAGE_USER: 0.9803983, COVERAGE_USER_HIT: 0.1969781, USERS_IN_GT: 0.9803983, DIVERSITY_GINI: 0.0643286, SHANNON_ENTROPY: 9.6573046, RATIO_DIVERSITY_HERFINDAHL: 0.9945915, RATIO_DIVERSITY_GINI: 0.1230893, RATIO_SHANNON_ENTROPY: 0.7124649, RATIO_AVERAGE_POPULARITY: 3.5229437, RATIO_NOVELTY: 0.3351112, \n",
      "\n"
     ]
    },
    {
     "name": "stderr",
     "output_type": "stream",
     "text": [
      "  0%|          | 0/24507 [00:00<?, ?it/s]"
     ]
    },
    {
     "name": "stdout",
     "output_type": "stream",
     "text": [
      "Iteration No: 10 ended. Evaluation done at random point.\n",
      "Time taken: 1835.9004\n",
      "Function value obtained: -0.0106\n",
      "Current minimum: -0.0128\n",
      "Iteration No: 11 started. Evaluating function at random point.\n",
      "SearchBayesianSkopt: Testing config: {'topK': 902, 'l1_ratio': 0.9361694666316012, 'alpha': 0.9864718238345402}\n"
     ]
    },
    {
     "name": "stderr",
     "output_type": "stream",
     "text": [
      "100%|█████████▉| 24504/24507 [07:10<00:00, 56.98it/s]\n"
     ]
    },
    {
     "name": "stdout",
     "output_type": "stream",
     "text": [
      "EvaluatorHoldout: Processed 40813 (100.0%) in 26.47 sec. Users per second: 1542\n",
      "SearchBayesianSkopt: Config 42 is suboptimal. Config: {'topK': 902, 'l1_ratio': 0.9361694666316012, 'alpha': 0.9864718238345402} - results: PRECISION: 0.0001372, PRECISION_RECALL_MIN_DEN: 0.0002203, RECALL: 0.0001878, MAP: 0.0000358, MAP_MIN_DEN: 0.0000517, MRR: 0.0003575, NDCG: 0.0001635, F1: 0.0001586, HIT_RATE: 0.0013721, ARHR_ALL_HITS: 0.0003575, NOVELTY: 0.0063053, AVERAGE_POPULARITY: 0.0041086, DIVERSITY_MEAN_INTER_LIST: 0.3602329, DIVERSITY_HERFINDAHL: 0.9360224, COVERAGE_ITEM: 0.0038356, COVERAGE_ITEM_HIT: 0.0008569, ITEMS_IN_GT: 0.9946546, COVERAGE_USER: 0.9803983, COVERAGE_USER_HIT: 0.0013452, USERS_IN_GT: 0.9803983, DIVERSITY_GINI: 0.0006570, SHANNON_ENTROPY: 4.3075433, RATIO_DIVERSITY_HERFINDAHL: 0.9363107, RATIO_DIVERSITY_GINI: 0.0012571, RATIO_SHANNON_ENTROPY: 0.3177878, RATIO_AVERAGE_POPULARITY: 0.0805337, RATIO_NOVELTY: 0.4589287, \n",
      "\n"
     ]
    },
    {
     "name": "stderr",
     "output_type": "stream",
     "text": [
      "  0%|          | 0/24507 [00:00<?, ?it/s]"
     ]
    },
    {
     "name": "stdout",
     "output_type": "stream",
     "text": [
      "Iteration No: 11 ended. Evaluation done at random point.\n",
      "Time taken: 450.9303\n",
      "Function value obtained: -0.0000\n",
      "Current minimum: -0.0128\n",
      "Iteration No: 12 started. Evaluating function at random point.\n",
      "SearchBayesianSkopt: Testing config: {'topK': 5, 'l1_ratio': 1e-05, 'alpha': 0.7224501864601771}\n"
     ]
    },
    {
     "name": "stderr",
     "output_type": "stream",
     "text": [
      " 27%|██▋       | 6728/24507 [10:03<20:34, 14.41it/s]"
     ]
    },
    {
     "ename": "KeyboardInterrupt",
     "evalue": "",
     "output_type": "error",
     "traceback": [
      "\u001b[1;31m---------------------------------------------------------------------------\u001b[0m",
      "\u001b[1;31mIndexError\u001b[0m                                Traceback (most recent call last)",
      "\u001b[1;32mc:\\Users\\loren\\anaconda3\\envs\\RecSysFramework\\lib\\multiprocessing\\pool.py\u001b[0m in \u001b[0;36mnext\u001b[1;34m(self, timeout)\u001b[0m\n\u001b[0;32m    850\u001b[0m             \u001b[1;32mtry\u001b[0m\u001b[1;33m:\u001b[0m\u001b[1;33m\u001b[0m\u001b[1;33m\u001b[0m\u001b[0m\n\u001b[1;32m--> 851\u001b[1;33m                 \u001b[0mitem\u001b[0m \u001b[1;33m=\u001b[0m \u001b[0mself\u001b[0m\u001b[1;33m.\u001b[0m\u001b[0m_items\u001b[0m\u001b[1;33m.\u001b[0m\u001b[0mpopleft\u001b[0m\u001b[1;33m(\u001b[0m\u001b[1;33m)\u001b[0m\u001b[1;33m\u001b[0m\u001b[1;33m\u001b[0m\u001b[0m\n\u001b[0m\u001b[0;32m    852\u001b[0m             \u001b[1;32mexcept\u001b[0m \u001b[0mIndexError\u001b[0m\u001b[1;33m:\u001b[0m\u001b[1;33m\u001b[0m\u001b[1;33m\u001b[0m\u001b[0m\n",
      "\u001b[1;31mIndexError\u001b[0m: pop from an empty deque",
      "\nDuring handling of the above exception, another exception occurred:\n",
      "\u001b[1;31mKeyboardInterrupt\u001b[0m                         Traceback (most recent call last)",
      "\u001b[1;32m~\\AppData\\Local\\Temp\\ipykernel_25252\\1299866193.py\u001b[0m in \u001b[0;36m<module>\u001b[1;34m\u001b[0m\n\u001b[1;32m----> 1\u001b[1;33m hyperparameterSearch.search(recommender_input_args,\n\u001b[0m\u001b[0;32m      2\u001b[0m                     \u001b[0mhyperparameter_search_space\u001b[0m \u001b[1;33m=\u001b[0m \u001b[0mhyperparameters_range_dictionary\u001b[0m\u001b[1;33m,\u001b[0m\u001b[1;33m\u001b[0m\u001b[1;33m\u001b[0m\u001b[0m\n\u001b[0;32m      3\u001b[0m                     \u001b[0mn_cases\u001b[0m \u001b[1;33m=\u001b[0m \u001b[0mn_cases\u001b[0m\u001b[1;33m,\u001b[0m\u001b[1;33m\u001b[0m\u001b[1;33m\u001b[0m\u001b[0m\n\u001b[0;32m      4\u001b[0m                     \u001b[0mn_random_starts\u001b[0m \u001b[1;33m=\u001b[0m \u001b[0mn_random_starts\u001b[0m\u001b[1;33m,\u001b[0m\u001b[1;33m\u001b[0m\u001b[1;33m\u001b[0m\u001b[0m\n\u001b[0;32m      5\u001b[0m                     \u001b[0msave_model\u001b[0m \u001b[1;33m=\u001b[0m \u001b[1;34m\"last\"\u001b[0m\u001b[1;33m,\u001b[0m\u001b[1;33m\u001b[0m\u001b[1;33m\u001b[0m\u001b[0m\n",
      "\u001b[1;32mc:\\Users\\loren\\Documents\\GitHub\\RecSys\\HyperparameterTuning\\SearchBayesianSkopt.py\u001b[0m in \u001b[0;36msearch\u001b[1;34m(self, recommender_input_args, hyperparameter_search_space, metric_to_optimize, cutoff_to_optimize, n_cases, n_random_starts, output_folder_path, output_file_name_root, save_model, save_metadata, resume_from_saved, recommender_input_args_last_test, evaluate_on_test, max_total_time, terminate_on_memory_error)\u001b[0m\n\u001b[0;32m    338\u001b[0m                 \u001b[1;31m# of \"Searching for the next optimal point\". This may be due to a bug in the print rather than the underlying process\u001b[0m\u001b[1;33m\u001b[0m\u001b[1;33m\u001b[0m\u001b[1;33m\u001b[0m\u001b[0m\n\u001b[0;32m    339\u001b[0m                 \u001b[1;31m# https://github.com/scikit-optimize/scikit-optimize/issues/949\u001b[0m\u001b[1;33m\u001b[0m\u001b[1;33m\u001b[0m\u001b[1;33m\u001b[0m\u001b[0m\n\u001b[1;32m--> 340\u001b[1;33m                 self.result = gp_minimize(self._objective_function_list_input,\n\u001b[0m\u001b[0;32m    341\u001b[0m                                           \u001b[0mself\u001b[0m\u001b[1;33m.\u001b[0m\u001b[0mhyperparams_values\u001b[0m\u001b[1;33m,\u001b[0m\u001b[1;33m\u001b[0m\u001b[1;33m\u001b[0m\u001b[0m\n\u001b[0;32m    342\u001b[0m                                           \u001b[0mbase_estimator\u001b[0m\u001b[1;33m=\u001b[0m\u001b[1;32mNone\u001b[0m\u001b[1;33m,\u001b[0m\u001b[1;33m\u001b[0m\u001b[1;33m\u001b[0m\u001b[0m\n",
      "\u001b[1;32mc:\\Users\\loren\\anaconda3\\envs\\RecSysFramework\\lib\\site-packages\\skopt\\optimizer\\gp.py\u001b[0m in \u001b[0;36mgp_minimize\u001b[1;34m(func, dimensions, base_estimator, n_calls, n_random_starts, n_initial_points, initial_point_generator, acq_func, acq_optimizer, x0, y0, random_state, verbose, callback, n_points, n_restarts_optimizer, xi, kappa, noise, n_jobs, model_queue_size)\u001b[0m\n\u001b[0;32m    257\u001b[0m             noise=noise)\n\u001b[0;32m    258\u001b[0m \u001b[1;33m\u001b[0m\u001b[0m\n\u001b[1;32m--> 259\u001b[1;33m     return base_minimize(\n\u001b[0m\u001b[0;32m    260\u001b[0m         \u001b[0mfunc\u001b[0m\u001b[1;33m,\u001b[0m \u001b[0mspace\u001b[0m\u001b[1;33m,\u001b[0m \u001b[0mbase_estimator\u001b[0m\u001b[1;33m=\u001b[0m\u001b[0mbase_estimator\u001b[0m\u001b[1;33m,\u001b[0m\u001b[1;33m\u001b[0m\u001b[1;33m\u001b[0m\u001b[0m\n\u001b[0;32m    261\u001b[0m         \u001b[0macq_func\u001b[0m\u001b[1;33m=\u001b[0m\u001b[0macq_func\u001b[0m\u001b[1;33m,\u001b[0m\u001b[1;33m\u001b[0m\u001b[1;33m\u001b[0m\u001b[0m\n",
      "\u001b[1;32mc:\\Users\\loren\\anaconda3\\envs\\RecSysFramework\\lib\\site-packages\\skopt\\optimizer\\base.py\u001b[0m in \u001b[0;36mbase_minimize\u001b[1;34m(func, dimensions, base_estimator, n_calls, n_random_starts, n_initial_points, initial_point_generator, acq_func, acq_optimizer, x0, y0, random_state, verbose, callback, n_points, n_restarts_optimizer, xi, kappa, n_jobs, model_queue_size)\u001b[0m\n\u001b[0;32m    299\u001b[0m     \u001b[1;32mfor\u001b[0m \u001b[0mn\u001b[0m \u001b[1;32min\u001b[0m \u001b[0mrange\u001b[0m\u001b[1;33m(\u001b[0m\u001b[0mn_calls\u001b[0m\u001b[1;33m)\u001b[0m\u001b[1;33m:\u001b[0m\u001b[1;33m\u001b[0m\u001b[1;33m\u001b[0m\u001b[0m\n\u001b[0;32m    300\u001b[0m         \u001b[0mnext_x\u001b[0m \u001b[1;33m=\u001b[0m \u001b[0moptimizer\u001b[0m\u001b[1;33m.\u001b[0m\u001b[0mask\u001b[0m\u001b[1;33m(\u001b[0m\u001b[1;33m)\u001b[0m\u001b[1;33m\u001b[0m\u001b[1;33m\u001b[0m\u001b[0m\n\u001b[1;32m--> 301\u001b[1;33m         \u001b[0mnext_y\u001b[0m \u001b[1;33m=\u001b[0m \u001b[0mfunc\u001b[0m\u001b[1;33m(\u001b[0m\u001b[0mnext_x\u001b[0m\u001b[1;33m)\u001b[0m\u001b[1;33m\u001b[0m\u001b[1;33m\u001b[0m\u001b[0m\n\u001b[0m\u001b[0;32m    302\u001b[0m         \u001b[0mresult\u001b[0m \u001b[1;33m=\u001b[0m \u001b[0moptimizer\u001b[0m\u001b[1;33m.\u001b[0m\u001b[0mtell\u001b[0m\u001b[1;33m(\u001b[0m\u001b[0mnext_x\u001b[0m\u001b[1;33m,\u001b[0m \u001b[0mnext_y\u001b[0m\u001b[1;33m)\u001b[0m\u001b[1;33m\u001b[0m\u001b[1;33m\u001b[0m\u001b[0m\n\u001b[0;32m    303\u001b[0m         \u001b[0mresult\u001b[0m\u001b[1;33m.\u001b[0m\u001b[0mspecs\u001b[0m \u001b[1;33m=\u001b[0m \u001b[0mspecs\u001b[0m\u001b[1;33m\u001b[0m\u001b[1;33m\u001b[0m\u001b[0m\n",
      "\u001b[1;32mc:\\Users\\loren\\Documents\\GitHub\\RecSys\\HyperparameterTuning\\SearchBayesianSkopt.py\u001b[0m in \u001b[0;36m_objective_function_list_input\u001b[1;34m(self, current_fit_hyperparameters_list_of_values)\u001b[0m\n\u001b[0;32m    412\u001b[0m \u001b[1;33m\u001b[0m\u001b[0m\n\u001b[0;32m    413\u001b[0m         \u001b[0mcurrent_fit_hyperparameters_dict\u001b[0m \u001b[1;33m=\u001b[0m \u001b[0mdict\u001b[0m\u001b[1;33m(\u001b[0m\u001b[0mzip\u001b[0m\u001b[1;33m(\u001b[0m\u001b[0mself\u001b[0m\u001b[1;33m.\u001b[0m\u001b[0mhyperparams_names\u001b[0m\u001b[1;33m,\u001b[0m \u001b[0mcurrent_fit_hyperparameters_list_of_values\u001b[0m\u001b[1;33m)\u001b[0m\u001b[1;33m)\u001b[0m\u001b[1;33m\u001b[0m\u001b[1;33m\u001b[0m\u001b[0m\n\u001b[1;32m--> 414\u001b[1;33m         \u001b[0mresult\u001b[0m \u001b[1;33m=\u001b[0m \u001b[0mself\u001b[0m\u001b[1;33m.\u001b[0m\u001b[0m_objective_function\u001b[0m\u001b[1;33m(\u001b[0m\u001b[0mcurrent_fit_hyperparameters_dict\u001b[0m\u001b[1;33m)\u001b[0m\u001b[1;33m\u001b[0m\u001b[1;33m\u001b[0m\u001b[0m\n\u001b[0m\u001b[0;32m    415\u001b[0m \u001b[1;33m\u001b[0m\u001b[0m\n\u001b[0;32m    416\u001b[0m         \u001b[1;31m# The search can only progress if there is at least a valid config in the initial random start\u001b[0m\u001b[1;33m\u001b[0m\u001b[1;33m\u001b[0m\u001b[1;33m\u001b[0m\u001b[0m\n",
      "\u001b[1;32mc:\\Users\\loren\\Documents\\GitHub\\RecSys\\HyperparameterTuning\\SearchAbstractClass.py\u001b[0m in \u001b[0;36m_objective_function\u001b[1;34m(self, current_fit_hyperparameters_dict)\u001b[0m\n\u001b[0;32m    518\u001b[0m         \u001b[1;32mexcept\u001b[0m \u001b[1;33m(\u001b[0m\u001b[0mKeyboardInterrupt\u001b[0m\u001b[1;33m,\u001b[0m \u001b[0mSystemExit\u001b[0m\u001b[1;33m)\u001b[0m \u001b[1;32mas\u001b[0m \u001b[0me\u001b[0m\u001b[1;33m:\u001b[0m\u001b[1;33m\u001b[0m\u001b[1;33m\u001b[0m\u001b[0m\n\u001b[0;32m    519\u001b[0m             \u001b[1;31m# If getting a interrupt, terminate without saving the exception\u001b[0m\u001b[1;33m\u001b[0m\u001b[1;33m\u001b[0m\u001b[1;33m\u001b[0m\u001b[0m\n\u001b[1;32m--> 520\u001b[1;33m             \u001b[1;32mraise\u001b[0m \u001b[0me\u001b[0m\u001b[1;33m\u001b[0m\u001b[1;33m\u001b[0m\u001b[0m\n\u001b[0m\u001b[0;32m    521\u001b[0m \u001b[1;33m\u001b[0m\u001b[0m\n\u001b[0;32m    522\u001b[0m         \u001b[1;31m# Catch exception only if terminate_on_memory_error is True\u001b[0m\u001b[1;33m\u001b[0m\u001b[1;33m\u001b[0m\u001b[1;33m\u001b[0m\u001b[0m\n",
      "\u001b[1;32mc:\\Users\\loren\\Documents\\GitHub\\RecSys\\HyperparameterTuning\\SearchAbstractClass.py\u001b[0m in \u001b[0;36m_objective_function\u001b[1;34m(self, current_fit_hyperparameters_dict)\u001b[0m\n\u001b[0;32m    447\u001b[0m \u001b[1;33m\u001b[0m\u001b[0m\n\u001b[0;32m    448\u001b[0m             \u001b[0mwas_already_evaluated_flag\u001b[0m\u001b[1;33m,\u001b[0m \u001b[0mwas_already_evaluated_index\u001b[0m \u001b[1;33m=\u001b[0m \u001b[0mself\u001b[0m\u001b[1;33m.\u001b[0m\u001b[0m_was_already_evaluated_check\u001b[0m\u001b[1;33m(\u001b[0m\u001b[0mcurrent_fit_hyperparameters_dict\u001b[0m\u001b[1;33m)\u001b[0m\u001b[1;33m\u001b[0m\u001b[1;33m\u001b[0m\u001b[0m\n\u001b[1;32m--> 449\u001b[1;33m             \u001b[0mresult_df\u001b[0m\u001b[1;33m,\u001b[0m \u001b[0mrecommender_instance\u001b[0m \u001b[1;33m=\u001b[0m \u001b[0mself\u001b[0m\u001b[1;33m.\u001b[0m\u001b[0m_evaluate_on_validation\u001b[0m\u001b[1;33m(\u001b[0m\u001b[0mcurrent_fit_hyperparameters_dict\u001b[0m\u001b[1;33m,\u001b[0m \u001b[0mwas_already_evaluated_flag\u001b[0m\u001b[1;33m,\u001b[0m \u001b[0mwas_already_evaluated_index\u001b[0m\u001b[1;33m)\u001b[0m\u001b[1;33m\u001b[0m\u001b[1;33m\u001b[0m\u001b[0m\n\u001b[0m\u001b[0;32m    450\u001b[0m \u001b[1;33m\u001b[0m\u001b[0m\n\u001b[0;32m    451\u001b[0m             \u001b[0mresult_series\u001b[0m \u001b[1;33m=\u001b[0m \u001b[0mresult_df\u001b[0m\u001b[1;33m.\u001b[0m\u001b[0mloc\u001b[0m\u001b[1;33m[\u001b[0m\u001b[0mself\u001b[0m\u001b[1;33m.\u001b[0m\u001b[0mmetadata_dict\u001b[0m\u001b[1;33m[\u001b[0m\u001b[1;34m\"cutoff_to_optimize\"\u001b[0m\u001b[1;33m]\u001b[0m\u001b[1;33m]\u001b[0m\u001b[1;33m\u001b[0m\u001b[1;33m\u001b[0m\u001b[0m\n",
      "\u001b[1;32mc:\\Users\\loren\\Documents\\GitHub\\RecSys\\HyperparameterTuning\\SearchAbstractClass.py\u001b[0m in \u001b[0;36m_evaluate_on_validation\u001b[1;34m(self, current_fit_hyperparameters, was_already_evaluated_flag, was_already_evaluated_index)\u001b[0m\n\u001b[0;32m    315\u001b[0m                 \u001b[0mself\u001b[0m\u001b[1;33m.\u001b[0m\u001b[0mmetadata_dict\u001b[0m\u001b[1;33m[\u001b[0m\u001b[1;34m\"hyperparameters_df\"\u001b[0m\u001b[1;33m]\u001b[0m\u001b[1;33m.\u001b[0m\u001b[0mloc\u001b[0m\u001b[1;33m[\u001b[0m\u001b[0mself\u001b[0m\u001b[1;33m.\u001b[0m\u001b[0mmodel_counter\u001b[0m\u001b[1;33m,\u001b[0m\u001b[0mkey\u001b[0m\u001b[1;33m]\u001b[0m \u001b[1;33m=\u001b[0m \u001b[0mcurrent_fit_hyperparameters\u001b[0m\u001b[1;33m[\u001b[0m\u001b[0mkey\u001b[0m\u001b[1;33m]\u001b[0m\u001b[1;33m\u001b[0m\u001b[1;33m\u001b[0m\u001b[0m\n\u001b[0;32m    316\u001b[0m \u001b[1;33m\u001b[0m\u001b[0m\n\u001b[1;32m--> 317\u001b[1;33m             \u001b[0mrecommender_instance\u001b[0m\u001b[1;33m,\u001b[0m \u001b[0mtrain_time\u001b[0m \u001b[1;33m=\u001b[0m \u001b[0mself\u001b[0m\u001b[1;33m.\u001b[0m\u001b[0m_fit_model\u001b[0m\u001b[1;33m(\u001b[0m\u001b[0mcurrent_fit_hyperparameters\u001b[0m\u001b[1;33m)\u001b[0m\u001b[1;33m\u001b[0m\u001b[1;33m\u001b[0m\u001b[0m\n\u001b[0m\u001b[0;32m    318\u001b[0m             \u001b[0mstart_time\u001b[0m \u001b[1;33m=\u001b[0m \u001b[0mtime\u001b[0m\u001b[1;33m.\u001b[0m\u001b[0mtime\u001b[0m\u001b[1;33m(\u001b[0m\u001b[1;33m)\u001b[0m\u001b[1;33m\u001b[0m\u001b[1;33m\u001b[0m\u001b[0m\n\u001b[0;32m    319\u001b[0m \u001b[1;33m\u001b[0m\u001b[0m\n",
      "\u001b[1;32mc:\\Users\\loren\\Documents\\GitHub\\RecSys\\HyperparameterTuning\\SearchAbstractClass.py\u001b[0m in \u001b[0;36m_fit_model\u001b[1;34m(self, current_fit_hyperparameters)\u001b[0m\n\u001b[0;32m    286\u001b[0m                                                       **self.recommender_input_args.CONSTRUCTOR_KEYWORD_ARGS)\n\u001b[0;32m    287\u001b[0m \u001b[1;33m\u001b[0m\u001b[0m\n\u001b[1;32m--> 288\u001b[1;33m         recommender_instance.fit(*self.recommender_input_args.FIT_POSITIONAL_ARGS,\n\u001b[0m\u001b[0;32m    289\u001b[0m                                  \u001b[1;33m**\u001b[0m\u001b[0mself\u001b[0m\u001b[1;33m.\u001b[0m\u001b[0mrecommender_input_args\u001b[0m\u001b[1;33m.\u001b[0m\u001b[0mFIT_KEYWORD_ARGS\u001b[0m\u001b[1;33m,\u001b[0m\u001b[1;33m\u001b[0m\u001b[1;33m\u001b[0m\u001b[0m\n\u001b[0;32m    290\u001b[0m                                  \u001b[1;33m**\u001b[0m\u001b[0mself\u001b[0m\u001b[1;33m.\u001b[0m\u001b[0mrecommender_input_args\u001b[0m\u001b[1;33m.\u001b[0m\u001b[0mEARLYSTOPPING_KEYWORD_ARGS\u001b[0m\u001b[1;33m,\u001b[0m\u001b[1;33m\u001b[0m\u001b[1;33m\u001b[0m\u001b[0m\n",
      "\u001b[1;32mc:\\Users\\loren\\Documents\\GitHub\\RecSys\\Recommenders\\SLIM\\SLIMElasticNetRecommender.py\u001b[0m in \u001b[0;36mfit\u001b[1;34m(self, alpha, l1_ratio, positive_only, topK, verbose, workers, mw)\u001b[0m\n\u001b[0;32m    448\u001b[0m             \u001b[1;31m# res contains a vector of (values, rows, cols) tuples\u001b[0m\u001b[1;33m\u001b[0m\u001b[1;33m\u001b[0m\u001b[1;33m\u001b[0m\u001b[0m\n\u001b[0;32m    449\u001b[0m             \u001b[0mvalues\u001b[0m\u001b[1;33m,\u001b[0m \u001b[0mrows\u001b[0m\u001b[1;33m,\u001b[0m \u001b[0mcols\u001b[0m \u001b[1;33m=\u001b[0m \u001b[1;33m[\u001b[0m\u001b[1;33m]\u001b[0m\u001b[1;33m,\u001b[0m \u001b[1;33m[\u001b[0m\u001b[1;33m]\u001b[0m\u001b[1;33m,\u001b[0m \u001b[1;33m[\u001b[0m\u001b[1;33m]\u001b[0m\u001b[1;33m\u001b[0m\u001b[1;33m\u001b[0m\u001b[0m\n\u001b[1;32m--> 450\u001b[1;33m             \u001b[1;32mfor\u001b[0m \u001b[0mvalues_\u001b[0m\u001b[1;33m,\u001b[0m \u001b[0mrows_\u001b[0m\u001b[1;33m,\u001b[0m \u001b[0mcols_\u001b[0m \u001b[1;32min\u001b[0m \u001b[0mpool\u001b[0m\u001b[1;33m.\u001b[0m\u001b[0mimap_unordered\u001b[0m\u001b[1;33m(\u001b[0m\u001b[0m_pfit\u001b[0m\u001b[1;33m,\u001b[0m \u001b[0mitemchunks\u001b[0m\u001b[1;33m,\u001b[0m \u001b[0mpool_chunksize\u001b[0m\u001b[1;33m)\u001b[0m\u001b[1;33m:\u001b[0m\u001b[1;33m\u001b[0m\u001b[1;33m\u001b[0m\u001b[0m\n\u001b[0m\u001b[0;32m    451\u001b[0m                 \u001b[0mvalues\u001b[0m\u001b[1;33m.\u001b[0m\u001b[0mextend\u001b[0m\u001b[1;33m(\u001b[0m\u001b[0mvalues_\u001b[0m\u001b[1;33m)\u001b[0m\u001b[1;33m\u001b[0m\u001b[1;33m\u001b[0m\u001b[0m\n\u001b[0;32m    452\u001b[0m                 \u001b[0mrows\u001b[0m\u001b[1;33m.\u001b[0m\u001b[0mextend\u001b[0m\u001b[1;33m(\u001b[0m\u001b[0mrows_\u001b[0m\u001b[1;33m)\u001b[0m\u001b[1;33m\u001b[0m\u001b[1;33m\u001b[0m\u001b[0m\n",
      "\u001b[1;32mc:\\Users\\loren\\anaconda3\\envs\\RecSysFramework\\lib\\multiprocessing\\pool.py\u001b[0m in \u001b[0;36m<genexpr>\u001b[1;34m(.0)\u001b[0m\n\u001b[0;32m    446\u001b[0m                     \u001b[0mresult\u001b[0m\u001b[1;33m.\u001b[0m\u001b[0m_set_length\u001b[0m\u001b[1;33m\u001b[0m\u001b[1;33m\u001b[0m\u001b[0m\n\u001b[0;32m    447\u001b[0m                 ))\n\u001b[1;32m--> 448\u001b[1;33m             \u001b[1;32mreturn\u001b[0m \u001b[1;33m(\u001b[0m\u001b[0mitem\u001b[0m \u001b[1;32mfor\u001b[0m \u001b[0mchunk\u001b[0m \u001b[1;32min\u001b[0m \u001b[0mresult\u001b[0m \u001b[1;32mfor\u001b[0m \u001b[0mitem\u001b[0m \u001b[1;32min\u001b[0m \u001b[0mchunk\u001b[0m\u001b[1;33m)\u001b[0m\u001b[1;33m\u001b[0m\u001b[1;33m\u001b[0m\u001b[0m\n\u001b[0m\u001b[0;32m    449\u001b[0m \u001b[1;33m\u001b[0m\u001b[0m\n\u001b[0;32m    450\u001b[0m     def apply_async(self, func, args=(), kwds={}, callback=None,\n",
      "\u001b[1;32mc:\\Users\\loren\\anaconda3\\envs\\RecSysFramework\\lib\\multiprocessing\\pool.py\u001b[0m in \u001b[0;36mnext\u001b[1;34m(self, timeout)\u001b[0m\n\u001b[0;32m    854\u001b[0m                     \u001b[0mself\u001b[0m\u001b[1;33m.\u001b[0m\u001b[0m_pool\u001b[0m \u001b[1;33m=\u001b[0m \u001b[1;32mNone\u001b[0m\u001b[1;33m\u001b[0m\u001b[1;33m\u001b[0m\u001b[0m\n\u001b[0;32m    855\u001b[0m                     \u001b[1;32mraise\u001b[0m \u001b[0mStopIteration\u001b[0m \u001b[1;32mfrom\u001b[0m \u001b[1;32mNone\u001b[0m\u001b[1;33m\u001b[0m\u001b[1;33m\u001b[0m\u001b[0m\n\u001b[1;32m--> 856\u001b[1;33m                 \u001b[0mself\u001b[0m\u001b[1;33m.\u001b[0m\u001b[0m_cond\u001b[0m\u001b[1;33m.\u001b[0m\u001b[0mwait\u001b[0m\u001b[1;33m(\u001b[0m\u001b[0mtimeout\u001b[0m\u001b[1;33m)\u001b[0m\u001b[1;33m\u001b[0m\u001b[1;33m\u001b[0m\u001b[0m\n\u001b[0m\u001b[0;32m    857\u001b[0m                 \u001b[1;32mtry\u001b[0m\u001b[1;33m:\u001b[0m\u001b[1;33m\u001b[0m\u001b[1;33m\u001b[0m\u001b[0m\n\u001b[0;32m    858\u001b[0m                     \u001b[0mitem\u001b[0m \u001b[1;33m=\u001b[0m \u001b[0mself\u001b[0m\u001b[1;33m.\u001b[0m\u001b[0m_items\u001b[0m\u001b[1;33m.\u001b[0m\u001b[0mpopleft\u001b[0m\u001b[1;33m(\u001b[0m\u001b[1;33m)\u001b[0m\u001b[1;33m\u001b[0m\u001b[1;33m\u001b[0m\u001b[0m\n",
      "\u001b[1;32mc:\\Users\\loren\\anaconda3\\envs\\RecSysFramework\\lib\\threading.py\u001b[0m in \u001b[0;36mwait\u001b[1;34m(self, timeout)\u001b[0m\n\u001b[0;32m    300\u001b[0m         \u001b[1;32mtry\u001b[0m\u001b[1;33m:\u001b[0m    \u001b[1;31m# restore state no matter what (e.g., KeyboardInterrupt)\u001b[0m\u001b[1;33m\u001b[0m\u001b[1;33m\u001b[0m\u001b[0m\n\u001b[0;32m    301\u001b[0m             \u001b[1;32mif\u001b[0m \u001b[0mtimeout\u001b[0m \u001b[1;32mis\u001b[0m \u001b[1;32mNone\u001b[0m\u001b[1;33m:\u001b[0m\u001b[1;33m\u001b[0m\u001b[1;33m\u001b[0m\u001b[0m\n\u001b[1;32m--> 302\u001b[1;33m                 \u001b[0mwaiter\u001b[0m\u001b[1;33m.\u001b[0m\u001b[0macquire\u001b[0m\u001b[1;33m(\u001b[0m\u001b[1;33m)\u001b[0m\u001b[1;33m\u001b[0m\u001b[1;33m\u001b[0m\u001b[0m\n\u001b[0m\u001b[0;32m    303\u001b[0m                 \u001b[0mgotit\u001b[0m \u001b[1;33m=\u001b[0m \u001b[1;32mTrue\u001b[0m\u001b[1;33m\u001b[0m\u001b[1;33m\u001b[0m\u001b[0m\n\u001b[0;32m    304\u001b[0m             \u001b[1;32melse\u001b[0m\u001b[1;33m:\u001b[0m\u001b[1;33m\u001b[0m\u001b[1;33m\u001b[0m\u001b[0m\n",
      "\u001b[1;31mKeyboardInterrupt\u001b[0m: "
     ]
    }
   ],
   "source": [
    "hyperparameterSearch.search(recommender_input_args,\n",
    "                    hyperparameter_search_space = hyperparameters_range_dictionary,\n",
    "                    n_cases = n_cases,\n",
    "                    n_random_starts = n_random_starts,\n",
    "                    save_model = \"last\",\n",
    "                    output_folder_path = output_folder_path, # Where to save the results\n",
    "                    output_file_name_root = recommender_class.RECOMMENDER_NAME, # How to call the files\n",
    "                    metric_to_optimize = metric_to_optimize,\n",
    "                    cutoff_to_optimize = cutoff_to_optimize,\n",
    "                    resume_from_saved = True,\n",
    "                    recommender_input_args_last_test=recommender_input_args\n",
    "                    )"
   ]
  }
 ],
 "metadata": {
  "kernelspec": {
   "display_name": "Python 3.8.13 ('RecSysFramework')",
   "language": "python",
   "name": "python3"
  },
  "language_info": {
   "codemirror_mode": {
    "name": "ipython",
    "version": 3
   },
   "file_extension": ".py",
   "mimetype": "text/x-python",
   "name": "python",
   "nbconvert_exporter": "python",
   "pygments_lexer": "ipython3",
   "version": "3.8.13 (default, Oct 19 2022, 22:38:03) [MSC v.1916 64 bit (AMD64)]"
  },
  "orig_nbformat": 4,
  "vscode": {
   "interpreter": {
    "hash": "c5ce4d3bcbb2362c29b9c9511304be4961a6384a957f7c5258651ee1b4c96e3c"
   }
  }
 },
 "nbformat": 4,
 "nbformat_minor": 2
}
